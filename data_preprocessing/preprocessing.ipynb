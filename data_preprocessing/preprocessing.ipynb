{
  "nbformat": 4,
  "nbformat_minor": 0,
  "metadata": {
    "colab": {
      "name": "preprocesamiento.ipynb",
      "version": "0.3.2",
      "views": {},
      "default_view": {},
      "provenance": [],
      "collapsed_sections": []
    },
    "kernelspec": {
      "name": "python2",
      "display_name": "Python 2"
    }
  },
  "cells": [
    {
      "metadata": {
        "id": "54Go9nCzpA3x",
        "colab_type": "text"
      },
      "cell_type": "markdown",
      "source": [
        "# Proyecto Sistemas Computacionales A-2018: Preprocesamiento del dataset\n",
        "---\n",
        "\n",
        "INFO\n",
        "\n",
        "\n",
        "## Instalación de algunos módulos requeridos"
      ]
    },
    {
      "metadata": {
        "id": "47vIsBIToaAV",
        "colab_type": "code",
        "colab": {
          "autoexec": {
            "startup": false,
            "wait_interval": 0
          },
          "base_uri": "https://localhost:8080/",
          "height": 615
        },
        "outputId": "11a09959-9cf4-4930-96ad-4b438203f7f1",
        "executionInfo": {
          "status": "ok",
          "timestamp": 1526434541028,
          "user_tz": 240,
          "elapsed": 9862,
          "user": {
            "displayName": "Jhonathan Abreu",
            "photoUrl": "//lh4.googleusercontent.com/-4bMUXodd-B0/AAAAAAAAAAI/AAAAAAAAAlY/Lc07exuN7Aw/s50-c-k-no/photo.jpg",
            "userId": "117165292541590122752"
          }
        }
      },
      "cell_type": "code",
      "source": [
        "!pip install gensim  # For the Word2Vec model\n",
        "!pip install tqdm    # Just for using a progress bar\n",
        "!pip install bokeh   # For graphs"
      ],
      "execution_count": 16,
      "outputs": [
        {
          "output_type": "stream",
          "text": [
            "Requirement already satisfied: gensim in /usr/local/lib/python2.7/dist-packages (3.4.0)\n",
            "Requirement already satisfied: smart-open>=1.2.1 in /usr/local/lib/python2.7/dist-packages (from gensim) (1.5.7)\n",
            "Requirement already satisfied: six>=1.5.0 in /usr/local/lib/python2.7/dist-packages (from gensim) (1.11.0)\n",
            "Requirement already satisfied: scipy>=0.18.1 in /usr/local/lib/python2.7/dist-packages (from gensim) (0.19.1)\n",
            "Requirement already satisfied: numpy>=1.11.3 in /usr/local/lib/python2.7/dist-packages (from gensim) (1.14.3)\n",
            "Requirement already satisfied: bz2file in /usr/local/lib/python2.7/dist-packages (from smart-open>=1.2.1->gensim) (0.98)\n",
            "Requirement already satisfied: boto>=2.32 in /usr/local/lib/python2.7/dist-packages (from smart-open>=1.2.1->gensim) (2.48.0)\n",
            "Requirement already satisfied: requests in /usr/local/lib/python2.7/dist-packages (from smart-open>=1.2.1->gensim) (2.18.4)\n",
            "Requirement already satisfied: boto3 in /usr/local/lib/python2.7/dist-packages (from smart-open>=1.2.1->gensim) (1.7.21)\n",
            "Requirement already satisfied: idna<2.7,>=2.5 in /usr/local/lib/python2.7/dist-packages (from requests->smart-open>=1.2.1->gensim) (2.6)\n",
            "Requirement already satisfied: urllib3<1.23,>=1.21.1 in /usr/local/lib/python2.7/dist-packages (from requests->smart-open>=1.2.1->gensim) (1.22)\n",
            "Requirement already satisfied: certifi>=2017.4.17 in /usr/local/lib/python2.7/dist-packages (from requests->smart-open>=1.2.1->gensim) (2018.4.16)\n",
            "Requirement already satisfied: chardet<3.1.0,>=3.0.2 in /usr/local/lib/python2.7/dist-packages (from requests->smart-open>=1.2.1->gensim) (3.0.4)\n",
            "Requirement already satisfied: jmespath<1.0.0,>=0.7.1 in /usr/local/lib/python2.7/dist-packages (from boto3->smart-open>=1.2.1->gensim) (0.9.3)\n",
            "Requirement already satisfied: botocore<1.11.0,>=1.10.21 in /usr/local/lib/python2.7/dist-packages (from boto3->smart-open>=1.2.1->gensim) (1.10.21)\n",
            "Requirement already satisfied: s3transfer<0.2.0,>=0.1.10 in /usr/local/lib/python2.7/dist-packages (from boto3->smart-open>=1.2.1->gensim) (0.1.13)\n",
            "Requirement already satisfied: docutils>=0.10 in /usr/local/lib/python2.7/dist-packages (from botocore<1.11.0,>=1.10.21->boto3->smart-open>=1.2.1->gensim) (0.14)\n",
            "Requirement already satisfied: python-dateutil<3.0.0,>=2.1; python_version >= \"2.7\" in /usr/local/lib/python2.7/dist-packages (from botocore<1.11.0,>=1.10.21->boto3->smart-open>=1.2.1->gensim) (2.5.3)\n",
            "Requirement already satisfied: futures<4.0.0,>=2.2.0; python_version == \"2.6\" or python_version == \"2.7\" in /usr/local/lib/python2.7/dist-packages (from s3transfer<0.2.0,>=0.1.10->boto3->smart-open>=1.2.1->gensim) (3.2.0)\n",
            "Requirement already satisfied: tqdm in /usr/local/lib/python2.7/dist-packages (4.23.3)\n",
            "Requirement already satisfied: bokeh in /usr/local/lib/python2.7/dist-packages (0.12.16)\n",
            "Requirement already satisfied: numpy>=1.7.1 in /usr/local/lib/python2.7/dist-packages (from bokeh) (1.14.3)\n",
            "Requirement already satisfied: packaging>=16.8 in /usr/local/lib/python2.7/dist-packages (from bokeh) (17.1)\n",
            "Requirement already satisfied: PyYAML>=3.10 in /usr/local/lib/python2.7/dist-packages (from bokeh) (3.12)\n",
            "Requirement already satisfied: Jinja2>=2.7 in /usr/local/lib/python2.7/dist-packages (from bokeh) (2.10)\n",
            "Requirement already satisfied: futures>=3.0.3 in /usr/local/lib/python2.7/dist-packages (from bokeh) (3.2.0)\n",
            "Requirement already satisfied: six>=1.5.2 in /usr/local/lib/python2.7/dist-packages (from bokeh) (1.11.0)\n",
            "Requirement already satisfied: python-dateutil>=2.1 in /usr/local/lib/python2.7/dist-packages (from bokeh) (2.5.3)\n",
            "Requirement already satisfied: tornado>=4.3 in /usr/local/lib/python2.7/dist-packages (from bokeh) (4.5.3)\n",
            "Requirement already satisfied: pyparsing>=2.0.2 in /usr/local/lib/python2.7/dist-packages (from packaging>=16.8->bokeh) (2.2.0)\n",
            "Requirement already satisfied: MarkupSafe>=0.23 in /usr/local/lib/python2.7/dist-packages (from Jinja2>=2.7->bokeh) (1.0)\n",
            "Requirement already satisfied: singledispatch in /usr/local/lib/python2.7/dist-packages (from tornado>=4.3->bokeh) (3.4.0.3)\n",
            "Requirement already satisfied: certifi in /usr/local/lib/python2.7/dist-packages (from tornado>=4.3->bokeh) (2018.4.16)\n",
            "Requirement already satisfied: backports_abc>=0.4 in /usr/local/lib/python2.7/dist-packages (from tornado>=4.3->bokeh) (0.5)\n"
          ],
          "name": "stdout"
        }
      ]
    },
    {
      "metadata": {
        "id": "R4BT9W__p9lM",
        "colab_type": "text"
      },
      "cell_type": "markdown",
      "source": [
        "## Importación de todos los módulos requeridos"
      ]
    },
    {
      "metadata": {
        "id": "v3IB4w1hqAq_",
        "colab_type": "code",
        "colab": {
          "autoexec": {
            "startup": false,
            "wait_interval": 0
          },
          "base_uri": "https://localhost:8080/",
          "height": 68
        },
        "outputId": "11c0a06e-9aa2-455f-8e98-68071e492334",
        "executionInfo": {
          "status": "ok",
          "timestamp": 1526438402279,
          "user_tz": 240,
          "elapsed": 1021,
          "user": {
            "displayName": "Jhonathan Abreu",
            "photoUrl": "//lh4.googleusercontent.com/-4bMUXodd-B0/AAAAAAAAAAI/AAAAAAAAAlY/Lc07exuN7Aw/s50-c-k-no/photo.jpg",
            "userId": "117165292541590122752"
          }
        }
      },
      "cell_type": "code",
      "source": [
        "import pandas as pd\n",
        "import numpy as np\n",
        "from copy import deepcopy\n",
        "from string import punctuation\n",
        "from random import shuffle\n",
        "import io\n",
        "import csv\n",
        "\n",
        "import gensim\n",
        "from gensim.models.word2vec import Word2Vec\n",
        "from gensim.utils import simple_preprocess\n",
        "\n",
        "from tqdm import tqdm\n",
        "tqdm.pandas(desc=\"progress-bar\")\n",
        "\n",
        "import nltk\n",
        "\n",
        "from sklearn.model_selection import train_test_split\n",
        "from sklearn.feature_extraction.text import TfidfVectorizer\n",
        "from sklearn.manifold import TSNE\n",
        "from sklearn.preprocessing import scale\n",
        "\n",
        "from google.colab import files\n",
        "\n",
        "# importing bokeh library for interactive dataviz\n",
        "import bokeh.plotting as bp\n",
        "from bokeh.models import HoverTool, BoxSelectTool\n",
        "from bokeh.plotting import figure, show, output_notebook\n",
        "\n",
        "pd.options.mode.chained_assignment = None\n",
        "nltk.download('stopwords')\n"
      ],
      "execution_count": 64,
      "outputs": [
        {
          "output_type": "stream",
          "text": [
            "[nltk_data] Downloading package stopwords to /content/nltk_data...\n",
            "[nltk_data]   Package stopwords is already up-to-date!\n"
          ],
          "name": "stdout"
        },
        {
          "output_type": "execute_result",
          "data": {
            "text/plain": [
              "True"
            ]
          },
          "metadata": {
            "tags": []
          },
          "execution_count": 64
        }
      ]
    },
    {
      "metadata": {
        "id": "bidWImZdqfYZ",
        "colab_type": "text"
      },
      "cell_type": "markdown",
      "source": [
        "## Subida de dataset al servidor"
      ]
    },
    {
      "metadata": {
        "id": "xw9zGYyplB3k",
        "colab_type": "code",
        "colab": {
          "autoexec": {
            "startup": false,
            "wait_interval": 0
          },
          "resources": {
            "http://localhost:8080/nbextensions/google.colab/files.js": {
              "data": "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",
              "ok": true,
              "headers": [
                [
                  "content-type",
                  "application/javascript"
                ]
              ],
              "status": 200,
              "status_text": ""
            }
          },
          "base_uri": "https://localhost:8080/",
          "height": 73
        },
        "outputId": "edeffda3-6c23-4fa0-fcdf-c776e1e3f32d",
        "executionInfo": {
          "status": "ok",
          "timestamp": 1526434759693,
          "user_tz": 240,
          "elapsed": 11492,
          "user": {
            "displayName": "Jhonathan Abreu",
            "photoUrl": "//lh4.googleusercontent.com/-4bMUXodd-B0/AAAAAAAAAAI/AAAAAAAAAlY/Lc07exuN7Aw/s50-c-k-no/photo.jpg",
            "userId": "117165292541590122752"
          }
        }
      },
      "cell_type": "code",
      "source": [
        "uploaded = files.upload()"
      ],
      "execution_count": 20,
      "outputs": [
        {
          "output_type": "display_data",
          "data": {
            "text/plain": [
              "<IPython.core.display.HTML object>"
            ],
            "text/html": [
              "\n",
              "     <input type=\"file\" id=\"files-9df2de77-b847-49f7-a406-7885a5cb64f2\" name=\"files[]\" multiple disabled />\n",
              "     <output id=\"result-9df2de77-b847-49f7-a406-7885a5cb64f2\">\n",
              "      Upload widget is only available when the cell has been executed in the\n",
              "      current browser session. Please rerun this cell to enable.\n",
              "      </output>\n",
              "      <script src=\"/nbextensions/google.colab/files.js\"></script> "
            ]
          },
          "metadata": {
            "tags": []
          }
        },
        {
          "output_type": "stream",
          "text": [
            "Saving labeled_training_data.csv to labeled_training_data.csv\n"
          ],
          "name": "stdout"
        }
      ]
    },
    {
      "metadata": {
        "id": "c7fYTGccqqrM",
        "colab_type": "text"
      },
      "cell_type": "markdown",
      "source": [
        "## Carga del dataset"
      ]
    },
    {
      "metadata": {
        "id": "x8cDaGLFtLmB",
        "colab_type": "code",
        "colab": {
          "autoexec": {
            "startup": false,
            "wait_interval": 0
          }
        }
      },
      "cell_type": "code",
      "source": [
        "stopWords = nltk.corpus.stopwords.words('spanish')\n",
        "\n",
        "def clean_sentence(sentence):\n",
        "    tokens = [word for word in simple_preprocess(sentence)\n",
        "              if word not in stopWords]\n",
        "    \n",
        "    return tokens \n",
        "        "
      ],
      "execution_count": 0,
      "outputs": []
    },
    {
      "metadata": {
        "id": "RVejatffuWv_",
        "colab_type": "code",
        "colab": {
          "autoexec": {
            "startup": false,
            "wait_interval": 0
          },
          "base_uri": "https://localhost:8080/",
          "height": 255
        },
        "outputId": "eeded23a-ce77-4b1c-e182-84a5662510e9",
        "executionInfo": {
          "status": "ok",
          "timestamp": 1526438312562,
          "user_tz": 240,
          "elapsed": 1391,
          "user": {
            "displayName": "Jhonathan Abreu",
            "photoUrl": "//lh4.googleusercontent.com/-4bMUXodd-B0/AAAAAAAAAAI/AAAAAAAAAlY/Lc07exuN7Aw/s50-c-k-no/photo.jpg",
            "userId": "117165292541590122752"
          }
        }
      },
      "cell_type": "code",
      "source": [
        "def ingest(datasetFileName):    \n",
        "    data = pd.read_csv(datasetFileName, header = None)\n",
        "    data.columns = ['sentence', 'sentiment']\n",
        "    data['sentiment'] = data['sentiment'].map({\n",
        "                                                'positivo': 1,\n",
        "                                                'neutral': 0,\n",
        "                                                'negativo': -1\n",
        "                                              })\n",
        "    data['tokens'] = data['sentence'].progress_map(clean_sentence)\n",
        "    data.reset_index(inplace = True)\n",
        "    data.drop('index', axis=1, inplace=True)\n",
        "    print 'dataset loaded with shape', data.shape    \n",
        "    return data\n",
        "\n",
        "data = ingest('labeled_training_data.csv')\n",
        "data.head(5)"
      ],
      "execution_count": 57,
      "outputs": [
        {
          "output_type": "stream",
          "text": [
            "\n",
            "progress-bar:   0%|          | 0/186 [00:00<?, ?it/s]\u001b[A\n",
            "progress-bar: 100%|██████████| 186/186 [00:00<00:00, 14051.52it/s]\u001b[A"
          ],
          "name": "stderr"
        },
        {
          "output_type": "stream",
          "text": [
            "dataset loaded with shape (186, 3)\n"
          ],
          "name": "stdout"
        },
        {
          "output_type": "execute_result",
          "data": {
            "text/html": [
              "<div>\n",
              "<style scoped>\n",
              "    .dataframe tbody tr th:only-of-type {\n",
              "        vertical-align: middle;\n",
              "    }\n",
              "\n",
              "    .dataframe tbody tr th {\n",
              "        vertical-align: top;\n",
              "    }\n",
              "\n",
              "    .dataframe thead th {\n",
              "        text-align: right;\n",
              "    }\n",
              "</style>\n",
              "<table border=\"1\" class=\"dataframe\">\n",
              "  <thead>\n",
              "    <tr style=\"text-align: right;\">\n",
              "      <th></th>\n",
              "      <th>sentence</th>\n",
              "      <th>sentiment</th>\n",
              "      <th>tokens</th>\n",
              "    </tr>\n",
              "  </thead>\n",
              "  <tbody>\n",
              "    <tr>\n",
              "      <th>0</th>\n",
              "      <td>Me siento muy afortunado de tenerte aquí justo...</td>\n",
              "      <td>1</td>\n",
              "      <td>[siento, afortunado, tenerte, aquí, justo, lado]</td>\n",
              "    </tr>\n",
              "    <tr>\n",
              "      <th>1</th>\n",
              "      <td>Odio a aquellos profesores que creen sabérsela...</td>\n",
              "      <td>-1</td>\n",
              "      <td>[odio, aquellos, profesores, creen, sabérselas...</td>\n",
              "    </tr>\n",
              "    <tr>\n",
              "      <th>2</th>\n",
              "      <td>El día de hoy se puede ir a hacer compras en e...</td>\n",
              "      <td>0</td>\n",
              "      <td>[día, hoy, puede, ir, hacer, compras, supermer...</td>\n",
              "    </tr>\n",
              "    <tr>\n",
              "      <th>3</th>\n",
              "      <td>Hoy quiero conquistar el mundo, tengo mucha en...</td>\n",
              "      <td>1</td>\n",
              "      <td>[hoy, quiero, conquistar, mundo, mucha, energí...</td>\n",
              "    </tr>\n",
              "    <tr>\n",
              "      <th>4</th>\n",
              "      <td>Ya no vale la pena seguir intentando, puesto q...</td>\n",
              "      <td>-1</td>\n",
              "      <td>[vale, pena, seguir, intentando, puesto, enten...</td>\n",
              "    </tr>\n",
              "  </tbody>\n",
              "</table>\n",
              "</div>"
            ],
            "text/plain": [
              "                                            sentence  sentiment  \\\n",
              "0  Me siento muy afortunado de tenerte aquí justo...          1   \n",
              "1  Odio a aquellos profesores que creen sabérsela...         -1   \n",
              "2  El día de hoy se puede ir a hacer compras en e...          0   \n",
              "3  Hoy quiero conquistar el mundo, tengo mucha en...          1   \n",
              "4  Ya no vale la pena seguir intentando, puesto q...         -1   \n",
              "\n",
              "                                              tokens  \n",
              "0   [siento, afortunado, tenerte, aquí, justo, lado]  \n",
              "1  [odio, aquellos, profesores, creen, sabérselas...  \n",
              "2  [día, hoy, puede, ir, hacer, compras, supermer...  \n",
              "3  [hoy, quiero, conquistar, mundo, mucha, energí...  \n",
              "4  [vale, pena, seguir, intentando, puesto, enten...  "
            ]
          },
          "metadata": {
            "tags": []
          },
          "execution_count": 57
        }
      ]
    },
    {
      "metadata": {
        "id": "F3suZaA2ofJn",
        "colab_type": "code",
        "colab": {
          "autoexec": {
            "startup": false,
            "wait_interval": 0
          }
        }
      },
      "cell_type": "code",
      "source": [
        "trainSentences, testSentences, trainLabels, testLabels = \\\n",
        "    train_test_split(np.array(data.tokens),\n",
        "                     np.array(data.sentiment), test_size = 0.3)"
      ],
      "execution_count": 0,
      "outputs": []
    },
    {
      "metadata": {
        "id": "-A1DQFG-pFx1",
        "colab_type": "code",
        "colab": {
          "autoexec": {
            "startup": false,
            "wait_interval": 0
          },
          "base_uri": "https://localhost:8080/",
          "height": 68
        },
        "outputId": "e210ce4a-1729-4731-d9ed-408e4c9b1691",
        "executionInfo": {
          "status": "ok",
          "timestamp": 1526438318045,
          "user_tz": 240,
          "elapsed": 875,
          "user": {
            "displayName": "Jhonathan Abreu",
            "photoUrl": "//lh4.googleusercontent.com/-4bMUXodd-B0/AAAAAAAAAAI/AAAAAAAAAlY/Lc07exuN7Aw/s50-c-k-no/photo.jpg",
            "userId": "117165292541590122752"
          }
        }
      },
      "cell_type": "code",
      "source": [
        "vectorDimension = 200\n",
        "wordsModel = Word2Vec(trainSentences, size = vectorDimension, min_count = 2,\n",
        "                      window = 10)\n",
        "wordsModel.train([train for train in tqdm(trainSentences)],\n",
        "                 total_examples = len(trainSentences),\n",
        "                 epochs = 10)"
      ],
      "execution_count": 59,
      "outputs": [
        {
          "output_type": "stream",
          "text": [
            "\n",
            "  0%|          | 0/130 [00:00<?, ?it/s]\u001b[A\n",
            "100%|██████████| 130/130 [00:00<00:00, 49300.14it/s]\u001b[A"
          ],
          "name": "stderr"
        },
        {
          "output_type": "execute_result",
          "data": {
            "text/plain": [
              "(1041, 6500)"
            ]
          },
          "metadata": {
            "tags": []
          },
          "execution_count": 59
        }
      ]
    },
    {
      "metadata": {
        "id": "XsJuFCntrOTj",
        "colab_type": "code",
        "colab": {
          "autoexec": {
            "startup": false,
            "wait_interval": 0
          },
          "base_uri": "https://localhost:8080/",
          "height": 938
        },
        "outputId": "1e4b572f-d472-4b90-d0a5-c5c6cb066685",
        "executionInfo": {
          "status": "ok",
          "timestamp": 1526438325953,
          "user_tz": 240,
          "elapsed": 2407,
          "user": {
            "displayName": "Jhonathan Abreu",
            "photoUrl": "//lh4.googleusercontent.com/-4bMUXodd-B0/AAAAAAAAAAI/AAAAAAAAAlY/Lc07exuN7Aw/s50-c-k-no/photo.jpg",
            "userId": "117165292541590122752"
          }
        }
      },
      "cell_type": "code",
      "source": [
        "wordsModel['bien']"
      ],
      "execution_count": 60,
      "outputs": [
        {
          "output_type": "stream",
          "text": [
            "/usr/local/lib/python2.7/dist-packages/ipykernel_launcher.py:1: DeprecationWarning: Call to deprecated `__getitem__` (Method will be removed in 4.0.0, use self.wv.__getitem__() instead).\n",
            "  \"\"\"Entry point for launching an IPython kernel.\n"
          ],
          "name": "stderr"
        },
        {
          "output_type": "execute_result",
          "data": {
            "text/plain": [
              "array([ 1.0232498e-03,  6.9398759e-04, -1.8653905e-04, -3.6000181e-04,\n",
              "        2.0625854e-03, -5.3168408e-04, -1.6409608e-03,  1.8015403e-04,\n",
              "       -1.8961824e-03, -2.1026081e-03, -5.7109806e-04, -2.3602729e-03,\n",
              "        2.3274859e-03,  2.9960211e-04, -2.0583575e-03,  3.8964325e-05,\n",
              "       -9.8593638e-04,  1.2868971e-03, -8.7206409e-04,  1.5252185e-03,\n",
              "       -4.1969289e-04,  8.1185449e-04, -1.7734757e-04, -2.0375694e-04,\n",
              "        2.1645408e-03,  1.6580237e-04, -3.7743168e-05, -1.9019807e-03,\n",
              "       -1.1907440e-03,  6.8818836e-04,  1.8039216e-04,  1.0422438e-03,\n",
              "        7.2743371e-04, -2.1839109e-03,  1.8181158e-03, -1.9909102e-03,\n",
              "        1.3116513e-03,  2.4253884e-03, -1.4481627e-03, -1.0643147e-03,\n",
              "        1.1686032e-03, -2.3981811e-04, -3.0734329e-04,  5.0251384e-04,\n",
              "        7.9056838e-07,  2.4301114e-03, -1.8641945e-03, -9.6055458e-04,\n",
              "       -1.8880868e-03,  9.7708160e-04,  1.2691772e-04, -2.2908957e-03,\n",
              "        8.5528554e-05,  1.1422606e-03, -2.8600832e-04,  1.1409007e-03,\n",
              "        1.2522454e-03,  2.1758918e-03,  1.1805407e-03, -1.6006505e-03,\n",
              "       -2.2062597e-05, -4.6251755e-04,  2.2994585e-03,  3.8844704e-05,\n",
              "        2.2148942e-03,  7.3690899e-04, -2.7745558e-05,  4.9692218e-04,\n",
              "        1.3854115e-04, -2.4744237e-03,  8.2012662e-04, -3.1080775e-04,\n",
              "       -1.1772055e-03,  1.0947660e-03,  1.7186101e-03, -2.4453995e-03,\n",
              "       -9.5185189e-04,  1.6312526e-03, -1.7351530e-03,  1.5041842e-03,\n",
              "       -1.2479941e-03,  3.3121323e-04,  9.8386803e-04, -9.1038179e-04,\n",
              "        1.0363334e-03,  9.8439853e-04,  1.7068289e-04,  1.4499630e-03,\n",
              "        2.7121059e-04, -1.0691519e-03, -1.8621943e-03, -3.2797226e-04,\n",
              "       -2.3188149e-03,  2.4798296e-03,  1.0831009e-03, -1.2452528e-04,\n",
              "        9.9573110e-04,  1.8692210e-03,  8.7112648e-04, -1.6907023e-03,\n",
              "       -1.0755622e-03, -1.5240102e-03,  3.8262652e-04,  1.7296831e-03,\n",
              "        9.4967551e-04,  2.2942529e-03,  7.6062221e-04,  4.7865172e-04,\n",
              "       -1.1482403e-03, -1.7710923e-03,  9.4971753e-04, -8.2039996e-04,\n",
              "        1.2703486e-04,  9.0255577e-04,  2.1865610e-03,  9.8694779e-04,\n",
              "       -1.0914681e-03,  4.0650196e-04, -2.3119671e-03, -4.6564010e-04,\n",
              "        1.1054085e-03, -1.3481427e-03, -1.8101216e-03, -2.2004265e-03,\n",
              "        2.7841140e-04,  5.7699025e-04,  9.7172201e-04,  1.7312677e-04,\n",
              "       -2.4104379e-03,  1.0386541e-03, -2.3267381e-03,  2.1181807e-03,\n",
              "        8.4588077e-04, -1.0610425e-03,  2.0367887e-03, -1.8038644e-03,\n",
              "       -1.3396026e-03,  1.1752102e-03,  4.1718918e-04,  1.1532654e-03,\n",
              "       -5.5497547e-04,  1.9462724e-04,  1.9979246e-03, -1.5865396e-03,\n",
              "        1.0591842e-03, -1.7496052e-03,  2.4790540e-03, -1.2320317e-03,\n",
              "        2.1649923e-03, -5.6965143e-04, -1.5153127e-03, -1.1243566e-03,\n",
              "       -6.2236807e-04,  1.1650773e-03, -4.6227672e-04,  1.2844858e-03,\n",
              "        1.0673823e-03,  1.4313991e-03, -1.8857669e-03, -7.2064850e-04,\n",
              "       -1.7063024e-03,  2.2359139e-03,  1.5125518e-03,  2.3476471e-04,\n",
              "       -1.7132685e-03,  9.1834308e-04, -1.5935364e-04, -7.1128411e-04,\n",
              "        1.3784005e-03,  1.6736252e-03,  3.1194932e-04,  9.9105434e-04,\n",
              "       -1.9500456e-03,  2.0146493e-03, -5.4934027e-04, -2.8298409e-05,\n",
              "       -7.8574551e-04,  1.9040490e-03, -9.8721380e-04,  4.9882539e-04,\n",
              "       -3.7419953e-04, -9.8732754e-04, -3.3539324e-04, -2.4092495e-03,\n",
              "        2.2151535e-03,  1.2641781e-03, -1.0278890e-03, -2.3804896e-03,\n",
              "        1.9659055e-03, -1.3993094e-03,  4.6543384e-04,  6.2747661e-04,\n",
              "       -2.1891622e-03, -1.0892440e-03,  1.4203046e-04,  1.3205856e-03,\n",
              "        3.0491149e-04, -1.6554832e-03,  2.1045224e-03,  7.9338608e-04],\n",
              "      dtype=float32)"
            ]
          },
          "metadata": {
            "tags": []
          },
          "execution_count": 60
        }
      ]
    },
    {
      "metadata": {
        "id": "lXgdFfl2rgN8",
        "colab_type": "code",
        "colab": {
          "autoexec": {
            "startup": false,
            "wait_interval": 0
          },
          "base_uri": "https://localhost:8080/",
          "height": 241
        },
        "outputId": "d5271a0d-5995-4920-aa71-b40f52c1e257",
        "executionInfo": {
          "status": "ok",
          "timestamp": 1526438332125,
          "user_tz": 240,
          "elapsed": 3391,
          "user": {
            "displayName": "Jhonathan Abreu",
            "photoUrl": "//lh4.googleusercontent.com/-4bMUXodd-B0/AAAAAAAAAAI/AAAAAAAAAlY/Lc07exuN7Aw/s50-c-k-no/photo.jpg",
            "userId": "117165292541590122752"
          }
        }
      },
      "cell_type": "code",
      "source": [
        "wordsModel.most_similar('bien')"
      ],
      "execution_count": 61,
      "outputs": [
        {
          "output_type": "stream",
          "text": [
            "/usr/local/lib/python2.7/dist-packages/ipykernel_launcher.py:1: DeprecationWarning: Call to deprecated `most_similar` (Method will be removed in 4.0.0, use self.wv.most_similar() instead).\n",
            "  \"\"\"Entry point for launching an IPython kernel.\n"
          ],
          "name": "stderr"
        },
        {
          "output_type": "execute_result",
          "data": {
            "text/plain": [
              "[(u'depende', 0.20033536851406097),\n",
              " (u'hijos', 0.1715807169675827),\n",
              " (u'salir', 0.14998483657836914),\n",
              " (u'hacer', 0.11825676262378693),\n",
              " (u'facultad', 0.11707353591918945),\n",
              " (u'pasando', 0.11033233255147934),\n",
              " (u'ayer', 0.10704310983419418),\n",
              " (u'bueno', 0.09780880808830261),\n",
              " (u'necesario', 0.09175516664981842),\n",
              " (u'casa', 0.09088844060897827)]"
            ]
          },
          "metadata": {
            "tags": []
          },
          "execution_count": 61
        }
      ]
    },
    {
      "metadata": {
        "id": "ST1lS_4gruaf",
        "colab_type": "code",
        "colab": {
          "autoexec": {
            "startup": false,
            "wait_interval": 0
          },
          "base_uri": "https://localhost:8080/",
          "height": 820
        },
        "outputId": "25135990-826a-4232-a8fb-cec24c29fcbc",
        "executionInfo": {
          "status": "ok",
          "timestamp": 1526438340442,
          "user_tz": 240,
          "elapsed": 4193,
          "user": {
            "displayName": "Jhonathan Abreu",
            "photoUrl": "//lh4.googleusercontent.com/-4bMUXodd-B0/AAAAAAAAAAI/AAAAAAAAAlY/Lc07exuN7Aw/s50-c-k-no/photo.jpg",
            "userId": "117165292541590122752"
          }
        }
      },
      "cell_type": "code",
      "source": [
        "# defining the chart\n",
        "output_notebook()\n",
        "plot_tfidf = bp.figure(plot_width = 700, plot_height = 600,\n",
        "                       title = 'Map of words vectors',\n",
        "                       tools = 'pan, wheel_zoom, box_zoom, reset, hover, '\n",
        "                               'previewsave',\n",
        "                       x_axis_type = None, y_axis_type = None, min_border = 1)\n",
        "\n",
        "# getting a list of word vectors. limit to 10000. each is of 200 dimensions\n",
        "word_vectors = [wordsModel[w] for w in wordsModel.wv.vocab.keys()[:5000]]\n",
        "\n",
        "# dimensionality reduction. converting the vectors to 2d vectors\n",
        "\n",
        "tsne_model = TSNE(n_components = 2, verbose = 1, random_state = 0)\n",
        "tsne_w2v = tsne_model.fit_transform(word_vectors)\n",
        "\n",
        "# putting everything in a dataframe\n",
        "tsne_df = pd.DataFrame(tsne_w2v, columns = ['x', 'y'])\n",
        "tsne_df['words'] = wordsModel.wv.vocab.keys()[:5000]\n",
        "\n",
        "# plotting. the corresponding word appears when you hover on the data point.\n",
        "plot_tfidf.scatter(x = 'x', y = 'y', source = tsne_df)\n",
        "hover = plot_tfidf.select(dict(type = HoverTool))\n",
        "hover.tooltips = {\"word\": \"@words\"}\n",
        "show(plot_tfidf)"
      ],
      "execution_count": 62,
      "outputs": [
        {
          "output_type": "display_data",
          "data": {
            "text/html": [
              "\n",
              "    <div class=\"bk-root\">\n",
              "        <a href=\"https://bokeh.pydata.org\" target=\"_blank\" class=\"bk-logo bk-logo-small bk-logo-notebook\"></a>\n",
              "        <span id=\"f2321b94-9092-468f-8641-8e82c5589164\">Loading BokehJS ...</span>\n",
              "    </div>"
            ]
          },
          "metadata": {
            "tags": []
          }
        },
        {
          "output_type": "display_data",
          "data": {
            "application/javascript": [
              "\n",
              "(function(root) {\n",
              "  function now() {\n",
              "    return new Date();\n",
              "  }\n",
              "\n",
              "  var force = true;\n",
              "\n",
              "  if (typeof (root._bokeh_onload_callbacks) === \"undefined\" || force === true) {\n",
              "    root._bokeh_onload_callbacks = [];\n",
              "    root._bokeh_is_loading = undefined;\n",
              "  }\n",
              "\n",
              "  var JS_MIME_TYPE = 'application/javascript';\n",
              "  var HTML_MIME_TYPE = 'text/html';\n",
              "  var EXEC_MIME_TYPE = 'application/vnd.bokehjs_exec.v0+json';\n",
              "  var CLASS_NAME = 'output_bokeh rendered_html';\n",
              "\n",
              "  /**\n",
              "   * Render data to the DOM node\n",
              "   */\n",
              "  function render(props, node) {\n",
              "    var script = document.createElement(\"script\");\n",
              "    node.appendChild(script);\n",
              "  }\n",
              "\n",
              "  /**\n",
              "   * Handle when an output is cleared or removed\n",
              "   */\n",
              "  function handleClearOutput(event, handle) {\n",
              "    var cell = handle.cell;\n",
              "\n",
              "    var id = cell.output_area._bokeh_element_id;\n",
              "    var server_id = cell.output_area._bokeh_server_id;\n",
              "    // Clean up Bokeh references\n",
              "    if (id !== undefined) {\n",
              "      Bokeh.index[id].model.document.clear();\n",
              "      delete Bokeh.index[id];\n",
              "    }\n",
              "\n",
              "    if (server_id !== undefined) {\n",
              "      // Clean up Bokeh references\n",
              "      var cmd = \"from bokeh.io.state import curstate; print(curstate().uuid_to_server['\" + server_id + \"'].get_sessions()[0].document.roots[0]._id)\";\n",
              "      cell.notebook.kernel.execute(cmd, {\n",
              "        iopub: {\n",
              "          output: function(msg) {\n",
              "            var element_id = msg.content.text.trim();\n",
              "            Bokeh.index[element_id].model.document.clear();\n",
              "            delete Bokeh.index[element_id];\n",
              "          }\n",
              "        }\n",
              "      });\n",
              "      // Destroy server and session\n",
              "      var cmd = \"import bokeh.io.notebook as ion; ion.destroy_server('\" + server_id + \"')\";\n",
              "      cell.notebook.kernel.execute(cmd);\n",
              "    }\n",
              "  }\n",
              "\n",
              "  /**\n",
              "   * Handle when a new output is added\n",
              "   */\n",
              "  function handleAddOutput(event, handle) {\n",
              "    var output_area = handle.output_area;\n",
              "    var output = handle.output;\n",
              "\n",
              "    // limit handleAddOutput to display_data with EXEC_MIME_TYPE content only\n",
              "    if ((output.output_type != \"display_data\") || (!output.data.hasOwnProperty(EXEC_MIME_TYPE))) {\n",
              "      return\n",
              "    }\n",
              "\n",
              "    var toinsert = output_area.element.find(\".\" + CLASS_NAME.split(' ')[0]);\n",
              "\n",
              "    if (output.metadata[EXEC_MIME_TYPE][\"id\"] !== undefined) {\n",
              "      toinsert[toinsert.length - 1].firstChild.textContent = output.data[JS_MIME_TYPE];\n",
              "      // store reference to embed id on output_area\n",
              "      output_area._bokeh_element_id = output.metadata[EXEC_MIME_TYPE][\"id\"];\n",
              "    }\n",
              "    if (output.metadata[EXEC_MIME_TYPE][\"server_id\"] !== undefined) {\n",
              "      var bk_div = document.createElement(\"div\");\n",
              "      bk_div.innerHTML = output.data[HTML_MIME_TYPE];\n",
              "      var script_attrs = bk_div.children[0].attributes;\n",
              "      for (var i = 0; i < script_attrs.length; i++) {\n",
              "        toinsert[toinsert.length - 1].firstChild.setAttribute(script_attrs[i].name, script_attrs[i].value);\n",
              "      }\n",
              "      // store reference to server id on output_area\n",
              "      output_area._bokeh_server_id = output.metadata[EXEC_MIME_TYPE][\"server_id\"];\n",
              "    }\n",
              "  }\n",
              "\n",
              "  function register_renderer(events, OutputArea) {\n",
              "\n",
              "    function append_mime(data, metadata, element) {\n",
              "      // create a DOM node to render to\n",
              "      var toinsert = this.create_output_subarea(\n",
              "        metadata,\n",
              "        CLASS_NAME,\n",
              "        EXEC_MIME_TYPE\n",
              "      );\n",
              "      this.keyboard_manager.register_events(toinsert);\n",
              "      // Render to node\n",
              "      var props = {data: data, metadata: metadata[EXEC_MIME_TYPE]};\n",
              "      render(props, toinsert[toinsert.length - 1]);\n",
              "      element.append(toinsert);\n",
              "      return toinsert\n",
              "    }\n",
              "\n",
              "    /* Handle when an output is cleared or removed */\n",
              "    events.on('clear_output.CodeCell', handleClearOutput);\n",
              "    events.on('delete.Cell', handleClearOutput);\n",
              "\n",
              "    /* Handle when a new output is added */\n",
              "    events.on('output_added.OutputArea', handleAddOutput);\n",
              "\n",
              "    /**\n",
              "     * Register the mime type and append_mime function with output_area\n",
              "     */\n",
              "    OutputArea.prototype.register_mime_type(EXEC_MIME_TYPE, append_mime, {\n",
              "      /* Is output safe? */\n",
              "      safe: true,\n",
              "      /* Index of renderer in `output_area.display_order` */\n",
              "      index: 0\n",
              "    });\n",
              "  }\n",
              "\n",
              "  // register the mime type if in Jupyter Notebook environment and previously unregistered\n",
              "  if (root.Jupyter !== undefined) {\n",
              "    var events = require('base/js/events');\n",
              "    var OutputArea = require('notebook/js/outputarea').OutputArea;\n",
              "\n",
              "    if (OutputArea.prototype.mime_types().indexOf(EXEC_MIME_TYPE) == -1) {\n",
              "      register_renderer(events, OutputArea);\n",
              "    }\n",
              "  }\n",
              "\n",
              "  \n",
              "  if (typeof (root._bokeh_timeout) === \"undefined\" || force === true) {\n",
              "    root._bokeh_timeout = Date.now() + 5000;\n",
              "    root._bokeh_failed_load = false;\n",
              "  }\n",
              "\n",
              "  var NB_LOAD_WARNING = {'data': {'text/html':\n",
              "     \"<div style='background-color: #fdd'>\\n\"+\n",
              "     \"<p>\\n\"+\n",
              "     \"BokehJS does not appear to have successfully loaded. If loading BokehJS from CDN, this \\n\"+\n",
              "     \"may be due to a slow or bad network connection. Possible fixes:\\n\"+\n",
              "     \"</p>\\n\"+\n",
              "     \"<ul>\\n\"+\n",
              "     \"<li>re-rerun `output_notebook()` to attempt to load from CDN again, or</li>\\n\"+\n",
              "     \"<li>use INLINE resources instead, as so:</li>\\n\"+\n",
              "     \"</ul>\\n\"+\n",
              "     \"<code>\\n\"+\n",
              "     \"from bokeh.resources import INLINE\\n\"+\n",
              "     \"output_notebook(resources=INLINE)\\n\"+\n",
              "     \"</code>\\n\"+\n",
              "     \"</div>\"}};\n",
              "\n",
              "  function display_loaded() {\n",
              "    var el = document.getElementById(\"f2321b94-9092-468f-8641-8e82c5589164\");\n",
              "    if (el != null) {\n",
              "      el.textContent = \"BokehJS is loading...\";\n",
              "    }\n",
              "    if (root.Bokeh !== undefined) {\n",
              "      if (el != null) {\n",
              "        el.textContent = \"BokehJS \" + root.Bokeh.version + \" successfully loaded.\";\n",
              "      }\n",
              "    } else if (Date.now() < root._bokeh_timeout) {\n",
              "      setTimeout(display_loaded, 100)\n",
              "    }\n",
              "  }\n",
              "\n",
              "\n",
              "  function run_callbacks() {\n",
              "    try {\n",
              "      root._bokeh_onload_callbacks.forEach(function(callback) { callback() });\n",
              "    }\n",
              "    finally {\n",
              "      delete root._bokeh_onload_callbacks\n",
              "    }\n",
              "    console.info(\"Bokeh: all callbacks have finished\");\n",
              "  }\n",
              "\n",
              "  function load_libs(js_urls, callback) {\n",
              "    root._bokeh_onload_callbacks.push(callback);\n",
              "    if (root._bokeh_is_loading > 0) {\n",
              "      console.log(\"Bokeh: BokehJS is being loaded, scheduling callback at\", now());\n",
              "      return null;\n",
              "    }\n",
              "    if (js_urls == null || js_urls.length === 0) {\n",
              "      run_callbacks();\n",
              "      return null;\n",
              "    }\n",
              "    console.log(\"Bokeh: BokehJS not loaded, scheduling load and callback at\", now());\n",
              "    root._bokeh_is_loading = js_urls.length;\n",
              "    for (var i = 0; i < js_urls.length; i++) {\n",
              "      var url = js_urls[i];\n",
              "      var s = document.createElement('script');\n",
              "      s.src = url;\n",
              "      s.async = false;\n",
              "      s.onreadystatechange = s.onload = function() {\n",
              "        root._bokeh_is_loading--;\n",
              "        if (root._bokeh_is_loading === 0) {\n",
              "          console.log(\"Bokeh: all BokehJS libraries loaded\");\n",
              "          run_callbacks()\n",
              "        }\n",
              "      };\n",
              "      s.onerror = function() {\n",
              "        console.warn(\"failed to load library \" + url);\n",
              "      };\n",
              "      console.log(\"Bokeh: injecting script tag for BokehJS library: \", url);\n",
              "      document.getElementsByTagName(\"head\")[0].appendChild(s);\n",
              "    }\n",
              "  };var element = document.getElementById(\"f2321b94-9092-468f-8641-8e82c5589164\");\n",
              "  if (element == null) {\n",
              "    console.log(\"Bokeh: ERROR: autoload.js configured with elementid 'f2321b94-9092-468f-8641-8e82c5589164' but no matching script tag was found. \")\n",
              "    return false;\n",
              "  }\n",
              "\n",
              "  var js_urls = [\"https://cdn.pydata.org/bokeh/release/bokeh-0.12.16.min.js\", \"https://cdn.pydata.org/bokeh/release/bokeh-widgets-0.12.16.min.js\", \"https://cdn.pydata.org/bokeh/release/bokeh-tables-0.12.16.min.js\", \"https://cdn.pydata.org/bokeh/release/bokeh-gl-0.12.16.min.js\"];\n",
              "\n",
              "  var inline_js = [\n",
              "    function(Bokeh) {\n",
              "      Bokeh.set_log_level(\"info\");\n",
              "    },\n",
              "    \n",
              "    function(Bokeh) {\n",
              "      \n",
              "    },\n",
              "    function(Bokeh) {\n",
              "      console.log(\"Bokeh: injecting CSS: https://cdn.pydata.org/bokeh/release/bokeh-0.12.16.min.css\");\n",
              "      Bokeh.embed.inject_css(\"https://cdn.pydata.org/bokeh/release/bokeh-0.12.16.min.css\");\n",
              "      console.log(\"Bokeh: injecting CSS: https://cdn.pydata.org/bokeh/release/bokeh-widgets-0.12.16.min.css\");\n",
              "      Bokeh.embed.inject_css(\"https://cdn.pydata.org/bokeh/release/bokeh-widgets-0.12.16.min.css\");\n",
              "      console.log(\"Bokeh: injecting CSS: https://cdn.pydata.org/bokeh/release/bokeh-tables-0.12.16.min.css\");\n",
              "      Bokeh.embed.inject_css(\"https://cdn.pydata.org/bokeh/release/bokeh-tables-0.12.16.min.css\");\n",
              "    }\n",
              "  ];\n",
              "\n",
              "  function run_inline_js() {\n",
              "    \n",
              "    if ((root.Bokeh !== undefined) || (force === true)) {\n",
              "      for (var i = 0; i < inline_js.length; i++) {\n",
              "        inline_js[i].call(root, root.Bokeh);\n",
              "      }if (force === true) {\n",
              "        display_loaded();\n",
              "      }} else if (Date.now() < root._bokeh_timeout) {\n",
              "      setTimeout(run_inline_js, 100);\n",
              "    } else if (!root._bokeh_failed_load) {\n",
              "      console.log(\"Bokeh: BokehJS failed to load within specified timeout.\");\n",
              "      root._bokeh_failed_load = true;\n",
              "    } else if (force !== true) {\n",
              "      var cell = $(document.getElementById(\"f2321b94-9092-468f-8641-8e82c5589164\")).parents('.cell').data().cell;\n",
              "      cell.output_area.append_execute_result(NB_LOAD_WARNING)\n",
              "    }\n",
              "\n",
              "  }\n",
              "\n",
              "  if (root._bokeh_is_loading === 0) {\n",
              "    console.log(\"Bokeh: BokehJS loaded, going straight to plotting\");\n",
              "    run_inline_js();\n",
              "  } else {\n",
              "    load_libs(js_urls, function() {\n",
              "      console.log(\"Bokeh: BokehJS plotting callback run at\", now());\n",
              "      run_inline_js();\n",
              "    });\n",
              "  }\n",
              "}(window));"
            ],
            "application/vnd.bokehjs_load.v0+json": "\n(function(root) {\n  function now() {\n    return new Date();\n  }\n\n  var force = true;\n\n  if (typeof (root._bokeh_onload_callbacks) === \"undefined\" || force === true) {\n    root._bokeh_onload_callbacks = [];\n    root._bokeh_is_loading = undefined;\n  }\n\n  \n\n  \n  if (typeof (root._bokeh_timeout) === \"undefined\" || force === true) {\n    root._bokeh_timeout = Date.now() + 5000;\n    root._bokeh_failed_load = false;\n  }\n\n  var NB_LOAD_WARNING = {'data': {'text/html':\n     \"<div style='background-color: #fdd'>\\n\"+\n     \"<p>\\n\"+\n     \"BokehJS does not appear to have successfully loaded. If loading BokehJS from CDN, this \\n\"+\n     \"may be due to a slow or bad network connection. Possible fixes:\\n\"+\n     \"</p>\\n\"+\n     \"<ul>\\n\"+\n     \"<li>re-rerun `output_notebook()` to attempt to load from CDN again, or</li>\\n\"+\n     \"<li>use INLINE resources instead, as so:</li>\\n\"+\n     \"</ul>\\n\"+\n     \"<code>\\n\"+\n     \"from bokeh.resources import INLINE\\n\"+\n     \"output_notebook(resources=INLINE)\\n\"+\n     \"</code>\\n\"+\n     \"</div>\"}};\n\n  function display_loaded() {\n    var el = document.getElementById(\"f2321b94-9092-468f-8641-8e82c5589164\");\n    if (el != null) {\n      el.textContent = \"BokehJS is loading...\";\n    }\n    if (root.Bokeh !== undefined) {\n      if (el != null) {\n        el.textContent = \"BokehJS \" + root.Bokeh.version + \" successfully loaded.\";\n      }\n    } else if (Date.now() < root._bokeh_timeout) {\n      setTimeout(display_loaded, 100)\n    }\n  }\n\n\n  function run_callbacks() {\n    try {\n      root._bokeh_onload_callbacks.forEach(function(callback) { callback() });\n    }\n    finally {\n      delete root._bokeh_onload_callbacks\n    }\n    console.info(\"Bokeh: all callbacks have finished\");\n  }\n\n  function load_libs(js_urls, callback) {\n    root._bokeh_onload_callbacks.push(callback);\n    if (root._bokeh_is_loading > 0) {\n      console.log(\"Bokeh: BokehJS is being loaded, scheduling callback at\", now());\n      return null;\n    }\n    if (js_urls == null || js_urls.length === 0) {\n      run_callbacks();\n      return null;\n    }\n    console.log(\"Bokeh: BokehJS not loaded, scheduling load and callback at\", now());\n    root._bokeh_is_loading = js_urls.length;\n    for (var i = 0; i < js_urls.length; i++) {\n      var url = js_urls[i];\n      var s = document.createElement('script');\n      s.src = url;\n      s.async = false;\n      s.onreadystatechange = s.onload = function() {\n        root._bokeh_is_loading--;\n        if (root._bokeh_is_loading === 0) {\n          console.log(\"Bokeh: all BokehJS libraries loaded\");\n          run_callbacks()\n        }\n      };\n      s.onerror = function() {\n        console.warn(\"failed to load library \" + url);\n      };\n      console.log(\"Bokeh: injecting script tag for BokehJS library: \", url);\n      document.getElementsByTagName(\"head\")[0].appendChild(s);\n    }\n  };var element = document.getElementById(\"f2321b94-9092-468f-8641-8e82c5589164\");\n  if (element == null) {\n    console.log(\"Bokeh: ERROR: autoload.js configured with elementid 'f2321b94-9092-468f-8641-8e82c5589164' but no matching script tag was found. \")\n    return false;\n  }\n\n  var js_urls = [\"https://cdn.pydata.org/bokeh/release/bokeh-0.12.16.min.js\", \"https://cdn.pydata.org/bokeh/release/bokeh-widgets-0.12.16.min.js\", \"https://cdn.pydata.org/bokeh/release/bokeh-tables-0.12.16.min.js\", \"https://cdn.pydata.org/bokeh/release/bokeh-gl-0.12.16.min.js\"];\n\n  var inline_js = [\n    function(Bokeh) {\n      Bokeh.set_log_level(\"info\");\n    },\n    \n    function(Bokeh) {\n      \n    },\n    function(Bokeh) {\n      console.log(\"Bokeh: injecting CSS: https://cdn.pydata.org/bokeh/release/bokeh-0.12.16.min.css\");\n      Bokeh.embed.inject_css(\"https://cdn.pydata.org/bokeh/release/bokeh-0.12.16.min.css\");\n      console.log(\"Bokeh: injecting CSS: https://cdn.pydata.org/bokeh/release/bokeh-widgets-0.12.16.min.css\");\n      Bokeh.embed.inject_css(\"https://cdn.pydata.org/bokeh/release/bokeh-widgets-0.12.16.min.css\");\n      console.log(\"Bokeh: injecting CSS: https://cdn.pydata.org/bokeh/release/bokeh-tables-0.12.16.min.css\");\n      Bokeh.embed.inject_css(\"https://cdn.pydata.org/bokeh/release/bokeh-tables-0.12.16.min.css\");\n    }\n  ];\n\n  function run_inline_js() {\n    \n    if ((root.Bokeh !== undefined) || (force === true)) {\n      for (var i = 0; i < inline_js.length; i++) {\n        inline_js[i].call(root, root.Bokeh);\n      }if (force === true) {\n        display_loaded();\n      }} else if (Date.now() < root._bokeh_timeout) {\n      setTimeout(run_inline_js, 100);\n    } else if (!root._bokeh_failed_load) {\n      console.log(\"Bokeh: BokehJS failed to load within specified timeout.\");\n      root._bokeh_failed_load = true;\n    } else if (force !== true) {\n      var cell = $(document.getElementById(\"f2321b94-9092-468f-8641-8e82c5589164\")).parents('.cell').data().cell;\n      cell.output_area.append_execute_result(NB_LOAD_WARNING)\n    }\n\n  }\n\n  if (root._bokeh_is_loading === 0) {\n    console.log(\"Bokeh: BokehJS loaded, going straight to plotting\");\n    run_inline_js();\n  } else {\n    load_libs(js_urls, function() {\n      console.log(\"Bokeh: BokehJS plotting callback run at\", now());\n      run_inline_js();\n    });\n  }\n}(window));"
          },
          "metadata": {
            "tags": []
          }
        },
        {
          "output_type": "stream",
          "text": [
            "/usr/local/lib/python2.7/dist-packages/ipykernel_launcher.py:9: DeprecationWarning: Call to deprecated `__getitem__` (Method will be removed in 4.0.0, use self.wv.__getitem__() instead).\n",
            "  if __name__ == '__main__':\n"
          ],
          "name": "stderr"
        },
        {
          "output_type": "stream",
          "text": [
            "[t-SNE] Computing 90 nearest neighbors...\n",
            "[t-SNE] Indexed 91 samples in 0.000s...\n",
            "[t-SNE] Computed neighbors for 91 samples in 0.001s...\n",
            "[t-SNE] Computed conditional probabilities for sample 91 / 91\n",
            "[t-SNE] Mean sigma: 0.006286\n",
            "[t-SNE] KL divergence after 250 iterations with early exaggeration: 67.165474\n",
            "[t-SNE] Error after 1000 iterations: 0.968653\n"
          ],
          "name": "stdout"
        },
        {
          "output_type": "display_data",
          "data": {
            "text/html": [
              "\n",
              "<div class=\"bk-root\">\n",
              "    <div class=\"bk-plotdiv\" id=\"5a346e6e-acde-436f-b3e5-aa26f16330b7\"></div>\n",
              "</div>"
            ]
          },
          "metadata": {
            "tags": []
          }
        },
        {
          "output_type": "display_data",
          "data": {
            "application/javascript": [
              "(function(root) {\n",
              "  function embed_document(root) {\n",
              "    \n",
              "  var docs_json = {\"cd28fbf7-bb15-4ee2-9e30-d9cf7967dd2e\":{\"roots\":{\"references\":[{\"attributes\":{\"fill_alpha\":{\"value\":0.1},\"fill_color\":{\"value\":\"#1f77b4\"},\"line_alpha\":{\"value\":0.1},\"line_color\":{\"value\":\"#1f77b4\"},\"x\":{\"field\":\"x\"},\"y\":{\"field\":\"y\"}},\"id\":\"7fe0822c-0eb3-40c7-88c3-d6fab8981c0f\",\"type\":\"Circle\"},{\"attributes\":{},\"id\":\"8311c1e8-a925-461d-aff3-bde59fe08b48\",\"type\":\"UnionRenderers\"},{\"attributes\":{\"overlay\":{\"id\":\"e1daa54d-bf9d-4d07-9955-970a7e6cf658\",\"type\":\"BoxAnnotation\"}},\"id\":\"70f72c87-32f0-4d21-96a5-5fbaf71ecfb8\",\"type\":\"BoxZoomTool\"},{\"attributes\":{\"bottom_units\":\"screen\",\"fill_alpha\":{\"value\":0.5},\"fill_color\":{\"value\":\"lightgrey\"},\"left_units\":\"screen\",\"level\":\"overlay\",\"line_alpha\":{\"value\":1.0},\"line_color\":{\"value\":\"black\"},\"line_dash\":[4,4],\"line_width\":{\"value\":2},\"plot\":null,\"render_mode\":\"css\",\"right_units\":\"screen\",\"top_units\":\"screen\"},\"id\":\"e1daa54d-bf9d-4d07-9955-970a7e6cf658\",\"type\":\"BoxAnnotation\"},{\"attributes\":{},\"id\":\"ea087cc5-b0de-4c34-922a-b6eacecc0c93\",\"type\":\"WheelZoomTool\"},{\"attributes\":{},\"id\":\"9547cb07-a122-4c82-a2de-0446925fd381\",\"type\":\"LinearScale\"},{\"attributes\":{\"callback\":null,\"data\":{\"index\":[0,1,2,3,4,5,6,7,8,9,10,11,12,13,14,15,16,17,18,19,20,21,22,23,24,25,26,27,28,29,30,31,32,33,34,35,36,37,38,39,40,41,42,43,44,45,46,47,48,49,50,51,52,53,54,55,56,57,58,59,60,61,62,63,64,65,66,67,68,69,70,71,72,73,74,75,76,77,78,79,80,81,82,83,84,85,86,87,88,89,90],\"words\":[\"profesores\",\"sentimiento\",\"dando\",\"hace\",\"hijos\",\"hacerlo\",\"quiero\",\"ver\",\"pronto\",\"gente\",\"igual\",\"personas\",\"lado\",\"da\",\"realizo\",\"odio\",\"as\\u00ed\",\"ma\\u00f1ana\",\"peor\",\"compras\",\"cosas\",\"amor\",\"creen\",\"bueno\",\"pasa\",\"humano\",\"salir\",\"clases\",\"ejercicio\",\"maduro\",\"bien\",\"dif\\u00edcil\",\"solo\",\"puedo\",\"puede\",\"d\\u00eda\",\"veces\",\"necesario\",\"mismo\",\"esperar\",\"vida\",\"comer\",\"mucha\",\"simplemente\",\"semana\",\"pesar\",\"depende\",\"ser\",\"siempre\",\"sab\\u00e9rselas\",\"molesta\",\"deberes\",\"todas\",\"facultad\",\"pasando\",\"aquellos\",\"haciendo\",\"ayer\",\"pa\\u00eds\",\"chocolate\",\"gusta\",\"puedes\",\"dios\",\"actividades\",\"casa\",\"diario\",\"malo\",\"feliz\",\"ir\",\"mundo\",\"sentimientos\",\"mejor\",\"tan\",\"voy\",\"tarde\",\"materia\",\"parece\",\"pasar\",\"torta\",\"hoy\",\"tiempo\",\"persona\",\"normal\",\"cualquier\",\"siento\",\"mal\",\"hacer\",\"marico\",\"malos\",\"si\",\"dos\"],\"x\":{\"__ndarray__\":\"z6KCwMK/g0G8saVBlBYLQuWaBUHwCMbBF71xQIA6J0GcZQ9CbVHWwOXWx0HXIv1AYWMowUwT8cHbh6dBzljjQIR7mkFLLq1BWZj+QRVEgkHrs53Br7AkQeOMOsF2Rg5Ci7wAwhPfgEEb4xtBzrqIQcw43kGJdLNBZS4BQTTFEMLHmJ7B/QQOQvEcCUHcq+TATBiCwZqgh8HrVOlBkeHDwXC4CcHHLJnBJ4FSwMYOt0ERWdu/F4Q5wNjyakAYOD5CKyqXwcMMXsEpvgzCg+pYwA7VH8KTQYhBRCvSQcuAGEKHQ8RBkM8wQtKgPUEc3JXAt4s+wtkJ5sEAkIbBWCNFQp0BR0BQIyDBpkOgwJTWJr+KxC5Cz56HwciBhkCotifCNbbbwYnzm8EJwxlBuWYzQUX1esGfQP9BWVcpQpbhfkG1FO5BKBrFwdCpm0A/6QNC5COKwAfAP0JseR0/8HcEwvMmTMH89ATCsVmIQQ==\",\"dtype\":\"float32\",\"shape\":[91]},\"y\":{\"__ndarray__\":\"ZEEuwUPHRMGJfIJAJ31vQefAvsAlA+XBaVttwR+aDUEa49NBVAlvQSyU1UERxS7CxhiSQYkDv0HEOWbBNHATQsu5dUF9LtTBKIYXwglGGsLm/CBCOoAuQqJOOD7S7znBpMSlwIBhvr5MwL1B61PEQTCCAUFIjKXAhTS+vbrit8HTHmhBIESJv6Gu9cEF9YDBkuOAwYkY10FpcDDA5PazweNbAkFBl4ZAvdkCwntRJkJiTeNB7S0GQYpFyz9FuV7BgdfswJskwsEzciZAABsoQrPggEGQtgdCsnujwdnkisFLXpNBJ/YWQd9RqMH1C7nB1EIPwKpVb0FgZBTCkqKhwMqxNUFxEwxCnJY2vsg8mEGgnbVBZsPwwXMu2EE6IW/BlbsfwZdFpEHouZFBS2JWwTVH+UCUtd/BmB7CwZf2wcE65wTB8rV9QGvYtcGsb+xAyjIzwp1NKb8W5OvAPJyEwY+Xo8DUQAdBCdIrQQ==\",\"dtype\":\"float32\",\"shape\":[91]}},\"selected\":{\"id\":\"be24b7f9-9673-4b22-89f8-47e08a121c58\",\"type\":\"Selection\"},\"selection_policy\":{\"id\":\"8311c1e8-a925-461d-aff3-bde59fe08b48\",\"type\":\"UnionRenderers\"}},\"id\":\"f5817bfb-a0a9-427f-9dc5-32cc2d94bb2f\",\"type\":\"ColumnDataSource\"},{\"attributes\":{},\"id\":\"453213ba-5c55-44bc-b3b1-fd98d666ed82\",\"type\":\"PanTool\"},{\"attributes\":{\"source\":{\"id\":\"f5817bfb-a0a9-427f-9dc5-32cc2d94bb2f\",\"type\":\"ColumnDataSource\"}},\"id\":\"208d9583-c540-4d63-bb2d-08f1da0d0c28\",\"type\":\"CDSView\"},{\"attributes\":{\"callback\":null},\"id\":\"6bcfe5e0-321a-4e50-8c1c-9b1a203a6cc3\",\"type\":\"DataRange1d\"},{\"attributes\":{\"callback\":null},\"id\":\"e7fab4e9-d240-4e76-97d1-46be16cc232c\",\"type\":\"DataRange1d\"},{\"attributes\":{\"fill_color\":{\"value\":\"#1f77b4\"},\"line_color\":{\"value\":\"#1f77b4\"},\"x\":{\"field\":\"x\"},\"y\":{\"field\":\"y\"}},\"id\":\"116e758b-e01c-4fde-b452-cc3b57893584\",\"type\":\"Circle\"},{\"attributes\":{},\"id\":\"be24b7f9-9673-4b22-89f8-47e08a121c58\",\"type\":\"Selection\"},{\"attributes\":{},\"id\":\"ce8de50c-b186-4877-8566-44b699b044a9\",\"type\":\"SaveTool\"},{\"attributes\":{\"callback\":null,\"renderers\":\"auto\",\"tooltips\":[[\"word\",\"@words\"]]},\"id\":\"37e4b24d-62da-487c-9af6-cb5923fd375f\",\"type\":\"HoverTool\"},{\"attributes\":{\"data_source\":{\"id\":\"f5817bfb-a0a9-427f-9dc5-32cc2d94bb2f\",\"type\":\"ColumnDataSource\"},\"glyph\":{\"id\":\"116e758b-e01c-4fde-b452-cc3b57893584\",\"type\":\"Circle\"},\"hover_glyph\":null,\"muted_glyph\":null,\"nonselection_glyph\":{\"id\":\"7fe0822c-0eb3-40c7-88c3-d6fab8981c0f\",\"type\":\"Circle\"},\"selection_glyph\":null,\"view\":{\"id\":\"208d9583-c540-4d63-bb2d-08f1da0d0c28\",\"type\":\"CDSView\"}},\"id\":\"7dbbbce3-c4a5-4b9b-abc4-870e59ddbf37\",\"type\":\"GlyphRenderer\"},{\"attributes\":{},\"id\":\"00bb8a65-4e3c-4dbb-8074-649c3f705473\",\"type\":\"LinearScale\"},{\"attributes\":{\"min_border\":1,\"plot_width\":700,\"renderers\":[{\"id\":\"e1daa54d-bf9d-4d07-9955-970a7e6cf658\",\"type\":\"BoxAnnotation\"},{\"id\":\"7dbbbce3-c4a5-4b9b-abc4-870e59ddbf37\",\"type\":\"GlyphRenderer\"}],\"title\":{\"id\":\"dcc26eb2-e26e-4523-b247-d1f90075c9b3\",\"type\":\"Title\"},\"toolbar\":{\"id\":\"c793e14b-91d0-4900-92c0-8bfca281c80f\",\"type\":\"Toolbar\"},\"x_range\":{\"id\":\"6bcfe5e0-321a-4e50-8c1c-9b1a203a6cc3\",\"type\":\"DataRange1d\"},\"x_scale\":{\"id\":\"00bb8a65-4e3c-4dbb-8074-649c3f705473\",\"type\":\"LinearScale\"},\"y_range\":{\"id\":\"e7fab4e9-d240-4e76-97d1-46be16cc232c\",\"type\":\"DataRange1d\"},\"y_scale\":{\"id\":\"9547cb07-a122-4c82-a2de-0446925fd381\",\"type\":\"LinearScale\"}},\"id\":\"405b6651-cfca-45fb-a15d-2a107db289be\",\"subtype\":\"Figure\",\"type\":\"Plot\"},{\"attributes\":{\"active_drag\":\"auto\",\"active_inspect\":\"auto\",\"active_scroll\":\"auto\",\"active_tap\":\"auto\",\"tools\":[{\"id\":\"453213ba-5c55-44bc-b3b1-fd98d666ed82\",\"type\":\"PanTool\"},{\"id\":\"ea087cc5-b0de-4c34-922a-b6eacecc0c93\",\"type\":\"WheelZoomTool\"},{\"id\":\"70f72c87-32f0-4d21-96a5-5fbaf71ecfb8\",\"type\":\"BoxZoomTool\"},{\"id\":\"466798d5-946f-41ee-97f3-97c5478cf307\",\"type\":\"ResetTool\"},{\"id\":\"37e4b24d-62da-487c-9af6-cb5923fd375f\",\"type\":\"HoverTool\"},{\"id\":\"ce8de50c-b186-4877-8566-44b699b044a9\",\"type\":\"SaveTool\"}]},\"id\":\"c793e14b-91d0-4900-92c0-8bfca281c80f\",\"type\":\"Toolbar\"},{\"attributes\":{},\"id\":\"466798d5-946f-41ee-97f3-97c5478cf307\",\"type\":\"ResetTool\"},{\"attributes\":{\"plot\":null,\"text\":\"Map of words vectors\"},\"id\":\"dcc26eb2-e26e-4523-b247-d1f90075c9b3\",\"type\":\"Title\"}],\"root_ids\":[\"405b6651-cfca-45fb-a15d-2a107db289be\"]},\"title\":\"Bokeh Application\",\"version\":\"0.12.16\"}};\n",
              "  var render_items = [{\"docid\":\"cd28fbf7-bb15-4ee2-9e30-d9cf7967dd2e\",\"elementid\":\"5a346e6e-acde-436f-b3e5-aa26f16330b7\",\"modelid\":\"405b6651-cfca-45fb-a15d-2a107db289be\"}];\n",
              "  root.Bokeh.embed.embed_items_notebook(docs_json, render_items);\n",
              "\n",
              "  }\n",
              "  if (root.Bokeh !== undefined) {\n",
              "    embed_document(root);\n",
              "  } else {\n",
              "    var attempts = 0;\n",
              "    var timer = setInterval(function(root) {\n",
              "      if (root.Bokeh !== undefined) {\n",
              "        embed_document(root);\n",
              "        clearInterval(timer);\n",
              "      }\n",
              "      attempts++;\n",
              "      if (attempts > 100) {\n",
              "        console.log(\"Bokeh: ERROR: Unable to run BokehJS code because BokehJS library is missing\")\n",
              "        clearInterval(timer);\n",
              "      }\n",
              "    }, 10, root)\n",
              "  }\n",
              "})(window);"
            ],
            "application/vnd.bokehjs_exec.v0+json": ""
          },
          "metadata": {
            "tags": [],
            "application/vnd.bokehjs_exec.v0+json": {
              "id": "405b6651-cfca-45fb-a15d-2a107db289be"
            }
          }
        }
      ]
    },
    {
      "metadata": {
        "id": "v7fl8uLRzZXQ",
        "colab_type": "code",
        "colab": {
          "autoexec": {
            "startup": false,
            "wait_interval": 0
          },
          "base_uri": "https://localhost:8080/",
          "height": 85
        },
        "outputId": "823462e3-f3c0-4a40-b8e5-6e0c13f5fc7b",
        "executionInfo": {
          "status": "ok",
          "timestamp": 1526438345838,
          "user_tz": 240,
          "elapsed": 1374,
          "user": {
            "displayName": "Jhonathan Abreu",
            "photoUrl": "//lh4.googleusercontent.com/-4bMUXodd-B0/AAAAAAAAAAI/AAAAAAAAAlY/Lc07exuN7Aw/s50-c-k-no/photo.jpg",
            "userId": "117165292541590122752"
          }
        }
      },
      "cell_type": "code",
      "source": [
        "print 'building tf-idf matrix ...'\n",
        "vectorizer = TfidfVectorizer(analyzer = lambda x: x, min_df = 10)\n",
        "matrix = vectorizer.fit_transform([sentence\n",
        "                                   for sentence in tqdm(trainSentences)])\n",
        "tfidf = dict(zip(vectorizer.get_feature_names(), vectorizer.idf_))\n",
        "print 'vocab size :', len(tfidf)"
      ],
      "execution_count": 63,
      "outputs": [
        {
          "output_type": "stream",
          "text": [
            "\n",
            "  0%|          | 0/130 [00:00<?, ?it/s]\u001b[A\n",
            "100%|██████████| 130/130 [00:00<00:00, 75187.47it/s]\u001b[A"
          ],
          "name": "stderr"
        },
        {
          "output_type": "stream",
          "text": [
            "building tf-idf matrix ...\n",
            "vocab size : 1\n"
          ],
          "name": "stdout"
        }
      ]
    },
    {
      "metadata": {
        "id": "3V-rQCWEzvTN",
        "colab_type": "code",
        "colab": {
          "autoexec": {
            "startup": false,
            "wait_interval": 0
          }
        }
      },
      "cell_type": "code",
      "source": [
        "def buildWordVector(tokens, size):\n",
        "    vec = np.zeros(size).reshape((1, size))\n",
        "    count = 0.\n",
        "    for word in tokens:\n",
        "        try:\n",
        "            vec += wordsModel[word].reshape((1, size)) * tfidf[word]\n",
        "            count += 1.\n",
        "        except KeyError: # handling the case where the token is not\n",
        "                         # in the corpus. useful for testing.\n",
        "            continue\n",
        "    if count != 0:\n",
        "        vec /= count\n",
        "    return vec"
      ],
      "execution_count": 0,
      "outputs": []
    },
    {
      "metadata": {
        "id": "rUiTkY1x0WPC",
        "colab_type": "code",
        "colab": {
          "autoexec": {
            "startup": false,
            "wait_interval": 0
          },
          "base_uri": "https://localhost:8080/",
          "height": 156
        },
        "outputId": "73e4fda5-25f9-4669-9234-9752d209d387",
        "executionInfo": {
          "status": "ok",
          "timestamp": 1526438808570,
          "user_tz": 240,
          "elapsed": 1318,
          "user": {
            "displayName": "Jhonathan Abreu",
            "photoUrl": "//lh4.googleusercontent.com/-4bMUXodd-B0/AAAAAAAAAAI/AAAAAAAAAlY/Lc07exuN7Aw/s50-c-k-no/photo.jpg",
            "userId": "117165292541590122752"
          }
        }
      },
      "cell_type": "code",
      "source": [
        "trainSentencesVectors = np.concatenate([buildWordVector(w, vectorDimension)\n",
        "                                       for w in tqdm(trainSentences)])\n",
        "trainSentencesVectors = scale(trainSentencesVectors)\n",
        "\n",
        "testSentencesVectors = np.concatenate([buildWordVector(w, vectorDimension)\n",
        "                                      for w in tqdm(testSentences)])\n",
        "testSentencesVectors = scale(testSentencesVectors)"
      ],
      "execution_count": 69,
      "outputs": [
        {
          "output_type": "stream",
          "text": [
            "\n",
            "  0%|          | 0/130 [00:00<?, ?it/s]\u001b[A/usr/local/lib/python2.7/dist-packages/ipykernel_launcher.py:6: DeprecationWarning: Call to deprecated `__getitem__` (Method will be removed in 4.0.0, use self.wv.__getitem__() instead).\n",
            "  \n",
            "\n",
            "100%|██████████| 130/130 [00:00<00:00, 6230.26it/s]\u001b[A\n",
            "  0%|          | 0/56 [00:00<?, ?it/s]\u001b[A\n",
            "100%|██████████| 56/56 [00:00<00:00, 8314.67it/s]\u001b[A"
          ],
          "name": "stderr"
        }
      ]
    },
    {
      "metadata": {
        "id": "NGjuknTk1-nq",
        "colab_type": "code",
        "colab": {
          "autoexec": {
            "startup": false,
            "wait_interval": 0
          },
          "base_uri": "https://localhost:8080/",
          "height": 765
        },
        "outputId": "788576c2-373c-4831-9e83-f9e6faf431e2",
        "executionInfo": {
          "status": "ok",
          "timestamp": 1526438882506,
          "user_tz": 240,
          "elapsed": 4771,
          "user": {
            "displayName": "Jhonathan Abreu",
            "photoUrl": "//lh4.googleusercontent.com/-4bMUXodd-B0/AAAAAAAAAAI/AAAAAAAAAlY/Lc07exuN7Aw/s50-c-k-no/photo.jpg",
            "userId": "117165292541590122752"
          }
        }
      },
      "cell_type": "code",
      "source": [
        "print(len(trainSentences))\n",
        "print(len(trainSentencesVectors))\n",
        "print(len(testSentences))\n",
        "print(len(testSentencesVectors))\n",
        "trainSentencesVectors[0]"
      ],
      "execution_count": 71,
      "outputs": [
        {
          "output_type": "stream",
          "text": [
            "130\n",
            "130\n",
            "56\n",
            "56\n"
          ],
          "name": "stdout"
        },
        {
          "output_type": "execute_result",
          "data": {
            "text/plain": [
              "array([ 0.28867513, -0.28867513, -0.28867513,  0.28867513, -0.28867513,\n",
              "       -0.28867513,  0.28867513,  0.28867513,  0.28867513, -0.28867513,\n",
              "        0.28867513,  0.28867513, -0.28867513, -0.28867513,  0.28867513,\n",
              "        0.28867513,  0.28867513,  0.28867513, -0.28867513,  0.28867513,\n",
              "        0.28867513, -0.28867513, -0.28867513,  0.28867513,  0.28867513,\n",
              "        0.28867513,  0.28867513,  0.28867513,  0.28867513, -0.28867513,\n",
              "       -0.28867513,  0.28867513,  0.28867513,  0.28867513, -0.28867513,\n",
              "        0.28867513, -0.28867513, -0.28867513, -0.28867513,  0.28867513,\n",
              "       -0.28867513,  0.28867513, -0.28867513, -0.28867513, -0.28867513,\n",
              "       -0.28867513, -0.28867513,  0.28867513,  0.28867513, -0.28867513,\n",
              "       -0.28867513,  0.28867513, -0.28867513,  0.28867513,  0.28867513,\n",
              "       -0.28867513, -0.28867513,  0.28867513, -0.28867513,  0.28867513,\n",
              "        0.28867513,  0.28867513,  0.28867513,  0.28867513, -0.28867513,\n",
              "        0.28867513,  0.28867513, -0.28867513,  0.28867513,  0.28867513,\n",
              "        0.28867513, -0.28867513, -0.28867513,  0.28867513, -0.28867513,\n",
              "        0.28867513,  0.28867513,  0.28867513,  0.28867513,  0.28867513,\n",
              "        0.28867513,  0.28867513, -0.28867513,  0.28867513,  0.28867513,\n",
              "       -0.28867513, -0.28867513, -0.28867513,  0.28867513, -0.28867513,\n",
              "        0.28867513, -0.28867513, -0.28867513,  0.28867513, -0.28867513,\n",
              "        0.28867513,  0.28867513, -0.28867513,  0.28867513, -0.28867513,\n",
              "        0.28867513,  0.28867513,  0.28867513, -0.28867513, -0.28867513,\n",
              "        0.28867513, -0.28867513,  0.28867513, -0.28867513, -0.28867513,\n",
              "        0.28867513,  0.28867513, -0.28867513, -0.28867513, -0.28867513,\n",
              "        0.28867513,  0.28867513, -0.28867513,  0.28867513, -0.28867513,\n",
              "       -0.28867513, -0.28867513, -0.28867513, -0.28867513, -0.28867513,\n",
              "       -0.28867513,  0.28867513, -0.28867513, -0.28867513, -0.28867513,\n",
              "        0.28867513,  0.28867513, -0.28867513, -0.28867513,  0.28867513,\n",
              "       -0.28867513, -0.28867513,  0.28867513,  0.28867513, -0.28867513,\n",
              "        0.28867513,  0.28867513,  0.28867513,  0.28867513, -0.28867513,\n",
              "       -0.28867513, -0.28867513, -0.28867513,  0.28867513,  0.28867513,\n",
              "       -0.28867513, -0.28867513,  0.28867513, -0.28867513,  0.28867513,\n",
              "        0.28867513,  0.28867513,  0.28867513, -0.28867513, -0.28867513,\n",
              "       -0.28867513,  0.28867513,  0.28867513, -0.28867513, -0.28867513,\n",
              "       -0.28867513,  0.28867513,  0.28867513,  0.28867513, -0.28867513,\n",
              "       -0.28867513, -0.28867513,  0.28867513,  0.28867513,  0.28867513,\n",
              "       -0.28867513, -0.28867513, -0.28867513,  0.28867513, -0.28867513,\n",
              "       -0.28867513,  0.28867513,  0.28867513,  0.28867513,  0.28867513,\n",
              "       -0.28867513,  0.28867513, -0.28867513,  0.28867513, -0.28867513,\n",
              "        0.28867513,  0.28867513, -0.28867513, -0.28867513, -0.28867513,\n",
              "       -0.28867513, -0.28867513, -0.28867513, -0.28867513,  0.28867513])"
            ]
          },
          "metadata": {
            "tags": []
          },
          "execution_count": 71
        }
      ]
    }
  ]
}