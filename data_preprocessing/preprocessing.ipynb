{
 "cells": [
  {
   "cell_type": "markdown",
   "metadata": {
    "colab_type": "text",
    "id": "54Go9nCzpA3x"
   },
   "source": [
    "# Proyecto Sistemas Computacionales A-2018: Preprocesamiento del dataset\n",
    "---\n",
    "\n",
    "Los datos recolectados mediante el [formulario](https://goo.gl/forms/1p8IwDXPxwXGKYq92) de Google Forms necesitan de un procesamiento previo, lo cual pasa por las siguientes etapas:\n",
    "\n",
    "\n",
    "\n",
    "1.   **Extracción de datos de interés**: en la encuesta también se recolectaron datos para un proyecto diferente, por lo cual se deben extraer únicamente los datos de interes, los cuales corresponden a las preguntas 4, 5 y 6.\n",
    "2.   **Limpieza y tokenización**: se deben remover aquellas palabras sin un significado semántico específico para los sentimientos a tomar en cuenta.\n",
    "3.   **Representación vectorial del vocabulario**: las oraciones deben ser representadas como un vector *n-* dimensional, por lo cual primero se debe encontrar la representación vectorial de cada palabra. Para esto se hará uso del modelo [Word2Vec](https://en.wikipedia.org/wiki/Word2vec).\n",
    "4.   **Representación vectorial de las oraciones**: Una vez obtenida la representación vectorial de las palabras, se puede obtener la representación vectorial de las oraciones llevando un procedimiento que combine los vectores de cada palabra contenida en la oración, lo cual puede ser un promedio *coordenada-a-coordenada*. En este caso, se utilizará un promedio ponderado, con un peso conocido como [tf-idf](https://es.wikipedia.org/wiki/Tf-idf).\n",
    "\n",
    "\n",
    "## Instalación de algunos módulos requeridos\n",
    "---\n",
    "\n"
   ]
  },
  {
   "cell_type": "code",
   "execution_count": 1,
   "metadata": {
    "colab": {
     "autoexec": {
      "startup": false,
      "wait_interval": 0
     },
     "base_uri": "https://localhost:8080/",
     "height": 1207
    },
    "colab_type": "code",
    "executionInfo": {
     "elapsed": 23480,
     "status": "ok",
     "timestamp": 1526915391122,
     "user": {
      "displayName": "Jhonathan Abreu",
      "photoUrl": "//lh4.googleusercontent.com/-4bMUXodd-B0/AAAAAAAAAAI/AAAAAAAAAlY/Lc07exuN7Aw/s50-c-k-no/photo.jpg",
      "userId": "117165292541590122752"
     },
     "user_tz": 240
    },
    "id": "47vIsBIToaAV",
    "outputId": "f37da647-407a-4724-e1e1-82ebf45df6cc"
   },
   "outputs": [
    {
     "name": "stdout",
     "output_type": "stream",
     "text": [
      "Collecting gensim\n",
      "\u001b[?25l  Downloading https://files.pythonhosted.org/packages/33/33/df6cb7acdcec5677ed130f4800f67509d24dbec74a03c329fcbf6b0864f0/gensim-3.4.0-cp36-cp36m-manylinux1_x86_64.whl (22.6MB)\n",
      "\u001b[K    100% |████████████████████████████████| 22.6MB 1.8MB/s \n",
      "\u001b[?25hCollecting smart-open>=1.2.1 (from gensim)\n",
      "  Downloading https://files.pythonhosted.org/packages/4b/69/c92661a333f733510628f28b8282698b62cdead37291c8491f3271677c02/smart_open-1.5.7.tar.gz\n",
      "Requirement already satisfied: scipy>=0.18.1 in /usr/local/lib/python3.6/dist-packages (from gensim) (0.19.1)\n",
      "Requirement already satisfied: numpy>=1.11.3 in /usr/local/lib/python3.6/dist-packages (from gensim) (1.14.3)\n",
      "Requirement already satisfied: six>=1.5.0 in /usr/local/lib/python3.6/dist-packages (from gensim) (1.11.0)\n",
      "Collecting boto>=2.32 (from smart-open>=1.2.1->gensim)\n",
      "\u001b[?25l  Downloading https://files.pythonhosted.org/packages/bd/b7/a88a67002b1185ed9a8e8a6ef15266728c2361fcb4f1d02ea331e4c7741d/boto-2.48.0-py2.py3-none-any.whl (1.4MB)\n",
      "\u001b[K    100% |████████████████████████████████| 1.4MB 18.7MB/s \n",
      "\u001b[?25hCollecting bz2file (from smart-open>=1.2.1->gensim)\n",
      "  Downloading https://files.pythonhosted.org/packages/61/39/122222b5e85cd41c391b68a99ee296584b2a2d1d233e7ee32b4532384f2d/bz2file-0.98.tar.gz\n",
      "Requirement already satisfied: requests in /usr/local/lib/python3.6/dist-packages (from smart-open>=1.2.1->gensim) (2.18.4)\n",
      "Collecting boto3 (from smart-open>=1.2.1->gensim)\n",
      "\u001b[?25l  Downloading https://files.pythonhosted.org/packages/cd/a3/4d1caf76d8f5aac8ab1ffb4924ecf0a43df1572f6f9a13465a482f94e61c/boto3-1.7.24-py2.py3-none-any.whl (128kB)\n",
      "\u001b[K    100% |████████████████████████████████| 133kB 22.3MB/s \n",
      "\u001b[?25hRequirement already satisfied: certifi>=2017.4.17 in /usr/local/lib/python3.6/dist-packages (from requests->smart-open>=1.2.1->gensim) (2018.4.16)\n",
      "Requirement already satisfied: idna<2.7,>=2.5 in /usr/local/lib/python3.6/dist-packages (from requests->smart-open>=1.2.1->gensim) (2.6)\n",
      "Requirement already satisfied: chardet<3.1.0,>=3.0.2 in /usr/local/lib/python3.6/dist-packages (from requests->smart-open>=1.2.1->gensim) (3.0.4)\n",
      "Requirement already satisfied: urllib3<1.23,>=1.21.1 in /usr/local/lib/python3.6/dist-packages (from requests->smart-open>=1.2.1->gensim) (1.22)\n",
      "Collecting jmespath<1.0.0,>=0.7.1 (from boto3->smart-open>=1.2.1->gensim)\n",
      "  Downloading https://files.pythonhosted.org/packages/b7/31/05c8d001f7f87f0f07289a5fc0fc3832e9a57f2dbd4d3b0fee70e0d51365/jmespath-0.9.3-py2.py3-none-any.whl\n",
      "Collecting s3transfer<0.2.0,>=0.1.10 (from boto3->smart-open>=1.2.1->gensim)\n",
      "\u001b[?25l  Downloading https://files.pythonhosted.org/packages/d7/14/2a0004d487464d120c9fb85313a75cd3d71a7506955be458eebfe19a6b1d/s3transfer-0.1.13-py2.py3-none-any.whl (59kB)\n",
      "\u001b[K    100% |████████████████████████████████| 61kB 16.2MB/s \n",
      "\u001b[?25hCollecting botocore<1.11.0,>=1.10.24 (from boto3->smart-open>=1.2.1->gensim)\n",
      "\u001b[?25l  Downloading https://files.pythonhosted.org/packages/65/98/12aa979ca3215d69111026405a9812d7bb0c9ae49e2800b00d3bd794705b/botocore-1.10.24-py2.py3-none-any.whl (4.2MB)\n",
      "\u001b[K    100% |████████████████████████████████| 4.2MB 10.5MB/s \n",
      "\u001b[?25hRequirement already satisfied: python-dateutil<3.0.0,>=2.1; python_version >= \"2.7\" in /usr/local/lib/python3.6/dist-packages (from botocore<1.11.0,>=1.10.24->boto3->smart-open>=1.2.1->gensim) (2.5.3)\n",
      "Collecting docutils>=0.10 (from botocore<1.11.0,>=1.10.24->boto3->smart-open>=1.2.1->gensim)\n",
      "\u001b[?25l  Downloading https://files.pythonhosted.org/packages/36/fa/08e9e6e0e3cbd1d362c3bbee8d01d0aedb2155c4ac112b19ef3cae8eed8d/docutils-0.14-py3-none-any.whl (543kB)\n",
      "\u001b[K    100% |████████████████████████████████| 552kB 23.5MB/s \n",
      "\u001b[?25hBuilding wheels for collected packages: smart-open, bz2file\n",
      "  Running setup.py bdist_wheel for smart-open ... \u001b[?25ldone\n",
      "\u001b[?25h  Stored in directory: /content/.cache/pip/wheels/b1/9e/7d/bb3d3b55c597e72617140a0638c06382a5f17283881eae163e\n",
      "  Running setup.py bdist_wheel for bz2file ... \u001b[?25ldone\n",
      "\u001b[?25h  Stored in directory: /content/.cache/pip/wheels/81/75/d6/e1317bf09bf1af5a30befc2a007869fa6e1f516b8f7c591cb9\n",
      "Successfully built smart-open bz2file\n",
      "Installing collected packages: boto, bz2file, jmespath, docutils, botocore, s3transfer, boto3, smart-open, gensim\n",
      "Successfully installed boto-2.48.0 boto3-1.7.24 botocore-1.10.24 bz2file-0.98 docutils-0.14 gensim-3.4.0 jmespath-0.9.3 s3transfer-0.1.13 smart-open-1.5.7\n",
      "Collecting tqdm\n",
      "\u001b[?25l  Downloading https://files.pythonhosted.org/packages/d8/ca/6524dfba7a0e850d3fda223693779035ddc8bf5c242acd9ee4eb9e52711a/tqdm-4.23.3-py2.py3-none-any.whl (42kB)\n",
      "\u001b[K    100% |████████████████████████████████| 51kB 4.6MB/s \n",
      "\u001b[?25hInstalling collected packages: tqdm\n",
      "Successfully installed tqdm-4.23.3\n",
      "Collecting bokeh\n",
      "\u001b[?25l  Downloading https://files.pythonhosted.org/packages/cd/47/201408029628164342e65a4552ee00abc79ea7be1b64031281b81b0e2f4d/bokeh-0.12.16.tar.gz (14.7MB)\n",
      "\u001b[K    100% |████████████████████████████████| 14.7MB 3.0MB/s \n",
      "\u001b[?25hRequirement already satisfied: six>=1.5.2 in /usr/local/lib/python3.6/dist-packages (from bokeh) (1.11.0)\n",
      "Requirement already satisfied: PyYAML>=3.10 in /usr/local/lib/python3.6/dist-packages (from bokeh) (3.12)\n",
      "Requirement already satisfied: python-dateutil>=2.1 in /usr/local/lib/python3.6/dist-packages (from bokeh) (2.5.3)\n",
      "Requirement already satisfied: Jinja2>=2.7 in /usr/local/lib/python3.6/dist-packages (from bokeh) (2.10)\n",
      "Requirement already satisfied: numpy>=1.7.1 in /usr/local/lib/python3.6/dist-packages (from bokeh) (1.14.3)\n",
      "Collecting packaging>=16.8 (from bokeh)\n",
      "  Downloading https://files.pythonhosted.org/packages/ad/c2/b500ea05d5f9f361a562f089fc91f77ed3b4783e13a08a3daf82069b1224/packaging-17.1-py2.py3-none-any.whl\n",
      "Requirement already satisfied: tornado>=4.3 in /usr/local/lib/python3.6/dist-packages (from bokeh) (4.5.3)\n",
      "Requirement already satisfied: MarkupSafe>=0.23 in /usr/local/lib/python3.6/dist-packages (from Jinja2>=2.7->bokeh) (1.0)\n",
      "Requirement already satisfied: pyparsing>=2.0.2 in /usr/local/lib/python3.6/dist-packages (from packaging>=16.8->bokeh) (2.2.0)\n",
      "Building wheels for collected packages: bokeh\n",
      "  Running setup.py bdist_wheel for bokeh ... \u001b[?25ldone\n",
      "\u001b[?25h  Stored in directory: /content/.cache/pip/wheels/ff/28/51/22e8d08e9d5383ee1de981aaa8ff7bc53c7d65022e5101400f\n",
      "Successfully built bokeh\n",
      "Installing collected packages: packaging, bokeh\n",
      "Successfully installed bokeh-0.12.16 packaging-17.1\n",
      "Collecting unidecode\n",
      "\u001b[?25l  Downloading https://files.pythonhosted.org/packages/59/ef/67085e30e8bbcdd76e2f0a4ad8151c13a2c5bce77c85f8cad6e1f16fb141/Unidecode-1.0.22-py2.py3-none-any.whl (235kB)\n",
      "\u001b[K    100% |████████████████████████████████| 235kB 10.0MB/s \n",
      "\u001b[?25hInstalling collected packages: unidecode\n",
      "Successfully installed unidecode-1.0.22\n"
     ]
    }
   ],
   "source": [
    "!pip install gensim  # For the Word2Vec model\n",
    "!pip install tqdm    # Just for using a progress bar\n",
    "!pip install bokeh   # For graphs\n",
    "!pip install unidecode"
   ]
  },
  {
   "cell_type": "markdown",
   "metadata": {
    "colab_type": "text",
    "id": "R4BT9W__p9lM"
   },
   "source": [
    "## Importación de todos los módulos requeridos\n",
    "---\n"
   ]
  },
  {
   "cell_type": "code",
   "execution_count": 1,
   "metadata": {
    "colab": {
     "autoexec": {
      "startup": false,
      "wait_interval": 0
     },
     "base_uri": "https://localhost:8080/",
     "height": 68
    },
    "colab_type": "code",
    "executionInfo": {
     "elapsed": 2346,
     "status": "ok",
     "timestamp": 1526915397317,
     "user": {
      "displayName": "Jhonathan Abreu",
      "photoUrl": "//lh4.googleusercontent.com/-4bMUXodd-B0/AAAAAAAAAAI/AAAAAAAAAlY/Lc07exuN7Aw/s50-c-k-no/photo.jpg",
      "userId": "117165292541590122752"
     },
     "user_tz": 240
    },
    "id": "v3IB4w1hqAq_",
    "outputId": "b382b223-2f83-4445-a27b-7b8ff8f6320c"
   },
   "outputs": [
    {
     "name": "stdout",
     "output_type": "stream",
     "text": [
      "[nltk_data] Downloading package stopwords to\n",
      "[nltk_data]     /home/jhonathanabreu/nltk_data...\n",
      "[nltk_data]   Package stopwords is already up-to-date!\n"
     ]
    },
    {
     "data": {
      "text/plain": [
       "True"
      ]
     },
     "execution_count": 1,
     "metadata": {},
     "output_type": "execute_result"
    }
   ],
   "source": [
    "import pandas as pd\n",
    "import numpy as np\n",
    "from copy import deepcopy\n",
    "from string import punctuation\n",
    "from random import shuffle\n",
    "import io\n",
    "import csv\n",
    "\n",
    "import gensim\n",
    "from gensim.models.word2vec import Word2Vec\n",
    "from gensim.utils import simple_preprocess\n",
    "\n",
    "from tqdm import tqdm\n",
    "\n",
    "import nltk\n",
    "\n",
    "from sklearn.model_selection import train_test_split, GridSearchCV\n",
    "from sklearn.feature_extraction.text import TfidfVectorizer\n",
    "from sklearn.manifold import TSNE\n",
    "from sklearn.preprocessing import scale\n",
    "from sklearn import svm\n",
    "\n",
    "from google.colab import files\n",
    "\n",
    "# importing bokeh library for interactive dataviz\n",
    "import bokeh.plotting as bp\n",
    "from bokeh.models import HoverTool, BoxSelectTool\n",
    "from bokeh.plotting import figure, show, output_notebook\n",
    "\n",
    "from unidecode import unidecode\n",
    "\n",
    "import time\n",
    "\n",
    "pd.options.mode.chained_assignment = None\n",
    "tqdm.pandas(desc=\"progress-bar\")\n",
    "nltk.download('stopwords')\n"
   ]
  },
  {
   "cell_type": "markdown",
   "metadata": {
    "colab_type": "text",
    "id": "bidWImZdqfYZ"
   },
   "source": [
    "## Subida de dataset al servidor\n",
    "---\n",
    "\n",
    "Este notebook fue inicialmente creado para trabajar en Google Colaboratory, por lo cual es necesario subir el archivo del dataset a sus servidores. El dataset puede ser encontrado [aquí](https://drive.google.com/open?id=1ib9bswNfSrqHCiyQyFDhEDPNKwuSjV4y)."
   ]
  },
  {
   "cell_type": "code",
   "execution_count": 3,
   "metadata": {
    "colab": {
     "autoexec": {
      "startup": false,
      "wait_interval": 0
     },
     "base_uri": "https://localhost:8080/",
     "height": 53
    },
    "colab_type": "code",
    "executionInfo": {
     "elapsed": 3417,
     "status": "ok",
     "timestamp": 1526846408343,
     "user": {
      "displayName": "Jhonathan Abreu",
      "photoUrl": "//lh4.googleusercontent.com/-4bMUXodd-B0/AAAAAAAAAAI/AAAAAAAAAlY/Lc07exuN7Aw/s50-c-k-no/photo.jpg",
      "userId": "117165292541590122752"
     },
     "user_tz": 240
    },
    "id": "LcLdkqfwyBZc",
    "outputId": "17887996-5b1b-4719-8c61-9d02a75f74e0"
   },
   "outputs": [
    {
     "name": "stdout",
     "output_type": "stream",
     "text": [
      "datalab  nltk_data\n",
      "datalab  nltk_data\n"
     ]
    }
   ],
   "source": [
    "!ls\n",
    "#!rm *.csv\n",
    "!ls"
   ]
  },
  {
   "cell_type": "code",
   "execution_count": 3,
   "metadata": {
    "colab": {
     "autoexec": {
      "startup": false,
      "wait_interval": 0
     },
     "base_uri": "https://localhost:8080/",
     "height": 72,
     "resources": {
      "http://localhost:8080/nbextensions/google.colab/files.js": {
       "data": "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",
       "headers": [
        [
         "content-type",
         "application/javascript"
        ]
       ],
       "ok": true,
       "status": 200,
       "status_text": ""
      }
     }
    },
    "colab_type": "code",
    "executionInfo": {
     "elapsed": 8485,
     "status": "ok",
     "timestamp": 1526915408944,
     "user": {
      "displayName": "Jhonathan Abreu",
      "photoUrl": "//lh4.googleusercontent.com/-4bMUXodd-B0/AAAAAAAAAAI/AAAAAAAAAlY/Lc07exuN7Aw/s50-c-k-no/photo.jpg",
      "userId": "117165292541590122752"
     },
     "user_tz": 240
    },
    "id": "xw9zGYyplB3k",
    "outputId": "d7a54477-ca34-42b7-946c-0a08cb001c49"
   },
   "outputs": [
    {
     "data": {
      "text/html": [
       "\n",
       "     <input type=\"file\" id=\"files-e35e431a-c287-4d93-a549-e9953216769b\" name=\"files[]\" multiple disabled />\n",
       "     <output id=\"result-e35e431a-c287-4d93-a549-e9953216769b\">\n",
       "      Upload widget is only available when the cell has been executed in the\n",
       "      current browser session. Please rerun this cell to enable.\n",
       "      </output>\n",
       "      <script src=\"/nbextensions/google.colab/files.js\"></script> "
      ],
      "text/plain": [
       "<IPython.core.display.HTML object>"
      ]
     },
     "metadata": {
      "tags": []
     },
     "output_type": "display_data"
    },
    {
     "name": "stdout",
     "output_type": "stream",
     "text": [
      "Saving labeled_training_data.csv to labeled_training_data.csv\n"
     ]
    }
   ],
   "source": [
    "uploaded = files.upload()"
   ]
  },
  {
   "cell_type": "markdown",
   "metadata": {
    "colab_type": "text",
    "id": "c7fYTGccqqrM"
   },
   "source": [
    "## Carga del dataset\n",
    "---\n",
    "\n",
    "El siguiente paso es, entonces, cargar el data set, en este caso en un DataFrame de Pandas. Sin embargo, directamente mientras se realiza la ingesta, se realizará la limpieza de los datos\n",
    "\n",
    "### Limpieza y tokenización del dataset\n",
    "\n",
    "Para esto se crea la función `clean_sentence`, la cual realiza lo siguiente:\n",
    ". Simultaneamente, se realiza la tokenización de las oraciones en palabras, utilizando el módulo **simple_preprocess**, de **gensim**, el cual, además, realiza otras limpiezas básicas, como la eliminación de signos de puntuación:\n",
    "\n",
    "*   Utiliza el corpus en español de **stopwords** o palabras vacías provisto por **nltk** para eliminar las palabras sin significado semántico importante.\n",
    "*  Simultaneamente, realiza la tokenización de las oraciones en palabras, utilizando el módulo `simple_preprocess`, de **gensim**, el cual, además, realiza otras limpiezas básicas, como la eliminación de signos de puntuación.\n",
    "\n"
   ]
  },
  {
   "cell_type": "code",
   "execution_count": 2,
   "metadata": {
    "colab": {
     "autoexec": {
      "startup": false,
      "wait_interval": 0
     }
    },
    "colab_type": "code",
    "id": "x8cDaGLFtLmB"
   },
   "outputs": [],
   "source": [
    "stopWords = nltk.corpus.stopwords.words('spanish')\n",
    "\n",
    "def clean_sentence(sentence):\n",
    "    tokens = [unidecode(word) for word in simple_preprocess(sentence)\n",
    "              if word not in stopWords]\n",
    "    \n",
    "    return tokens \n",
    "        "
   ]
  },
  {
   "cell_type": "markdown",
   "metadata": {
    "colab_type": "text",
    "id": "UIKJ4fbc88lv"
   },
   "source": [
    "### Carga o ingesta del dataset al DataFrame\n",
    "\n",
    "Esta tarea la realiza la función `ingest`, la cual carga, limpia y tokeniza el dataset, en formato csv, en un DataFrame de Pandas:"
   ]
  },
  {
   "cell_type": "code",
   "execution_count": 3,
   "metadata": {
    "colab": {
     "autoexec": {
      "startup": false,
      "wait_interval": 0
     },
     "base_uri": "https://localhost:8080/",
     "height": 238
    },
    "colab_type": "code",
    "executionInfo": {
     "elapsed": 1066,
     "status": "ok",
     "timestamp": 1526915415327,
     "user": {
      "displayName": "Jhonathan Abreu",
      "photoUrl": "//lh4.googleusercontent.com/-4bMUXodd-B0/AAAAAAAAAAI/AAAAAAAAAlY/Lc07exuN7Aw/s50-c-k-no/photo.jpg",
      "userId": "117165292541590122752"
     },
     "user_tz": 240
    },
    "id": "RVejatffuWv_",
    "outputId": "ed043d06-f063-4416-914e-49f7af59490f"
   },
   "outputs": [
    {
     "ename": "FileNotFoundError",
     "evalue": "File b'labeled_training_data.csv' does not exist",
     "output_type": "error",
     "traceback": [
      "\u001b[0;31m---------------------------------------------------------------------------\u001b[0m",
      "\u001b[0;31mFileNotFoundError\u001b[0m                         Traceback (most recent call last)",
      "\u001b[0;32m<ipython-input-3-12aa1b8607cd>\u001b[0m in \u001b[0;36m<module>\u001b[0;34m()\u001b[0m\n\u001b[1;32m     13\u001b[0m     \u001b[0;32mreturn\u001b[0m \u001b[0mdata\u001b[0m\u001b[0;34m\u001b[0m\u001b[0m\n\u001b[1;32m     14\u001b[0m \u001b[0;34m\u001b[0m\u001b[0m\n\u001b[0;32m---> 15\u001b[0;31m \u001b[0mdata\u001b[0m \u001b[0;34m=\u001b[0m \u001b[0mingest\u001b[0m\u001b[0;34m(\u001b[0m\u001b[0;34m'labeled_training_data.csv'\u001b[0m\u001b[0;34m)\u001b[0m\u001b[0;34m\u001b[0m\u001b[0m\n\u001b[0m\u001b[1;32m     16\u001b[0m \u001b[0mdata\u001b[0m\u001b[0;34m.\u001b[0m\u001b[0mhead\u001b[0m\u001b[0;34m(\u001b[0m\u001b[0;36m5\u001b[0m\u001b[0;34m)\u001b[0m\u001b[0;34m\u001b[0m\u001b[0m\n",
      "\u001b[0;32m<ipython-input-3-12aa1b8607cd>\u001b[0m in \u001b[0;36mingest\u001b[0;34m(datasetFileName)\u001b[0m\n\u001b[1;32m      1\u001b[0m \u001b[0;32mdef\u001b[0m \u001b[0mingest\u001b[0m\u001b[0;34m(\u001b[0m\u001b[0mdatasetFileName\u001b[0m\u001b[0;34m)\u001b[0m\u001b[0;34m:\u001b[0m\u001b[0;34m\u001b[0m\u001b[0m\n\u001b[0;32m----> 2\u001b[0;31m     \u001b[0mdata\u001b[0m \u001b[0;34m=\u001b[0m \u001b[0mpd\u001b[0m\u001b[0;34m.\u001b[0m\u001b[0mread_csv\u001b[0m\u001b[0;34m(\u001b[0m\u001b[0mdatasetFileName\u001b[0m\u001b[0;34m,\u001b[0m \u001b[0mheader\u001b[0m \u001b[0;34m=\u001b[0m \u001b[0;32mNone\u001b[0m\u001b[0;34m)\u001b[0m\u001b[0;34m\u001b[0m\u001b[0m\n\u001b[0m\u001b[1;32m      3\u001b[0m     \u001b[0mdata\u001b[0m\u001b[0;34m.\u001b[0m\u001b[0mcolumns\u001b[0m \u001b[0;34m=\u001b[0m \u001b[0;34m[\u001b[0m\u001b[0;34m'sentence'\u001b[0m\u001b[0;34m,\u001b[0m \u001b[0;34m'sentiment'\u001b[0m\u001b[0;34m]\u001b[0m\u001b[0;34m\u001b[0m\u001b[0m\n\u001b[1;32m      4\u001b[0m     data['sentiment'] = data['sentiment'].map({\n\u001b[1;32m      5\u001b[0m                                                 \u001b[0;34m'positivo'\u001b[0m\u001b[0;34m:\u001b[0m \u001b[0;36m1\u001b[0m\u001b[0;34m,\u001b[0m\u001b[0;34m\u001b[0m\u001b[0m\n",
      "\u001b[0;32m~/anaconda3/envs/sc_project_ve/lib/python3.6/site-packages/pandas/io/parsers.py\u001b[0m in \u001b[0;36mparser_f\u001b[0;34m(filepath_or_buffer, sep, delimiter, header, names, index_col, usecols, squeeze, prefix, mangle_dupe_cols, dtype, engine, converters, true_values, false_values, skipinitialspace, skiprows, nrows, na_values, keep_default_na, na_filter, verbose, skip_blank_lines, parse_dates, infer_datetime_format, keep_date_col, date_parser, dayfirst, iterator, chunksize, compression, thousands, decimal, lineterminator, quotechar, quoting, escapechar, comment, encoding, dialect, tupleize_cols, error_bad_lines, warn_bad_lines, skipfooter, skip_footer, doublequote, delim_whitespace, as_recarray, compact_ints, use_unsigned, low_memory, buffer_lines, memory_map, float_precision)\u001b[0m\n\u001b[1;32m    707\u001b[0m                     skip_blank_lines=skip_blank_lines)\n\u001b[1;32m    708\u001b[0m \u001b[0;34m\u001b[0m\u001b[0m\n\u001b[0;32m--> 709\u001b[0;31m         \u001b[0;32mreturn\u001b[0m \u001b[0m_read\u001b[0m\u001b[0;34m(\u001b[0m\u001b[0mfilepath_or_buffer\u001b[0m\u001b[0;34m,\u001b[0m \u001b[0mkwds\u001b[0m\u001b[0;34m)\u001b[0m\u001b[0;34m\u001b[0m\u001b[0m\n\u001b[0m\u001b[1;32m    710\u001b[0m \u001b[0;34m\u001b[0m\u001b[0m\n\u001b[1;32m    711\u001b[0m     \u001b[0mparser_f\u001b[0m\u001b[0;34m.\u001b[0m\u001b[0m__name__\u001b[0m \u001b[0;34m=\u001b[0m \u001b[0mname\u001b[0m\u001b[0;34m\u001b[0m\u001b[0m\n",
      "\u001b[0;32m~/anaconda3/envs/sc_project_ve/lib/python3.6/site-packages/pandas/io/parsers.py\u001b[0m in \u001b[0;36m_read\u001b[0;34m(filepath_or_buffer, kwds)\u001b[0m\n\u001b[1;32m    447\u001b[0m \u001b[0;34m\u001b[0m\u001b[0m\n\u001b[1;32m    448\u001b[0m     \u001b[0;31m# Create the parser.\u001b[0m\u001b[0;34m\u001b[0m\u001b[0;34m\u001b[0m\u001b[0m\n\u001b[0;32m--> 449\u001b[0;31m     \u001b[0mparser\u001b[0m \u001b[0;34m=\u001b[0m \u001b[0mTextFileReader\u001b[0m\u001b[0;34m(\u001b[0m\u001b[0mfilepath_or_buffer\u001b[0m\u001b[0;34m,\u001b[0m \u001b[0;34m**\u001b[0m\u001b[0mkwds\u001b[0m\u001b[0;34m)\u001b[0m\u001b[0;34m\u001b[0m\u001b[0m\n\u001b[0m\u001b[1;32m    450\u001b[0m \u001b[0;34m\u001b[0m\u001b[0m\n\u001b[1;32m    451\u001b[0m     \u001b[0;32mif\u001b[0m \u001b[0mchunksize\u001b[0m \u001b[0;32mor\u001b[0m \u001b[0miterator\u001b[0m\u001b[0;34m:\u001b[0m\u001b[0;34m\u001b[0m\u001b[0m\n",
      "\u001b[0;32m~/anaconda3/envs/sc_project_ve/lib/python3.6/site-packages/pandas/io/parsers.py\u001b[0m in \u001b[0;36m__init__\u001b[0;34m(self, f, engine, **kwds)\u001b[0m\n\u001b[1;32m    816\u001b[0m             \u001b[0mself\u001b[0m\u001b[0;34m.\u001b[0m\u001b[0moptions\u001b[0m\u001b[0;34m[\u001b[0m\u001b[0;34m'has_index_names'\u001b[0m\u001b[0;34m]\u001b[0m \u001b[0;34m=\u001b[0m \u001b[0mkwds\u001b[0m\u001b[0;34m[\u001b[0m\u001b[0;34m'has_index_names'\u001b[0m\u001b[0;34m]\u001b[0m\u001b[0;34m\u001b[0m\u001b[0m\n\u001b[1;32m    817\u001b[0m \u001b[0;34m\u001b[0m\u001b[0m\n\u001b[0;32m--> 818\u001b[0;31m         \u001b[0mself\u001b[0m\u001b[0;34m.\u001b[0m\u001b[0m_make_engine\u001b[0m\u001b[0;34m(\u001b[0m\u001b[0mself\u001b[0m\u001b[0;34m.\u001b[0m\u001b[0mengine\u001b[0m\u001b[0;34m)\u001b[0m\u001b[0;34m\u001b[0m\u001b[0m\n\u001b[0m\u001b[1;32m    819\u001b[0m \u001b[0;34m\u001b[0m\u001b[0m\n\u001b[1;32m    820\u001b[0m     \u001b[0;32mdef\u001b[0m \u001b[0mclose\u001b[0m\u001b[0;34m(\u001b[0m\u001b[0mself\u001b[0m\u001b[0;34m)\u001b[0m\u001b[0;34m:\u001b[0m\u001b[0;34m\u001b[0m\u001b[0m\n",
      "\u001b[0;32m~/anaconda3/envs/sc_project_ve/lib/python3.6/site-packages/pandas/io/parsers.py\u001b[0m in \u001b[0;36m_make_engine\u001b[0;34m(self, engine)\u001b[0m\n\u001b[1;32m   1047\u001b[0m     \u001b[0;32mdef\u001b[0m \u001b[0m_make_engine\u001b[0m\u001b[0;34m(\u001b[0m\u001b[0mself\u001b[0m\u001b[0;34m,\u001b[0m \u001b[0mengine\u001b[0m\u001b[0;34m=\u001b[0m\u001b[0;34m'c'\u001b[0m\u001b[0;34m)\u001b[0m\u001b[0;34m:\u001b[0m\u001b[0;34m\u001b[0m\u001b[0m\n\u001b[1;32m   1048\u001b[0m         \u001b[0;32mif\u001b[0m \u001b[0mengine\u001b[0m \u001b[0;34m==\u001b[0m \u001b[0;34m'c'\u001b[0m\u001b[0;34m:\u001b[0m\u001b[0;34m\u001b[0m\u001b[0m\n\u001b[0;32m-> 1049\u001b[0;31m             \u001b[0mself\u001b[0m\u001b[0;34m.\u001b[0m\u001b[0m_engine\u001b[0m \u001b[0;34m=\u001b[0m \u001b[0mCParserWrapper\u001b[0m\u001b[0;34m(\u001b[0m\u001b[0mself\u001b[0m\u001b[0;34m.\u001b[0m\u001b[0mf\u001b[0m\u001b[0;34m,\u001b[0m \u001b[0;34m**\u001b[0m\u001b[0mself\u001b[0m\u001b[0;34m.\u001b[0m\u001b[0moptions\u001b[0m\u001b[0;34m)\u001b[0m\u001b[0;34m\u001b[0m\u001b[0m\n\u001b[0m\u001b[1;32m   1050\u001b[0m         \u001b[0;32melse\u001b[0m\u001b[0;34m:\u001b[0m\u001b[0;34m\u001b[0m\u001b[0m\n\u001b[1;32m   1051\u001b[0m             \u001b[0;32mif\u001b[0m \u001b[0mengine\u001b[0m \u001b[0;34m==\u001b[0m \u001b[0;34m'python'\u001b[0m\u001b[0;34m:\u001b[0m\u001b[0;34m\u001b[0m\u001b[0m\n",
      "\u001b[0;32m~/anaconda3/envs/sc_project_ve/lib/python3.6/site-packages/pandas/io/parsers.py\u001b[0m in \u001b[0;36m__init__\u001b[0;34m(self, src, **kwds)\u001b[0m\n\u001b[1;32m   1693\u001b[0m         \u001b[0mkwds\u001b[0m\u001b[0;34m[\u001b[0m\u001b[0;34m'allow_leading_cols'\u001b[0m\u001b[0;34m]\u001b[0m \u001b[0;34m=\u001b[0m \u001b[0mself\u001b[0m\u001b[0;34m.\u001b[0m\u001b[0mindex_col\u001b[0m \u001b[0;32mis\u001b[0m \u001b[0;32mnot\u001b[0m \u001b[0;32mFalse\u001b[0m\u001b[0;34m\u001b[0m\u001b[0m\n\u001b[1;32m   1694\u001b[0m \u001b[0;34m\u001b[0m\u001b[0m\n\u001b[0;32m-> 1695\u001b[0;31m         \u001b[0mself\u001b[0m\u001b[0;34m.\u001b[0m\u001b[0m_reader\u001b[0m \u001b[0;34m=\u001b[0m \u001b[0mparsers\u001b[0m\u001b[0;34m.\u001b[0m\u001b[0mTextReader\u001b[0m\u001b[0;34m(\u001b[0m\u001b[0msrc\u001b[0m\u001b[0;34m,\u001b[0m \u001b[0;34m**\u001b[0m\u001b[0mkwds\u001b[0m\u001b[0;34m)\u001b[0m\u001b[0;34m\u001b[0m\u001b[0m\n\u001b[0m\u001b[1;32m   1696\u001b[0m \u001b[0;34m\u001b[0m\u001b[0m\n\u001b[1;32m   1697\u001b[0m         \u001b[0;31m# XXX\u001b[0m\u001b[0;34m\u001b[0m\u001b[0;34m\u001b[0m\u001b[0m\n",
      "\u001b[0;32mpandas/_libs/parsers.pyx\u001b[0m in \u001b[0;36mpandas._libs.parsers.TextReader.__cinit__\u001b[0;34m()\u001b[0m\n",
      "\u001b[0;32mpandas/_libs/parsers.pyx\u001b[0m in \u001b[0;36mpandas._libs.parsers.TextReader._setup_parser_source\u001b[0;34m()\u001b[0m\n",
      "\u001b[0;31mFileNotFoundError\u001b[0m: File b'labeled_training_data.csv' does not exist"
     ]
    }
   ],
   "source": [
    "def ingest(datasetFileName):\n",
    "    data = pd.read_csv(datasetFileName, header = None)\n",
    "    data.columns = ['sentence', 'sentiment']\n",
    "    data['sentiment'] = data['sentiment'].map({\n",
    "                                                'positivo': 1,\n",
    "                                                'neutral': 0,\n",
    "                                                'negativo': -1\n",
    "                                              })\n",
    "    data['tokens'] = data['sentence'].progress_map(clean_sentence)\n",
    "    data.reset_index(inplace = True)\n",
    "    data.drop('index', axis = 1, inplace = True)\n",
    "    print('dataset loaded with shape', data.shape)\n",
    "    return data\n",
    "\n",
    "data = ingest('labeled_training_data.csv')\n",
    "data.head(5)"
   ]
  },
  {
   "cell_type": "markdown",
   "metadata": {
    "colab_type": "text",
    "id": "db2mZlkW9UcY"
   },
   "source": [
    "## Creación del modelo Word2Vec\n",
    "---\n",
    "\n",
    "La implementación a utilizar será la de **gensim**. Sin embargo, primero se debe dividir el dataset en conjuntos de entrenamiento y prueba, con relación 7:3:"
   ]
  },
  {
   "cell_type": "code",
   "execution_count": null,
   "metadata": {
    "colab": {
     "autoexec": {
      "startup": false,
      "wait_interval": 0
     }
    },
    "colab_type": "code",
    "id": "F3suZaA2ofJn"
   },
   "outputs": [],
   "source": [
    "trainSentences, testSentences, trainLabels, testLabels = \\\n",
    "    train_test_split(np.array(data.tokens),\n",
    "                     np.array(data.sentiment), test_size = 0.2)"
   ]
  },
  {
   "cell_type": "markdown",
   "metadata": {
    "colab_type": "text",
    "id": "QiyV4qRV_kDx"
   },
   "source": [
    "El modelo Word2Vec, internamente, utiliza una red neuronal de 2 capas, mas sin embargo, no es necesario tener conocimiento de esto para su uso (más información [aquí](https://en.wikipedia.org/wiki/Word2vec) y [aquí](https://www.tensorflow.org/tutorials/word2vec)). Lo importante es indicar al modelo la dimensión de los vectores que representarán las palabras y otros parámetros importantes:\n",
    "\n",
    "### Dimensión de los vectores\n",
    "\n",
    "La calidad de la vectorización depende y aumenta a media que la dimensión de los vectores aumenta; sim embargo, el incremento marginal de la mejora disminuye en cierto punto. Los valores típicos de la dimensión están en el intervalo [100, 1000]. En este caso, se tomará una dimensión de 200, pero debe evaluarse este y otros parámetros para la optimización del modelo.\n",
    "\n",
    "### Ventana contextual\n",
    "\n",
    "Esto determina la cantidad de palabras a la izquierda y derecha que se toman como contexto de una palabra. Se debe realizar un estudio de la longitud promedio de las oraciones, pero, como en la encuesta se pidió un mínimo de 8 palabras, quitando las palabras vacías, se utilizará, por ahora, una ventana de 10, de modo que todas las palabras de la oración entren en el contexto."
   ]
  },
  {
   "cell_type": "code",
   "execution_count": 52,
   "metadata": {
    "colab": {
     "autoexec": {
      "startup": false,
      "wait_interval": 0
     },
     "base_uri": "https://localhost:8080/",
     "height": 51
    },
    "colab_type": "code",
    "executionInfo": {
     "elapsed": 908,
     "status": "ok",
     "timestamp": 1526917133206,
     "user": {
      "displayName": "Jhonathan Abreu",
      "photoUrl": "//lh4.googleusercontent.com/-4bMUXodd-B0/AAAAAAAAAAI/AAAAAAAAAlY/Lc07exuN7Aw/s50-c-k-no/photo.jpg",
      "userId": "117165292541590122752"
     },
     "user_tz": 240
    },
    "id": "-A1DQFG-pFx1",
    "outputId": "b5461543-2f62-4607-989e-abf53e6b65a0"
   },
   "outputs": [
    {
     "name": "stderr",
     "output_type": "stream",
     "text": [
      "100%|██████████| 175/175 [00:00<00:00, 522794.30it/s]\n"
     ]
    },
    {
     "data": {
      "text/plain": [
       "(838, 11370)"
      ]
     },
     "execution_count": 52,
     "metadata": {
      "tags": []
     },
     "output_type": "execute_result"
    }
   ],
   "source": [
    "vectorDimension = 900\n",
    "wordsModel = Word2Vec(trainSentences, size = vectorDimension, min_count = 3,\n",
    "                      window = 10)\n",
    "wordsModel.train([train for train in tqdm(trainSentences)],\n",
    "                 total_examples = len(trainSentences),\n",
    "                 epochs = 15)"
   ]
  },
  {
   "cell_type": "markdown",
   "metadata": {
    "colab_type": "text",
    "id": "tvlDIO2dJBYR"
   },
   "source": [
    "### Obtención de la representación vectorial de palabras"
   ]
  },
  {
   "cell_type": "code",
   "execution_count": 10,
   "metadata": {
    "colab": {
     "autoexec": {
      "startup": false,
      "wait_interval": 0
     },
     "base_uri": "https://localhost:8080/",
     "height": 811
    },
    "colab_type": "code",
    "executionInfo": {
     "elapsed": 664,
     "status": "ok",
     "timestamp": 1526846499633,
     "user": {
      "displayName": "Jhonathan Abreu",
      "photoUrl": "//lh4.googleusercontent.com/-4bMUXodd-B0/AAAAAAAAAAI/AAAAAAAAAlY/Lc07exuN7Aw/s50-c-k-no/photo.jpg",
      "userId": "117165292541590122752"
     },
     "user_tz": 240
    },
    "id": "XsJuFCntrOTj",
    "outputId": "cdb6d2b4-1ea4-449d-f8ce-685b6aa8d8e6"
   },
   "outputs": [
    {
     "name": "stderr",
     "output_type": "stream",
     "text": [
      "/usr/local/lib/python3.6/dist-packages/ipykernel_launcher.py:1: DeprecationWarning: Call to deprecated `__getitem__` (Method will be removed in 4.0.0, use self.wv.__getitem__() instead).\n",
      "  \"\"\"Entry point for launching an IPython kernel.\n"
     ]
    },
    {
     "data": {
      "text/plain": [
       "array([-0.04942068, -0.17572436, -0.04004598, -0.01037453,  0.08782685,\n",
       "       -0.31138816,  0.11382303, -0.23199888, -0.04570371, -0.00610333,\n",
       "        0.06404767, -0.03375966, -0.03987723, -0.04294056, -0.08080643,\n",
       "        0.05017672, -0.14911306, -0.18980563, -0.16492441, -0.25816724,\n",
       "        0.14209741, -0.03908285, -0.33065113, -0.02307731, -0.10348456,\n",
       "       -0.02836516,  0.0405107 ,  0.00372367,  0.01908221,  0.10175536,\n",
       "       -0.11912344, -0.06483073,  0.01958265, -0.15317723,  0.21781647,\n",
       "       -0.08104958,  0.1236623 ,  0.12536101, -0.07601602, -0.00719716,\n",
       "       -0.21463662,  0.02859756,  0.11575279, -0.13655387,  0.02341248,\n",
       "       -0.03828403, -0.08307426,  0.01724051, -0.04645931,  0.17824952,\n",
       "        0.13580579, -0.00327414, -0.296602  ,  0.0008081 ,  0.17424375,\n",
       "        0.22677292, -0.17102948, -0.3057054 , -0.14658427, -0.16912842,\n",
       "        0.01301437, -0.15982015,  0.33561146, -0.00581877, -0.23739915,\n",
       "        0.18927808, -0.21967238,  0.01925349, -0.03716213,  0.41099808,\n",
       "       -0.01181063,  0.01615066, -0.2979668 ,  0.08208571,  0.2903074 ,\n",
       "        0.02709496,  0.17969643,  0.02869406, -0.3704171 ,  0.09071556,\n",
       "        0.02606725,  0.08720203,  0.37648284,  0.28868645,  0.01605554,\n",
       "       -0.01368888,  0.08315552,  0.06743455, -0.02070963, -0.25749177,\n",
       "       -0.08257179, -0.09063355, -0.01880169, -0.0052249 ,  0.00867043,\n",
       "        0.0032399 ,  0.14887828, -0.08852063,  0.21195716,  0.0883517 ,\n",
       "       -0.11653243, -0.01504134,  0.08762586, -0.1673666 ,  0.124115  ,\n",
       "       -0.03394959, -0.10393857,  0.3736689 ,  0.25031054,  0.0624072 ,\n",
       "        0.2782762 , -0.24404177,  0.18215182,  0.16198885,  0.05689348,\n",
       "        0.1462442 ,  0.16562128,  0.04748265,  0.15285578,  0.1599375 ,\n",
       "        0.1900719 , -0.14391658,  0.20007278, -0.02851909,  0.05683909,\n",
       "       -0.11414545, -0.01306874,  0.17671336,  0.23409222, -0.04422541,\n",
       "        0.09782307,  0.01544526,  0.0424595 , -0.03640664, -0.30361235,\n",
       "       -0.08423369,  0.0628916 ,  0.20890288,  0.26980746,  0.11439253,\n",
       "       -0.2002188 , -0.19845864,  0.1852245 , -0.09263828, -0.22014433,\n",
       "        0.00835531,  0.02039564,  0.01164554, -0.13417566, -0.00941476,\n",
       "       -0.08277828,  0.13897063, -0.11843434, -0.0760067 ,  0.16319981,\n",
       "       -0.05351073,  0.01198848,  0.08186362,  0.13987951, -0.23209795,\n",
       "       -0.05469643, -0.10166463,  0.0605994 , -0.01683026, -0.14836548,\n",
       "        0.26104358, -0.34972072, -0.17551722, -0.01513451, -0.1339339 ,\n",
       "        0.02223729, -0.00667843, -0.02456481, -0.10517126, -0.0559489 ,\n",
       "       -0.02074264,  0.1271126 ,  0.07315546,  0.25401086,  0.06756441,\n",
       "       -0.14434148, -0.04195364,  0.0846639 ,  0.2760107 , -0.16418765,\n",
       "        0.13229181, -0.0159144 ,  0.10526808,  0.09286813,  0.02473724,\n",
       "       -0.25954914,  0.05876192, -0.04594519,  0.03905331,  0.23696308,\n",
       "        0.11311258, -0.17673755,  0.22629839, -0.10992429, -0.15053166],\n",
       "      dtype=float32)"
      ]
     },
     "execution_count": 10,
     "metadata": {
      "tags": []
     },
     "output_type": "execute_result"
    }
   ],
   "source": [
    "wordsModel['bien']"
   ]
  },
  {
   "cell_type": "markdown",
   "metadata": {
    "colab_type": "text",
    "id": "LkryY6nTJNOy"
   },
   "source": [
    "Como se observa, el vector tiene dimensión 200.\n",
    "\n",
    "### Obtención de las palabras más similares"
   ]
  },
  {
   "cell_type": "code",
   "execution_count": 8,
   "metadata": {
    "colab": {
     "autoexec": {
      "startup": false,
      "wait_interval": 0
     },
     "base_uri": "https://localhost:8080/",
     "height": 401
    },
    "colab_type": "code",
    "executionInfo": {
     "elapsed": 2386,
     "status": "error",
     "timestamp": 1526915428151,
     "user": {
      "displayName": "Jhonathan Abreu",
      "photoUrl": "//lh4.googleusercontent.com/-4bMUXodd-B0/AAAAAAAAAAI/AAAAAAAAAlY/Lc07exuN7Aw/s50-c-k-no/photo.jpg",
      "userId": "117165292541590122752"
     },
     "user_tz": 240
    },
    "id": "lXgdFfl2rgN8",
    "outputId": "2a30c11d-9343-4d0e-e9c7-72179723aefd"
   },
   "outputs": [
    {
     "ename": "KeyError",
     "evalue": "ignored",
     "output_type": "error",
     "traceback": [
      "\u001b[0;31m---------------------------------------------------------------------------\u001b[0m",
      "\u001b[0;31mKeyError\u001b[0m                                  Traceback (most recent call last)",
      "\u001b[0;32m<ipython-input-8-a9e3cdf9a211>\u001b[0m in \u001b[0;36m<module>\u001b[0;34m()\u001b[0m\n\u001b[0;32m----> 1\u001b[0;31m \u001b[0mwordsModel\u001b[0m\u001b[0;34m.\u001b[0m\u001b[0mwv\u001b[0m\u001b[0;34m.\u001b[0m\u001b[0mmost_similar\u001b[0m\u001b[0;34m(\u001b[0m\u001b[0;34m'carino'\u001b[0m\u001b[0;34m)\u001b[0m\u001b[0;34m\u001b[0m\u001b[0m\n\u001b[0m",
      "\u001b[0;32m/usr/local/lib/python3.6/dist-packages/gensim/models/keyedvectors.py\u001b[0m in \u001b[0;36mmost_similar\u001b[0;34m(self, positive, negative, topn, restrict_vocab, indexer)\u001b[0m\n\u001b[1;32m    363\u001b[0m                 \u001b[0mmean\u001b[0m\u001b[0;34m.\u001b[0m\u001b[0mappend\u001b[0m\u001b[0;34m(\u001b[0m\u001b[0mweight\u001b[0m \u001b[0;34m*\u001b[0m \u001b[0mword\u001b[0m\u001b[0;34m)\u001b[0m\u001b[0;34m\u001b[0m\u001b[0m\n\u001b[1;32m    364\u001b[0m             \u001b[0;32melse\u001b[0m\u001b[0;34m:\u001b[0m\u001b[0;34m\u001b[0m\u001b[0m\n\u001b[0;32m--> 365\u001b[0;31m                 \u001b[0mmean\u001b[0m\u001b[0;34m.\u001b[0m\u001b[0mappend\u001b[0m\u001b[0;34m(\u001b[0m\u001b[0mweight\u001b[0m \u001b[0;34m*\u001b[0m \u001b[0mself\u001b[0m\u001b[0;34m.\u001b[0m\u001b[0mword_vec\u001b[0m\u001b[0;34m(\u001b[0m\u001b[0mword\u001b[0m\u001b[0;34m,\u001b[0m \u001b[0muse_norm\u001b[0m\u001b[0;34m=\u001b[0m\u001b[0;32mTrue\u001b[0m\u001b[0;34m)\u001b[0m\u001b[0;34m)\u001b[0m\u001b[0;34m\u001b[0m\u001b[0m\n\u001b[0m\u001b[1;32m    366\u001b[0m                 \u001b[0;32mif\u001b[0m \u001b[0mword\u001b[0m \u001b[0;32min\u001b[0m \u001b[0mself\u001b[0m\u001b[0;34m.\u001b[0m\u001b[0mvocab\u001b[0m\u001b[0;34m:\u001b[0m\u001b[0;34m\u001b[0m\u001b[0m\n\u001b[1;32m    367\u001b[0m                     \u001b[0mall_words\u001b[0m\u001b[0;34m.\u001b[0m\u001b[0madd\u001b[0m\u001b[0;34m(\u001b[0m\u001b[0mself\u001b[0m\u001b[0;34m.\u001b[0m\u001b[0mvocab\u001b[0m\u001b[0;34m[\u001b[0m\u001b[0mword\u001b[0m\u001b[0;34m]\u001b[0m\u001b[0;34m.\u001b[0m\u001b[0mindex\u001b[0m\u001b[0;34m)\u001b[0m\u001b[0;34m\u001b[0m\u001b[0m\n",
      "\u001b[0;32m/usr/local/lib/python3.6/dist-packages/gensim/models/keyedvectors.py\u001b[0m in \u001b[0;36mword_vec\u001b[0;34m(self, word, use_norm)\u001b[0m\n\u001b[1;32m    272\u001b[0m             \u001b[0;32mreturn\u001b[0m \u001b[0mresult\u001b[0m\u001b[0;34m\u001b[0m\u001b[0m\n\u001b[1;32m    273\u001b[0m         \u001b[0;32melse\u001b[0m\u001b[0;34m:\u001b[0m\u001b[0;34m\u001b[0m\u001b[0m\n\u001b[0;32m--> 274\u001b[0;31m             \u001b[0;32mraise\u001b[0m \u001b[0mKeyError\u001b[0m\u001b[0;34m(\u001b[0m\u001b[0;34m\"word '%s' not in vocabulary\"\u001b[0m \u001b[0;34m%\u001b[0m \u001b[0mword\u001b[0m\u001b[0;34m)\u001b[0m\u001b[0;34m\u001b[0m\u001b[0m\n\u001b[0m\u001b[1;32m    275\u001b[0m \u001b[0;34m\u001b[0m\u001b[0m\n\u001b[1;32m    276\u001b[0m     \u001b[0;32mdef\u001b[0m \u001b[0mget_vector\u001b[0m\u001b[0;34m(\u001b[0m\u001b[0mself\u001b[0m\u001b[0;34m,\u001b[0m \u001b[0mword\u001b[0m\u001b[0;34m)\u001b[0m\u001b[0;34m:\u001b[0m\u001b[0;34m\u001b[0m\u001b[0m\n",
      "\u001b[0;31mKeyError\u001b[0m: \"word 'carino' not in vocabulary\""
     ]
    }
   ],
   "source": [
    "wordsModel.wv.most_similar('carino')"
   ]
  },
  {
   "cell_type": "markdown",
   "metadata": {
    "colab_type": "text",
    "id": "K_dgXeHmJaGq"
   },
   "source": [
    "Es muy notable que se necesita un corpus más grande de palabras para el uso de este tipo de modelos\n",
    "\n",
    "## Validación gráfica del modelo Word2Vec\n",
    "---\n",
    "\n",
    "Para esto, se disminuye la dimensión de los vectores de las palabras a 2 para poder observar su gráfico 2D."
   ]
  },
  {
   "cell_type": "code",
   "execution_count": 53,
   "metadata": {
    "colab": {
     "autoexec": {
      "startup": false,
      "wait_interval": 0
     },
     "base_uri": "https://localhost:8080/",
     "height": 800
    },
    "colab_type": "code",
    "executionInfo": {
     "elapsed": 1665,
     "status": "ok",
     "timestamp": 1526917138015,
     "user": {
      "displayName": "Jhonathan Abreu",
      "photoUrl": "//lh4.googleusercontent.com/-4bMUXodd-B0/AAAAAAAAAAI/AAAAAAAAAlY/Lc07exuN7Aw/s50-c-k-no/photo.jpg",
      "userId": "117165292541590122752"
     },
     "user_tz": 240
    },
    "id": "ST1lS_4gruaf",
    "outputId": "56c04a64-9f8c-4cf9-c902-8f0fc57071c1"
   },
   "outputs": [
    {
     "data": {
      "text/html": [
       "\n",
       "    <div class=\"bk-root\">\n",
       "        <a href=\"https://bokeh.pydata.org\" target=\"_blank\" class=\"bk-logo bk-logo-small bk-logo-notebook\"></a>\n",
       "        <span id=\"8b3eae36-8862-458a-a4cc-bf52d840c262\">Loading BokehJS ...</span>\n",
       "    </div>"
      ]
     },
     "metadata": {
      "tags": []
     },
     "output_type": "display_data"
    },
    {
     "data": {
      "application/javascript": [
       "\n",
       "(function(root) {\n",
       "  function now() {\n",
       "    return new Date();\n",
       "  }\n",
       "\n",
       "  var force = true;\n",
       "\n",
       "  if (typeof (root._bokeh_onload_callbacks) === \"undefined\" || force === true) {\n",
       "    root._bokeh_onload_callbacks = [];\n",
       "    root._bokeh_is_loading = undefined;\n",
       "  }\n",
       "\n",
       "  var JS_MIME_TYPE = 'application/javascript';\n",
       "  var HTML_MIME_TYPE = 'text/html';\n",
       "  var EXEC_MIME_TYPE = 'application/vnd.bokehjs_exec.v0+json';\n",
       "  var CLASS_NAME = 'output_bokeh rendered_html';\n",
       "\n",
       "  /**\n",
       "   * Render data to the DOM node\n",
       "   */\n",
       "  function render(props, node) {\n",
       "    var script = document.createElement(\"script\");\n",
       "    node.appendChild(script);\n",
       "  }\n",
       "\n",
       "  /**\n",
       "   * Handle when an output is cleared or removed\n",
       "   */\n",
       "  function handleClearOutput(event, handle) {\n",
       "    var cell = handle.cell;\n",
       "\n",
       "    var id = cell.output_area._bokeh_element_id;\n",
       "    var server_id = cell.output_area._bokeh_server_id;\n",
       "    // Clean up Bokeh references\n",
       "    if (id !== undefined) {\n",
       "      Bokeh.index[id].model.document.clear();\n",
       "      delete Bokeh.index[id];\n",
       "    }\n",
       "\n",
       "    if (server_id !== undefined) {\n",
       "      // Clean up Bokeh references\n",
       "      var cmd = \"from bokeh.io.state import curstate; print(curstate().uuid_to_server['\" + server_id + \"'].get_sessions()[0].document.roots[0]._id)\";\n",
       "      cell.notebook.kernel.execute(cmd, {\n",
       "        iopub: {\n",
       "          output: function(msg) {\n",
       "            var element_id = msg.content.text.trim();\n",
       "            Bokeh.index[element_id].model.document.clear();\n",
       "            delete Bokeh.index[element_id];\n",
       "          }\n",
       "        }\n",
       "      });\n",
       "      // Destroy server and session\n",
       "      var cmd = \"import bokeh.io.notebook as ion; ion.destroy_server('\" + server_id + \"')\";\n",
       "      cell.notebook.kernel.execute(cmd);\n",
       "    }\n",
       "  }\n",
       "\n",
       "  /**\n",
       "   * Handle when a new output is added\n",
       "   */\n",
       "  function handleAddOutput(event, handle) {\n",
       "    var output_area = handle.output_area;\n",
       "    var output = handle.output;\n",
       "\n",
       "    // limit handleAddOutput to display_data with EXEC_MIME_TYPE content only\n",
       "    if ((output.output_type != \"display_data\") || (!output.data.hasOwnProperty(EXEC_MIME_TYPE))) {\n",
       "      return\n",
       "    }\n",
       "\n",
       "    var toinsert = output_area.element.find(\".\" + CLASS_NAME.split(' ')[0]);\n",
       "\n",
       "    if (output.metadata[EXEC_MIME_TYPE][\"id\"] !== undefined) {\n",
       "      toinsert[toinsert.length - 1].firstChild.textContent = output.data[JS_MIME_TYPE];\n",
       "      // store reference to embed id on output_area\n",
       "      output_area._bokeh_element_id = output.metadata[EXEC_MIME_TYPE][\"id\"];\n",
       "    }\n",
       "    if (output.metadata[EXEC_MIME_TYPE][\"server_id\"] !== undefined) {\n",
       "      var bk_div = document.createElement(\"div\");\n",
       "      bk_div.innerHTML = output.data[HTML_MIME_TYPE];\n",
       "      var script_attrs = bk_div.children[0].attributes;\n",
       "      for (var i = 0; i < script_attrs.length; i++) {\n",
       "        toinsert[toinsert.length - 1].firstChild.setAttribute(script_attrs[i].name, script_attrs[i].value);\n",
       "      }\n",
       "      // store reference to server id on output_area\n",
       "      output_area._bokeh_server_id = output.metadata[EXEC_MIME_TYPE][\"server_id\"];\n",
       "    }\n",
       "  }\n",
       "\n",
       "  function register_renderer(events, OutputArea) {\n",
       "\n",
       "    function append_mime(data, metadata, element) {\n",
       "      // create a DOM node to render to\n",
       "      var toinsert = this.create_output_subarea(\n",
       "        metadata,\n",
       "        CLASS_NAME,\n",
       "        EXEC_MIME_TYPE\n",
       "      );\n",
       "      this.keyboard_manager.register_events(toinsert);\n",
       "      // Render to node\n",
       "      var props = {data: data, metadata: metadata[EXEC_MIME_TYPE]};\n",
       "      render(props, toinsert[toinsert.length - 1]);\n",
       "      element.append(toinsert);\n",
       "      return toinsert\n",
       "    }\n",
       "\n",
       "    /* Handle when an output is cleared or removed */\n",
       "    events.on('clear_output.CodeCell', handleClearOutput);\n",
       "    events.on('delete.Cell', handleClearOutput);\n",
       "\n",
       "    /* Handle when a new output is added */\n",
       "    events.on('output_added.OutputArea', handleAddOutput);\n",
       "\n",
       "    /**\n",
       "     * Register the mime type and append_mime function with output_area\n",
       "     */\n",
       "    OutputArea.prototype.register_mime_type(EXEC_MIME_TYPE, append_mime, {\n",
       "      /* Is output safe? */\n",
       "      safe: true,\n",
       "      /* Index of renderer in `output_area.display_order` */\n",
       "      index: 0\n",
       "    });\n",
       "  }\n",
       "\n",
       "  // register the mime type if in Jupyter Notebook environment and previously unregistered\n",
       "  if (root.Jupyter !== undefined) {\n",
       "    var events = require('base/js/events');\n",
       "    var OutputArea = require('notebook/js/outputarea').OutputArea;\n",
       "\n",
       "    if (OutputArea.prototype.mime_types().indexOf(EXEC_MIME_TYPE) == -1) {\n",
       "      register_renderer(events, OutputArea);\n",
       "    }\n",
       "  }\n",
       "\n",
       "  \n",
       "  if (typeof (root._bokeh_timeout) === \"undefined\" || force === true) {\n",
       "    root._bokeh_timeout = Date.now() + 5000;\n",
       "    root._bokeh_failed_load = false;\n",
       "  }\n",
       "\n",
       "  var NB_LOAD_WARNING = {'data': {'text/html':\n",
       "     \"<div style='background-color: #fdd'>\\n\"+\n",
       "     \"<p>\\n\"+\n",
       "     \"BokehJS does not appear to have successfully loaded. If loading BokehJS from CDN, this \\n\"+\n",
       "     \"may be due to a slow or bad network connection. Possible fixes:\\n\"+\n",
       "     \"</p>\\n\"+\n",
       "     \"<ul>\\n\"+\n",
       "     \"<li>re-rerun `output_notebook()` to attempt to load from CDN again, or</li>\\n\"+\n",
       "     \"<li>use INLINE resources instead, as so:</li>\\n\"+\n",
       "     \"</ul>\\n\"+\n",
       "     \"<code>\\n\"+\n",
       "     \"from bokeh.resources import INLINE\\n\"+\n",
       "     \"output_notebook(resources=INLINE)\\n\"+\n",
       "     \"</code>\\n\"+\n",
       "     \"</div>\"}};\n",
       "\n",
       "  function display_loaded() {\n",
       "    var el = document.getElementById(\"8b3eae36-8862-458a-a4cc-bf52d840c262\");\n",
       "    if (el != null) {\n",
       "      el.textContent = \"BokehJS is loading...\";\n",
       "    }\n",
       "    if (root.Bokeh !== undefined) {\n",
       "      if (el != null) {\n",
       "        el.textContent = \"BokehJS \" + root.Bokeh.version + \" successfully loaded.\";\n",
       "      }\n",
       "    } else if (Date.now() < root._bokeh_timeout) {\n",
       "      setTimeout(display_loaded, 100)\n",
       "    }\n",
       "  }\n",
       "\n",
       "\n",
       "  function run_callbacks() {\n",
       "    try {\n",
       "      root._bokeh_onload_callbacks.forEach(function(callback) { callback() });\n",
       "    }\n",
       "    finally {\n",
       "      delete root._bokeh_onload_callbacks\n",
       "    }\n",
       "    console.info(\"Bokeh: all callbacks have finished\");\n",
       "  }\n",
       "\n",
       "  function load_libs(js_urls, callback) {\n",
       "    root._bokeh_onload_callbacks.push(callback);\n",
       "    if (root._bokeh_is_loading > 0) {\n",
       "      console.log(\"Bokeh: BokehJS is being loaded, scheduling callback at\", now());\n",
       "      return null;\n",
       "    }\n",
       "    if (js_urls == null || js_urls.length === 0) {\n",
       "      run_callbacks();\n",
       "      return null;\n",
       "    }\n",
       "    console.log(\"Bokeh: BokehJS not loaded, scheduling load and callback at\", now());\n",
       "    root._bokeh_is_loading = js_urls.length;\n",
       "    for (var i = 0; i < js_urls.length; i++) {\n",
       "      var url = js_urls[i];\n",
       "      var s = document.createElement('script');\n",
       "      s.src = url;\n",
       "      s.async = false;\n",
       "      s.onreadystatechange = s.onload = function() {\n",
       "        root._bokeh_is_loading--;\n",
       "        if (root._bokeh_is_loading === 0) {\n",
       "          console.log(\"Bokeh: all BokehJS libraries loaded\");\n",
       "          run_callbacks()\n",
       "        }\n",
       "      };\n",
       "      s.onerror = function() {\n",
       "        console.warn(\"failed to load library \" + url);\n",
       "      };\n",
       "      console.log(\"Bokeh: injecting script tag for BokehJS library: \", url);\n",
       "      document.getElementsByTagName(\"head\")[0].appendChild(s);\n",
       "    }\n",
       "  };var element = document.getElementById(\"8b3eae36-8862-458a-a4cc-bf52d840c262\");\n",
       "  if (element == null) {\n",
       "    console.log(\"Bokeh: ERROR: autoload.js configured with elementid '8b3eae36-8862-458a-a4cc-bf52d840c262' but no matching script tag was found. \")\n",
       "    return false;\n",
       "  }\n",
       "\n",
       "  var js_urls = [\"https://cdn.pydata.org/bokeh/release/bokeh-0.12.16.min.js\", \"https://cdn.pydata.org/bokeh/release/bokeh-widgets-0.12.16.min.js\", \"https://cdn.pydata.org/bokeh/release/bokeh-tables-0.12.16.min.js\", \"https://cdn.pydata.org/bokeh/release/bokeh-gl-0.12.16.min.js\"];\n",
       "\n",
       "  var inline_js = [\n",
       "    function(Bokeh) {\n",
       "      Bokeh.set_log_level(\"info\");\n",
       "    },\n",
       "    \n",
       "    function(Bokeh) {\n",
       "      \n",
       "    },\n",
       "    function(Bokeh) {\n",
       "      console.log(\"Bokeh: injecting CSS: https://cdn.pydata.org/bokeh/release/bokeh-0.12.16.min.css\");\n",
       "      Bokeh.embed.inject_css(\"https://cdn.pydata.org/bokeh/release/bokeh-0.12.16.min.css\");\n",
       "      console.log(\"Bokeh: injecting CSS: https://cdn.pydata.org/bokeh/release/bokeh-widgets-0.12.16.min.css\");\n",
       "      Bokeh.embed.inject_css(\"https://cdn.pydata.org/bokeh/release/bokeh-widgets-0.12.16.min.css\");\n",
       "      console.log(\"Bokeh: injecting CSS: https://cdn.pydata.org/bokeh/release/bokeh-tables-0.12.16.min.css\");\n",
       "      Bokeh.embed.inject_css(\"https://cdn.pydata.org/bokeh/release/bokeh-tables-0.12.16.min.css\");\n",
       "    }\n",
       "  ];\n",
       "\n",
       "  function run_inline_js() {\n",
       "    \n",
       "    if ((root.Bokeh !== undefined) || (force === true)) {\n",
       "      for (var i = 0; i < inline_js.length; i++) {\n",
       "        inline_js[i].call(root, root.Bokeh);\n",
       "      }if (force === true) {\n",
       "        display_loaded();\n",
       "      }} else if (Date.now() < root._bokeh_timeout) {\n",
       "      setTimeout(run_inline_js, 100);\n",
       "    } else if (!root._bokeh_failed_load) {\n",
       "      console.log(\"Bokeh: BokehJS failed to load within specified timeout.\");\n",
       "      root._bokeh_failed_load = true;\n",
       "    } else if (force !== true) {\n",
       "      var cell = $(document.getElementById(\"8b3eae36-8862-458a-a4cc-bf52d840c262\")).parents('.cell').data().cell;\n",
       "      cell.output_area.append_execute_result(NB_LOAD_WARNING)\n",
       "    }\n",
       "\n",
       "  }\n",
       "\n",
       "  if (root._bokeh_is_loading === 0) {\n",
       "    console.log(\"Bokeh: BokehJS loaded, going straight to plotting\");\n",
       "    run_inline_js();\n",
       "  } else {\n",
       "    load_libs(js_urls, function() {\n",
       "      console.log(\"Bokeh: BokehJS plotting callback run at\", now());\n",
       "      run_inline_js();\n",
       "    });\n",
       "  }\n",
       "}(window));"
      ],
      "application/vnd.bokehjs_load.v0+json": "\n(function(root) {\n  function now() {\n    return new Date();\n  }\n\n  var force = true;\n\n  if (typeof (root._bokeh_onload_callbacks) === \"undefined\" || force === true) {\n    root._bokeh_onload_callbacks = [];\n    root._bokeh_is_loading = undefined;\n  }\n\n  \n\n  \n  if (typeof (root._bokeh_timeout) === \"undefined\" || force === true) {\n    root._bokeh_timeout = Date.now() + 5000;\n    root._bokeh_failed_load = false;\n  }\n\n  var NB_LOAD_WARNING = {'data': {'text/html':\n     \"<div style='background-color: #fdd'>\\n\"+\n     \"<p>\\n\"+\n     \"BokehJS does not appear to have successfully loaded. If loading BokehJS from CDN, this \\n\"+\n     \"may be due to a slow or bad network connection. Possible fixes:\\n\"+\n     \"</p>\\n\"+\n     \"<ul>\\n\"+\n     \"<li>re-rerun `output_notebook()` to attempt to load from CDN again, or</li>\\n\"+\n     \"<li>use INLINE resources instead, as so:</li>\\n\"+\n     \"</ul>\\n\"+\n     \"<code>\\n\"+\n     \"from bokeh.resources import INLINE\\n\"+\n     \"output_notebook(resources=INLINE)\\n\"+\n     \"</code>\\n\"+\n     \"</div>\"}};\n\n  function display_loaded() {\n    var el = document.getElementById(\"8b3eae36-8862-458a-a4cc-bf52d840c262\");\n    if (el != null) {\n      el.textContent = \"BokehJS is loading...\";\n    }\n    if (root.Bokeh !== undefined) {\n      if (el != null) {\n        el.textContent = \"BokehJS \" + root.Bokeh.version + \" successfully loaded.\";\n      }\n    } else if (Date.now() < root._bokeh_timeout) {\n      setTimeout(display_loaded, 100)\n    }\n  }\n\n\n  function run_callbacks() {\n    try {\n      root._bokeh_onload_callbacks.forEach(function(callback) { callback() });\n    }\n    finally {\n      delete root._bokeh_onload_callbacks\n    }\n    console.info(\"Bokeh: all callbacks have finished\");\n  }\n\n  function load_libs(js_urls, callback) {\n    root._bokeh_onload_callbacks.push(callback);\n    if (root._bokeh_is_loading > 0) {\n      console.log(\"Bokeh: BokehJS is being loaded, scheduling callback at\", now());\n      return null;\n    }\n    if (js_urls == null || js_urls.length === 0) {\n      run_callbacks();\n      return null;\n    }\n    console.log(\"Bokeh: BokehJS not loaded, scheduling load and callback at\", now());\n    root._bokeh_is_loading = js_urls.length;\n    for (var i = 0; i < js_urls.length; i++) {\n      var url = js_urls[i];\n      var s = document.createElement('script');\n      s.src = url;\n      s.async = false;\n      s.onreadystatechange = s.onload = function() {\n        root._bokeh_is_loading--;\n        if (root._bokeh_is_loading === 0) {\n          console.log(\"Bokeh: all BokehJS libraries loaded\");\n          run_callbacks()\n        }\n      };\n      s.onerror = function() {\n        console.warn(\"failed to load library \" + url);\n      };\n      console.log(\"Bokeh: injecting script tag for BokehJS library: \", url);\n      document.getElementsByTagName(\"head\")[0].appendChild(s);\n    }\n  };var element = document.getElementById(\"8b3eae36-8862-458a-a4cc-bf52d840c262\");\n  if (element == null) {\n    console.log(\"Bokeh: ERROR: autoload.js configured with elementid '8b3eae36-8862-458a-a4cc-bf52d840c262' but no matching script tag was found. \")\n    return false;\n  }\n\n  var js_urls = [\"https://cdn.pydata.org/bokeh/release/bokeh-0.12.16.min.js\", \"https://cdn.pydata.org/bokeh/release/bokeh-widgets-0.12.16.min.js\", \"https://cdn.pydata.org/bokeh/release/bokeh-tables-0.12.16.min.js\", \"https://cdn.pydata.org/bokeh/release/bokeh-gl-0.12.16.min.js\"];\n\n  var inline_js = [\n    function(Bokeh) {\n      Bokeh.set_log_level(\"info\");\n    },\n    \n    function(Bokeh) {\n      \n    },\n    function(Bokeh) {\n      console.log(\"Bokeh: injecting CSS: https://cdn.pydata.org/bokeh/release/bokeh-0.12.16.min.css\");\n      Bokeh.embed.inject_css(\"https://cdn.pydata.org/bokeh/release/bokeh-0.12.16.min.css\");\n      console.log(\"Bokeh: injecting CSS: https://cdn.pydata.org/bokeh/release/bokeh-widgets-0.12.16.min.css\");\n      Bokeh.embed.inject_css(\"https://cdn.pydata.org/bokeh/release/bokeh-widgets-0.12.16.min.css\");\n      console.log(\"Bokeh: injecting CSS: https://cdn.pydata.org/bokeh/release/bokeh-tables-0.12.16.min.css\");\n      Bokeh.embed.inject_css(\"https://cdn.pydata.org/bokeh/release/bokeh-tables-0.12.16.min.css\");\n    }\n  ];\n\n  function run_inline_js() {\n    \n    if ((root.Bokeh !== undefined) || (force === true)) {\n      for (var i = 0; i < inline_js.length; i++) {\n        inline_js[i].call(root, root.Bokeh);\n      }if (force === true) {\n        display_loaded();\n      }} else if (Date.now() < root._bokeh_timeout) {\n      setTimeout(run_inline_js, 100);\n    } else if (!root._bokeh_failed_load) {\n      console.log(\"Bokeh: BokehJS failed to load within specified timeout.\");\n      root._bokeh_failed_load = true;\n    } else if (force !== true) {\n      var cell = $(document.getElementById(\"8b3eae36-8862-458a-a4cc-bf52d840c262\")).parents('.cell').data().cell;\n      cell.output_area.append_execute_result(NB_LOAD_WARNING)\n    }\n\n  }\n\n  if (root._bokeh_is_loading === 0) {\n    console.log(\"Bokeh: BokehJS loaded, going straight to plotting\");\n    run_inline_js();\n  } else {\n    load_libs(js_urls, function() {\n      console.log(\"Bokeh: BokehJS plotting callback run at\", now());\n      run_inline_js();\n    });\n  }\n}(window));"
     },
     "metadata": {
      "tags": []
     },
     "output_type": "display_data"
    },
    {
     "name": "stderr",
     "output_type": "stream",
     "text": [
      "/usr/local/lib/python3.6/dist-packages/ipykernel_launcher.py:10: DeprecationWarning: Call to deprecated `__getitem__` (Method will be removed in 4.0.0, use self.wv.__getitem__() instead).\n",
      "  # Remove the CWD from sys.path while we load stuff.\n"
     ]
    },
    {
     "name": "stdout",
     "output_type": "stream",
     "text": [
      "[t-SNE] Computing 44 nearest neighbors...\n",
      "[t-SNE] Indexed 45 samples in 0.000s...\n",
      "[t-SNE] Computed neighbors for 45 samples in 0.001s...\n",
      "[t-SNE] Computed conditional probabilities for sample 45 / 45\n",
      "[t-SNE] Mean sigma: 0.002646\n",
      "[t-SNE] KL divergence after 250 iterations with early exaggeration: 53.117191\n",
      "[t-SNE] Error after 1000 iterations: 0.570402\n"
     ]
    },
    {
     "data": {
      "text/html": [
       "\n",
       "<div class=\"bk-root\">\n",
       "    <div class=\"bk-plotdiv\" id=\"bd153e3c-a03d-4791-8659-9a8cb6144220\"></div>\n",
       "</div>"
      ]
     },
     "metadata": {
      "tags": []
     },
     "output_type": "display_data"
    },
    {
     "data": {
      "application/javascript": [
       "(function(root) {\n",
       "  function embed_document(root) {\n",
       "    \n",
       "  var docs_json = {\"92bcb546-969e-40e8-a4a9-ff0e4997678a\":{\"roots\":{\"references\":[{\"attributes\":{\"overlay\":{\"id\":\"3dddb1ce-2a9d-485e-8424-58b6d1c8175b\",\"type\":\"BoxAnnotation\"}},\"id\":\"e7856ddd-c8cb-4922-9fd2-bafdb722af2b\",\"type\":\"BoxZoomTool\"},{\"attributes\":{\"active_drag\":\"auto\",\"active_inspect\":\"auto\",\"active_scroll\":\"auto\",\"active_tap\":\"auto\",\"tools\":[{\"id\":\"7e8f580e-923a-4fb5-b1b3-098e33088180\",\"type\":\"PanTool\"},{\"id\":\"b6edaf17-ecf2-4af9-aaa6-be0812af9b0a\",\"type\":\"WheelZoomTool\"},{\"id\":\"e7856ddd-c8cb-4922-9fd2-bafdb722af2b\",\"type\":\"BoxZoomTool\"},{\"id\":\"29560701-c54f-4280-b67e-74d2981ae621\",\"type\":\"ResetTool\"},{\"id\":\"3d156037-01f4-4a12-a0e9-b295a696a49c\",\"type\":\"HoverTool\"},{\"id\":\"05d35834-32c4-4a01-bb70-75c2ccbb4d75\",\"type\":\"SaveTool\"}]},\"id\":\"e4f2a45b-bbc4-4afb-a2e3-bebdf0cd6317\",\"type\":\"Toolbar\"},{\"attributes\":{\"callback\":null,\"renderers\":\"auto\",\"tooltips\":[[\"word\",\"@words\"]]},\"id\":\"3d156037-01f4-4a12-a0e9-b295a696a49c\",\"type\":\"HoverTool\"},{\"attributes\":{},\"id\":\"3ae4a6bb-37f7-4bd5-a5ae-9d1d022991fa\",\"type\":\"LinearScale\"},{\"attributes\":{\"bottom_units\":\"screen\",\"fill_alpha\":{\"value\":0.5},\"fill_color\":{\"value\":\"lightgrey\"},\"left_units\":\"screen\",\"level\":\"overlay\",\"line_alpha\":{\"value\":1.0},\"line_color\":{\"value\":\"black\"},\"line_dash\":[4,4],\"line_width\":{\"value\":2},\"plot\":null,\"render_mode\":\"css\",\"right_units\":\"screen\",\"top_units\":\"screen\"},\"id\":\"3dddb1ce-2a9d-485e-8424-58b6d1c8175b\",\"type\":\"BoxAnnotation\"},{\"attributes\":{\"fill_alpha\":{\"value\":0.1},\"fill_color\":{\"value\":\"#1f77b4\"},\"line_alpha\":{\"value\":0.1},\"line_color\":{\"value\":\"#1f77b4\"},\"x\":{\"field\":\"x\"},\"y\":{\"field\":\"y\"}},\"id\":\"0148c5ec-f271-437b-8581-4f78186cc841\",\"type\":\"Circle\"},{\"attributes\":{\"source\":{\"id\":\"ab81e41a-87be-407e-b1b6-1548b21c2009\",\"type\":\"ColumnDataSource\"}},\"id\":\"c74c24a6-ad8d-4047-8b7e-a3da0732242a\",\"type\":\"CDSView\"},{\"attributes\":{},\"id\":\"b6edaf17-ecf2-4af9-aaa6-be0812af9b0a\",\"type\":\"WheelZoomTool\"},{\"attributes\":{},\"id\":\"29560701-c54f-4280-b67e-74d2981ae621\",\"type\":\"ResetTool\"},{\"attributes\":{\"callback\":null},\"id\":\"9ac05408-0f59-4090-b073-5a4b3bf0b56d\",\"type\":\"DataRange1d\"},{\"attributes\":{\"callback\":null,\"data\":{\"index\":[0,1,2,3,4,5,6,7,8,9,10,11,12,13,14,15,16,17,18,19,20,21,22,23,24,25,26,27,28,29,30,31,32,33,34,35,36,37,38,39,40,41,42,43,44],\"words\":[\"marico\",\"odio\",\"bien\",\"gente\",\"gusta\",\"chocolate\",\"mal\",\"vida\",\"siempre\",\"cada\",\"dia\",\"hambre\",\"hoy\",\"diario\",\"pasado\",\"tiempo\",\"alguien\",\"todas\",\"tan\",\"gracias\",\"oportunidad\",\"mejor\",\"siento\",\"si\",\"dios\",\"puedes\",\"personas\",\"peor\",\"molesta\",\"feliz\",\"hacerlo\",\"felicidad\",\"clases\",\"nunca\",\"tristeza\",\"mucha\",\"hacer\",\"amor\",\"pais\",\"dando\",\"pasa\",\"saldra\",\"sentimiento\",\"ser\",\"tarde\"],\"x\":{\"__ndarray__\":\"KuoEwDcGu8EBGZVBE8MAwtN9rsEGrDvBppg2weYo6LwskCJC1IkYQUiNCkH//irByt3rvnhdHsGf2S9C3adgQnrj90E1z7XB72h7wfm/KkJFZZhBU2qoQefmsEFkGClB46QAQo7vGML+zJ4/cSRZwQHDLcFP5TbCNeVQQgJTyECC0wdC+zepwStl70HAd8a/6z4PQpsd9cHbuNG/2xPfwVDuOkEihyJBwmXLQXGCK0EMw3NB\",\"dtype\":\"float32\",\"shape\":[45]},\"y\":{\"__ndarray__\":\"8IZiwclh4kEbUgtBKi/dPzipjcApfKfB2cCDQXEREEJLnltBmjMVwrnfzEHpbsrAYDyawP3BlkCYjoa/LrDXQCVyCkIVdX/BKHEYQuA88EGQ5LRB4GSjwVahxcCi9k9BNPbAQNJoQ8HzYcxAGGYSwmuizUHAp1hBUfSKwaEXT0KCdyDB7GX6QIG6mUE6KZBB+9K/wb2hg0GVb9HBN+XPwcSqTr7u+SzBxtgKwrm6vMGAHxFC\",\"dtype\":\"float32\",\"shape\":[45]}},\"selected\":{\"id\":\"1137b2d5-76d5-463f-8e5a-784bed2980b3\",\"type\":\"Selection\"},\"selection_policy\":{\"id\":\"3a9a854c-fd6e-40c3-b587-4a8049dd1bac\",\"type\":\"UnionRenderers\"}},\"id\":\"ab81e41a-87be-407e-b1b6-1548b21c2009\",\"type\":\"ColumnDataSource\"},{\"attributes\":{},\"id\":\"05d35834-32c4-4a01-bb70-75c2ccbb4d75\",\"type\":\"SaveTool\"},{\"attributes\":{},\"id\":\"1137b2d5-76d5-463f-8e5a-784bed2980b3\",\"type\":\"Selection\"},{\"attributes\":{\"fill_color\":{\"value\":\"#1f77b4\"},\"line_color\":{\"value\":\"#1f77b4\"},\"x\":{\"field\":\"x\"},\"y\":{\"field\":\"y\"}},\"id\":\"925009b4-3b98-400e-92d4-a052eb7aad98\",\"type\":\"Circle\"},{\"attributes\":{\"plot\":null,\"text\":\"Map of word vectors\"},\"id\":\"885a3b1b-f897-45a7-9beb-086cbc5a1f8e\",\"type\":\"Title\"},{\"attributes\":{},\"id\":\"7e8f580e-923a-4fb5-b1b3-098e33088180\",\"type\":\"PanTool\"},{\"attributes\":{},\"id\":\"bab4a8df-0ded-4650-8d53-16de6a21104e\",\"type\":\"LinearScale\"},{\"attributes\":{\"data_source\":{\"id\":\"ab81e41a-87be-407e-b1b6-1548b21c2009\",\"type\":\"ColumnDataSource\"},\"glyph\":{\"id\":\"925009b4-3b98-400e-92d4-a052eb7aad98\",\"type\":\"Circle\"},\"hover_glyph\":null,\"muted_glyph\":null,\"nonselection_glyph\":{\"id\":\"0148c5ec-f271-437b-8581-4f78186cc841\",\"type\":\"Circle\"},\"selection_glyph\":null,\"view\":{\"id\":\"c74c24a6-ad8d-4047-8b7e-a3da0732242a\",\"type\":\"CDSView\"}},\"id\":\"366b237a-26ac-43cf-b939-ef1e1e0268ca\",\"type\":\"GlyphRenderer\"},{\"attributes\":{},\"id\":\"3a9a854c-fd6e-40c3-b587-4a8049dd1bac\",\"type\":\"UnionRenderers\"},{\"attributes\":{\"callback\":null},\"id\":\"56915c6b-4e1d-47f7-9b4a-2eb02b637dc1\",\"type\":\"DataRange1d\"},{\"attributes\":{\"min_border\":1,\"plot_width\":700,\"renderers\":[{\"id\":\"3dddb1ce-2a9d-485e-8424-58b6d1c8175b\",\"type\":\"BoxAnnotation\"},{\"id\":\"366b237a-26ac-43cf-b939-ef1e1e0268ca\",\"type\":\"GlyphRenderer\"}],\"title\":{\"id\":\"885a3b1b-f897-45a7-9beb-086cbc5a1f8e\",\"type\":\"Title\"},\"toolbar\":{\"id\":\"e4f2a45b-bbc4-4afb-a2e3-bebdf0cd6317\",\"type\":\"Toolbar\"},\"x_range\":{\"id\":\"9ac05408-0f59-4090-b073-5a4b3bf0b56d\",\"type\":\"DataRange1d\"},\"x_scale\":{\"id\":\"3ae4a6bb-37f7-4bd5-a5ae-9d1d022991fa\",\"type\":\"LinearScale\"},\"y_range\":{\"id\":\"56915c6b-4e1d-47f7-9b4a-2eb02b637dc1\",\"type\":\"DataRange1d\"},\"y_scale\":{\"id\":\"bab4a8df-0ded-4650-8d53-16de6a21104e\",\"type\":\"LinearScale\"}},\"id\":\"abeae8cd-77d8-4b4d-9601-ae7d596827d6\",\"subtype\":\"Figure\",\"type\":\"Plot\"}],\"root_ids\":[\"abeae8cd-77d8-4b4d-9601-ae7d596827d6\"]},\"title\":\"Bokeh Application\",\"version\":\"0.12.16\"}};\n",
       "  var render_items = [{\"docid\":\"92bcb546-969e-40e8-a4a9-ff0e4997678a\",\"elementid\":\"bd153e3c-a03d-4791-8659-9a8cb6144220\",\"modelid\":\"abeae8cd-77d8-4b4d-9601-ae7d596827d6\"}];\n",
       "  root.Bokeh.embed.embed_items_notebook(docs_json, render_items);\n",
       "\n",
       "  }\n",
       "  if (root.Bokeh !== undefined) {\n",
       "    embed_document(root);\n",
       "  } else {\n",
       "    var attempts = 0;\n",
       "    var timer = setInterval(function(root) {\n",
       "      if (root.Bokeh !== undefined) {\n",
       "        embed_document(root);\n",
       "        clearInterval(timer);\n",
       "      }\n",
       "      attempts++;\n",
       "      if (attempts > 100) {\n",
       "        console.log(\"Bokeh: ERROR: Unable to run BokehJS code because BokehJS library is missing\")\n",
       "        clearInterval(timer);\n",
       "      }\n",
       "    }, 10, root)\n",
       "  }\n",
       "})(window);"
      ],
      "application/vnd.bokehjs_exec.v0+json": ""
     },
     "metadata": {
      "application/vnd.bokehjs_exec.v0+json": {
       "id": "abeae8cd-77d8-4b4d-9601-ae7d596827d6"
      },
      "tags": []
     },
     "output_type": "display_data"
    }
   ],
   "source": [
    "# defining the chart\n",
    "output_notebook()\n",
    "plot_tfidf = bp.figure(plot_width = 700, plot_height = 600,\n",
    "                       title = 'Map of word vectors',\n",
    "                       tools = 'pan, wheel_zoom, box_zoom, reset, hover, '\n",
    "                               'previewsave',\n",
    "                       x_axis_type = None, y_axis_type = None, min_border = 1)\n",
    "\n",
    "# getting a list of word vectors. limit to 10000. each is of 200 dimensions\n",
    "vocabulary = list(wordsModel.wv.vocab.keys())[:10000]\n",
    "word_vectors = [wordsModel[w] for w in vocabulary]\n",
    "\n",
    "# dimensionality reduction. converting the vectors to 2d vectors\n",
    "\n",
    "tsne_model = TSNE(n_components = 2, verbose = 1, random_state = 0)\n",
    "tsne_w2v = tsne_model.fit_transform(word_vectors)\n",
    "\n",
    "# putting everything in a dataframe\n",
    "tsne_df = pd.DataFrame(tsne_w2v, columns = ['x', 'y'])\n",
    "tsne_df['words'] = vocabulary\n",
    "\n",
    "# plotting. the corresponding word appears when you hover on the data point.\n",
    "plot_tfidf.scatter(x = 'x', y = 'y', source = tsne_df)\n",
    "hover = plot_tfidf.select(dict(type = HoverTool))\n",
    "hover.tooltips = {\"word\": \"@words\"}\n",
    "show(plot_tfidf)"
   ]
  },
  {
   "cell_type": "markdown",
   "metadata": {
    "colab_type": "text",
    "id": "4OhDOm2UJgrK"
   },
   "source": [
    "Se observa, de esta manera, las aglomeración de palabras similares en la nube obtenida. Sin embargo, como ya se dijo, se necesita un vocabulario más grande y oraciones más largas.\n",
    "\n",
    "## Representación vectorial de oraciones\n",
    "---\n",
    "\n",
    "Es hora entonces de obtener la representación vectorial de las oraciones, lo cual termina de preparar la data para ser alimentada al clasificador a utilizar. Como se dijo anteriormente, se utilizará un promedio ponderado de los vectores de cada palabra en la oración. El peso en cuestión será obtenido utilizando la métrica [Tf-idf](https://es.wikipedia.org/wiki/Tf-idf), lo cual, a grandes rasgos, representa la importancia de una palabra en la oración.\n",
    "\n",
    "### Creación de la matriz de pesos Tf-idf\n",
    "\n",
    "Esto será llevado a cabo con el módulo `TfidfVectorizer` de **sklearn**:"
   ]
  },
  {
   "cell_type": "code",
   "execution_count": 54,
   "metadata": {
    "colab": {
     "autoexec": {
      "startup": false,
      "wait_interval": 0
     },
     "base_uri": "https://localhost:8080/",
     "height": 68
    },
    "colab_type": "code",
    "executionInfo": {
     "elapsed": 1449,
     "status": "ok",
     "timestamp": 1526917141680,
     "user": {
      "displayName": "Jhonathan Abreu",
      "photoUrl": "//lh4.googleusercontent.com/-4bMUXodd-B0/AAAAAAAAAAI/AAAAAAAAAlY/Lc07exuN7Aw/s50-c-k-no/photo.jpg",
      "userId": "117165292541590122752"
     },
     "user_tz": 240
    },
    "id": "v7fl8uLRzZXQ",
    "outputId": "116160de-7f2b-4fce-b548-b62d32a9af4f"
   },
   "outputs": [
    {
     "name": "stderr",
     "output_type": "stream",
     "text": [
      "100%|██████████| 175/175 [00:00<00:00, 644427.74it/s]"
     ]
    },
    {
     "name": "stdout",
     "output_type": "stream",
     "text": [
      "building tf-idf matrix ...\n",
      "vocab size : 518\n"
     ]
    },
    {
     "name": "stderr",
     "output_type": "stream",
     "text": [
      "\n"
     ]
    }
   ],
   "source": [
    "print('building tf-idf matrix ...')\n",
    "vectorizer = TfidfVectorizer(analyzer = lambda x: x)\n",
    "matrix = vectorizer.fit_transform([sentence\n",
    "                                   for sentence in tqdm(trainSentences)])\n",
    "tfidf = dict(zip(vectorizer.get_feature_names(), vectorizer.idf_))\n",
    "print('vocab size :', len(tfidf))"
   ]
  },
  {
   "cell_type": "markdown",
   "metadata": {
    "colab_type": "text",
    "id": "kCRqXBiELXm7"
   },
   "source": [
    "### Conversión oración a vector\n",
    "\n",
    "La siguiente función, `buildWordVector`, calcula el promedio ponderado de los vectores de las palabras de la oración y construye el vector representativo de la oración.\n",
    "\n",
    "> **Nota:** es importante notar que no se está manejando el caso de que una palabra de la oración no esté en el vocabulario del modelo Word2Vec, lo cual debe ser estudiado para su manejo.\n",
    "\n"
   ]
  },
  {
   "cell_type": "code",
   "execution_count": null,
   "metadata": {
    "colab": {
     "autoexec": {
      "startup": false,
      "wait_interval": 0
     }
    },
    "colab_type": "code",
    "id": "3V-rQCWEzvTN"
   },
   "outputs": [],
   "source": [
    "def buildSentenceVector(tokens, size):\n",
    "    vec = np.zeros(size).reshape((1, size))\n",
    "    count = 0.\n",
    "    for word in tokens:\n",
    "        try:\n",
    "            vec += wordsModel[word].reshape((1, size)) * tfidf[word]\n",
    "            count += 1.\n",
    "        except KeyError: # handling the case where the token is not\n",
    "                         # in the corpus. useful for testing.\n",
    "            continue\n",
    "    if count != 0:\n",
    "        vec /= count\n",
    "    return vec"
   ]
  },
  {
   "cell_type": "markdown",
   "metadata": {
    "colab_type": "text",
    "id": "vRwrX5PpL5sM"
   },
   "source": [
    "Se finaliza, entonces, con la conversión de oración a vectores de todas las oraciones de los corpus de entrenamiento y prueba:"
   ]
  },
  {
   "cell_type": "code",
   "execution_count": 56,
   "metadata": {
    "colab": {
     "autoexec": {
      "startup": false,
      "wait_interval": 0
     },
     "base_uri": "https://localhost:8080/",
     "height": 105
    },
    "colab_type": "code",
    "executionInfo": {
     "elapsed": 963,
     "status": "ok",
     "timestamp": 1526917145242,
     "user": {
      "displayName": "Jhonathan Abreu",
      "photoUrl": "//lh4.googleusercontent.com/-4bMUXodd-B0/AAAAAAAAAAI/AAAAAAAAAlY/Lc07exuN7Aw/s50-c-k-no/photo.jpg",
      "userId": "117165292541590122752"
     },
     "user_tz": 240
    },
    "id": "rUiTkY1x0WPC",
    "outputId": "3d913378-1aec-4d85-c0bc-634e194ac058"
   },
   "outputs": [
    {
     "name": "stderr",
     "output_type": "stream",
     "text": [
      "  0%|          | 0/175 [00:00<?, ?it/s]/usr/local/lib/python3.6/dist-packages/ipykernel_launcher.py:6: DeprecationWarning: Call to deprecated `__getitem__` (Method will be removed in 4.0.0, use self.wv.__getitem__() instead).\n",
      "  \n",
      "100%|██████████| 175/175 [00:00<00:00, 11896.52it/s]\n",
      "100%|██████████| 44/44 [00:00<00:00, 11996.19it/s]\n"
     ]
    }
   ],
   "source": [
    "trainSentencesVectors = np.concatenate([buildSentenceVector(w, vectorDimension)\n",
    "                                        for w in tqdm(trainSentences)])\n",
    "trainSentencesVectors = scale(trainSentencesVectors)\n",
    "\n",
    "testSentencesVectors = np.concatenate([buildSentenceVector(w, vectorDimension)\n",
    "                                       for w in tqdm(testSentences)])\n",
    "testSentencesVectors = scale(testSentencesVectors)"
   ]
  },
  {
   "cell_type": "markdown",
   "metadata": {
    "colab_type": "text",
    "id": "aKdEy-QLMOFE"
   },
   "source": [
    "Una pequeña y muy simple validación: el tamaño de la lista de oraciones de cada corpus debe ser igual al tamaño de su correspondiente lista de vectores:"
   ]
  },
  {
   "cell_type": "code",
   "execution_count": 57,
   "metadata": {
    "colab": {
     "autoexec": {
      "startup": false,
      "wait_interval": 0
     },
     "base_uri": "https://localhost:8080/",
     "height": 85
    },
    "colab_type": "code",
    "executionInfo": {
     "elapsed": 889,
     "status": "ok",
     "timestamp": 1526917146891,
     "user": {
      "displayName": "Jhonathan Abreu",
      "photoUrl": "//lh4.googleusercontent.com/-4bMUXodd-B0/AAAAAAAAAAI/AAAAAAAAAlY/Lc07exuN7Aw/s50-c-k-no/photo.jpg",
      "userId": "117165292541590122752"
     },
     "user_tz": 240
    },
    "id": "NGjuknTk1-nq",
    "outputId": "6c59dc13-6f3e-4750-adee-c9f0eda103e8"
   },
   "outputs": [
    {
     "name": "stdout",
     "output_type": "stream",
     "text": [
      "Longitud de la lista de oraciones de entrenamiento: 175\n",
      "Longitud de la lista de vectores de entrenamiento: 175\n",
      "Longitud de la lista de oraciones de prueba: 44\n",
      "Longitud de la lista de vectores de prueba: 44\n"
     ]
    }
   ],
   "source": [
    "print('Longitud de la lista de oraciones de entrenamiento:',\n",
    "      len(trainSentences))\n",
    "print('Longitud de la lista de vectores de entrenamiento:',\n",
    "      len(trainSentencesVectors))\n",
    "print('Longitud de la lista de oraciones de prueba:',\n",
    "      len(testSentences))\n",
    "print('Longitud de la lista de vectores de prueba:',\n",
    "      len(testSentencesVectors))"
   ]
  },
  {
   "cell_type": "markdown",
   "metadata": {
    "colab_type": "text",
    "id": "zBl1-JOyRUYs"
   },
   "source": [
    "## Trabajo por realizar\n",
    "---\n",
    "\n",
    "*   Es necesario estudiar las formas de **validación** de este tipo de modelos pues, al final del día, es un método de aprendizaje automático no supervisado y debe ser validado y potencialmente **optimizado**.\n",
    "*   Se deben estudiar y resolver aspectos importantes, como el manejo de oraciones con palabras que no existan en el vocabulario de entrenamiento.\n",
    "\n",
    "\n",
    "\n"
   ]
  },
  {
   "cell_type": "markdown",
   "metadata": {
    "colab_type": "text",
    "id": "B2a0J8dvnr3i"
   },
   "source": [
    "## Selección de los mejores parámetros para la SVM\n",
    "---"
   ]
  },
  {
   "cell_type": "code",
   "execution_count": null,
   "metadata": {
    "colab": {
     "autoexec": {
      "startup": false,
      "wait_interval": 0
     }
    },
    "colab_type": "code",
    "id": "xDUMkDJSROOg"
   },
   "outputs": [],
   "source": [
    "def compareSVMClassifiers(classifiers, xTrain, yTrain, xTest, yTest,\n",
    "                          verbose = True):\n",
    "    nClassifiers = len(classifiers.keys())\n",
    "    culumnNames = ['Clasificador', 'Exactitud Entrenamiento',\n",
    "                   'Exactitud Prueba', 'Tiempo Entrenamiento']\n",
    "    results = pd.DataFrame(data = np.zeros(shape = (nClassifiers, 4)),\n",
    "                           columns = culumnNames)\n",
    "    counter = 0\n",
    "    for key, classifier in classifiers.items():\n",
    "        tic = time.clock()\n",
    "        classifier.fit(xTrain, yTrain)\n",
    "        toc = time.clock()\n",
    "        elapsedTime = toc - tic\n",
    "        trainAccuracy = classifier.score(xTrain, yTrain)\n",
    "        testAccuracy = classifier.score(xTest, yTest)\n",
    "        results.loc[counter, 'Clasificador'] = key\n",
    "        results.loc[counter, 'Exactitud Entrenamiento'] = trainAccuracy\n",
    "        results.loc[counter, 'Exactitud Prueba'] = testAccuracy\n",
    "        results.loc[counter, 'Tiempo Entrenamiento'] = elapsedTime\n",
    "        if verbose:\n",
    "            print(\"{c} entrenado en {f:.2f} s\".format(c = key, f = elapsedTime))\n",
    "        counter += 1\n",
    "        \n",
    "    return results"
   ]
  },
  {
   "cell_type": "code",
   "execution_count": 59,
   "metadata": {
    "colab": {
     "autoexec": {
      "startup": false,
      "wait_interval": 0
     },
     "base_uri": "https://localhost:8080/",
     "height": 1020
    },
    "colab_type": "code",
    "executionInfo": {
     "elapsed": 22411,
     "status": "ok",
     "timestamp": 1526917173671,
     "user": {
      "displayName": "Jhonathan Abreu",
      "photoUrl": "//lh4.googleusercontent.com/-4bMUXodd-B0/AAAAAAAAAAI/AAAAAAAAAlY/Lc07exuN7Aw/s50-c-k-no/photo.jpg",
      "userId": "117165292541590122752"
     },
     "user_tz": 240
    },
    "id": "XGK6T7ZIjB50",
    "outputId": "8843df9b-029e-4ee3-825d-f53b27def961"
   },
   "outputs": [
    {
     "name": "stdout",
     "output_type": "stream",
     "text": [
      "Fitting 5 folds for each of 5 candidates, totalling 25 fits\n",
      "[CV] C=0.1, kernel=linear ............................................\n",
      "[CV] C=0.01, kernel=linear ...........................................\n",
      "[CV] C=0.01, kernel=linear ...........................................\n",
      "[CV] C=0.01, kernel=linear ...........................................\n",
      "[CV] C=0.01, kernel=linear ...........................................\n",
      "[CV] C=0.1, kernel=linear ............................................\n",
      "[CV] C=0.1, kernel=linear ............................................\n",
      "[CV] C=0.01, kernel=linear ...........................................\n",
      "[CV] .. C=0.01, kernel=linear, score=0.4857142857142857, total=   0.1s\n",
      "[CV] ... C=0.1, kernel=linear, score=0.5277777777777778, total=   0.2s\n",
      "[CV] .. C=0.01, kernel=linear, score=0.5714285714285714, total=   0.2s\n",
      "[CV] C=0.1, kernel=linear ............................................\n",
      "[CV] C=1, kernel=linear ..............................................\n",
      "[CV] C=0.1, kernel=linear ............................................\n",
      "[CV] .. C=0.01, kernel=linear, score=0.5294117647058824, total=   0.1s\n",
      "[CV] .. C=0.01, kernel=linear, score=0.5277777777777778, total=   0.1s\n",
      "[CV] .. C=0.01, kernel=linear, score=0.6285714285714286, total=   0.1s\n",
      "[CV] .................. C=0.1, kernel=linear, score=0.6, total=   0.1s\n",
      "[CV] C=1, kernel=linear ..............................................\n",
      "[CV] C=1, kernel=linear ..............................................\n",
      "[CV] ... C=0.1, kernel=linear, score=0.5142857142857142, total=   0.1s\n",
      "[CV] C=1, kernel=linear ..............................................\n",
      "[CV] C=10, kernel=linear .............................................\n",
      "[CV] C=1, kernel=linear ..............................................\n",
      "[CV] .... C=1, kernel=linear, score=0.47058823529411764, total=   0.1s\n"
     ]
    },
    {
     "name": "stderr",
     "output_type": "stream",
     "text": [
      "[Parallel(n_jobs=8)]: Done   2 tasks      | elapsed:    0.3s\n",
      "[Parallel(n_jobs=8)]: Done   9 tasks      | elapsed:    0.5s\n"
     ]
    },
    {
     "name": "stdout",
     "output_type": "stream",
     "text": [
      "[CV] C=10, kernel=linear .............................................\n",
      "[CV] .................. C=0.1, kernel=linear, score=0.5, total=   0.2s\n",
      "[CV] ... C=0.1, kernel=linear, score=0.5142857142857142, total=   0.2s\n",
      "[CV] ..... C=1, kernel=linear, score=0.5428571428571428, total=   0.2s\n",
      "[CV] C=10, kernel=linear .............................................\n",
      "[CV] ..... C=1, kernel=linear, score=0.5277777777777778, total=   0.2s\n",
      "[CV] C=10, kernel=linear .............................................\n",
      "[CV] C=100, kernel=linear ............................................\n",
      "[CV] C=10, kernel=linear .............................................\n",
      "[CV] ..... C=1, kernel=linear, score=0.4857142857142857, total=   0.2s\n",
      "[CV] .... C=10, kernel=linear, score=0.5277777777777778, total=   0.2s\n",
      "[CV] ..... C=1, kernel=linear, score=0.5714285714285714, total=   0.2s\n",
      "[CV] C=100, kernel=linear ............................................\n",
      "[CV] C=100, kernel=linear ............................................\n",
      "[CV] C=100, kernel=linear ............................................\n",
      "[CV] .... C=10, kernel=linear, score=0.4857142857142857, total=   0.1s\n",
      "[CV] C=100, kernel=linear ............................................\n"
     ]
    },
    {
     "name": "stderr",
     "output_type": "stream",
     "text": [
      "[Parallel(n_jobs=8)]: Done  13 out of  25 | elapsed:    0.6s remaining:    0.5s\n",
      "[Parallel(n_jobs=8)]: Done  16 out of  25 | elapsed:    0.6s remaining:    0.4s\n"
     ]
    },
    {
     "name": "stdout",
     "output_type": "stream",
     "text": [
      "[CV] .... C=10, kernel=linear, score=0.5428571428571428, total=   0.2s\n",
      "[CV] ... C=10, kernel=linear, score=0.47058823529411764, total=   0.2s\n",
      "[CV] .... C=10, kernel=linear, score=0.5428571428571428, total=   0.3s\n",
      "[CV] ... C=100, kernel=linear, score=0.4857142857142857, total=   0.3s\n"
     ]
    },
    {
     "name": "stderr",
     "output_type": "stream",
     "text": [
      "[Parallel(n_jobs=8)]: Done  19 out of  25 | elapsed:    0.9s remaining:    0.3s\n"
     ]
    },
    {
     "name": "stdout",
     "output_type": "stream",
     "text": [
      "[CV] .. C=100, kernel=linear, score=0.47058823529411764, total=   0.7s\n"
     ]
    },
    {
     "name": "stderr",
     "output_type": "stream",
     "text": [
      "[Parallel(n_jobs=8)]: Done  22 out of  25 | elapsed:    1.5s remaining:    0.2s\n"
     ]
    },
    {
     "name": "stdout",
     "output_type": "stream",
     "text": [
      "[CV] ... C=100, kernel=linear, score=0.5714285714285714, total=  12.2s\n",
      "[CV] ... C=100, kernel=linear, score=0.5428571428571428, total=  14.5s\n",
      "[CV] ... C=100, kernel=linear, score=0.5277777777777778, total=  20.6s\n"
     ]
    },
    {
     "name": "stderr",
     "output_type": "stream",
     "text": [
      "[Parallel(n_jobs=8)]: Done  25 out of  25 | elapsed:   21.2s remaining:    0.0s\n",
      "[Parallel(n_jobs=8)]: Done  25 out of  25 | elapsed:   21.2s finished\n"
     ]
    }
   ],
   "source": [
    "# Lineal\n",
    "parameters = [{'kernel': ['linear'], 'C': [0.01, 0.1, 1, 10, 100]}]\n",
    "optimalLinearSVM = GridSearchCV(svm.SVC(decision_function_shape = 'ovr'),\n",
    "                                parameters, cv = 5, n_jobs = 8, verbose = 10)\n",
    "optimalLinearSVM.fit(trainSentencesVectors, trainLabels);"
   ]
  },
  {
   "cell_type": "code",
   "execution_count": 60,
   "metadata": {
    "colab": {
     "autoexec": {
      "startup": false,
      "wait_interval": 0
     },
     "base_uri": "https://localhost:8080/",
     "height": 3621
    },
    "colab_type": "code",
    "executionInfo": {
     "elapsed": 5968,
     "status": "ok",
     "timestamp": 1526917182142,
     "user": {
      "displayName": "Jhonathan Abreu",
      "photoUrl": "//lh4.googleusercontent.com/-4bMUXodd-B0/AAAAAAAAAAI/AAAAAAAAAlY/Lc07exuN7Aw/s50-c-k-no/photo.jpg",
      "userId": "117165292541590122752"
     },
     "user_tz": 240
    },
    "id": "dHhQz1oDrBpL",
    "outputId": "2434ab80-66f5-43ef-cdcd-614e2951a740"
   },
   "outputs": [
    {
     "name": "stdout",
     "output_type": "stream",
     "text": [
      "Fitting 5 folds for each of 20 candidates, totalling 100 fits\n",
      "[CV] C=0.01, gamma=0.001, kernel=rbf .................................\n",
      "[CV] C=0.01, gamma=0.0001, kernel=rbf ................................\n",
      "[CV] C=0.01, gamma=0.0001, kernel=rbf ................................\n",
      "[CV] C=0.01, gamma=0.0001, kernel=rbf ................................\n",
      "[CV] C=0.01, gamma=0.001, kernel=rbf .................................\n",
      "[CV] C=0.01, gamma=0.001, kernel=rbf .................................\n",
      "[CV] C=0.01, gamma=0.0001, kernel=rbf ................................\n",
      "[CV] C=0.01, gamma=0.0001, kernel=rbf ................................\n",
      "[CV]  C=0.01, gamma=0.001, kernel=rbf, score=0.5277777777777778, total=   0.2s\n",
      "[CV]  C=0.01, gamma=0.001, kernel=rbf, score=0.34285714285714286, total=   0.2s\n",
      "[CV]  C=0.01, gamma=0.001, kernel=rbf, score=0.34285714285714286, total=   0.2s\n",
      "[CV] C=0.01, gamma=0.001, kernel=rbf .................................\n",
      "[CV]  C=0.01, gamma=0.0001, kernel=rbf, score=0.34285714285714286, total=   0.2s\n",
      "[CV] C=0.01, gamma=0.001, kernel=rbf .................................\n",
      "[CV] C=0.01, gamma=0.01, kernel=rbf ..................................\n",
      "[CV]  C=0.01, gamma=0.0001, kernel=rbf, score=0.34285714285714286, total=   0.2s\n",
      "[CV]  C=0.01, gamma=0.0001, kernel=rbf, score=0.35294117647058826, total=   0.2s\n",
      "[CV] C=0.01, gamma=0.01, kernel=rbf ..................................\n",
      "[CV]  C=0.01, gamma=0.0001, kernel=rbf, score=0.34285714285714286, total=   0.2s\n",
      "[CV] C=0.01, gamma=0.01, kernel=rbf ..................................\n",
      "[CV] C=0.01, gamma=0.01, kernel=rbf ..................................\n",
      "[CV] C=0.01, gamma=0.01, kernel=rbf ..................................\n",
      "[CV]  C=0.01, gamma=0.0001, kernel=rbf, score=0.3333333333333333, total=   0.2s\n",
      "[CV] C=0.01, gamma=0.1, kernel=rbf ...................................\n"
     ]
    },
    {
     "name": "stderr",
     "output_type": "stream",
     "text": [
      "[Parallel(n_jobs=8)]: Done   2 tasks      | elapsed:    0.4s\n"
     ]
    },
    {
     "name": "stdout",
     "output_type": "stream",
     "text": [
      "[CV]  C=0.01, gamma=0.01, kernel=rbf, score=0.34285714285714286, total=   0.2s\n",
      "[CV]  C=0.01, gamma=0.001, kernel=rbf, score=0.34285714285714286, total=   0.2s\n",
      "[CV]  C=0.01, gamma=0.01, kernel=rbf, score=0.34285714285714286, total=   0.2s\n",
      "[CV]  C=0.01, gamma=0.01, kernel=rbf, score=0.34285714285714286, total=   0.2s\n",
      "[CV] C=0.01, gamma=0.1, kernel=rbf ...................................\n",
      "[CV]  C=0.01, gamma=0.01, kernel=rbf, score=0.35294117647058826, total=   0.2s\n",
      "[CV] C=0.01, gamma=0.1, kernel=rbf ...................................\n",
      "[CV] C=0.01, gamma=0.1, kernel=rbf ...................................\n",
      "[CV] C=0.01, gamma=0.1, kernel=rbf ...................................\n",
      "[CV] C=0.1, gamma=0.0001, kernel=rbf .................................\n",
      "[CV] ........ C=0.01, gamma=0.01, kernel=rbf, score=0.5, total=   0.2s\n",
      "[CV] C=0.1, gamma=0.0001, kernel=rbf .................................\n",
      "[CV]  C=0.01, gamma=0.001, kernel=rbf, score=0.35294117647058826, total=   0.2s\n",
      "[CV] C=0.1, gamma=0.0001, kernel=rbf .................................\n",
      "[CV] ......... C=0.01, gamma=0.1, kernel=rbf, score=0.5, total=   0.2s\n",
      "[CV] C=0.1, gamma=0.0001, kernel=rbf .................................\n"
     ]
    },
    {
     "name": "stderr",
     "output_type": "stream",
     "text": [
      "[Parallel(n_jobs=8)]: Done   9 tasks      | elapsed:    0.7s\n",
      "[Parallel(n_jobs=8)]: Done  16 tasks      | elapsed:    0.9s\n"
     ]
    },
    {
     "name": "stdout",
     "output_type": "stream",
     "text": [
      "[CV]  C=0.01, gamma=0.1, kernel=rbf, score=0.35294117647058826, total=   0.2s\n",
      "[CV] C=0.1, gamma=0.0001, kernel=rbf .................................\n",
      "[CV]  C=0.01, gamma=0.1, kernel=rbf, score=0.34285714285714286, total=   0.2s\n",
      "[CV]  C=0.1, gamma=0.0001, kernel=rbf, score=0.3333333333333333, total=   0.2s\n",
      "[CV] C=0.1, gamma=0.001, kernel=rbf ..................................\n",
      "[CV] C=0.1, gamma=0.001, kernel=rbf ..................................\n",
      "[CV]  C=0.01, gamma=0.1, kernel=rbf, score=0.34285714285714286, total=   0.2s\n",
      "[CV]  C=0.1, gamma=0.0001, kernel=rbf, score=0.34285714285714286, total=   0.2s\n",
      "[CV]  C=0.01, gamma=0.1, kernel=rbf, score=0.34285714285714286, total=   0.2s\n",
      "[CV] C=0.1, gamma=0.001, kernel=rbf ..................................\n",
      "[CV] C=0.1, gamma=0.001, kernel=rbf ..................................\n",
      "[CV] C=0.1, gamma=0.001, kernel=rbf ..................................\n",
      "[CV]  C=0.1, gamma=0.0001, kernel=rbf, score=0.34285714285714286, total=   0.2s\n",
      "[CV] C=0.1, gamma=0.01, kernel=rbf ...................................\n",
      "[CV]  C=0.1, gamma=0.0001, kernel=rbf, score=0.34285714285714286, total=   0.2s\n",
      "[CV] C=0.1, gamma=0.01, kernel=rbf ...................................\n",
      "[CV]  C=0.1, gamma=0.001, kernel=rbf, score=0.5277777777777778, total=   0.2s\n",
      "[CV]  C=0.1, gamma=0.001, kernel=rbf, score=0.34285714285714286, total=   0.2s\n",
      "[CV] C=0.1, gamma=0.01, kernel=rbf ...................................\n",
      "[CV] C=0.1, gamma=0.01, kernel=rbf ...................................\n",
      "[CV]  C=0.1, gamma=0.001, kernel=rbf, score=0.34285714285714286, total=   0.2s\n",
      "[CV]  C=0.1, gamma=0.0001, kernel=rbf, score=0.35294117647058826, total=   0.2s\n",
      "[CV] C=0.1, gamma=0.1, kernel=rbf ....................................\n",
      "[CV] C=0.1, gamma=0.01, kernel=rbf ...................................\n",
      "[CV]  C=0.1, gamma=0.001, kernel=rbf, score=0.34285714285714286, total=   0.2s\n",
      "[CV] C=0.1, gamma=0.1, kernel=rbf ....................................\n",
      "[CV] ......... C=0.1, gamma=0.01, kernel=rbf, score=0.5, total=   0.1s\n",
      "[CV] C=0.1, gamma=0.1, kernel=rbf ....................................\n",
      "[CV]  C=0.1, gamma=0.001, kernel=rbf, score=0.35294117647058826, total=   0.2s\n",
      "[CV] C=0.1, gamma=0.1, kernel=rbf ....................................\n",
      "[CV]  C=0.1, gamma=0.01, kernel=rbf, score=0.34285714285714286, total=   0.1s\n",
      "[CV] C=0.1, gamma=0.1, kernel=rbf ....................................\n"
     ]
    },
    {
     "name": "stderr",
     "output_type": "stream",
     "text": [
      "[Parallel(n_jobs=8)]: Done  25 tasks      | elapsed:    1.4s\n"
     ]
    },
    {
     "name": "stdout",
     "output_type": "stream",
     "text": [
      "[CV]  C=0.1, gamma=0.01, kernel=rbf, score=0.34285714285714286, total=   0.2s\n",
      "[CV]  C=0.1, gamma=0.01, kernel=rbf, score=0.3142857142857143, total=   0.2s\n",
      "[CV] C=1, gamma=0.0001, kernel=rbf ...................................\n",
      "[CV] C=1, gamma=0.0001, kernel=rbf ...................................\n",
      "[CV]  C=0.1, gamma=0.1, kernel=rbf, score=0.34285714285714286, total=   0.2s\n",
      "[CV]  C=0.1, gamma=0.1, kernel=rbf, score=0.34285714285714286, total=   0.1s\n",
      "[CV] .......... C=0.1, gamma=0.1, kernel=rbf, score=0.5, total=   0.2s\n",
      "[CV] C=1, gamma=0.0001, kernel=rbf ...................................\n",
      "[CV]  C=0.1, gamma=0.01, kernel=rbf, score=0.23529411764705882, total=   0.2s\n",
      "[CV] C=1, gamma=0.0001, kernel=rbf ...................................\n",
      "[CV] C=1, gamma=0.0001, kernel=rbf ...................................\n",
      "[CV] C=1, gamma=0.001, kernel=rbf ....................................\n",
      "[CV]  C=0.1, gamma=0.1, kernel=rbf, score=0.23529411764705882, total=   0.1s\n",
      "[CV] C=1, gamma=0.001, kernel=rbf ....................................\n",
      "[CV]  C=0.1, gamma=0.1, kernel=rbf, score=0.3142857142857143, total=   0.2s\n",
      "[CV] C=1, gamma=0.001, kernel=rbf ....................................\n"
     ]
    },
    {
     "name": "stderr",
     "output_type": "stream",
     "text": [
      "[Parallel(n_jobs=8)]: Done  34 tasks      | elapsed:    1.8s\n"
     ]
    },
    {
     "name": "stdout",
     "output_type": "stream",
     "text": [
      "[CV]  C=1, gamma=0.001, kernel=rbf, score=0.5277777777777778, total=   0.2s\n",
      "[CV]  C=1, gamma=0.0001, kernel=rbf, score=0.3235294117647059, total=   0.2s\n",
      "[CV]  C=1, gamma=0.0001, kernel=rbf, score=0.3333333333333333, total=   0.2s\n",
      "[CV] C=1, gamma=0.001, kernel=rbf ....................................\n",
      "[CV]  C=1, gamma=0.0001, kernel=rbf, score=0.42857142857142855, total=   0.2s\n",
      "[CV] C=1, gamma=0.001, kernel=rbf ....................................\n",
      "[CV] C=1, gamma=0.01, kernel=rbf .....................................\n",
      "[CV] C=1, gamma=0.01, kernel=rbf .....................................\n",
      "[CV]  C=1, gamma=0.0001, kernel=rbf, score=0.2857142857142857, total=   0.2s\n",
      "[CV] C=1, gamma=0.01, kernel=rbf .....................................\n",
      "[CV]  C=1, gamma=0.0001, kernel=rbf, score=0.34285714285714286, total=   0.2s\n",
      "[CV] C=1, gamma=0.01, kernel=rbf .....................................\n",
      "[CV]  C=1, gamma=0.001, kernel=rbf, score=0.7142857142857143, total=   0.1s\n",
      "[CV] C=1, gamma=0.01, kernel=rbf .....................................\n",
      "[CV]  C=1, gamma=0.001, kernel=rbf, score=0.45714285714285713, total=   0.2s\n",
      "[CV] C=1, gamma=0.1, kernel=rbf ......................................\n"
     ]
    },
    {
     "name": "stderr",
     "output_type": "stream",
     "text": [
      "[Parallel(n_jobs=8)]: Done  45 tasks      | elapsed:    2.2s\n"
     ]
    },
    {
     "name": "stdout",
     "output_type": "stream",
     "text": [
      "[CV]  C=1, gamma=0.001, kernel=rbf, score=0.4117647058823529, total=   0.2s\n",
      "[CV] ........... C=1, gamma=0.01, kernel=rbf, score=0.5, total=   0.2s\n",
      "[CV]  C=1, gamma=0.01, kernel=rbf, score=0.45714285714285713, total=   0.2s\n",
      "[CV] .......... C=1, gamma=0.001, kernel=rbf, score=0.6, total=   0.2s\n",
      "[CV] C=1, gamma=0.1, kernel=rbf ......................................\n",
      "[CV] C=1, gamma=0.1, kernel=rbf ......................................\n",
      "[CV] C=1, gamma=0.1, kernel=rbf ......................................\n",
      "[CV]  C=1, gamma=0.01, kernel=rbf, score=0.5142857142857142, total=   0.2s\n",
      "[CV] C=1, gamma=0.1, kernel=rbf ......................................\n",
      "[CV]  C=1, gamma=0.01, kernel=rbf, score=0.45714285714285713, total=   0.2s\n",
      "[CV] C=10, gamma=0.0001, kernel=rbf ..................................\n",
      "[CV] C=10, gamma=0.0001, kernel=rbf ..................................\n",
      "[CV]  C=1, gamma=0.01, kernel=rbf, score=0.38235294117647056, total=   0.2s\n",
      "[CV] C=10, gamma=0.0001, kernel=rbf ..................................\n",
      "[CV]  C=1, gamma=0.1, kernel=rbf, score=0.4722222222222222, total=   0.1s\n",
      "[CV] C=10, gamma=0.0001, kernel=rbf ..................................\n",
      "[CV]  C=1, gamma=0.1, kernel=rbf, score=0.5142857142857142, total=   0.2s\n",
      "[CV]  C=1, gamma=0.1, kernel=rbf, score=0.35294117647058826, total=   0.2s\n",
      "[CV]  C=1, gamma=0.1, kernel=rbf, score=0.42857142857142855, total=   0.2s\n"
     ]
    },
    {
     "name": "stderr",
     "output_type": "stream",
     "text": [
      "[Parallel(n_jobs=8)]: Done  56 tasks      | elapsed:    2.7s\n"
     ]
    },
    {
     "name": "stdout",
     "output_type": "stream",
     "text": [
      "[CV] C=10, gamma=0.0001, kernel=rbf ..................................\n",
      "[CV] C=10, gamma=0.001, kernel=rbf ...................................\n",
      "[CV]  C=10, gamma=0.0001, kernel=rbf, score=0.42857142857142855, total=   0.2s\n",
      "[CV]  C=10, gamma=0.0001, kernel=rbf, score=0.5277777777777778, total=   0.2s\n",
      "[CV] C=10, gamma=0.001, kernel=rbf ...................................\n",
      "[CV] C=10, gamma=0.001, kernel=rbf ...................................\n",
      "[CV] C=10, gamma=0.001, kernel=rbf ...................................\n",
      "[CV]  C=1, gamma=0.1, kernel=rbf, score=0.45714285714285713, total=   0.2s\n",
      "[CV] C=10, gamma=0.001, kernel=rbf ...................................\n",
      "[CV]  C=10, gamma=0.0001, kernel=rbf, score=0.6285714285714286, total=   0.2s\n",
      "[CV] C=10, gamma=0.01, kernel=rbf ....................................\n",
      "[CV]  C=10, gamma=0.0001, kernel=rbf, score=0.6285714285714286, total=   0.2s\n",
      "[CV] C=10, gamma=0.01, kernel=rbf ....................................\n",
      "[CV]  C=10, gamma=0.0001, kernel=rbf, score=0.4411764705882353, total=   0.2s\n",
      "[CV]  C=10, gamma=0.001, kernel=rbf, score=0.4857142857142857, total=   0.2s\n",
      "[CV] C=10, gamma=0.01, kernel=rbf ....................................\n",
      "[CV]  C=10, gamma=0.001, kernel=rbf, score=0.6285714285714286, total=   0.2s\n",
      "[CV]  C=10, gamma=0.001, kernel=rbf, score=0.7142857142857143, total=   0.2s\n",
      "[CV] C=10, gamma=0.01, kernel=rbf ....................................\n",
      "[CV] C=10, gamma=0.1, kernel=rbf .....................................\n",
      "[CV] C=10, gamma=0.01, kernel=rbf ....................................\n",
      "[CV]  C=10, gamma=0.001, kernel=rbf, score=0.5555555555555556, total=   0.2s\n",
      "[CV] C=10, gamma=0.1, kernel=rbf .....................................\n",
      "[CV]  C=10, gamma=0.001, kernel=rbf, score=0.47058823529411764, total=   0.2s\n",
      "[CV] C=10, gamma=0.1, kernel=rbf .....................................\n",
      "[CV] .......... C=10, gamma=0.01, kernel=rbf, score=0.5, total=   0.1s\n",
      "[CV] C=10, gamma=0.1, kernel=rbf .....................................\n",
      "[CV]  C=10, gamma=0.01, kernel=rbf, score=0.45714285714285713, total=   0.1s\n",
      "[CV] C=10, gamma=0.1, kernel=rbf .....................................\n"
     ]
    },
    {
     "name": "stderr",
     "output_type": "stream",
     "text": [
      "[Parallel(n_jobs=8)]: Done  69 tasks      | elapsed:    3.3s\n"
     ]
    },
    {
     "name": "stdout",
     "output_type": "stream",
     "text": [
      "[CV]  C=10, gamma=0.01, kernel=rbf, score=0.45714285714285713, total=   0.2s\n",
      "[CV] C=100, gamma=0.0001, kernel=rbf .................................\n",
      "[CV]  C=10, gamma=0.01, kernel=rbf, score=0.38235294117647056, total=   0.2s\n",
      "[CV]  C=10, gamma=0.1, kernel=rbf, score=0.4722222222222222, total=   0.2s\n",
      "[CV]  C=10, gamma=0.1, kernel=rbf, score=0.42857142857142855, total=   0.2s\n",
      "[CV] C=100, gamma=0.0001, kernel=rbf .................................\n",
      "[CV] C=100, gamma=0.0001, kernel=rbf .................................\n",
      "[CV] C=100, gamma=0.0001, kernel=rbf .................................\n",
      "[CV]  C=10, gamma=0.1, kernel=rbf, score=0.45714285714285713, total=   0.1s\n",
      "[CV] C=100, gamma=0.0001, kernel=rbf .................................\n",
      "[CV]  C=10, gamma=0.01, kernel=rbf, score=0.5142857142857142, total=   0.2s\n",
      "[CV]  C=10, gamma=0.1, kernel=rbf, score=0.5142857142857142, total=   0.1s\n",
      "[CV] C=100, gamma=0.001, kernel=rbf ..................................\n",
      "[CV] C=100, gamma=0.001, kernel=rbf ..................................\n",
      "[CV]  C=10, gamma=0.1, kernel=rbf, score=0.35294117647058826, total=   0.1s\n",
      "[CV] C=100, gamma=0.001, kernel=rbf ..................................\n",
      "[CV]  C=100, gamma=0.0001, kernel=rbf, score=0.5277777777777778, total=   0.2s\n",
      "[CV] ....... C=100, gamma=0.0001, kernel=rbf, score=0.6, total=   0.2s\n",
      "[CV] C=100, gamma=0.001, kernel=rbf ..................................\n",
      "[CV] C=100, gamma=0.001, kernel=rbf ..................................\n",
      "[CV]  C=100, gamma=0.0001, kernel=rbf, score=0.5714285714285714, total=   0.2s\n",
      "[CV]  C=100, gamma=0.0001, kernel=rbf, score=0.5142857142857142, total=   0.1s\n",
      "[CV] C=100, gamma=0.01, kernel=rbf ...................................\n",
      "[CV] ....... C=100, gamma=0.0001, kernel=rbf, score=0.5, total=   0.2s\n",
      "[CV] C=100, gamma=0.01, kernel=rbf ...................................\n",
      "[CV] C=100, gamma=0.01, kernel=rbf ...................................\n",
      "[CV]  C=100, gamma=0.001, kernel=rbf, score=0.5555555555555556, total=   0.1s\n",
      "[CV] C=100, gamma=0.01, kernel=rbf ...................................\n",
      "[CV]  C=100, gamma=0.001, kernel=rbf, score=0.4857142857142857, total=   0.2s\n",
      "[CV]  C=100, gamma=0.001, kernel=rbf, score=0.7142857142857143, total=   0.1s\n",
      "[CV] C=100, gamma=0.1, kernel=rbf ....................................\n",
      "[CV] C=100, gamma=0.01, kernel=rbf ...................................\n"
     ]
    },
    {
     "name": "stderr",
     "output_type": "stream",
     "text": [
      "[Parallel(n_jobs=8)]: Done  82 tasks      | elapsed:    3.9s\n"
     ]
    },
    {
     "name": "stdout",
     "output_type": "stream",
     "text": [
      "[CV]  C=100, gamma=0.001, kernel=rbf, score=0.6285714285714286, total=   0.1s\n",
      "[CV] C=100, gamma=0.1, kernel=rbf ....................................\n",
      "[CV]  C=100, gamma=0.001, kernel=rbf, score=0.47058823529411764, total=   0.2s\n",
      "[CV] C=100, gamma=0.1, kernel=rbf ....................................\n",
      "[CV]  C=100, gamma=0.01, kernel=rbf, score=0.45714285714285713, total=   0.2s\n",
      "[CV] ......... C=100, gamma=0.01, kernel=rbf, score=0.5, total=   0.2s\n",
      "[CV] C=100, gamma=0.1, kernel=rbf ....................................\n",
      "[CV] C=100, gamma=0.1, kernel=rbf ....................................\n",
      "[CV]  C=100, gamma=0.01, kernel=rbf, score=0.45714285714285713, total=   0.2s\n",
      "[CV]  C=100, gamma=0.1, kernel=rbf, score=0.4722222222222222, total=   0.1s\n",
      "[CV]  C=100, gamma=0.01, kernel=rbf, score=0.5142857142857142, total=   0.2s\n",
      "[CV]  C=100, gamma=0.01, kernel=rbf, score=0.38235294117647056, total=   0.1s\n",
      "[CV]  C=100, gamma=0.1, kernel=rbf, score=0.45714285714285713, total=   0.1s\n",
      "[CV]  C=100, gamma=0.1, kernel=rbf, score=0.42857142857142855, total=   0.1s\n",
      "[CV]  C=100, gamma=0.1, kernel=rbf, score=0.5142857142857142, total=   0.1s\n",
      "[CV]  C=100, gamma=0.1, kernel=rbf, score=0.35294117647058826, total=   0.1s\n"
     ]
    },
    {
     "name": "stderr",
     "output_type": "stream",
     "text": [
      "[Parallel(n_jobs=8)]: Done  96 out of 100 | elapsed:    4.4s remaining:    0.2s\n",
      "[Parallel(n_jobs=8)]: Done 100 out of 100 | elapsed:    4.4s finished\n"
     ]
    }
   ],
   "source": [
    "# Radial\n",
    "parameters = [{'kernel': ['rbf'], 'gamma': [1e-4, 1e-3, 1e-2, 1e-1],\n",
    "                'C': [0.01, 0.1, 1, 10, 100]}]\n",
    "optimalRadialSVM = GridSearchCV(svm.SVC(decision_function_shape = 'ovr'),\n",
    "                                parameters, cv = 5, n_jobs = 8, verbose = 10)\n",
    "optimalRadialSVM.fit(trainSentencesVectors, trainLabels);"
   ]
  },
  {
   "cell_type": "code",
   "execution_count": 61,
   "metadata": {
    "colab": {
     "autoexec": {
      "startup": false,
      "wait_interval": 0
     },
     "base_uri": "https://localhost:8080/",
     "height": 10472
    },
    "colab_type": "code",
    "executionInfo": {
     "elapsed": 13143,
     "status": "ok",
     "timestamp": 1526917196852,
     "user": {
      "displayName": "Jhonathan Abreu",
      "photoUrl": "//lh4.googleusercontent.com/-4bMUXodd-B0/AAAAAAAAAAI/AAAAAAAAAlY/Lc07exuN7Aw/s50-c-k-no/photo.jpg",
      "userId": "117165292541590122752"
     },
     "user_tz": 240
    },
    "id": "ahjCH85cQ3CT",
    "outputId": "cd495ad1-2f4b-4e36-91d0-95ebef4cf249"
   },
   "outputs": [
    {
     "name": "stdout",
     "output_type": "stream",
     "text": [
      "Fitting 5 folds for each of 60 candidates, totalling 300 fits\n",
      "[CV] C=0.01, degree=2, gamma=0.0001, kernel=poly .....................\n",
      "[CV] C=0.01, degree=2, gamma=0.0001, kernel=poly .....................\n",
      "[CV] C=0.01, degree=2, gamma=0.0001, kernel=poly .....................\n",
      "[CV] C=0.01, degree=2, gamma=0.0001, kernel=poly .....................\n",
      "[CV] C=0.01, degree=2, gamma=0.0001, kernel=poly .....................\n",
      "[CV] C=0.01, degree=2, gamma=0.001, kernel=poly ......................\n",
      "[CV] C=0.01, degree=2, gamma=0.001, kernel=poly ......................\n",
      "[CV]  C=0.01, degree=2, gamma=0.0001, kernel=poly, score=0.2777777777777778, total=   0.1s\n",
      "[CV] C=0.01, degree=2, gamma=0.001, kernel=poly ......................\n",
      "[CV] C=0.01, degree=2, gamma=0.001, kernel=poly ......................\n",
      "[CV]  C=0.01, degree=2, gamma=0.0001, kernel=poly, score=0.34285714285714286, total=   0.2s\n",
      "[CV] C=0.01, degree=2, gamma=0.001, kernel=poly ......................\n"
     ]
    },
    {
     "name": "stderr",
     "output_type": "stream",
     "text": [
      "[Parallel(n_jobs=8)]: Batch computation too fast (0.1631s.) Setting batch_size=2.\n",
      "[Parallel(n_jobs=8)]: Done   2 tasks      | elapsed:    0.4s\n"
     ]
    },
    {
     "name": "stdout",
     "output_type": "stream",
     "text": [
      "[CV]  C=0.01, degree=2, gamma=0.0001, kernel=poly, score=0.34285714285714286, total=   0.2s\n",
      "[CV]  C=0.01, degree=2, gamma=0.0001, kernel=poly, score=0.34285714285714286, total=   0.2s\n",
      "[CV] C=0.01, degree=2, gamma=0.01, kernel=poly .......................\n",
      "[CV]  C=0.01, degree=2, gamma=0.0001, kernel=poly, score=0.35294117647058826, total=   0.2s\n",
      "[CV] C=0.01, degree=2, gamma=0.01, kernel=poly .......................\n",
      "[CV] C=0.01, degree=2, gamma=0.01, kernel=poly .......................\n",
      "[CV]  C=0.01, degree=2, gamma=0.001, kernel=poly, score=0.34285714285714286, total=   0.1s\n",
      "[CV]  C=0.01, degree=2, gamma=0.001, kernel=poly, score=0.34285714285714286, total=   0.1s\n",
      "[CV] C=0.01, degree=2, gamma=0.01, kernel=poly .......................\n",
      "[CV]  C=0.01, degree=2, gamma=0.001, kernel=poly, score=0.34285714285714286, total=   0.2s\n",
      "[CV] C=0.01, degree=2, gamma=0.01, kernel=poly .......................\n",
      "[CV]  C=0.01, degree=2, gamma=0.001, kernel=poly, score=0.2777777777777778, total=   0.2s\n",
      "[CV] C=0.01, degree=2, gamma=0.1, kernel=poly ........................\n",
      "[CV] C=0.01, degree=2, gamma=0.1, kernel=poly ........................\n",
      "[CV]  C=0.01, degree=2, gamma=0.001, kernel=poly, score=0.35294117647058826, total=   0.2s\n",
      "[CV] C=0.01, degree=2, gamma=0.1, kernel=poly ........................\n",
      "[CV]  C=0.01, degree=2, gamma=0.01, kernel=poly, score=0.3055555555555556, total=   0.2s\n",
      "[CV]  C=0.01, degree=2, gamma=0.01, kernel=poly, score=0.42857142857142855, total=   0.2s\n"
     ]
    },
    {
     "name": "stderr",
     "output_type": "stream",
     "text": [
      "[Parallel(n_jobs=8)]: Done   9 tasks      | elapsed:    0.5s\n"
     ]
    },
    {
     "name": "stdout",
     "output_type": "stream",
     "text": [
      "[CV] C=0.01, degree=3, gamma=0.0001, kernel=poly .....................\n",
      "[CV] C=0.01, degree=3, gamma=0.0001, kernel=poly .....................\n",
      "[CV]  C=0.01, degree=2, gamma=0.01, kernel=poly, score=0.6, total=   0.2s\n",
      "[CV] C=0.01, degree=3, gamma=0.0001, kernel=poly .....................\n",
      "[CV]  C=0.01, degree=2, gamma=0.1, kernel=poly, score=0.45714285714285713, total=   0.1s\n",
      "[CV]  C=0.01, degree=2, gamma=0.01, kernel=poly, score=0.35294117647058826, total=   0.1s\n",
      "[CV] C=0.01, degree=2, gamma=0.1, kernel=poly ........................\n",
      "[CV]  C=0.01, degree=2, gamma=0.1, kernel=poly, score=0.4722222222222222, total=   0.1s\n",
      "[CV] C=0.01, degree=3, gamma=0.001, kernel=poly ......................\n",
      "[CV] C=0.01, degree=3, gamma=0.001, kernel=poly ......................\n",
      "[CV]  C=0.01, degree=2, gamma=0.01, kernel=poly, score=0.42857142857142855, total=   0.2s\n",
      "[CV] C=0.01, degree=3, gamma=0.01, kernel=poly .......................\n",
      "[CV]  C=0.01, degree=2, gamma=0.1, kernel=poly, score=0.42857142857142855, total=   0.2s\n",
      "[CV] C=0.01, degree=2, gamma=0.1, kernel=poly ........................\n"
     ]
    },
    {
     "name": "stderr",
     "output_type": "stream",
     "text": [
      "[Parallel(n_jobs=8)]: Done  16 tasks      | elapsed:    0.8s\n"
     ]
    },
    {
     "name": "stdout",
     "output_type": "stream",
     "text": [
      "[CV]  C=0.01, degree=3, gamma=0.0001, kernel=poly, score=0.34285714285714286, total=   0.2s\n",
      "[CV] C=0.01, degree=3, gamma=0.0001, kernel=poly .....................\n",
      "[CV]  C=0.01, degree=2, gamma=0.1, kernel=poly, score=0.5142857142857142, total=   0.2s\n",
      "[CV]  C=0.01, degree=3, gamma=0.0001, kernel=poly, score=0.2777777777777778, total=   0.2s\n",
      "[CV] C=0.01, degree=3, gamma=0.01, kernel=poly .......................\n",
      "[CV]  C=0.01, degree=3, gamma=0.001, kernel=poly, score=0.34285714285714286, total=   0.1s\n",
      "[CV]  C=0.01, degree=3, gamma=0.0001, kernel=poly, score=0.35294117647058826, total=   0.2s\n",
      "[CV] C=0.01, degree=3, gamma=0.001, kernel=poly ......................\n",
      "[CV] C=0.01, degree=3, gamma=0.001, kernel=poly ......................\n",
      "[CV] C=0.01, degree=3, gamma=0.0001, kernel=poly .....................\n",
      "[CV]  C=0.01, degree=3, gamma=0.01, kernel=poly, score=0.4444444444444444, total=   0.1s\n",
      "[CV] C=0.01, degree=3, gamma=0.01, kernel=poly .......................\n",
      "[CV]  C=0.01, degree=3, gamma=0.001, kernel=poly, score=0.34285714285714286, total=   0.2s\n",
      "[CV] C=0.01, degree=3, gamma=0.001, kernel=poly ......................\n",
      "[CV]  C=0.01, degree=2, gamma=0.1, kernel=poly, score=0.4117647058823529, total=   0.2s\n",
      "[CV] C=0.01, degree=3, gamma=0.01, kernel=poly .......................\n",
      "[CV]  C=0.01, degree=3, gamma=0.0001, kernel=poly, score=0.34285714285714286, total=   0.2s\n",
      "[CV] C=0.01, degree=3, gamma=0.1, kernel=poly ........................\n",
      "[CV]  C=0.01, degree=3, gamma=0.01, kernel=poly, score=0.45714285714285713, total=   0.2s\n",
      "[CV] C=0.01, degree=3, gamma=0.01, kernel=poly .......................\n",
      "[CV]  C=0.01, degree=3, gamma=0.001, kernel=poly, score=0.2777777777777778, total=   0.2s\n",
      "[CV]  C=0.01, degree=3, gamma=0.001, kernel=poly, score=0.34285714285714286, total=   0.2s\n",
      "[CV] C=0.01, degree=3, gamma=0.1, kernel=poly ........................\n",
      "[CV] C=0.01, degree=4, gamma=0.0001, kernel=poly .....................\n",
      "[CV]  C=0.01, degree=3, gamma=0.0001, kernel=poly, score=0.34285714285714286, total=   0.2s\n",
      "[CV] C=0.01, degree=4, gamma=0.0001, kernel=poly .....................\n",
      "[CV]  C=0.01, degree=3, gamma=0.01, kernel=poly, score=0.42857142857142855, total=   0.2s\n",
      "[CV] C=0.01, degree=4, gamma=0.0001, kernel=poly .....................\n",
      "[CV]  C=0.01, degree=3, gamma=0.001, kernel=poly, score=0.35294117647058826, total=   0.2s\n",
      "[CV] C=0.01, degree=4, gamma=0.001, kernel=poly ......................\n",
      "[CV]  C=0.01, degree=3, gamma=0.01, kernel=poly, score=0.29411764705882354, total=   0.2s\n",
      "[CV]  C=0.01, degree=3, gamma=0.1, kernel=poly, score=0.4, total=   0.2s\n",
      "[CV] C=0.01, degree=3, gamma=0.1, kernel=poly ........................\n",
      "[CV] C=0.01, degree=3, gamma=0.1, kernel=poly ........................\n",
      "[CV]  C=0.01, degree=3, gamma=0.01, kernel=poly, score=0.2857142857142857, total=   0.2s\n",
      "[CV] C=0.01, degree=4, gamma=0.001, kernel=poly ......................\n",
      "[CV]  C=0.01, degree=3, gamma=0.1, kernel=poly, score=0.3142857142857143, total=   0.2s\n",
      "[CV] C=0.01, degree=3, gamma=0.1, kernel=poly ........................\n",
      "[CV]  C=0.01, degree=4, gamma=0.0001, kernel=poly, score=0.2777777777777778, total=   0.2s\n",
      "[CV] C=0.01, degree=4, gamma=0.0001, kernel=poly .....................\n",
      "[CV]  C=0.01, degree=4, gamma=0.0001, kernel=poly, score=0.34285714285714286, total=   0.2s\n",
      "[CV] C=0.01, degree=4, gamma=0.0001, kernel=poly .....................\n",
      "[CV]  C=0.01, degree=4, gamma=0.0001, kernel=poly, score=0.35294117647058826, total=   0.2s\n",
      "[CV] C=0.01, degree=4, gamma=0.001, kernel=poly ......................\n"
     ]
    },
    {
     "name": "stderr",
     "output_type": "stream",
     "text": [
      "[Parallel(n_jobs=8)]: Done  34 tasks      | elapsed:    1.6s\n"
     ]
    },
    {
     "name": "stdout",
     "output_type": "stream",
     "text": [
      "[CV]  C=0.01, degree=3, gamma=0.1, kernel=poly, score=0.45714285714285713, total=   0.1s\n",
      "[CV] C=0.01, degree=4, gamma=0.01, kernel=poly .......................\n",
      "[CV]  C=0.01, degree=4, gamma=0.001, kernel=poly, score=0.34285714285714286, total=   0.2s\n",
      "[CV]  C=0.01, degree=3, gamma=0.1, kernel=poly, score=0.4166666666666667, total=   0.1s\n",
      "[CV]  C=0.01, degree=3, gamma=0.1, kernel=poly, score=0.29411764705882354, total=   0.1s\n",
      "[CV] C=0.01, degree=4, gamma=0.001, kernel=poly ......................\n",
      "[CV] C=0.01, degree=4, gamma=0.01, kernel=poly .......................\n",
      "[CV] C=0.01, degree=4, gamma=0.01, kernel=poly .......................\n",
      "[CV]  C=0.01, degree=4, gamma=0.001, kernel=poly, score=0.34285714285714286, total=   0.2s\n",
      "[CV] C=0.01, degree=4, gamma=0.001, kernel=poly ......................\n",
      "[CV]  C=0.01, degree=4, gamma=0.0001, kernel=poly, score=0.34285714285714286, total=   0.1s\n",
      "[CV] C=0.01, degree=4, gamma=0.1, kernel=poly ........................\n",
      "[CV]  C=0.01, degree=4, gamma=0.0001, kernel=poly, score=0.34285714285714286, total=   0.2s\n",
      "[CV] C=0.01, degree=4, gamma=0.1, kernel=poly ........................\n",
      "[CV]  C=0.01, degree=4, gamma=0.001, kernel=poly, score=0.2777777777777778, total=   0.2s\n",
      "[CV] C=0.1, degree=2, gamma=0.0001, kernel=poly ......................\n",
      "[CV]  C=0.01, degree=4, gamma=0.01, kernel=poly, score=0.4444444444444444, total=   0.2s\n",
      "[CV]  C=0.01, degree=4, gamma=0.001, kernel=poly, score=0.34285714285714286, total=   0.2s\n",
      "[CV] C=0.01, degree=4, gamma=0.01, kernel=poly .......................\n",
      "[CV]  C=0.01, degree=4, gamma=0.01, kernel=poly, score=0.3235294117647059, total=   0.2s\n",
      "[CV] C=0.01, degree=4, gamma=0.1, kernel=poly ........................\n",
      "[CV] C=0.1, degree=2, gamma=0.0001, kernel=poly ......................\n",
      "[CV]  C=0.01, degree=4, gamma=0.01, kernel=poly, score=0.45714285714285713, total=   0.2s\n",
      "[CV] C=0.01, degree=4, gamma=0.01, kernel=poly .......................\n",
      "[CV]  C=0.01, degree=4, gamma=0.1, kernel=poly, score=0.4, total=   0.1s\n",
      "[CV] C=0.01, degree=4, gamma=0.1, kernel=poly ........................\n",
      "[CV]  C=0.01, degree=4, gamma=0.001, kernel=poly, score=0.35294117647058826, total=   0.2s\n",
      "[CV] C=0.1, degree=2, gamma=0.0001, kernel=poly ......................\n",
      "[CV]  C=0.01, degree=4, gamma=0.1, kernel=poly, score=0.2857142857142857, total=   0.2s\n",
      "[CV] C=0.01, degree=4, gamma=0.1, kernel=poly ........................\n",
      "[CV]  C=0.01, degree=4, gamma=0.01, kernel=poly, score=0.4, total=   0.1s\n",
      "[CV] C=0.1, degree=2, gamma=0.001, kernel=poly .......................\n",
      "[CV]  C=0.01, degree=4, gamma=0.1, kernel=poly, score=0.4166666666666667, total=   0.1s\n",
      "[CV] C=0.1, degree=2, gamma=0.001, kernel=poly .......................\n",
      "[CV]  C=0.01, degree=4, gamma=0.01, kernel=poly, score=0.2857142857142857, total=   0.1s\n",
      "[CV] C=0.1, degree=2, gamma=0.01, kernel=poly ........................\n",
      "[CV]  C=0.1, degree=2, gamma=0.0001, kernel=poly, score=0.2777777777777778, total=   0.2s\n",
      "[CV] C=0.1, degree=2, gamma=0.0001, kernel=poly ......................\n",
      "[CV]  C=0.01, degree=4, gamma=0.1, kernel=poly, score=0.45714285714285713, total=   0.1s\n",
      "[CV] C=0.1, degree=2, gamma=0.01, kernel=poly ........................\n",
      "[CV]  C=0.1, degree=2, gamma=0.0001, kernel=poly, score=0.34285714285714286, total=   0.2s\n",
      "[CV] C=0.1, degree=2, gamma=0.0001, kernel=poly ......................\n"
     ]
    },
    {
     "name": "stderr",
     "output_type": "stream",
     "text": [
      "[Parallel(n_jobs=8)]: Done  52 tasks      | elapsed:    2.4s\n"
     ]
    },
    {
     "name": "stdout",
     "output_type": "stream",
     "text": [
      "[CV]  C=0.1, degree=2, gamma=0.0001, kernel=poly, score=0.35294117647058826, total=   0.2s\n",
      "[CV] C=0.1, degree=2, gamma=0.001, kernel=poly .......................\n",
      "[CV]  C=0.01, degree=4, gamma=0.1, kernel=poly, score=0.29411764705882354, total=   0.2s\n",
      "[CV]  C=0.1, degree=2, gamma=0.001, kernel=poly, score=0.4, total=   0.2s\n",
      "[CV]  C=0.1, degree=2, gamma=0.01, kernel=poly, score=0.4722222222222222, total=   0.2s\n",
      "[CV] C=0.1, degree=2, gamma=0.001, kernel=poly .......................\n",
      "[CV]  C=0.1, degree=2, gamma=0.001, kernel=poly, score=0.2857142857142857, total=   0.2s\n",
      "[CV] C=0.1, degree=2, gamma=0.01, kernel=poly ........................\n",
      "[CV] C=0.1, degree=2, gamma=0.01, kernel=poly ........................\n",
      "[CV] C=0.1, degree=2, gamma=0.001, kernel=poly .......................\n",
      "[CV]  C=0.1, degree=2, gamma=0.01, kernel=poly, score=0.5142857142857142, total=   0.1s\n",
      "[CV] C=0.1, degree=2, gamma=0.01, kernel=poly ........................\n",
      "[CV]  C=0.1, degree=2, gamma=0.0001, kernel=poly, score=0.34285714285714286, total=   0.2s\n",
      "[CV] C=0.1, degree=2, gamma=0.1, kernel=poly .........................\n",
      "[CV]  C=0.1, degree=2, gamma=0.0001, kernel=poly, score=0.34285714285714286, total=   0.2s\n",
      "[CV] C=0.1, degree=2, gamma=0.1, kernel=poly .........................\n",
      "[CV]  C=0.1, degree=2, gamma=0.01, kernel=poly, score=0.4857142857142857, total=   0.1s\n",
      "[CV] C=0.1, degree=3, gamma=0.0001, kernel=poly ......................\n",
      "[CV]  C=0.1, degree=2, gamma=0.001, kernel=poly, score=0.34285714285714286, total=   0.2s\n",
      "[CV]  C=0.1, degree=2, gamma=0.001, kernel=poly, score=0.3235294117647059, total=   0.1s\n",
      "[CV] C=0.1, degree=3, gamma=0.0001, kernel=poly ......................\n",
      "[CV] C=0.1, degree=3, gamma=0.0001, kernel=poly ......................\n",
      "[CV]  C=0.1, degree=2, gamma=0.01, kernel=poly, score=0.42857142857142855, total=   0.1s\n",
      "[CV]  C=0.1, degree=2, gamma=0.001, kernel=poly, score=0.2777777777777778, total=   0.2s\n",
      "[CV] C=0.1, degree=3, gamma=0.001, kernel=poly .......................\n",
      "[CV]  C=0.1, degree=2, gamma=0.01, kernel=poly, score=0.38235294117647056, total=   0.2s\n",
      "[CV] C=0.1, degree=3, gamma=0.001, kernel=poly .......................\n",
      "[CV] C=0.1, degree=2, gamma=0.1, kernel=poly .........................\n",
      "[CV]  C=0.1, degree=2, gamma=0.1, kernel=poly, score=0.45714285714285713, total=   0.2s\n",
      "[CV] C=0.1, degree=2, gamma=0.1, kernel=poly .........................\n",
      "[CV]  C=0.1, degree=2, gamma=0.1, kernel=poly, score=0.42857142857142855, total=   0.2s\n",
      "[CV] C=0.1, degree=2, gamma=0.1, kernel=poly .........................\n"
     ]
    },
    {
     "name": "stderr",
     "output_type": "stream",
     "text": [
      "[Parallel(n_jobs=8)]: Done  74 tasks      | elapsed:    3.1s\n"
     ]
    },
    {
     "name": "stdout",
     "output_type": "stream",
     "text": [
      "[CV]  C=0.1, degree=3, gamma=0.0001, kernel=poly, score=0.2777777777777778, total=   0.2s\n",
      "[CV] C=0.1, degree=3, gamma=0.0001, kernel=poly ......................\n",
      "[CV]  C=0.1, degree=3, gamma=0.0001, kernel=poly, score=0.34285714285714286, total=   0.2s\n",
      "[CV] C=0.1, degree=3, gamma=0.0001, kernel=poly ......................\n",
      "[CV]  C=0.1, degree=3, gamma=0.0001, kernel=poly, score=0.35294117647058826, total=   0.2s\n",
      "[CV]  C=0.1, degree=3, gamma=0.001, kernel=poly, score=0.3142857142857143, total=   0.2s\n",
      "[CV]  C=0.1, degree=2, gamma=0.1, kernel=poly, score=0.4722222222222222, total=   0.1s\n",
      "[CV] C=0.1, degree=3, gamma=0.001, kernel=poly .......................\n",
      "[CV] C=0.1, degree=3, gamma=0.01, kernel=poly ........................\n",
      "[CV] C=0.1, degree=3, gamma=0.001, kernel=poly .......................\n",
      "[CV]  C=0.1, degree=3, gamma=0.001, kernel=poly, score=0.34285714285714286, total=   0.2s\n",
      "[CV]  C=0.1, degree=2, gamma=0.1, kernel=poly, score=0.5142857142857142, total=   0.1s\n",
      "[CV] C=0.1, degree=3, gamma=0.001, kernel=poly .......................\n",
      "[CV] C=0.1, degree=3, gamma=0.01, kernel=poly ........................\n",
      "[CV]  C=0.1, degree=2, gamma=0.1, kernel=poly, score=0.4117647058823529, total=   0.1s\n",
      "[CV] C=0.1, degree=3, gamma=0.01, kernel=poly ........................\n",
      "[CV]  C=0.1, degree=3, gamma=0.0001, kernel=poly, score=0.34285714285714286, total=   0.2s\n",
      "[CV] C=0.1, degree=3, gamma=0.1, kernel=poly .........................\n",
      "[CV]  C=0.1, degree=3, gamma=0.01, kernel=poly, score=0.4166666666666667, total=   0.2s\n",
      "[CV] C=0.1, degree=3, gamma=0.01, kernel=poly ........................\n",
      "[CV]  C=0.1, degree=3, gamma=0.001, kernel=poly, score=0.42857142857142855, total=   0.2s\n",
      "[CV]  C=0.1, degree=3, gamma=0.0001, kernel=poly, score=0.34285714285714286, total=   0.2s\n",
      "[CV]  C=0.1, degree=3, gamma=0.01, kernel=poly, score=0.45714285714285713, total=   0.1s\n",
      "[CV] C=0.1, degree=3, gamma=0.1, kernel=poly .........................\n",
      "[CV] C=0.1, degree=4, gamma=0.0001, kernel=poly ......................\n",
      "[CV] C=0.1, degree=3, gamma=0.01, kernel=poly ........................\n",
      "[CV]  C=0.1, degree=3, gamma=0.001, kernel=poly, score=0.38235294117647056, total=   0.1s\n",
      "[CV]  C=0.1, degree=3, gamma=0.001, kernel=poly, score=0.2777777777777778, total=   0.2s\n",
      "[CV]  C=0.1, degree=3, gamma=0.01, kernel=poly, score=0.29411764705882354, total=   0.1s\n",
      "[CV] C=0.1, degree=3, gamma=0.1, kernel=poly .........................\n",
      "[CV] C=0.1, degree=4, gamma=0.0001, kernel=poly ......................\n",
      "[CV] C=0.1, degree=4, gamma=0.0001, kernel=poly ......................\n",
      "[CV]  C=0.1, degree=3, gamma=0.1, kernel=poly, score=0.4, total=   0.2s\n",
      "[CV]  C=0.1, degree=3, gamma=0.01, kernel=poly, score=0.4, total=   0.1s\n",
      "[CV] C=0.1, degree=3, gamma=0.1, kernel=poly .........................\n",
      "[CV] C=0.1, degree=4, gamma=0.001, kernel=poly .......................\n",
      "[CV]  C=0.1, degree=3, gamma=0.01, kernel=poly, score=0.3142857142857143, total=   0.1s\n",
      "[CV]  C=0.1, degree=3, gamma=0.1, kernel=poly, score=0.3142857142857143, total=   0.1s\n",
      "[CV] C=0.1, degree=4, gamma=0.001, kernel=poly .......................\n",
      "[CV] C=0.1, degree=3, gamma=0.1, kernel=poly .........................\n",
      "[CV]  C=0.1, degree=4, gamma=0.0001, kernel=poly, score=0.2777777777777778, total=   0.2s\n",
      "[CV]  C=0.1, degree=3, gamma=0.1, kernel=poly, score=0.4166666666666667, total=   0.1s\n",
      "[CV] C=0.1, degree=4, gamma=0.0001, kernel=poly ......................\n",
      "[CV] C=0.1, degree=4, gamma=0.01, kernel=poly ........................\n",
      "[CV]  C=0.1, degree=4, gamma=0.0001, kernel=poly, score=0.35294117647058826, total=   0.2s\n",
      "[CV]  C=0.1, degree=4, gamma=0.0001, kernel=poly, score=0.34285714285714286, total=   0.2s\n",
      "[CV] C=0.1, degree=4, gamma=0.001, kernel=poly .......................\n",
      "[CV] C=0.1, degree=4, gamma=0.0001, kernel=poly ......................\n",
      "[CV]  C=0.1, degree=3, gamma=0.1, kernel=poly, score=0.45714285714285713, total=   0.2s\n"
     ]
    },
    {
     "name": "stderr",
     "output_type": "stream",
     "text": [
      "[Parallel(n_jobs=8)]: Done  96 tasks      | elapsed:    4.0s\n"
     ]
    },
    {
     "name": "stdout",
     "output_type": "stream",
     "text": [
      "[CV]  C=0.1, degree=3, gamma=0.1, kernel=poly, score=0.29411764705882354, total=   0.1s\n",
      "[CV] C=0.1, degree=4, gamma=0.01, kernel=poly ........................\n",
      "[CV] C=0.1, degree=4, gamma=0.01, kernel=poly ........................\n",
      "[CV]  C=0.1, degree=4, gamma=0.001, kernel=poly, score=0.45714285714285713, total=   0.2s\n",
      "[CV]  C=0.1, degree=4, gamma=0.001, kernel=poly, score=0.3142857142857143, total=   0.2s\n",
      "[CV] C=0.1, degree=4, gamma=0.001, kernel=poly .......................\n",
      "[CV] C=0.1, degree=4, gamma=0.001, kernel=poly .......................\n",
      "[CV]  C=0.1, degree=4, gamma=0.0001, kernel=poly, score=0.34285714285714286, total=   0.2s\n",
      "[CV] C=0.1, degree=4, gamma=0.1, kernel=poly .........................\n",
      "[CV]  C=0.1, degree=4, gamma=0.01, kernel=poly, score=0.4166666666666667, total=   0.1s\n",
      "[CV] C=0.1, degree=4, gamma=0.01, kernel=poly ........................\n",
      "[CV]  C=0.1, degree=4, gamma=0.001, kernel=poly, score=0.2777777777777778, total=   0.2s\n",
      "[CV]  C=0.1, degree=4, gamma=0.0001, kernel=poly, score=0.34285714285714286, total=   0.2s\n",
      "[CV] C=0.1, degree=4, gamma=0.1, kernel=poly .........................\n",
      "[CV] C=1, degree=2, gamma=0.0001, kernel=poly ........................\n",
      "[CV]  C=0.1, degree=4, gamma=0.01, kernel=poly, score=0.29411764705882354, total=   0.2s\n",
      "[CV] C=0.1, degree=4, gamma=0.1, kernel=poly .........................\n",
      "[CV]  C=0.1, degree=4, gamma=0.01, kernel=poly, score=0.45714285714285713, total=   0.2s\n",
      "[CV] C=0.1, degree=4, gamma=0.01, kernel=poly ........................\n",
      "[CV]  C=0.1, degree=4, gamma=0.1, kernel=poly, score=0.4, total=   0.2s\n",
      "[CV]  C=0.1, degree=4, gamma=0.001, kernel=poly, score=0.38235294117647056, total=   0.2s\n",
      "[CV]  C=0.1, degree=4, gamma=0.001, kernel=poly, score=0.6, total=   0.2s\n",
      "[CV] C=0.1, degree=4, gamma=0.1, kernel=poly .........................\n",
      "[CV] C=1, degree=2, gamma=0.0001, kernel=poly ........................\n",
      "[CV] C=1, degree=2, gamma=0.0001, kernel=poly ........................\n",
      "[CV]  C=0.1, degree=4, gamma=0.01, kernel=poly, score=0.4, total=   0.2s\n",
      "[CV]  C=0.1, degree=4, gamma=0.1, kernel=poly, score=0.2857142857142857, total=   0.2s\n",
      "[CV] C=1, degree=2, gamma=0.001, kernel=poly .........................\n",
      "[CV] C=0.1, degree=4, gamma=0.1, kernel=poly .........................\n",
      "[CV]  C=1, degree=2, gamma=0.0001, kernel=poly, score=0.2777777777777778, total=   0.2s\n",
      "[CV] C=1, degree=2, gamma=0.0001, kernel=poly ........................\n",
      "[CV]  C=0.1, degree=4, gamma=0.1, kernel=poly, score=0.4166666666666667, total=   0.2s\n",
      "[CV]  C=0.1, degree=4, gamma=0.01, kernel=poly, score=0.2857142857142857, total=   0.2s\n",
      "[CV] C=1, degree=2, gamma=0.001, kernel=poly .........................\n",
      "[CV] C=1, degree=2, gamma=0.01, kernel=poly ..........................\n",
      "[CV]  C=0.1, degree=4, gamma=0.1, kernel=poly, score=0.45714285714285713, total=   0.2s\n",
      "[CV]  C=1, degree=2, gamma=0.0001, kernel=poly, score=0.34285714285714286, total=   0.2s\n",
      "[CV] C=1, degree=2, gamma=0.0001, kernel=poly ........................\n",
      "[CV] C=1, degree=2, gamma=0.01, kernel=poly ..........................\n",
      "[CV]  C=0.1, degree=4, gamma=0.1, kernel=poly, score=0.29411764705882354, total=   0.2s\n",
      "[CV] C=1, degree=2, gamma=0.01, kernel=poly ..........................\n",
      "[CV]  C=1, degree=2, gamma=0.0001, kernel=poly, score=0.35294117647058826, total=   0.2s\n",
      "[CV] C=1, degree=2, gamma=0.001, kernel=poly .........................\n",
      "[CV]  C=1, degree=2, gamma=0.001, kernel=poly, score=0.42857142857142855, total=   0.1s\n",
      "[CV]  C=1, degree=2, gamma=0.0001, kernel=poly, score=0.34285714285714286, total=   0.2s\n",
      "[CV] C=1, degree=2, gamma=0.001, kernel=poly .........................\n",
      "[CV] C=1, degree=2, gamma=0.1, kernel=poly ...........................\n",
      "[CV]  C=1, degree=2, gamma=0.01, kernel=poly, score=0.4722222222222222, total=   0.2s\n",
      "[CV]  C=1, degree=2, gamma=0.001, kernel=poly, score=0.42857142857142855, total=   0.2s\n",
      "[CV] C=1, degree=2, gamma=0.01, kernel=poly ..........................\n",
      "[CV] C=1, degree=2, gamma=0.001, kernel=poly .........................\n",
      "[CV]  C=1, degree=2, gamma=0.01, kernel=poly, score=0.5142857142857142, total=   0.1s\n",
      "[CV] C=1, degree=2, gamma=0.01, kernel=poly ..........................\n"
     ]
    },
    {
     "name": "stderr",
     "output_type": "stream",
     "text": [
      "[Parallel(n_jobs=8)]: Done 122 tasks      | elapsed:    4.9s\n"
     ]
    },
    {
     "name": "stdout",
     "output_type": "stream",
     "text": [
      "[CV]  C=1, degree=2, gamma=0.01, kernel=poly, score=0.4117647058823529, total=   0.2s\n",
      "[CV]  C=1, degree=2, gamma=0.0001, kernel=poly, score=0.34285714285714286, total=   0.2s\n",
      "[CV] C=1, degree=2, gamma=0.1, kernel=poly ...........................\n",
      "[CV] C=1, degree=2, gamma=0.1, kernel=poly ...........................\n",
      "[CV]  C=1, degree=2, gamma=0.001, kernel=poly, score=0.6, total=   0.1s\n",
      "[CV] C=1, degree=3, gamma=0.0001, kernel=poly ........................\n",
      "[CV]  C=1, degree=2, gamma=0.1, kernel=poly, score=0.45714285714285713, total=   0.1s\n",
      "[CV]  C=1, degree=2, gamma=0.001, kernel=poly, score=0.3055555555555556, total=   0.1s\n",
      "[CV] C=1, degree=2, gamma=0.1, kernel=poly ...........................\n",
      "[CV] C=1, degree=3, gamma=0.0001, kernel=poly ........................\n",
      "[CV]  C=1, degree=2, gamma=0.01, kernel=poly, score=0.45714285714285713, total=   0.2s\n",
      "[CV] C=1, degree=3, gamma=0.0001, kernel=poly ........................\n",
      "[CV]  C=1, degree=2, gamma=0.001, kernel=poly, score=0.35294117647058826, total=   0.2s\n",
      "[CV]  C=1, degree=2, gamma=0.01, kernel=poly, score=0.42857142857142855, total=   0.2s\n",
      "[CV] C=1, degree=3, gamma=0.001, kernel=poly .........................\n",
      "[CV] C=1, degree=3, gamma=0.001, kernel=poly .........................\n",
      "[CV]  C=1, degree=2, gamma=0.1, kernel=poly, score=0.4722222222222222, total=   0.2s\n",
      "[CV]  C=1, degree=2, gamma=0.1, kernel=poly, score=0.42857142857142855, total=   0.2s\n",
      "[CV] C=1, degree=3, gamma=0.01, kernel=poly ..........................\n",
      "[CV] C=1, degree=2, gamma=0.1, kernel=poly ...........................\n",
      "[CV]  C=1, degree=3, gamma=0.0001, kernel=poly, score=0.2777777777777778, total=   0.2s\n",
      "[CV]  C=1, degree=2, gamma=0.1, kernel=poly, score=0.5142857142857142, total=   0.1s\n",
      "[CV] C=1, degree=3, gamma=0.0001, kernel=poly ........................\n",
      "[CV] C=1, degree=3, gamma=0.01, kernel=poly ..........................\n",
      "[CV]  C=1, degree=3, gamma=0.0001, kernel=poly, score=0.34285714285714286, total=   0.2s\n",
      "[CV] C=1, degree=3, gamma=0.0001, kernel=poly ........................\n",
      "[CV]  C=1, degree=3, gamma=0.0001, kernel=poly, score=0.35294117647058826, total=   0.2s\n",
      "[CV] C=1, degree=3, gamma=0.001, kernel=poly .........................\n",
      "[CV]  C=1, degree=3, gamma=0.001, kernel=poly, score=0.37142857142857144, total=   0.2s\n",
      "[CV] C=1, degree=3, gamma=0.001, kernel=poly .........................\n",
      "[CV]  C=1, degree=3, gamma=0.01, kernel=poly, score=0.4166666666666667, total=   0.1s\n",
      "[CV] C=1, degree=3, gamma=0.01, kernel=poly ..........................\n",
      "[CV]  C=1, degree=3, gamma=0.001, kernel=poly, score=0.34285714285714286, total=   0.2s\n",
      "[CV] C=1, degree=3, gamma=0.001, kernel=poly .........................\n",
      "[CV]  C=1, degree=2, gamma=0.1, kernel=poly, score=0.4117647058823529, total=   0.1s\n",
      "[CV] C=1, degree=3, gamma=0.01, kernel=poly ..........................\n",
      "[CV]  C=1, degree=3, gamma=0.0001, kernel=poly, score=0.34285714285714286, total=   0.1s\n",
      "[CV] C=1, degree=3, gamma=0.1, kernel=poly ...........................\n",
      "[CV]  C=1, degree=3, gamma=0.01, kernel=poly, score=0.45714285714285713, total=   0.2s\n",
      "[CV] C=1, degree=3, gamma=0.01, kernel=poly ..........................\n",
      "[CV]  C=1, degree=3, gamma=0.001, kernel=poly, score=0.3055555555555556, total=   0.1s\n",
      "[CV] C=1, degree=3, gamma=0.1, kernel=poly ...........................\n",
      "[CV]  C=1, degree=3, gamma=0.0001, kernel=poly, score=0.34285714285714286, total=   0.2s\n",
      "[CV] C=1, degree=4, gamma=0.0001, kernel=poly ........................\n",
      "[CV]  C=1, degree=3, gamma=0.01, kernel=poly, score=0.4, total=   0.1s\n",
      "[CV]  C=1, degree=3, gamma=0.001, kernel=poly, score=0.3235294117647059, total=   0.1s\n",
      "[CV] C=1, degree=4, gamma=0.0001, kernel=poly ........................\n",
      "[CV] C=1, degree=4, gamma=0.0001, kernel=poly ........................\n",
      "[CV]  C=1, degree=3, gamma=0.01, kernel=poly, score=0.29411764705882354, total=   0.2s\n",
      "[CV] C=1, degree=3, gamma=0.1, kernel=poly ...........................\n",
      "[CV]  C=1, degree=3, gamma=0.001, kernel=poly, score=0.42857142857142855, total=   0.2s\n",
      "[CV] C=1, degree=4, gamma=0.001, kernel=poly .........................\n",
      "[CV] . C=1, degree=3, gamma=0.1, kernel=poly, score=0.4, total=   0.2s\n",
      "[CV]  C=1, degree=3, gamma=0.01, kernel=poly, score=0.3142857142857143, total=   0.2s\n",
      "[CV] C=1, degree=3, gamma=0.1, kernel=poly ...........................\n",
      "[CV] C=1, degree=4, gamma=0.001, kernel=poly .........................\n"
     ]
    },
    {
     "name": "stderr",
     "output_type": "stream",
     "text": [
      "[Parallel(n_jobs=8)]: Done 148 tasks      | elapsed:    6.0s\n"
     ]
    },
    {
     "name": "stdout",
     "output_type": "stream",
     "text": [
      "[CV]  C=1, degree=3, gamma=0.1, kernel=poly, score=0.3142857142857143, total=   0.1s\n",
      "[CV] C=1, degree=3, gamma=0.1, kernel=poly ...........................\n",
      "[CV]  C=1, degree=4, gamma=0.0001, kernel=poly, score=0.2777777777777778, total=   0.2s\n",
      "[CV]  C=1, degree=3, gamma=0.1, kernel=poly, score=0.4166666666666667, total=   0.1s\n",
      "[CV]  C=1, degree=4, gamma=0.0001, kernel=poly, score=0.35294117647058826, total=   0.2s\n",
      "[CV]  C=1, degree=4, gamma=0.0001, kernel=poly, score=0.34285714285714286, total=   0.2s\n",
      "[CV] C=1, degree=4, gamma=0.0001, kernel=poly ........................\n",
      "[CV] C=1, degree=4, gamma=0.001, kernel=poly .........................\n",
      "[CV] C=1, degree=4, gamma=0.0001, kernel=poly ........................\n",
      "[CV] C=1, degree=4, gamma=0.01, kernel=poly ..........................\n",
      "[CV]  C=1, degree=4, gamma=0.001, kernel=poly, score=0.3142857142857143, total=   0.1s\n",
      "[CV] C=1, degree=4, gamma=0.001, kernel=poly .........................\n",
      "[CV]  C=1, degree=4, gamma=0.001, kernel=poly, score=0.34285714285714286, total=   0.2s\n",
      "[CV] C=1, degree=4, gamma=0.001, kernel=poly .........................\n",
      "[CV]  C=1, degree=3, gamma=0.1, kernel=poly, score=0.45714285714285713, total=   0.2s\n",
      "[CV] C=1, degree=4, gamma=0.01, kernel=poly ..........................\n",
      "[CV]  C=1, degree=3, gamma=0.1, kernel=poly, score=0.29411764705882354, total=   0.1s\n",
      "[CV] C=1, degree=4, gamma=0.01, kernel=poly ..........................\n",
      "[CV]  C=1, degree=4, gamma=0.01, kernel=poly, score=0.4166666666666667, total=   0.2s\n",
      "[CV] C=1, degree=4, gamma=0.01, kernel=poly ..........................\n",
      "[CV]  C=1, degree=4, gamma=0.0001, kernel=poly, score=0.34285714285714286, total=   0.2s\n",
      "[CV]  C=1, degree=4, gamma=0.001, kernel=poly, score=0.4, total=   0.2s\n",
      "[CV]  C=1, degree=4, gamma=0.001, kernel=poly, score=0.3055555555555556, total=   0.2s\n",
      "[CV]  C=1, degree=4, gamma=0.0001, kernel=poly, score=0.34285714285714286, total=   0.2s\n",
      "[CV] C=1, degree=4, gamma=0.1, kernel=poly ...........................\n",
      "[CV] C=1, degree=4, gamma=0.1, kernel=poly ...........................\n",
      "[CV] C=10, degree=2, gamma=0.0001, kernel=poly .......................\n",
      "[CV]  C=1, degree=4, gamma=0.001, kernel=poly, score=0.35294117647058826, total=   0.1s\n",
      "[CV] C=10, degree=2, gamma=0.0001, kernel=poly .......................\n",
      "[CV] C=10, degree=2, gamma=0.0001, kernel=poly .......................\n",
      "[CV]  C=1, degree=4, gamma=0.01, kernel=poly, score=0.45714285714285713, total=   0.1s\n",
      "[CV] C=1, degree=4, gamma=0.01, kernel=poly ..........................\n",
      "[CV]  C=1, degree=4, gamma=0.01, kernel=poly, score=0.29411764705882354, total=   0.1s\n",
      "[CV] C=1, degree=4, gamma=0.1, kernel=poly ...........................\n",
      "[CV]  C=1, degree=4, gamma=0.01, kernel=poly, score=0.4, total=   0.2s\n",
      "[CV] C=10, degree=2, gamma=0.001, kernel=poly ........................\n",
      "[CV]  C=1, degree=4, gamma=0.1, kernel=poly, score=0.2857142857142857, total=   0.2s\n",
      "[CV] C=1, degree=4, gamma=0.1, kernel=poly ...........................\n",
      "[CV] . C=1, degree=4, gamma=0.1, kernel=poly, score=0.4, total=   0.2s\n",
      "[CV]  C=10, degree=2, gamma=0.0001, kernel=poly, score=0.2777777777777778, total=   0.2s\n",
      "[CV] C=1, degree=4, gamma=0.1, kernel=poly ...........................\n",
      "[CV]  C=10, degree=2, gamma=0.0001, kernel=poly, score=0.3235294117647059, total=   0.1s\n",
      "[CV] C=10, degree=2, gamma=0.001, kernel=poly ........................\n",
      "[CV] C=10, degree=2, gamma=0.0001, kernel=poly .......................\n",
      "[CV]  C=10, degree=2, gamma=0.0001, kernel=poly, score=0.34285714285714286, total=   0.2s\n",
      "[CV]  C=1, degree=4, gamma=0.1, kernel=poly, score=0.4166666666666667, total=   0.1s\n",
      "[CV] C=10, degree=2, gamma=0.0001, kernel=poly .......................\n",
      "[CV] C=10, degree=2, gamma=0.001, kernel=poly ........................\n",
      "[CV]  C=1, degree=4, gamma=0.01, kernel=poly, score=0.2857142857142857, total=   0.1s\n",
      "[CV] C=10, degree=2, gamma=0.01, kernel=poly .........................\n",
      "[CV]  C=1, degree=4, gamma=0.1, kernel=poly, score=0.29411764705882354, total=   0.2s\n",
      "[CV] C=10, degree=2, gamma=0.01, kernel=poly .........................\n",
      "[CV]  C=1, degree=4, gamma=0.1, kernel=poly, score=0.45714285714285713, total=   0.1s\n",
      "[CV]  C=10, degree=2, gamma=0.001, kernel=poly, score=0.4857142857142857, total=   0.2s\n",
      "[CV] C=10, degree=2, gamma=0.01, kernel=poly .........................\n",
      "[CV] C=10, degree=2, gamma=0.001, kernel=poly ........................\n",
      "[CV]  C=10, degree=2, gamma=0.01, kernel=poly, score=0.4722222222222222, total=   0.1s\n",
      "[CV] C=10, degree=2, gamma=0.01, kernel=poly .........................\n",
      "[CV]  C=10, degree=2, gamma=0.001, kernel=poly, score=0.4722222222222222, total=   0.2s\n",
      "[CV]  C=10, degree=2, gamma=0.0001, kernel=poly, score=0.4, total=   0.2s\n",
      "[CV]  C=10, degree=2, gamma=0.0001, kernel=poly, score=0.2857142857142857, total=   0.2s\n",
      "[CV] C=10, degree=2, gamma=0.1, kernel=poly ..........................\n",
      "[CV]  C=10, degree=2, gamma=0.001, kernel=poly, score=0.42857142857142855, total=   0.2s\n",
      "[CV] C=10, degree=3, gamma=0.0001, kernel=poly .......................\n",
      "[CV] C=10, degree=2, gamma=0.001, kernel=poly ........................\n",
      "[CV] C=10, degree=2, gamma=0.1, kernel=poly ..........................\n"
     ]
    },
    {
     "name": "stderr",
     "output_type": "stream",
     "text": [
      "[Parallel(n_jobs=8)]: Done 178 tasks      | elapsed:    7.2s\n"
     ]
    },
    {
     "name": "stdout",
     "output_type": "stream",
     "text": [
      "[CV]  C=10, degree=2, gamma=0.01, kernel=poly, score=0.4117647058823529, total=   0.2s\n",
      "[CV]  C=10, degree=2, gamma=0.01, kernel=poly, score=0.5142857142857142, total=   0.2s\n",
      "[CV] C=10, degree=2, gamma=0.1, kernel=poly ..........................\n",
      "[CV] C=10, degree=2, gamma=0.01, kernel=poly .........................\n",
      "[CV]  C=10, degree=2, gamma=0.001, kernel=poly, score=0.5142857142857142, total=   0.2s\n",
      "[CV] C=10, degree=3, gamma=0.0001, kernel=poly .......................\n",
      "[CV]  C=10, degree=2, gamma=0.01, kernel=poly, score=0.45714285714285713, total=   0.2s\n",
      "[CV]  C=10, degree=2, gamma=0.1, kernel=poly, score=0.42857142857142855, total=   0.1s\n",
      "[CV] C=10, degree=2, gamma=0.1, kernel=poly ..........................\n",
      "[CV] C=10, degree=3, gamma=0.0001, kernel=poly .......................\n",
      "[CV]  C=10, degree=2, gamma=0.001, kernel=poly, score=0.38235294117647056, total=   0.1s\n",
      "[CV]  C=10, degree=2, gamma=0.1, kernel=poly, score=0.45714285714285713, total=   0.1s\n",
      "[CV] C=10, degree=3, gamma=0.001, kernel=poly ........................\n",
      "[CV] C=10, degree=2, gamma=0.1, kernel=poly ..........................\n",
      "[CV]  C=10, degree=3, gamma=0.0001, kernel=poly, score=0.2777777777777778, total=   0.2s\n",
      "[CV] C=10, degree=3, gamma=0.0001, kernel=poly .......................\n",
      "[CV]  C=10, degree=2, gamma=0.01, kernel=poly, score=0.42857142857142855, total=   0.2s\n",
      "[CV]  C=10, degree=2, gamma=0.1, kernel=poly, score=0.4722222222222222, total=   0.2s\n",
      "[CV] C=10, degree=3, gamma=0.01, kernel=poly .........................\n",
      "[CV] C=10, degree=3, gamma=0.001, kernel=poly ........................\n",
      "[CV]  C=10, degree=2, gamma=0.1, kernel=poly, score=0.4117647058823529, total=   0.1s\n",
      "[CV] C=10, degree=3, gamma=0.01, kernel=poly .........................\n",
      "[CV]  C=10, degree=2, gamma=0.1, kernel=poly, score=0.5142857142857142, total=   0.1s\n",
      "[CV] C=10, degree=3, gamma=0.01, kernel=poly .........................\n",
      "[CV]  C=10, degree=3, gamma=0.001, kernel=poly, score=0.42857142857142855, total=   0.2s\n",
      "[CV] C=10, degree=3, gamma=0.001, kernel=poly ........................\n",
      "[CV]  C=10, degree=3, gamma=0.0001, kernel=poly, score=0.34285714285714286, total=   0.2s\n",
      "[CV] C=10, degree=3, gamma=0.0001, kernel=poly .......................\n",
      "[CV]  C=10, degree=3, gamma=0.0001, kernel=poly, score=0.35294117647058826, total=   0.2s\n",
      "[CV]  C=10, degree=3, gamma=0.0001, kernel=poly, score=0.34285714285714286, total=   0.2s\n",
      "[CV] C=10, degree=3, gamma=0.001, kernel=poly ........................\n",
      "[CV] C=10, degree=3, gamma=0.1, kernel=poly ..........................\n",
      "[CV]  C=10, degree=3, gamma=0.01, kernel=poly, score=0.45714285714285713, total=   0.1s\n",
      "[CV] C=10, degree=3, gamma=0.01, kernel=poly .........................\n",
      "[CV]  C=10, degree=3, gamma=0.01, kernel=poly, score=0.29411764705882354, total=   0.1s\n",
      "[CV] C=10, degree=3, gamma=0.1, kernel=poly ..........................\n",
      "[CV]  C=10, degree=3, gamma=0.001, kernel=poly, score=0.45714285714285713, total=   0.1s\n",
      "[CV]  C=10, degree=3, gamma=0.01, kernel=poly, score=0.4166666666666667, total=   0.2s\n",
      "[CV] C=10, degree=3, gamma=0.1, kernel=poly ..........................\n",
      "[CV]  C=10, degree=3, gamma=0.001, kernel=poly, score=0.2857142857142857, total=   0.2s\n",
      "[CV] C=10, degree=3, gamma=0.01, kernel=poly .........................\n",
      "[CV] C=10, degree=3, gamma=0.001, kernel=poly ........................\n",
      "[CV]  C=10, degree=3, gamma=0.1, kernel=poly, score=0.4, total=   0.1s\n",
      "[CV] C=10, degree=3, gamma=0.1, kernel=poly ..........................\n",
      "[CV]  C=10, degree=3, gamma=0.0001, kernel=poly, score=0.34285714285714286, total=   0.2s\n",
      "[CV] C=10, degree=4, gamma=0.0001, kernel=poly .......................\n",
      "[CV]  C=10, degree=3, gamma=0.001, kernel=poly, score=0.4444444444444444, total=   0.2s\n",
      "[CV] C=10, degree=4, gamma=0.0001, kernel=poly .......................\n",
      "[CV]  C=10, degree=3, gamma=0.01, kernel=poly, score=0.3142857142857143, total=   0.1s\n",
      "[CV]  C=10, degree=3, gamma=0.1, kernel=poly, score=0.4166666666666667, total=   0.1s\n",
      "[CV] C=10, degree=4, gamma=0.0001, kernel=poly .......................\n",
      "[CV] C=10, degree=4, gamma=0.001, kernel=poly ........................\n",
      "[CV]  C=10, degree=3, gamma=0.1, kernel=poly, score=0.3142857142857143, total=   0.2s\n",
      "[CV]  C=10, degree=3, gamma=0.01, kernel=poly, score=0.4, total=   0.2s\n",
      "[CV] C=10, degree=3, gamma=0.1, kernel=poly ..........................\n",
      "[CV] C=10, degree=4, gamma=0.001, kernel=poly ........................\n",
      "[CV]  C=10, degree=3, gamma=0.001, kernel=poly, score=0.29411764705882354, total=   0.1s\n",
      "[CV] C=10, degree=4, gamma=0.01, kernel=poly .........................\n"
     ]
    },
    {
     "name": "stderr",
     "output_type": "stream",
     "text": [
      "[Parallel(n_jobs=8)]: Done 208 tasks      | elapsed:    8.3s\n"
     ]
    },
    {
     "name": "stdout",
     "output_type": "stream",
     "text": [
      "[CV]  C=10, degree=3, gamma=0.1, kernel=poly, score=0.45714285714285713, total=   0.2s\n",
      "[CV] C=10, degree=4, gamma=0.01, kernel=poly .........................\n",
      "[CV]  C=10, degree=4, gamma=0.0001, kernel=poly, score=0.2777777777777778, total=   0.2s\n",
      "[CV] C=10, degree=4, gamma=0.0001, kernel=poly .......................\n",
      "[CV]  C=10, degree=4, gamma=0.0001, kernel=poly, score=0.34285714285714286, total=   0.2s\n",
      "[CV] C=10, degree=4, gamma=0.0001, kernel=poly .......................\n",
      "[CV]  C=10, degree=4, gamma=0.001, kernel=poly, score=0.42857142857142855, total=   0.2s\n",
      "[CV] C=10, degree=4, gamma=0.001, kernel=poly ........................\n",
      "[CV]  C=10, degree=3, gamma=0.1, kernel=poly, score=0.29411764705882354, total=   0.1s\n",
      "[CV]  C=10, degree=4, gamma=0.0001, kernel=poly, score=0.35294117647058826, total=   0.2s\n",
      "[CV] C=10, degree=4, gamma=0.01, kernel=poly .........................\n",
      "[CV]  C=10, degree=4, gamma=0.001, kernel=poly, score=0.2857142857142857, total=   0.2s\n",
      "[CV] C=10, degree=4, gamma=0.001, kernel=poly ........................\n",
      "[CV] C=10, degree=4, gamma=0.001, kernel=poly ........................\n",
      "[CV]  C=10, degree=4, gamma=0.01, kernel=poly, score=0.4166666666666667, total=   0.1s\n",
      "[CV] C=10, degree=4, gamma=0.01, kernel=poly .........................\n",
      "[CV]  C=10, degree=4, gamma=0.01, kernel=poly, score=0.45714285714285713, total=   0.1s\n",
      "[CV] C=10, degree=4, gamma=0.01, kernel=poly .........................\n",
      "[CV]  C=10, degree=4, gamma=0.0001, kernel=poly, score=0.34285714285714286, total=   0.2s\n",
      "[CV] C=10, degree=4, gamma=0.1, kernel=poly ..........................\n",
      "[CV]  C=10, degree=4, gamma=0.0001, kernel=poly, score=0.34285714285714286, total=   0.2s\n",
      "[CV] C=10, degree=4, gamma=0.1, kernel=poly ..........................\n",
      "[CV]  C=10, degree=4, gamma=0.01, kernel=poly, score=0.29411764705882354, total=   0.2s\n",
      "[CV] C=10, degree=4, gamma=0.1, kernel=poly ..........................\n",
      "[CV]  C=10, degree=4, gamma=0.001, kernel=poly, score=0.42857142857142855, total=   0.2s\n",
      "[CV] C=100, degree=2, gamma=0.0001, kernel=poly ......................\n",
      "[CV]  C=10, degree=4, gamma=0.001, kernel=poly, score=0.4444444444444444, total=   0.2s\n",
      "[CV] C=100, degree=2, gamma=0.0001, kernel=poly ......................\n",
      "[CV]  C=10, degree=4, gamma=0.01, kernel=poly, score=0.4, total=   0.1s\n",
      "[CV] C=100, degree=2, gamma=0.0001, kernel=poly ......................\n",
      "[CV]  C=10, degree=4, gamma=0.001, kernel=poly, score=0.29411764705882354, total=   0.2s\n",
      "[CV] C=100, degree=2, gamma=0.001, kernel=poly .......................\n",
      "[CV]  C=10, degree=4, gamma=0.01, kernel=poly, score=0.2857142857142857, total=   0.1s\n",
      "[CV] C=100, degree=2, gamma=0.001, kernel=poly .......................\n",
      "[CV]  C=10, degree=4, gamma=0.1, kernel=poly, score=0.2857142857142857, total=   0.1s\n",
      "[CV] C=10, degree=4, gamma=0.1, kernel=poly ..........................\n",
      "[CV]  C=10, degree=4, gamma=0.1, kernel=poly, score=0.4166666666666667, total=   0.1s\n",
      "[CV] C=100, degree=2, gamma=0.01, kernel=poly ........................\n",
      "[CV]  C=100, degree=2, gamma=0.0001, kernel=poly, score=0.3055555555555556, total=   0.1s\n",
      "[CV] C=100, degree=2, gamma=0.0001, kernel=poly ......................\n",
      "[CV]  C=100, degree=2, gamma=0.0001, kernel=poly, score=0.6, total=   0.1s\n",
      "[CV] C=100, degree=2, gamma=0.0001, kernel=poly ......................\n",
      "[CV]  C=10, degree=4, gamma=0.1, kernel=poly, score=0.4, total=   0.2s\n",
      "[CV] C=10, degree=4, gamma=0.1, kernel=poly ..........................\n",
      "[CV]  C=10, degree=4, gamma=0.1, kernel=poly, score=0.29411764705882354, total=   0.1s\n",
      "[CV] C=100, degree=2, gamma=0.01, kernel=poly ........................\n",
      "[CV]  C=100, degree=2, gamma=0.0001, kernel=poly, score=0.35294117647058826, total=   0.2s\n",
      "[CV]  C=100, degree=2, gamma=0.001, kernel=poly, score=0.42857142857142855, total=   0.2s\n",
      "[CV] C=100, degree=2, gamma=0.001, kernel=poly .......................\n",
      "[CV]  C=100, degree=2, gamma=0.001, kernel=poly, score=0.45714285714285713, total=   0.2s\n",
      "[CV] C=100, degree=2, gamma=0.001, kernel=poly .......................\n",
      "[CV]  C=100, degree=2, gamma=0.01, kernel=poly, score=0.4722222222222222, total=   0.1s\n",
      "[CV] C=100, degree=2, gamma=0.001, kernel=poly .......................\n",
      "[CV] C=100, degree=2, gamma=0.01, kernel=poly ........................\n",
      "[CV]  C=100, degree=2, gamma=0.0001, kernel=poly, score=0.42857142857142855, total=   0.1s\n",
      "[CV] C=100, degree=2, gamma=0.01, kernel=poly ........................\n",
      "[CV]  C=100, degree=2, gamma=0.0001, kernel=poly, score=0.42857142857142855, total=   0.1s\n",
      "[CV] C=100, degree=2, gamma=0.1, kernel=poly .........................\n",
      "[CV]  C=10, degree=4, gamma=0.1, kernel=poly, score=0.45714285714285713, total=   0.2s\n",
      "[CV] C=100, degree=2, gamma=0.1, kernel=poly .........................\n",
      "[CV]  C=100, degree=2, gamma=0.001, kernel=poly, score=0.4722222222222222, total=   0.1s\n",
      "[CV]  C=100, degree=2, gamma=0.001, kernel=poly, score=0.4117647058823529, total=   0.1s\n",
      "[CV] C=100, degree=3, gamma=0.0001, kernel=poly ......................\n",
      "[CV]  C=100, degree=2, gamma=0.001, kernel=poly, score=0.5142857142857142, total=   0.2s\n",
      "[CV]  C=100, degree=2, gamma=0.01, kernel=poly, score=0.5142857142857142, total=   0.2s\n",
      "[CV] C=100, degree=3, gamma=0.0001, kernel=poly ......................\n",
      "[CV] C=100, degree=2, gamma=0.01, kernel=poly ........................\n",
      "[CV] C=100, degree=3, gamma=0.0001, kernel=poly ......................\n",
      "[CV]  C=100, degree=2, gamma=0.01, kernel=poly, score=0.45714285714285713, total=   0.1s\n"
     ]
    },
    {
     "name": "stderr",
     "output_type": "stream",
     "text": [
      "[Parallel(n_jobs=8)]: Done 242 tasks      | elapsed:    9.6s\n"
     ]
    },
    {
     "name": "stdout",
     "output_type": "stream",
     "text": [
      "[CV] C=100, degree=3, gamma=0.001, kernel=poly .......................\n",
      "[CV]  C=100, degree=2, gamma=0.01, kernel=poly, score=0.4117647058823529, total=   0.2s\n",
      "[CV] C=100, degree=2, gamma=0.1, kernel=poly .........................\n",
      "[CV]  C=100, degree=2, gamma=0.1, kernel=poly, score=0.42857142857142855, total=   0.2s\n",
      "[CV]  C=100, degree=2, gamma=0.1, kernel=poly, score=0.45714285714285713, total=   0.2s\n",
      "[CV] C=100, degree=2, gamma=0.1, kernel=poly .........................\n",
      "[CV] C=100, degree=2, gamma=0.1, kernel=poly .........................\n",
      "[CV]  C=100, degree=3, gamma=0.0001, kernel=poly, score=0.2777777777777778, total=   0.2s\n",
      "[CV]  C=100, degree=3, gamma=0.0001, kernel=poly, score=0.42857142857142855, total=   0.2s\n",
      "[CV] C=100, degree=3, gamma=0.0001, kernel=poly ......................\n",
      "[CV]  C=100, degree=2, gamma=0.01, kernel=poly, score=0.42857142857142855, total=   0.1s\n",
      "[CV] C=100, degree=3, gamma=0.0001, kernel=poly ......................\n",
      "[CV] C=100, degree=3, gamma=0.001, kernel=poly .......................\n",
      "[CV]  C=100, degree=3, gamma=0.001, kernel=poly, score=0.4, total=   0.1s\n",
      "[CV]  C=100, degree=3, gamma=0.0001, kernel=poly, score=0.38235294117647056, total=   0.2s\n",
      "[CV] C=100, degree=3, gamma=0.001, kernel=poly .......................\n",
      "[CV] C=100, degree=3, gamma=0.001, kernel=poly .......................\n",
      "[CV]  C=100, degree=2, gamma=0.1, kernel=poly, score=0.4722222222222222, total=   0.1s\n",
      "[CV] C=100, degree=3, gamma=0.01, kernel=poly ........................\n",
      "[CV]  C=100, degree=2, gamma=0.1, kernel=poly, score=0.4117647058823529, total=   0.1s\n",
      "[CV] C=100, degree=3, gamma=0.01, kernel=poly ........................\n",
      "[CV]  C=100, degree=2, gamma=0.1, kernel=poly, score=0.5142857142857142, total=   0.1s\n",
      "[CV] C=100, degree=3, gamma=0.01, kernel=poly ........................\n",
      "[CV]  C=100, degree=3, gamma=0.001, kernel=poly, score=0.3142857142857143, total=   0.1s\n",
      "[CV] C=100, degree=3, gamma=0.001, kernel=poly .......................\n",
      "[CV]  C=100, degree=3, gamma=0.001, kernel=poly, score=0.4166666666666667, total=   0.1s\n",
      "[CV]  C=100, degree=3, gamma=0.001, kernel=poly, score=0.45714285714285713, total=   0.2s\n",
      "[CV] C=100, degree=3, gamma=0.1, kernel=poly .........................\n",
      "[CV] C=100, degree=3, gamma=0.1, kernel=poly .........................\n",
      "[CV]  C=100, degree=3, gamma=0.01, kernel=poly, score=0.4166666666666667, total=   0.1s\n",
      "[CV]  C=100, degree=3, gamma=0.0001, kernel=poly, score=0.3142857142857143, total=   0.2s\n",
      "[CV] C=100, degree=3, gamma=0.01, kernel=poly ........................\n",
      "[CV] C=100, degree=4, gamma=0.0001, kernel=poly ......................\n",
      "[CV]  C=100, degree=3, gamma=0.0001, kernel=poly, score=0.34285714285714286, total=   0.2s\n",
      "[CV] C=100, degree=4, gamma=0.0001, kernel=poly ......................\n",
      "[CV]  C=100, degree=3, gamma=0.01, kernel=poly, score=0.45714285714285713, total=   0.2s\n",
      "[CV] C=100, degree=3, gamma=0.01, kernel=poly ........................\n",
      "[CV]  C=100, degree=3, gamma=0.001, kernel=poly, score=0.29411764705882354, total=   0.1s\n",
      "[CV] C=100, degree=4, gamma=0.0001, kernel=poly ......................\n",
      "[CV]  C=100, degree=3, gamma=0.01, kernel=poly, score=0.29411764705882354, total=   0.2s\n",
      "[CV]  C=100, degree=3, gamma=0.1, kernel=poly, score=0.3142857142857143, total=   0.1s\n",
      "[CV]  C=100, degree=3, gamma=0.1, kernel=poly, score=0.4, total=   0.1s\n",
      "[CV] C=100, degree=3, gamma=0.1, kernel=poly .........................\n",
      "[CV] C=100, degree=3, gamma=0.1, kernel=poly .........................\n",
      "[CV] C=100, degree=3, gamma=0.1, kernel=poly .........................\n",
      "[CV]  C=100, degree=3, gamma=0.01, kernel=poly, score=0.4, total=   0.1s\n",
      "[CV] C=100, degree=4, gamma=0.001, kernel=poly .......................\n",
      "[CV]  C=100, degree=4, gamma=0.0001, kernel=poly, score=0.2777777777777778, total=   0.2s\n",
      "[CV] C=100, degree=4, gamma=0.0001, kernel=poly ......................\n",
      "[CV]  C=100, degree=4, gamma=0.0001, kernel=poly, score=0.34285714285714286, total=   0.2s\n",
      "[CV] C=100, degree=4, gamma=0.0001, kernel=poly ......................\n",
      "[CV]  C=100, degree=4, gamma=0.0001, kernel=poly, score=0.35294117647058826, total=   0.1s\n",
      "[CV] C=100, degree=4, gamma=0.001, kernel=poly .......................\n",
      "[CV]  C=100, degree=3, gamma=0.1, kernel=poly, score=0.45714285714285713, total=   0.1s\n",
      "[CV]  C=100, degree=3, gamma=0.1, kernel=poly, score=0.29411764705882354, total=   0.1s\n",
      "[CV] C=100, degree=4, gamma=0.001, kernel=poly .......................\n",
      "[CV]  C=100, degree=3, gamma=0.01, kernel=poly, score=0.3142857142857143, total=   0.2s\n",
      "[CV]  C=100, degree=4, gamma=0.001, kernel=poly, score=0.4, total=   0.1s\n",
      "[CV] C=100, degree=4, gamma=0.01, kernel=poly ........................\n",
      "[CV] C=100, degree=4, gamma=0.01, kernel=poly ........................\n",
      "[CV] C=100, degree=4, gamma=0.001, kernel=poly .......................\n",
      "[CV]  C=100, degree=3, gamma=0.1, kernel=poly, score=0.4166666666666667, total=   0.1s\n",
      "[CV] C=100, degree=4, gamma=0.01, kernel=poly ........................\n",
      "[CV]  C=100, degree=4, gamma=0.01, kernel=poly, score=0.4166666666666667, total=   0.1s\n",
      "[CV]  C=100, degree=4, gamma=0.0001, kernel=poly, score=0.34285714285714286, total=   0.2s\n",
      "[CV]  C=100, degree=4, gamma=0.001, kernel=poly, score=0.4444444444444444, total=   0.2s\n",
      "[CV]  C=100, degree=4, gamma=0.001, kernel=poly, score=0.2857142857142857, total=   0.2s\n",
      "[CV] C=100, degree=4, gamma=0.001, kernel=poly .......................\n",
      "[CV]  C=100, degree=4, gamma=0.0001, kernel=poly, score=0.34285714285714286, total=   0.2s\n",
      "[CV] C=100, degree=4, gamma=0.01, kernel=poly ........................\n",
      "[CV] C=100, degree=4, gamma=0.1, kernel=poly .........................\n",
      "[CV]  C=100, degree=4, gamma=0.01, kernel=poly, score=0.45714285714285713, total=   0.2s\n",
      "[CV] C=100, degree=4, gamma=0.1, kernel=poly .........................\n",
      "[CV] C=100, degree=4, gamma=0.01, kernel=poly ........................\n",
      "[CV]  C=100, degree=4, gamma=0.01, kernel=poly, score=0.29411764705882354, total=   0.1s\n",
      "[CV]  C=100, degree=4, gamma=0.001, kernel=poly, score=0.45714285714285713, total=   0.2s\n",
      "[CV] C=100, degree=4, gamma=0.1, kernel=poly .........................\n",
      "[CV]  C=100, degree=4, gamma=0.001, kernel=poly, score=0.3235294117647059, total=   0.1s\n",
      "[CV]  C=100, degree=4, gamma=0.1, kernel=poly, score=0.2857142857142857, total=   0.1s\n",
      "[CV]  C=100, degree=4, gamma=0.01, kernel=poly, score=0.4, total=   0.1s\n",
      "[CV]  C=100, degree=4, gamma=0.01, kernel=poly, score=0.2857142857142857, total=   0.1s\n",
      "[CV] C=100, degree=4, gamma=0.1, kernel=poly .........................\n",
      "[CV]  C=100, degree=4, gamma=0.1, kernel=poly, score=0.4, total=   0.2s\n",
      "[CV] C=100, degree=4, gamma=0.1, kernel=poly .........................\n",
      "[CV]  C=100, degree=4, gamma=0.1, kernel=poly, score=0.4166666666666667, total=   0.1s\n",
      "[CV]  C=100, degree=4, gamma=0.1, kernel=poly, score=0.29411764705882354, total=   0.1s\n",
      "[CV]  C=100, degree=4, gamma=0.1, kernel=poly, score=0.45714285714285713, total=   0.0s\n"
     ]
    },
    {
     "name": "stderr",
     "output_type": "stream",
     "text": [
      "[Parallel(n_jobs=8)]: Done 300 out of 300 | elapsed:   11.4s finished\n"
     ]
    }
   ],
   "source": [
    "# Polinomico\n",
    "parameters = [{'kernel': ['poly'], 'gamma': [1e-4, 1e-3, 1e-2, 1e-1],\n",
    "                'C': [0.01, 0.1, 1, 10, 100], 'degree': [2, 3, 4]}]\n",
    "optimalPolySVM = GridSearchCV(svm.SVC(decision_function_shape = 'ovr'),\n",
    "                              parameters, cv = 5, n_jobs = 8, verbose = 10)\n",
    "optimalPolySVM.fit(trainSentencesVectors, trainLabels);"
   ]
  },
  {
   "cell_type": "code",
   "execution_count": 62,
   "metadata": {
    "colab": {
     "autoexec": {
      "startup": false,
      "wait_interval": 0
     },
     "base_uri": "https://localhost:8080/",
     "height": 85
    },
    "colab_type": "code",
    "executionInfo": {
     "elapsed": 1080,
     "status": "ok",
     "timestamp": 1526917200238,
     "user": {
      "displayName": "Jhonathan Abreu",
      "photoUrl": "//lh4.googleusercontent.com/-4bMUXodd-B0/AAAAAAAAAAI/AAAAAAAAAlY/Lc07exuN7Aw/s50-c-k-no/photo.jpg",
      "userId": "117165292541590122752"
     },
     "user_tz": 240
    },
    "id": "wOtbtihyCaNf",
    "outputId": "38d603eb-b40a-438a-adfd-370496e19a8b"
   },
   "outputs": [
    {
     "name": "stdout",
     "output_type": "stream",
     "text": [
      "Mejores parámetros:\n",
      "  SVM Lineal:  {'C': 0.01, 'kernel': 'linear'}\n",
      "  SVM Radial:  {'C': 10, 'gamma': 0.001, 'kernel': 'rbf'}\n",
      "  SVM Polinómico:  {'C': 0.01, 'degree': 2, 'gamma': 0.1, 'kernel': 'poly'}\n"
     ]
    }
   ],
   "source": [
    "print('Mejores parámetros:')\n",
    "print('  SVM Lineal: ', optimalLinearSVM.best_params_)\n",
    "print('  SVM Radial: ', optimalRadialSVM.best_params_)\n",
    "print('  SVM Polinómico: ', optimalPolySVM.best_params_)"
   ]
  },
  {
   "cell_type": "code",
   "execution_count": 63,
   "metadata": {
    "colab": {
     "autoexec": {
      "startup": false,
      "wait_interval": 0
     },
     "base_uri": "https://localhost:8080/",
     "height": 193
    },
    "colab_type": "code",
    "executionInfo": {
     "elapsed": 1492,
     "status": "ok",
     "timestamp": 1526917207157,
     "user": {
      "displayName": "Jhonathan Abreu",
      "photoUrl": "//lh4.googleusercontent.com/-4bMUXodd-B0/AAAAAAAAAAI/AAAAAAAAAlY/Lc07exuN7Aw/s50-c-k-no/photo.jpg",
      "userId": "117165292541590122752"
     },
     "user_tz": 240
    },
    "id": "nEyib_RLq-Vz",
    "outputId": "c176011b-c4b0-4084-ecc6-032066260f6a"
   },
   "outputs": [
    {
     "name": "stdout",
     "output_type": "stream",
     "text": [
      "SVM Lineal entrenado en 0.04 s\n",
      "SVM Radial entrenado en 0.04 s\n",
      "SVM Polinómico entrenado en 0.04 s\n"
     ]
    },
    {
     "data": {
      "text/html": [
       "<div>\n",
       "<style scoped>\n",
       "    .dataframe tbody tr th:only-of-type {\n",
       "        vertical-align: middle;\n",
       "    }\n",
       "\n",
       "    .dataframe tbody tr th {\n",
       "        vertical-align: top;\n",
       "    }\n",
       "\n",
       "    .dataframe thead th {\n",
       "        text-align: right;\n",
       "    }\n",
       "</style>\n",
       "<table border=\"1\" class=\"dataframe\">\n",
       "  <thead>\n",
       "    <tr style=\"text-align: right;\">\n",
       "      <th></th>\n",
       "      <th>Clasificador</th>\n",
       "      <th>Exactitud Entrenamiento</th>\n",
       "      <th>Exactitud Prueba</th>\n",
       "      <th>Tiempo Entrenamiento</th>\n",
       "    </tr>\n",
       "  </thead>\n",
       "  <tbody>\n",
       "    <tr>\n",
       "      <th>1</th>\n",
       "      <td>SVM Radial</td>\n",
       "      <td>0.737143</td>\n",
       "      <td>0.386364</td>\n",
       "      <td>0.039560</td>\n",
       "    </tr>\n",
       "    <tr>\n",
       "      <th>0</th>\n",
       "      <td>SVM Lineal</td>\n",
       "      <td>0.691429</td>\n",
       "      <td>0.363636</td>\n",
       "      <td>0.036035</td>\n",
       "    </tr>\n",
       "    <tr>\n",
       "      <th>2</th>\n",
       "      <td>SVM Polinómico</td>\n",
       "      <td>0.737143</td>\n",
       "      <td>0.340909</td>\n",
       "      <td>0.039418</td>\n",
       "    </tr>\n",
       "  </tbody>\n",
       "</table>\n",
       "</div>"
      ],
      "text/plain": [
       "     Clasificador  Exactitud Entrenamiento  Exactitud Prueba  \\\n",
       "1      SVM Radial                 0.737143          0.386364   \n",
       "0      SVM Lineal                 0.691429          0.363636   \n",
       "2  SVM Polinómico                 0.737143          0.340909   \n",
       "\n",
       "   Tiempo Entrenamiento  \n",
       "1              0.039560  \n",
       "0              0.036035  \n",
       "2              0.039418  "
      ]
     },
     "metadata": {
      "tags": []
     },
     "output_type": "display_data"
    }
   ],
   "source": [
    "# Comparacion\n",
    "classifiers = {\n",
    "    'SVM Lineal': svm.SVC(kernel = optimalLinearSVM.best_params_['kernel'],\n",
    "                          C = optimalLinearSVM.best_params_['C']),\n",
    "    'SVM Radial': svm.SVC(kernel = optimalRadialSVM.best_params_['kernel'],\n",
    "                          C = optimalRadialSVM.best_params_['C'],\n",
    "                          gamma = optimalRadialSVM.best_params_['gamma']),\n",
    "    'SVM Polinómico': svm.SVC(kernel = optimalPolySVM.best_params_['kernel'],\n",
    "                              C = optimalPolySVM.best_params_['C'],\n",
    "                              gamma = optimalPolySVM.best_params_['gamma'],\n",
    "                              degree = optimalPolySVM.best_params_['degree'])\n",
    "}\n",
    "comparisonResults = compareSVMClassifiers(classifiers,\n",
    "                                          trainSentencesVectors, trainLabels,\n",
    "                                          testSentencesVectors, testLabels)\n",
    "display(comparisonResults.sort_values(by = 'Exactitud Prueba',\n",
    "                                      ascending = False))"
   ]
  }
 ],
 "metadata": {
  "accelerator": "GPU",
  "colab": {
   "collapsed_sections": [],
   "default_view": {},
   "name": "preprocesamiento.ipynb",
   "provenance": [],
   "version": "0.3.2",
   "views": {}
  },
  "kernelspec": {
   "display_name": "Python 3",
   "language": "python",
   "name": "python3"
  },
  "language_info": {
   "codemirror_mode": {
    "name": "ipython",
    "version": 3
   },
   "file_extension": ".py",
   "mimetype": "text/x-python",
   "name": "python",
   "nbconvert_exporter": "python",
   "pygments_lexer": "ipython3",
   "version": "3.6.4"
  }
 },
 "nbformat": 4,
 "nbformat_minor": 2
}
