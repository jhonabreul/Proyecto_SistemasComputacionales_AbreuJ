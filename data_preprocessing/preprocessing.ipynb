{
  "nbformat": 4,
  "nbformat_minor": 0,
  "metadata": {
    "colab": {
      "name": "preprocesamiento.ipynb",
      "version": "0.3.2",
      "views": {},
      "default_view": {},
      "provenance": [],
      "collapsed_sections": []
    },
    "kernelspec": {
      "name": "python2",
      "display_name": "Python 2"
    }
  },
  "cells": [
    {
      "metadata": {
        "id": "54Go9nCzpA3x",
        "colab_type": "text"
      },
      "cell_type": "markdown",
      "source": [
        "# Proyecto Sistemas Computacionales A-2018: Preprocesamiento del dataset\n",
        "---\n",
        "\n",
        "Los datos recolectados mediante el [formulario](https://goo.gl/forms/1p8IwDXPxwXGKYq92) de Google Forms necesitan de un procesamiento previo, lo cual pasa por las siguientes etapas:\n",
        "\n",
        "\n",
        "\n",
        "1.   **Extracción de datos de interés**: en la encuesta también se recolectaron datos para un proyecto diferente, por lo cual se deben extraer únicamente los datos de interes, los cuales corresponden a las preguntas 4, 5 y 6.\n",
        "2.   **Limpieza y tokenización**: se deben remover aquellas palabras sin un significado semántico específico para los sentimientos a tomar en cuenta.\n",
        "3.   **Representación vectorial del vocabulario**: las oraciones deben ser representadas como un vector *n-* dimensional, por lo cual primero se debe encontrar la representación vectorial de cada palabra. Para esto se hará uso del modelo [Word2Vec](https://en.wikipedia.org/wiki/Word2vec).\n",
        "4.   **Representación vectorial de las oraciones**: Una vez obtenida la representación vectorial de las palabras, se puede obtener la representación vectorial de las oraciones llevando un procedimiento que combine los vectores de cada palabra contenida en la oración, lo cual puede ser un promedio *coordenada-a-coordenada*. En este caso, se utilizará un promedio ponderado, con un peso conocido como [tf-idf](https://es.wikipedia.org/wiki/Tf-idf).\n",
        "\n",
        "\n",
        "## Instalación de algunos módulos requeridos\n",
        "---\n",
        "\n"
      ]
    },
    {
      "metadata": {
        "id": "47vIsBIToaAV",
        "colab_type": "code",
        "colab": {
          "autoexec": {
            "startup": false,
            "wait_interval": 0
          },
          "base_uri": "https://localhost:8080/",
          "height": 1227
        },
        "outputId": "a918dbda-7f64-48c5-a20f-d14053e33db4",
        "executionInfo": {
          "status": "ok",
          "timestamp": 1526478322843,
          "user_tz": 240,
          "elapsed": 20791,
          "user": {
            "displayName": "Jhonathan Abreu",
            "photoUrl": "//lh4.googleusercontent.com/-4bMUXodd-B0/AAAAAAAAAAI/AAAAAAAAAlY/Lc07exuN7Aw/s50-c-k-no/photo.jpg",
            "userId": "117165292541590122752"
          }
        }
      },
      "cell_type": "code",
      "source": [
        "!pip install gensim  # For the Word2Vec model\n",
        "!pip install tqdm    # Just for using a progress bar\n",
        "!pip install bokeh   # For graphs"
      ],
      "execution_count": 1,
      "outputs": [
        {
          "output_type": "stream",
          "text": [
            "Collecting gensim\n",
            "\u001b[?25l  Downloading https://files.pythonhosted.org/packages/c3/57/dc00a059b1b739c71dd25355541ebe141ce1ba31917671c826c5fcdfd145/gensim-3.4.0-cp27-cp27mu-manylinux1_x86_64.whl (22.6MB)\n",
            "\u001b[K    100% |████████████████████████████████| 22.6MB 1.0MB/s \n",
            "\u001b[?25hCollecting smart-open>=1.2.1 (from gensim)\n",
            "  Downloading https://files.pythonhosted.org/packages/4b/69/c92661a333f733510628f28b8282698b62cdead37291c8491f3271677c02/smart_open-1.5.7.tar.gz\n",
            "Requirement already satisfied: six>=1.5.0 in /usr/local/lib/python2.7/dist-packages (from gensim) (1.11.0)\n",
            "Requirement already satisfied: scipy>=0.18.1 in /usr/local/lib/python2.7/dist-packages (from gensim) (0.19.1)\n",
            "Requirement already satisfied: numpy>=1.11.3 in /usr/local/lib/python2.7/dist-packages (from gensim) (1.14.3)\n",
            "Collecting boto>=2.32 (from smart-open>=1.2.1->gensim)\n",
            "\u001b[?25l  Downloading https://files.pythonhosted.org/packages/bd/b7/a88a67002b1185ed9a8e8a6ef15266728c2361fcb4f1d02ea331e4c7741d/boto-2.48.0-py2.py3-none-any.whl (1.4MB)\n",
            "\u001b[K    100% |████████████████████████████████| 1.4MB 10.8MB/s \n",
            "\u001b[?25hCollecting bz2file (from smart-open>=1.2.1->gensim)\n",
            "  Downloading https://files.pythonhosted.org/packages/61/39/122222b5e85cd41c391b68a99ee296584b2a2d1d233e7ee32b4532384f2d/bz2file-0.98.tar.gz\n",
            "Requirement already satisfied: requests in /usr/local/lib/python2.7/dist-packages (from smart-open>=1.2.1->gensim) (2.18.4)\n",
            "Collecting boto3 (from smart-open>=1.2.1->gensim)\n",
            "\u001b[?25l  Downloading https://files.pythonhosted.org/packages/65/c8/543a86e5e5cb91ab735a1926a1b5902b6b245998c1e83f04f13abbd2dd3a/boto3-1.7.21-py2.py3-none-any.whl (128kB)\n",
            "\u001b[K    100% |████████████████████████████████| 133kB 20.1MB/s \n",
            "\u001b[?25hRequirement already satisfied: idna<2.7,>=2.5 in /usr/local/lib/python2.7/dist-packages (from requests->smart-open>=1.2.1->gensim) (2.6)\n",
            "Requirement already satisfied: urllib3<1.23,>=1.21.1 in /usr/local/lib/python2.7/dist-packages (from requests->smart-open>=1.2.1->gensim) (1.22)\n",
            "Requirement already satisfied: certifi>=2017.4.17 in /usr/local/lib/python2.7/dist-packages (from requests->smart-open>=1.2.1->gensim) (2018.4.16)\n",
            "Requirement already satisfied: chardet<3.1.0,>=3.0.2 in /usr/local/lib/python2.7/dist-packages (from requests->smart-open>=1.2.1->gensim) (3.0.4)\n",
            "Collecting jmespath<1.0.0,>=0.7.1 (from boto3->smart-open>=1.2.1->gensim)\n",
            "  Downloading https://files.pythonhosted.org/packages/b7/31/05c8d001f7f87f0f07289a5fc0fc3832e9a57f2dbd4d3b0fee70e0d51365/jmespath-0.9.3-py2.py3-none-any.whl\n",
            "Collecting botocore<1.11.0,>=1.10.21 (from boto3->smart-open>=1.2.1->gensim)\n",
            "\u001b[?25l  Downloading https://files.pythonhosted.org/packages/be/02/c225b57b9b775f9d70d5b70a6d950cdd7e3dd0ee7b0a6c8a322c90732f9d/botocore-1.10.21-py2.py3-none-any.whl (4.2MB)\n",
            "\u001b[K    100% |████████████████████████████████| 4.2MB 6.6MB/s \n",
            "\u001b[?25hCollecting s3transfer<0.2.0,>=0.1.10 (from boto3->smart-open>=1.2.1->gensim)\n",
            "\u001b[?25l  Downloading https://files.pythonhosted.org/packages/d7/14/2a0004d487464d120c9fb85313a75cd3d71a7506955be458eebfe19a6b1d/s3transfer-0.1.13-py2.py3-none-any.whl (59kB)\n",
            "\u001b[K    100% |████████████████████████████████| 61kB 18.4MB/s \n",
            "\u001b[?25hCollecting docutils>=0.10 (from botocore<1.11.0,>=1.10.21->boto3->smart-open>=1.2.1->gensim)\n",
            "\u001b[?25l  Downloading https://files.pythonhosted.org/packages/50/09/c53398e0005b11f7ffb27b7aa720c617aba53be4fb4f4f3f06b9b5c60f28/docutils-0.14-py2-none-any.whl (543kB)\n",
            "\u001b[K    100% |████████████████████████████████| 552kB 22.5MB/s \n",
            "\u001b[?25hRequirement already satisfied: python-dateutil<3.0.0,>=2.1; python_version >= \"2.7\" in /usr/local/lib/python2.7/dist-packages (from botocore<1.11.0,>=1.10.21->boto3->smart-open>=1.2.1->gensim) (2.5.3)\n",
            "Requirement already satisfied: futures<4.0.0,>=2.2.0; python_version == \"2.6\" or python_version == \"2.7\" in /usr/local/lib/python2.7/dist-packages (from s3transfer<0.2.0,>=0.1.10->boto3->smart-open>=1.2.1->gensim) (3.2.0)\n",
            "Building wheels for collected packages: smart-open, bz2file\n",
            "  Running setup.py bdist_wheel for smart-open ... \u001b[?25l-\b \bdone\n",
            "\u001b[?25h  Stored in directory: /content/.cache/pip/wheels/b1/9e/7d/bb3d3b55c597e72617140a0638c06382a5f17283881eae163e\n",
            "  Running setup.py bdist_wheel for bz2file ... \u001b[?25l-\b \bdone\n",
            "\u001b[?25h  Stored in directory: /content/.cache/pip/wheels/81/75/d6/e1317bf09bf1af5a30befc2a007869fa6e1f516b8f7c591cb9\n",
            "Successfully built smart-open bz2file\n",
            "Installing collected packages: boto, bz2file, jmespath, docutils, botocore, s3transfer, boto3, smart-open, gensim\n",
            "Successfully installed boto-2.48.0 boto3-1.7.21 botocore-1.10.21 bz2file-0.98 docutils-0.14 gensim-3.4.0 jmespath-0.9.3 s3transfer-0.1.13 smart-open-1.5.7\n",
            "Collecting tqdm\n",
            "\u001b[?25l  Downloading https://files.pythonhosted.org/packages/d8/ca/6524dfba7a0e850d3fda223693779035ddc8bf5c242acd9ee4eb9e52711a/tqdm-4.23.3-py2.py3-none-any.whl (42kB)\n",
            "\u001b[K    100% |████████████████████████████████| 51kB 3.5MB/s \n"
          ],
          "name": "stdout"
        },
        {
          "output_type": "stream",
          "text": [
            "\u001b[?25hInstalling collected packages: tqdm\n",
            "Successfully installed tqdm-4.23.3\n",
            "Collecting bokeh\n",
            "\u001b[?25l  Downloading https://files.pythonhosted.org/packages/cd/47/201408029628164342e65a4552ee00abc79ea7be1b64031281b81b0e2f4d/bokeh-0.12.16.tar.gz (14.7MB)\n",
            "\u001b[K    100% |████████████████████████████████| 14.7MB 1.9MB/s \n",
            "\u001b[?25hRequirement already satisfied: six>=1.5.2 in /usr/local/lib/python2.7/dist-packages (from bokeh) (1.11.0)\n",
            "Requirement already satisfied: PyYAML>=3.10 in /usr/local/lib/python2.7/dist-packages (from bokeh) (3.12)\n",
            "Requirement already satisfied: python-dateutil>=2.1 in /usr/local/lib/python2.7/dist-packages (from bokeh) (2.5.3)\n",
            "Requirement already satisfied: Jinja2>=2.7 in /usr/local/lib/python2.7/dist-packages (from bokeh) (2.10)\n",
            "Requirement already satisfied: numpy>=1.7.1 in /usr/local/lib/python2.7/dist-packages (from bokeh) (1.14.3)\n",
            "Collecting packaging>=16.8 (from bokeh)\n",
            "  Downloading https://files.pythonhosted.org/packages/ad/c2/b500ea05d5f9f361a562f089fc91f77ed3b4783e13a08a3daf82069b1224/packaging-17.1-py2.py3-none-any.whl\n",
            "Requirement already satisfied: tornado>=4.3 in /usr/local/lib/python2.7/dist-packages (from bokeh) (4.5.3)\n",
            "Requirement already satisfied: futures>=3.0.3 in /usr/local/lib/python2.7/dist-packages (from bokeh) (3.2.0)\n",
            "Requirement already satisfied: MarkupSafe>=0.23 in /usr/local/lib/python2.7/dist-packages (from Jinja2>=2.7->bokeh) (1.0)\n",
            "Requirement already satisfied: pyparsing>=2.0.2 in /usr/local/lib/python2.7/dist-packages (from packaging>=16.8->bokeh) (2.2.0)\n",
            "Requirement already satisfied: singledispatch in /usr/local/lib/python2.7/dist-packages (from tornado>=4.3->bokeh) (3.4.0.3)\n",
            "Requirement already satisfied: certifi in /usr/local/lib/python2.7/dist-packages (from tornado>=4.3->bokeh) (2018.4.16)\n",
            "Requirement already satisfied: backports_abc>=0.4 in /usr/local/lib/python2.7/dist-packages (from tornado>=4.3->bokeh) (0.5)\n",
            "Building wheels for collected packages: bokeh\n",
            "  Running setup.py bdist_wheel for bokeh ... \u001b[?25l-\b \b\\\b \b|\b \b/\b \b-\b \b\\\b \b|\b \b/\b \b-\b \b\\\b \b|\b \b/\b \bdone\n",
            "\u001b[?25h  Stored in directory: /content/.cache/pip/wheels/ff/28/51/22e8d08e9d5383ee1de981aaa8ff7bc53c7d65022e5101400f\n",
            "Successfully built bokeh\n",
            "Installing collected packages: packaging, bokeh\n",
            "Successfully installed bokeh-0.12.16 packaging-17.1\n"
          ],
          "name": "stdout"
        }
      ]
    },
    {
      "metadata": {
        "id": "R4BT9W__p9lM",
        "colab_type": "text"
      },
      "cell_type": "markdown",
      "source": [
        "## Importación de todos los módulos requeridos\n",
        "---\n"
      ]
    },
    {
      "metadata": {
        "id": "v3IB4w1hqAq_",
        "colab_type": "code",
        "colab": {
          "autoexec": {
            "startup": false,
            "wait_interval": 0
          },
          "base_uri": "https://localhost:8080/",
          "height": 68
        },
        "outputId": "e7e2ce8f-e5c9-46f3-fea7-fa8a974ee198",
        "executionInfo": {
          "status": "ok",
          "timestamp": 1526478371744,
          "user_tz": 240,
          "elapsed": 1715,
          "user": {
            "displayName": "Jhonathan Abreu",
            "photoUrl": "//lh4.googleusercontent.com/-4bMUXodd-B0/AAAAAAAAAAI/AAAAAAAAAlY/Lc07exuN7Aw/s50-c-k-no/photo.jpg",
            "userId": "117165292541590122752"
          }
        }
      },
      "cell_type": "code",
      "source": [
        "import pandas as pd\n",
        "import numpy as np\n",
        "from copy import deepcopy\n",
        "from string import punctuation\n",
        "from random import shuffle\n",
        "import io\n",
        "import csv\n",
        "\n",
        "import gensim\n",
        "from gensim.models.word2vec import Word2Vec\n",
        "from gensim.utils import simple_preprocess\n",
        "\n",
        "from tqdm import tqdm\n",
        "tqdm.pandas(desc=\"progress-bar\")\n",
        "\n",
        "import nltk\n",
        "\n",
        "from sklearn.model_selection import train_test_split\n",
        "from sklearn.feature_extraction.text import TfidfVectorizer\n",
        "from sklearn.manifold import TSNE\n",
        "from sklearn.preprocessing import scale\n",
        "\n",
        "from google.colab import files\n",
        "\n",
        "# importing bokeh library for interactive dataviz\n",
        "import bokeh.plotting as bp\n",
        "from bokeh.models import HoverTool, BoxSelectTool\n",
        "from bokeh.plotting import figure, show, output_notebook\n",
        "\n",
        "pd.options.mode.chained_assignment = None\n",
        "nltk.download('stopwords')\n"
      ],
      "execution_count": 2,
      "outputs": [
        {
          "output_type": "stream",
          "text": [
            "[nltk_data] Downloading package stopwords to /content/nltk_data...\n",
            "[nltk_data]   Unzipping corpora/stopwords.zip.\n"
          ],
          "name": "stdout"
        },
        {
          "output_type": "execute_result",
          "data": {
            "text/plain": [
              "True"
            ]
          },
          "metadata": {
            "tags": []
          },
          "execution_count": 2
        }
      ]
    },
    {
      "metadata": {
        "id": "bidWImZdqfYZ",
        "colab_type": "text"
      },
      "cell_type": "markdown",
      "source": [
        "## Subida de dataset al servidor\n",
        "---\n",
        "\n",
        "Este notebook fue inicialmente creado para trabajar en Google Colaboratory, por lo cual es necesario subir el archivo del dataset a sus servidores. El dataset puede ser encontrado [aquí](https://drive.google.com/open?id=1ib9bswNfSrqHCiyQyFDhEDPNKwuSjV4y)."
      ]
    },
    {
      "metadata": {
        "id": "xw9zGYyplB3k",
        "colab_type": "code",
        "colab": {
          "autoexec": {
            "startup": false,
            "wait_interval": 0
          },
          "resources": {
            "http://localhost:8080/nbextensions/google.colab/files.js": {
              "data": "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",
              "ok": true,
              "headers": [
                [
                  "content-type",
                  "application/javascript"
                ]
              ],
              "status": 200,
              "status_text": ""
            }
          },
          "base_uri": "https://localhost:8080/",
          "height": 72
        },
        "outputId": "abee3c83-5963-49b5-cb2d-6d78982ef291",
        "executionInfo": {
          "status": "ok",
          "timestamp": 1526478395272,
          "user_tz": 240,
          "elapsed": 18583,
          "user": {
            "displayName": "Jhonathan Abreu",
            "photoUrl": "//lh4.googleusercontent.com/-4bMUXodd-B0/AAAAAAAAAAI/AAAAAAAAAlY/Lc07exuN7Aw/s50-c-k-no/photo.jpg",
            "userId": "117165292541590122752"
          }
        }
      },
      "cell_type": "code",
      "source": [
        "uploaded = files.upload()"
      ],
      "execution_count": 3,
      "outputs": [
        {
          "output_type": "display_data",
          "data": {
            "text/plain": [
              "<IPython.core.display.HTML object>"
            ],
            "text/html": [
              "\n",
              "     <input type=\"file\" id=\"files-02b11a60-0d5d-4c72-a0fa-e06708cc5c18\" name=\"files[]\" multiple disabled />\n",
              "     <output id=\"result-02b11a60-0d5d-4c72-a0fa-e06708cc5c18\">\n",
              "      Upload widget is only available when the cell has been executed in the\n",
              "      current browser session. Please rerun this cell to enable.\n",
              "      </output>\n",
              "      <script src=\"/nbextensions/google.colab/files.js\"></script> "
            ]
          },
          "metadata": {
            "tags": []
          }
        },
        {
          "output_type": "stream",
          "text": [
            "Saving labeled_training_data.csv to labeled_training_data.csv\n"
          ],
          "name": "stdout"
        }
      ]
    },
    {
      "metadata": {
        "id": "c7fYTGccqqrM",
        "colab_type": "text"
      },
      "cell_type": "markdown",
      "source": [
        "## Carga del dataset\n",
        "---\n",
        "\n",
        "El siguiente paso es, entonces, cargar el data set, en este caso en un DataFrame de Pandas. Sin embargo, directamente mientras se realiza la ingesta, se realizará la limpieza de los datos\n",
        "\n",
        "### Limpieza y tokenización del dataset\n",
        "\n",
        "Para esto se crea la función `clean_sentence`, la cual realiza lo siguiente:\n",
        ". Simultaneamente, se realiza la tokenización de las oraciones en palabras, utilizando el módulo **simple_preprocess**, de **gensim**, el cual, además, realiza otras limpiezas básicas, como la eliminación de signos de puntuación:\n",
        "\n",
        "*   Utiliza el corpus en español de **stopwords** o palabras vacías provisto por **nltk** para eliminar las palabras sin significado semántico importante.\n",
        "*  Simultaneamente, realiza la tokenización de las oraciones en palabras, utilizando el módulo `simple_preprocess`, de **gensim**, el cual, además, realiza otras limpiezas básicas, como la eliminación de signos de puntuación.\n",
        "\n"
      ]
    },
    {
      "metadata": {
        "id": "x8cDaGLFtLmB",
        "colab_type": "code",
        "colab": {
          "autoexec": {
            "startup": false,
            "wait_interval": 0
          }
        }
      },
      "cell_type": "code",
      "source": [
        "stopWords = nltk.corpus.stopwords.words('spanish')\n",
        "\n",
        "def clean_sentence(sentence):\n",
        "    tokens = [word for word in simple_preprocess(sentence)\n",
        "              if word not in stopWords]\n",
        "    \n",
        "    return tokens \n",
        "        "
      ],
      "execution_count": 0,
      "outputs": []
    },
    {
      "metadata": {
        "id": "UIKJ4fbc88lv",
        "colab_type": "text"
      },
      "cell_type": "markdown",
      "source": [
        "### Carga o ingesta del dataset al DataFrame\n",
        "\n",
        "Esta tarea la realiza la función `ingest`, la cual carga, limpia y tokeniza el dataset, en formato csv, en un DataFrame de Pandas:"
      ]
    },
    {
      "metadata": {
        "id": "RVejatffuWv_",
        "colab_type": "code",
        "colab": {
          "autoexec": {
            "startup": false,
            "wait_interval": 0
          },
          "base_uri": "https://localhost:8080/",
          "height": 238
        },
        "outputId": "f490b8a9-9f70-43fe-8a9f-b2bcaf84e31c",
        "executionInfo": {
          "status": "ok",
          "timestamp": 1526478493910,
          "user_tz": 240,
          "elapsed": 448,
          "user": {
            "displayName": "Jhonathan Abreu",
            "photoUrl": "//lh4.googleusercontent.com/-4bMUXodd-B0/AAAAAAAAAAI/AAAAAAAAAlY/Lc07exuN7Aw/s50-c-k-no/photo.jpg",
            "userId": "117165292541590122752"
          }
        }
      },
      "cell_type": "code",
      "source": [
        "def ingest(datasetFileName):    \n",
        "    data = pd.read_csv(datasetFileName, header = None)\n",
        "    data.columns = ['sentence', 'sentiment']\n",
        "    data['sentiment'] = data['sentiment'].map({\n",
        "                                                'positivo': 1,\n",
        "                                                'neutral': 0,\n",
        "                                                'negativo': -1\n",
        "                                              })\n",
        "    data['tokens'] = data['sentence'].progress_map(clean_sentence)\n",
        "    data.reset_index(inplace = True)\n",
        "    data.drop('index', axis=1, inplace=True)\n",
        "    print 'dataset loaded with shape', data.shape    \n",
        "    return data\n",
        "\n",
        "data = ingest('labeled_training_data.csv')\n",
        "data.head(5)"
      ],
      "execution_count": 5,
      "outputs": [
        {
          "output_type": "stream",
          "text": [
            "progress-bar: 100%|██████████| 186/186 [00:00<00:00, 9437.26it/s]"
          ],
          "name": "stderr"
        },
        {
          "output_type": "stream",
          "text": [
            "dataset loaded with shape (186, 3)\n"
          ],
          "name": "stdout"
        },
        {
          "output_type": "stream",
          "text": [
            "\n"
          ],
          "name": "stderr"
        },
        {
          "output_type": "execute_result",
          "data": {
            "text/html": [
              "<div>\n",
              "<style scoped>\n",
              "    .dataframe tbody tr th:only-of-type {\n",
              "        vertical-align: middle;\n",
              "    }\n",
              "\n",
              "    .dataframe tbody tr th {\n",
              "        vertical-align: top;\n",
              "    }\n",
              "\n",
              "    .dataframe thead th {\n",
              "        text-align: right;\n",
              "    }\n",
              "</style>\n",
              "<table border=\"1\" class=\"dataframe\">\n",
              "  <thead>\n",
              "    <tr style=\"text-align: right;\">\n",
              "      <th></th>\n",
              "      <th>sentence</th>\n",
              "      <th>sentiment</th>\n",
              "      <th>tokens</th>\n",
              "    </tr>\n",
              "  </thead>\n",
              "  <tbody>\n",
              "    <tr>\n",
              "      <th>0</th>\n",
              "      <td>Me siento muy afortunado de tenerte aquí justo...</td>\n",
              "      <td>1</td>\n",
              "      <td>[siento, afortunado, tenerte, aquí, justo, lado]</td>\n",
              "    </tr>\n",
              "    <tr>\n",
              "      <th>1</th>\n",
              "      <td>Odio a aquellos profesores que creen sabérsela...</td>\n",
              "      <td>-1</td>\n",
              "      <td>[odio, aquellos, profesores, creen, sabérselas...</td>\n",
              "    </tr>\n",
              "    <tr>\n",
              "      <th>2</th>\n",
              "      <td>El día de hoy se puede ir a hacer compras en e...</td>\n",
              "      <td>0</td>\n",
              "      <td>[día, hoy, puede, ir, hacer, compras, supermer...</td>\n",
              "    </tr>\n",
              "    <tr>\n",
              "      <th>3</th>\n",
              "      <td>Hoy quiero conquistar el mundo, tengo mucha en...</td>\n",
              "      <td>1</td>\n",
              "      <td>[hoy, quiero, conquistar, mundo, mucha, energí...</td>\n",
              "    </tr>\n",
              "    <tr>\n",
              "      <th>4</th>\n",
              "      <td>Ya no vale la pena seguir intentando, puesto q...</td>\n",
              "      <td>-1</td>\n",
              "      <td>[vale, pena, seguir, intentando, puesto, enten...</td>\n",
              "    </tr>\n",
              "  </tbody>\n",
              "</table>\n",
              "</div>"
            ],
            "text/plain": [
              "                                            sentence  sentiment  \\\n",
              "0  Me siento muy afortunado de tenerte aquí justo...          1   \n",
              "1  Odio a aquellos profesores que creen sabérsela...         -1   \n",
              "2  El día de hoy se puede ir a hacer compras en e...          0   \n",
              "3  Hoy quiero conquistar el mundo, tengo mucha en...          1   \n",
              "4  Ya no vale la pena seguir intentando, puesto q...         -1   \n",
              "\n",
              "                                              tokens  \n",
              "0   [siento, afortunado, tenerte, aquí, justo, lado]  \n",
              "1  [odio, aquellos, profesores, creen, sabérselas...  \n",
              "2  [día, hoy, puede, ir, hacer, compras, supermer...  \n",
              "3  [hoy, quiero, conquistar, mundo, mucha, energí...  \n",
              "4  [vale, pena, seguir, intentando, puesto, enten...  "
            ]
          },
          "metadata": {
            "tags": []
          },
          "execution_count": 5
        }
      ]
    },
    {
      "metadata": {
        "id": "db2mZlkW9UcY",
        "colab_type": "text"
      },
      "cell_type": "markdown",
      "source": [
        "## Creación del modelo Word2Vec\n",
        "---\n",
        "\n",
        "La implementación a utilizar será la de **gensim**. Sin embargo, primero se debe dividir el dataset en conjuntos de entrenamiento y prueba, con relación 7:3:"
      ]
    },
    {
      "metadata": {
        "id": "F3suZaA2ofJn",
        "colab_type": "code",
        "colab": {
          "autoexec": {
            "startup": false,
            "wait_interval": 0
          }
        }
      },
      "cell_type": "code",
      "source": [
        "trainSentences, testSentences, trainLabels, testLabels = \\\n",
        "    train_test_split(np.array(data.tokens),\n",
        "                     np.array(data.sentiment), test_size = 0.3)"
      ],
      "execution_count": 0,
      "outputs": []
    },
    {
      "metadata": {
        "id": "QiyV4qRV_kDx",
        "colab_type": "text"
      },
      "cell_type": "markdown",
      "source": [
        "El modelo Word2Vec, internamente, utiliza una red neuronal de 2 capas, mas sin embargo, no es necesario tener conocimiento de esto para su uso (más información [aquí](https://en.wikipedia.org/wiki/Word2vec) y [aquí](https://www.tensorflow.org/tutorials/word2vec)). Lo importante es indicar al modelo la dimensión de los vectores que representarán las palabras y otros parámetros importantes:\n",
        "\n",
        "### Dimensión de los vectores\n",
        "\n",
        "La calidad de la vectorización depende y aumenta a media que la dimensión de los vectores aumenta; sim embargo, el incremento marginal de la mejora disminuye en cierto punto. Los valores típicos de la dimensión están en el intervalo [100, 1000]. En este caso, se tomará una dimensión de 200, pero debe evaluarse este y otros parámetros para la optimización del modelo.\n",
        "\n",
        "### Ventana contextual\n",
        "\n",
        "Esto determina la cantidad de palabras a la izquierda y derecha que se toman como contexto de una palabra. Se debe realizar un estudio de la longitud promedio de las oraciones, pero, como en la encuesta se pidió un mínimo de 8 palabras, quitando las palabras vacías, se utilizará, por ahora, una ventana de 10, de modo que todas las palabras de la oración entren en el contexto."
      ]
    },
    {
      "metadata": {
        "id": "-A1DQFG-pFx1",
        "colab_type": "code",
        "colab": {
          "autoexec": {
            "startup": false,
            "wait_interval": 0
          },
          "base_uri": "https://localhost:8080/",
          "height": 51
        },
        "outputId": "d694efd3-318d-469e-d16d-9a109395bd27",
        "executionInfo": {
          "status": "ok",
          "timestamp": 1526478561171,
          "user_tz": 240,
          "elapsed": 532,
          "user": {
            "displayName": "Jhonathan Abreu",
            "photoUrl": "//lh4.googleusercontent.com/-4bMUXodd-B0/AAAAAAAAAAI/AAAAAAAAAlY/Lc07exuN7Aw/s50-c-k-no/photo.jpg",
            "userId": "117165292541590122752"
          }
        }
      },
      "cell_type": "code",
      "source": [
        "vectorDimension = 200\n",
        "wordsModel = Word2Vec(trainSentences, size = vectorDimension, min_count = 2,\n",
        "                      window = 10)\n",
        "wordsModel.train([train for train in tqdm(trainSentences)],\n",
        "                 total_examples = len(trainSentences),\n",
        "                 epochs = 10)"
      ],
      "execution_count": 14,
      "outputs": [
        {
          "output_type": "stream",
          "text": [
            "100%|██████████| 130/130 [00:00<00:00, 43360.60it/s]\n"
          ],
          "name": "stderr"
        },
        {
          "output_type": "execute_result",
          "data": {
            "text/plain": [
              "(1047, 7050)"
            ]
          },
          "metadata": {
            "tags": []
          },
          "execution_count": 14
        }
      ]
    },
    {
      "metadata": {
        "id": "tvlDIO2dJBYR",
        "colab_type": "text"
      },
      "cell_type": "markdown",
      "source": [
        "### Obtención de la representación vectorial de palabras"
      ]
    },
    {
      "metadata": {
        "id": "XsJuFCntrOTj",
        "colab_type": "code",
        "colab": {
          "autoexec": {
            "startup": false,
            "wait_interval": 0
          },
          "base_uri": "https://localhost:8080/",
          "height": 918
        },
        "outputId": "d72987a5-2ca6-4614-c86c-0bbc4480b1d7",
        "executionInfo": {
          "status": "ok",
          "timestamp": 1526478563901,
          "user_tz": 240,
          "elapsed": 571,
          "user": {
            "displayName": "Jhonathan Abreu",
            "photoUrl": "//lh4.googleusercontent.com/-4bMUXodd-B0/AAAAAAAAAAI/AAAAAAAAAlY/Lc07exuN7Aw/s50-c-k-no/photo.jpg",
            "userId": "117165292541590122752"
          }
        }
      },
      "cell_type": "code",
      "source": [
        "wordsModel['bien']"
      ],
      "execution_count": 15,
      "outputs": [
        {
          "output_type": "stream",
          "text": [
            "/usr/local/lib/python2.7/dist-packages/ipykernel_launcher.py:1: DeprecationWarning: Call to deprecated `__getitem__` (Method will be removed in 4.0.0, use self.wv.__getitem__() instead).\n",
            "  \"\"\"Entry point for launching an IPython kernel.\n"
          ],
          "name": "stderr"
        },
        {
          "output_type": "execute_result",
          "data": {
            "text/plain": [
              "array([ 1.04287907e-03,  6.83641178e-04, -1.84986013e-04, -3.63560248e-04,\n",
              "        2.07867869e-03, -5.36761770e-04, -1.62461132e-03,  1.87407903e-04,\n",
              "       -1.90005277e-03, -2.11084331e-03, -5.92263357e-04, -2.37121596e-03,\n",
              "        2.32676649e-03,  3.12498421e-04, -2.06115725e-03,  2.31368485e-05,\n",
              "       -1.00818439e-03,  1.29870721e-03, -8.52750265e-04,  1.53166242e-03,\n",
              "       -4.24570200e-04,  8.11400707e-04, -1.75629699e-04, -2.28275880e-04,\n",
              "        2.16728752e-03,  1.77669630e-04, -5.04668933e-05, -1.90309016e-03,\n",
              "       -1.20362546e-03,  6.97842741e-04,  2.04553988e-04,  1.02920632e-03,\n",
              "        7.28196756e-04, -2.20082444e-03,  1.83546834e-03, -2.00586161e-03,\n",
              "        1.30551087e-03,  2.45204964e-03, -1.45027565e-03, -1.05389324e-03,\n",
              "        1.17183430e-03, -2.56560190e-04, -3.18965904e-04,  4.84990771e-04,\n",
              "        9.26648863e-06,  2.43824883e-03, -1.88390922e-03, -9.67789907e-04,\n",
              "       -1.88285869e-03,  9.80376615e-04,  1.42556339e-04, -2.29587918e-03,\n",
              "        9.08730435e-05,  1.16674975e-03, -2.63094087e-04,  1.16813974e-03,\n",
              "        1.26258715e-03,  2.16569332e-03,  1.17758685e-03, -1.60092267e-03,\n",
              "        8.95367521e-06, -4.58531023e-04,  2.29922519e-03,  2.33929350e-05,\n",
              "        2.21430138e-03,  7.21280347e-04, -2.48866636e-05,  5.17474837e-04,\n",
              "        1.29997425e-04, -2.46183062e-03,  8.26326548e-04, -3.09376861e-04,\n",
              "       -1.18406001e-03,  1.08926150e-03,  1.71295775e-03, -2.44827499e-03,\n",
              "       -9.34762182e-04,  1.63461489e-03, -1.74598757e-03,  1.48562831e-03,\n",
              "       -1.23749569e-03,  3.27390793e-04,  9.90159810e-04, -9.13454511e-04,\n",
              "        1.04250433e-03,  9.98141943e-04,  1.85269164e-04,  1.46260369e-03,\n",
              "        2.92570330e-04, -1.09331950e-03, -1.87162962e-03, -3.48059984e-04,\n",
              "       -2.34865327e-03,  2.49022641e-03,  1.09297526e-03, -1.35408161e-04,\n",
              "        9.87804495e-04,  1.85781065e-03,  8.64004891e-04, -1.69785542e-03,\n",
              "       -1.07306277e-03, -1.52784062e-03,  3.82439292e-04,  1.71762425e-03,\n",
              "        9.58526449e-04,  2.31106393e-03,  7.73029635e-04,  4.75010078e-04,\n",
              "       -1.15463487e-03, -1.79188512e-03,  9.38909478e-04, -8.27778189e-04,\n",
              "        1.41206940e-04,  9.29468952e-04,  2.18249694e-03,  9.80284996e-04,\n",
              "       -1.10493810e-03,  3.94032133e-04, -2.30382383e-03, -4.86815901e-04,\n",
              "        1.12251553e-03, -1.36150583e-03, -1.80236436e-03, -2.20350432e-03,\n",
              "        2.51161313e-04,  5.88436436e-04,  9.77452495e-04,  1.47900340e-04,\n",
              "       -2.42157420e-03,  1.05410977e-03, -2.33567972e-03,  2.10402324e-03,\n",
              "        8.57894309e-04, -1.06789265e-03,  2.04794877e-03, -1.81288994e-03,\n",
              "       -1.32370752e-03,  1.17159146e-03,  4.18593147e-04,  1.17593026e-03,\n",
              "       -5.78704523e-04,  1.82655596e-04,  1.95338880e-03, -1.58608251e-03,\n",
              "        1.06414198e-03, -1.76007603e-03,  2.46692821e-03, -1.21749903e-03,\n",
              "        2.18203478e-03, -5.64944989e-04, -1.51322840e-03, -1.13762054e-03,\n",
              "       -6.26847497e-04,  1.18476991e-03, -4.79516631e-04,  1.26970408e-03,\n",
              "        1.05469604e-03,  1.44673861e-03, -1.88222365e-03, -7.03943486e-04,\n",
              "       -1.71314413e-03,  2.24263407e-03,  1.51040370e-03,  2.29732526e-04,\n",
              "       -1.73172262e-03,  9.13429016e-04, -1.62106284e-04, -7.28151179e-04,\n",
              "        1.38031121e-03,  1.67512626e-03,  3.13124969e-04,  1.00191147e-03,\n",
              "       -1.93638995e-03,  2.01612804e-03, -5.45246352e-04, -2.41708349e-05,\n",
              "       -8.08142649e-04,  1.93229073e-03, -9.83083737e-04,  4.95346147e-04,\n",
              "       -3.71098344e-04, -1.00769568e-03, -3.21978237e-04, -2.40543322e-03,\n",
              "        2.20148196e-03,  1.25409442e-03, -1.01663929e-03, -2.37497478e-03,\n",
              "        1.97288929e-03, -1.39855081e-03,  4.83404816e-04,  6.09722047e-04,\n",
              "       -2.20974721e-03, -1.09043776e-03,  1.21916244e-04,  1.35175709e-03,\n",
              "        3.32323252e-04, -1.63992937e-03,  2.12699897e-03,  7.81692506e-04],\n",
              "      dtype=float32)"
            ]
          },
          "metadata": {
            "tags": []
          },
          "execution_count": 15
        }
      ]
    },
    {
      "metadata": {
        "id": "LkryY6nTJNOy",
        "colab_type": "text"
      },
      "cell_type": "markdown",
      "source": [
        "Como se observa, el vector tiene dimensión 200.\n",
        "\n",
        "### Obtención de las palabras más similares"
      ]
    },
    {
      "metadata": {
        "id": "lXgdFfl2rgN8",
        "colab_type": "code",
        "colab": {
          "autoexec": {
            "startup": false,
            "wait_interval": 0
          },
          "base_uri": "https://localhost:8080/",
          "height": 221
        },
        "outputId": "1f85c30a-a257-4bd7-f58c-41ba52813488",
        "executionInfo": {
          "status": "ok",
          "timestamp": 1526478565929,
          "user_tz": 240,
          "elapsed": 540,
          "user": {
            "displayName": "Jhonathan Abreu",
            "photoUrl": "//lh4.googleusercontent.com/-4bMUXodd-B0/AAAAAAAAAAI/AAAAAAAAAlY/Lc07exuN7Aw/s50-c-k-no/photo.jpg",
            "userId": "117165292541590122752"
          }
        }
      },
      "cell_type": "code",
      "source": [
        "wordsModel.most_similar('bien')"
      ],
      "execution_count": 16,
      "outputs": [
        {
          "output_type": "stream",
          "text": [
            "/usr/local/lib/python2.7/dist-packages/ipykernel_launcher.py:1: DeprecationWarning: Call to deprecated `most_similar` (Method will be removed in 4.0.0, use self.wv.most_similar() instead).\n",
            "  \"\"\"Entry point for launching an IPython kernel.\n"
          ],
          "name": "stderr"
        },
        {
          "output_type": "execute_result",
          "data": {
            "text/plain": [
              "[(u'estudiar', 0.1869836151599884),\n",
              " (u'cada', 0.1651230901479721),\n",
              " (u'hacer', 0.12186288833618164),\n",
              " (u'ayer', 0.1079261377453804),\n",
              " (u'bueno', 0.09922540932893753),\n",
              " (u'dolor', 0.08765514194965363),\n",
              " (u'momento', 0.08533925563097),\n",
              " (u'ejercicio', 0.07750966399908066),\n",
              " (u'pasan', 0.07586630433797836),\n",
              " (u'pasar', 0.07418304681777954)]"
            ]
          },
          "metadata": {
            "tags": []
          },
          "execution_count": 16
        }
      ]
    },
    {
      "metadata": {
        "id": "K_dgXeHmJaGq",
        "colab_type": "text"
      },
      "cell_type": "markdown",
      "source": [
        "Es muy notable que se necesita un corpus más grande de palabras para el uso de este tipo de modelos\n",
        "\n",
        "## Validación gráfica del modelo Word2Vec\n",
        "---\n",
        "\n",
        "Para esto, se disminuye la dimensión de los vectores de las palabras a 2 para poder observar su gráfico 2D."
      ]
    },
    {
      "metadata": {
        "id": "ST1lS_4gruaf",
        "colab_type": "code",
        "colab": {
          "autoexec": {
            "startup": false,
            "wait_interval": 0
          },
          "base_uri": "https://localhost:8080/",
          "height": 800
        },
        "outputId": "23c6fc32-9bff-493a-ce5e-a662db8a21c2",
        "executionInfo": {
          "status": "ok",
          "timestamp": 1526478573800,
          "user_tz": 240,
          "elapsed": 3025,
          "user": {
            "displayName": "Jhonathan Abreu",
            "photoUrl": "//lh4.googleusercontent.com/-4bMUXodd-B0/AAAAAAAAAAI/AAAAAAAAAlY/Lc07exuN7Aw/s50-c-k-no/photo.jpg",
            "userId": "117165292541590122752"
          }
        }
      },
      "cell_type": "code",
      "source": [
        "# defining the chart\n",
        "output_notebook()\n",
        "plot_tfidf = bp.figure(plot_width = 700, plot_height = 600,\n",
        "                       title = 'Map of word vectors',\n",
        "                       tools = 'pan, wheel_zoom, box_zoom, reset, hover, '\n",
        "                               'previewsave',\n",
        "                       x_axis_type = None, y_axis_type = None, min_border = 1)\n",
        "\n",
        "# getting a list of word vectors. limit to 10000. each is of 200 dimensions\n",
        "word_vectors = [wordsModel[w] for w in wordsModel.wv.vocab.keys()[:5000]]\n",
        "\n",
        "# dimensionality reduction. converting the vectors to 2d vectors\n",
        "\n",
        "tsne_model = TSNE(n_components = 2, verbose = 1, random_state = 0)\n",
        "tsne_w2v = tsne_model.fit_transform(word_vectors)\n",
        "\n",
        "# putting everything in a dataframe\n",
        "tsne_df = pd.DataFrame(tsne_w2v, columns = ['x', 'y'])\n",
        "tsne_df['words'] = wordsModel.wv.vocab.keys()[:5000]\n",
        "\n",
        "# plotting. the corresponding word appears when you hover on the data point.\n",
        "plot_tfidf.scatter(x = 'x', y = 'y', source = tsne_df)\n",
        "hover = plot_tfidf.select(dict(type = HoverTool))\n",
        "hover.tooltips = {\"word\": \"@words\"}\n",
        "show(plot_tfidf)"
      ],
      "execution_count": 17,
      "outputs": [
        {
          "output_type": "display_data",
          "data": {
            "text/html": [
              "\n",
              "    <div class=\"bk-root\">\n",
              "        <a href=\"https://bokeh.pydata.org\" target=\"_blank\" class=\"bk-logo bk-logo-small bk-logo-notebook\"></a>\n",
              "        <span id=\"d416a54d-5f1c-4cca-b464-a378b3469060\">Loading BokehJS ...</span>\n",
              "    </div>"
            ]
          },
          "metadata": {
            "tags": []
          }
        },
        {
          "output_type": "display_data",
          "data": {
            "application/javascript": [
              "\n",
              "(function(root) {\n",
              "  function now() {\n",
              "    return new Date();\n",
              "  }\n",
              "\n",
              "  var force = true;\n",
              "\n",
              "  if (typeof (root._bokeh_onload_callbacks) === \"undefined\" || force === true) {\n",
              "    root._bokeh_onload_callbacks = [];\n",
              "    root._bokeh_is_loading = undefined;\n",
              "  }\n",
              "\n",
              "  var JS_MIME_TYPE = 'application/javascript';\n",
              "  var HTML_MIME_TYPE = 'text/html';\n",
              "  var EXEC_MIME_TYPE = 'application/vnd.bokehjs_exec.v0+json';\n",
              "  var CLASS_NAME = 'output_bokeh rendered_html';\n",
              "\n",
              "  /**\n",
              "   * Render data to the DOM node\n",
              "   */\n",
              "  function render(props, node) {\n",
              "    var script = document.createElement(\"script\");\n",
              "    node.appendChild(script);\n",
              "  }\n",
              "\n",
              "  /**\n",
              "   * Handle when an output is cleared or removed\n",
              "   */\n",
              "  function handleClearOutput(event, handle) {\n",
              "    var cell = handle.cell;\n",
              "\n",
              "    var id = cell.output_area._bokeh_element_id;\n",
              "    var server_id = cell.output_area._bokeh_server_id;\n",
              "    // Clean up Bokeh references\n",
              "    if (id !== undefined) {\n",
              "      Bokeh.index[id].model.document.clear();\n",
              "      delete Bokeh.index[id];\n",
              "    }\n",
              "\n",
              "    if (server_id !== undefined) {\n",
              "      // Clean up Bokeh references\n",
              "      var cmd = \"from bokeh.io.state import curstate; print(curstate().uuid_to_server['\" + server_id + \"'].get_sessions()[0].document.roots[0]._id)\";\n",
              "      cell.notebook.kernel.execute(cmd, {\n",
              "        iopub: {\n",
              "          output: function(msg) {\n",
              "            var element_id = msg.content.text.trim();\n",
              "            Bokeh.index[element_id].model.document.clear();\n",
              "            delete Bokeh.index[element_id];\n",
              "          }\n",
              "        }\n",
              "      });\n",
              "      // Destroy server and session\n",
              "      var cmd = \"import bokeh.io.notebook as ion; ion.destroy_server('\" + server_id + \"')\";\n",
              "      cell.notebook.kernel.execute(cmd);\n",
              "    }\n",
              "  }\n",
              "\n",
              "  /**\n",
              "   * Handle when a new output is added\n",
              "   */\n",
              "  function handleAddOutput(event, handle) {\n",
              "    var output_area = handle.output_area;\n",
              "    var output = handle.output;\n",
              "\n",
              "    // limit handleAddOutput to display_data with EXEC_MIME_TYPE content only\n",
              "    if ((output.output_type != \"display_data\") || (!output.data.hasOwnProperty(EXEC_MIME_TYPE))) {\n",
              "      return\n",
              "    }\n",
              "\n",
              "    var toinsert = output_area.element.find(\".\" + CLASS_NAME.split(' ')[0]);\n",
              "\n",
              "    if (output.metadata[EXEC_MIME_TYPE][\"id\"] !== undefined) {\n",
              "      toinsert[toinsert.length - 1].firstChild.textContent = output.data[JS_MIME_TYPE];\n",
              "      // store reference to embed id on output_area\n",
              "      output_area._bokeh_element_id = output.metadata[EXEC_MIME_TYPE][\"id\"];\n",
              "    }\n",
              "    if (output.metadata[EXEC_MIME_TYPE][\"server_id\"] !== undefined) {\n",
              "      var bk_div = document.createElement(\"div\");\n",
              "      bk_div.innerHTML = output.data[HTML_MIME_TYPE];\n",
              "      var script_attrs = bk_div.children[0].attributes;\n",
              "      for (var i = 0; i < script_attrs.length; i++) {\n",
              "        toinsert[toinsert.length - 1].firstChild.setAttribute(script_attrs[i].name, script_attrs[i].value);\n",
              "      }\n",
              "      // store reference to server id on output_area\n",
              "      output_area._bokeh_server_id = output.metadata[EXEC_MIME_TYPE][\"server_id\"];\n",
              "    }\n",
              "  }\n",
              "\n",
              "  function register_renderer(events, OutputArea) {\n",
              "\n",
              "    function append_mime(data, metadata, element) {\n",
              "      // create a DOM node to render to\n",
              "      var toinsert = this.create_output_subarea(\n",
              "        metadata,\n",
              "        CLASS_NAME,\n",
              "        EXEC_MIME_TYPE\n",
              "      );\n",
              "      this.keyboard_manager.register_events(toinsert);\n",
              "      // Render to node\n",
              "      var props = {data: data, metadata: metadata[EXEC_MIME_TYPE]};\n",
              "      render(props, toinsert[toinsert.length - 1]);\n",
              "      element.append(toinsert);\n",
              "      return toinsert\n",
              "    }\n",
              "\n",
              "    /* Handle when an output is cleared or removed */\n",
              "    events.on('clear_output.CodeCell', handleClearOutput);\n",
              "    events.on('delete.Cell', handleClearOutput);\n",
              "\n",
              "    /* Handle when a new output is added */\n",
              "    events.on('output_added.OutputArea', handleAddOutput);\n",
              "\n",
              "    /**\n",
              "     * Register the mime type and append_mime function with output_area\n",
              "     */\n",
              "    OutputArea.prototype.register_mime_type(EXEC_MIME_TYPE, append_mime, {\n",
              "      /* Is output safe? */\n",
              "      safe: true,\n",
              "      /* Index of renderer in `output_area.display_order` */\n",
              "      index: 0\n",
              "    });\n",
              "  }\n",
              "\n",
              "  // register the mime type if in Jupyter Notebook environment and previously unregistered\n",
              "  if (root.Jupyter !== undefined) {\n",
              "    var events = require('base/js/events');\n",
              "    var OutputArea = require('notebook/js/outputarea').OutputArea;\n",
              "\n",
              "    if (OutputArea.prototype.mime_types().indexOf(EXEC_MIME_TYPE) == -1) {\n",
              "      register_renderer(events, OutputArea);\n",
              "    }\n",
              "  }\n",
              "\n",
              "  \n",
              "  if (typeof (root._bokeh_timeout) === \"undefined\" || force === true) {\n",
              "    root._bokeh_timeout = Date.now() + 5000;\n",
              "    root._bokeh_failed_load = false;\n",
              "  }\n",
              "\n",
              "  var NB_LOAD_WARNING = {'data': {'text/html':\n",
              "     \"<div style='background-color: #fdd'>\\n\"+\n",
              "     \"<p>\\n\"+\n",
              "     \"BokehJS does not appear to have successfully loaded. If loading BokehJS from CDN, this \\n\"+\n",
              "     \"may be due to a slow or bad network connection. Possible fixes:\\n\"+\n",
              "     \"</p>\\n\"+\n",
              "     \"<ul>\\n\"+\n",
              "     \"<li>re-rerun `output_notebook()` to attempt to load from CDN again, or</li>\\n\"+\n",
              "     \"<li>use INLINE resources instead, as so:</li>\\n\"+\n",
              "     \"</ul>\\n\"+\n",
              "     \"<code>\\n\"+\n",
              "     \"from bokeh.resources import INLINE\\n\"+\n",
              "     \"output_notebook(resources=INLINE)\\n\"+\n",
              "     \"</code>\\n\"+\n",
              "     \"</div>\"}};\n",
              "\n",
              "  function display_loaded() {\n",
              "    var el = document.getElementById(\"d416a54d-5f1c-4cca-b464-a378b3469060\");\n",
              "    if (el != null) {\n",
              "      el.textContent = \"BokehJS is loading...\";\n",
              "    }\n",
              "    if (root.Bokeh !== undefined) {\n",
              "      if (el != null) {\n",
              "        el.textContent = \"BokehJS \" + root.Bokeh.version + \" successfully loaded.\";\n",
              "      }\n",
              "    } else if (Date.now() < root._bokeh_timeout) {\n",
              "      setTimeout(display_loaded, 100)\n",
              "    }\n",
              "  }\n",
              "\n",
              "\n",
              "  function run_callbacks() {\n",
              "    try {\n",
              "      root._bokeh_onload_callbacks.forEach(function(callback) { callback() });\n",
              "    }\n",
              "    finally {\n",
              "      delete root._bokeh_onload_callbacks\n",
              "    }\n",
              "    console.info(\"Bokeh: all callbacks have finished\");\n",
              "  }\n",
              "\n",
              "  function load_libs(js_urls, callback) {\n",
              "    root._bokeh_onload_callbacks.push(callback);\n",
              "    if (root._bokeh_is_loading > 0) {\n",
              "      console.log(\"Bokeh: BokehJS is being loaded, scheduling callback at\", now());\n",
              "      return null;\n",
              "    }\n",
              "    if (js_urls == null || js_urls.length === 0) {\n",
              "      run_callbacks();\n",
              "      return null;\n",
              "    }\n",
              "    console.log(\"Bokeh: BokehJS not loaded, scheduling load and callback at\", now());\n",
              "    root._bokeh_is_loading = js_urls.length;\n",
              "    for (var i = 0; i < js_urls.length; i++) {\n",
              "      var url = js_urls[i];\n",
              "      var s = document.createElement('script');\n",
              "      s.src = url;\n",
              "      s.async = false;\n",
              "      s.onreadystatechange = s.onload = function() {\n",
              "        root._bokeh_is_loading--;\n",
              "        if (root._bokeh_is_loading === 0) {\n",
              "          console.log(\"Bokeh: all BokehJS libraries loaded\");\n",
              "          run_callbacks()\n",
              "        }\n",
              "      };\n",
              "      s.onerror = function() {\n",
              "        console.warn(\"failed to load library \" + url);\n",
              "      };\n",
              "      console.log(\"Bokeh: injecting script tag for BokehJS library: \", url);\n",
              "      document.getElementsByTagName(\"head\")[0].appendChild(s);\n",
              "    }\n",
              "  };var element = document.getElementById(\"d416a54d-5f1c-4cca-b464-a378b3469060\");\n",
              "  if (element == null) {\n",
              "    console.log(\"Bokeh: ERROR: autoload.js configured with elementid 'd416a54d-5f1c-4cca-b464-a378b3469060' but no matching script tag was found. \")\n",
              "    return false;\n",
              "  }\n",
              "\n",
              "  var js_urls = [\"https://cdn.pydata.org/bokeh/release/bokeh-0.12.16.min.js\", \"https://cdn.pydata.org/bokeh/release/bokeh-widgets-0.12.16.min.js\", \"https://cdn.pydata.org/bokeh/release/bokeh-tables-0.12.16.min.js\", \"https://cdn.pydata.org/bokeh/release/bokeh-gl-0.12.16.min.js\"];\n",
              "\n",
              "  var inline_js = [\n",
              "    function(Bokeh) {\n",
              "      Bokeh.set_log_level(\"info\");\n",
              "    },\n",
              "    \n",
              "    function(Bokeh) {\n",
              "      \n",
              "    },\n",
              "    function(Bokeh) {\n",
              "      console.log(\"Bokeh: injecting CSS: https://cdn.pydata.org/bokeh/release/bokeh-0.12.16.min.css\");\n",
              "      Bokeh.embed.inject_css(\"https://cdn.pydata.org/bokeh/release/bokeh-0.12.16.min.css\");\n",
              "      console.log(\"Bokeh: injecting CSS: https://cdn.pydata.org/bokeh/release/bokeh-widgets-0.12.16.min.css\");\n",
              "      Bokeh.embed.inject_css(\"https://cdn.pydata.org/bokeh/release/bokeh-widgets-0.12.16.min.css\");\n",
              "      console.log(\"Bokeh: injecting CSS: https://cdn.pydata.org/bokeh/release/bokeh-tables-0.12.16.min.css\");\n",
              "      Bokeh.embed.inject_css(\"https://cdn.pydata.org/bokeh/release/bokeh-tables-0.12.16.min.css\");\n",
              "    }\n",
              "  ];\n",
              "\n",
              "  function run_inline_js() {\n",
              "    \n",
              "    if ((root.Bokeh !== undefined) || (force === true)) {\n",
              "      for (var i = 0; i < inline_js.length; i++) {\n",
              "        inline_js[i].call(root, root.Bokeh);\n",
              "      }if (force === true) {\n",
              "        display_loaded();\n",
              "      }} else if (Date.now() < root._bokeh_timeout) {\n",
              "      setTimeout(run_inline_js, 100);\n",
              "    } else if (!root._bokeh_failed_load) {\n",
              "      console.log(\"Bokeh: BokehJS failed to load within specified timeout.\");\n",
              "      root._bokeh_failed_load = true;\n",
              "    } else if (force !== true) {\n",
              "      var cell = $(document.getElementById(\"d416a54d-5f1c-4cca-b464-a378b3469060\")).parents('.cell').data().cell;\n",
              "      cell.output_area.append_execute_result(NB_LOAD_WARNING)\n",
              "    }\n",
              "\n",
              "  }\n",
              "\n",
              "  if (root._bokeh_is_loading === 0) {\n",
              "    console.log(\"Bokeh: BokehJS loaded, going straight to plotting\");\n",
              "    run_inline_js();\n",
              "  } else {\n",
              "    load_libs(js_urls, function() {\n",
              "      console.log(\"Bokeh: BokehJS plotting callback run at\", now());\n",
              "      run_inline_js();\n",
              "    });\n",
              "  }\n",
              "}(window));"
            ],
            "application/vnd.bokehjs_load.v0+json": "\n(function(root) {\n  function now() {\n    return new Date();\n  }\n\n  var force = true;\n\n  if (typeof (root._bokeh_onload_callbacks) === \"undefined\" || force === true) {\n    root._bokeh_onload_callbacks = [];\n    root._bokeh_is_loading = undefined;\n  }\n\n  \n\n  \n  if (typeof (root._bokeh_timeout) === \"undefined\" || force === true) {\n    root._bokeh_timeout = Date.now() + 5000;\n    root._bokeh_failed_load = false;\n  }\n\n  var NB_LOAD_WARNING = {'data': {'text/html':\n     \"<div style='background-color: #fdd'>\\n\"+\n     \"<p>\\n\"+\n     \"BokehJS does not appear to have successfully loaded. If loading BokehJS from CDN, this \\n\"+\n     \"may be due to a slow or bad network connection. Possible fixes:\\n\"+\n     \"</p>\\n\"+\n     \"<ul>\\n\"+\n     \"<li>re-rerun `output_notebook()` to attempt to load from CDN again, or</li>\\n\"+\n     \"<li>use INLINE resources instead, as so:</li>\\n\"+\n     \"</ul>\\n\"+\n     \"<code>\\n\"+\n     \"from bokeh.resources import INLINE\\n\"+\n     \"output_notebook(resources=INLINE)\\n\"+\n     \"</code>\\n\"+\n     \"</div>\"}};\n\n  function display_loaded() {\n    var el = document.getElementById(\"d416a54d-5f1c-4cca-b464-a378b3469060\");\n    if (el != null) {\n      el.textContent = \"BokehJS is loading...\";\n    }\n    if (root.Bokeh !== undefined) {\n      if (el != null) {\n        el.textContent = \"BokehJS \" + root.Bokeh.version + \" successfully loaded.\";\n      }\n    } else if (Date.now() < root._bokeh_timeout) {\n      setTimeout(display_loaded, 100)\n    }\n  }\n\n\n  function run_callbacks() {\n    try {\n      root._bokeh_onload_callbacks.forEach(function(callback) { callback() });\n    }\n    finally {\n      delete root._bokeh_onload_callbacks\n    }\n    console.info(\"Bokeh: all callbacks have finished\");\n  }\n\n  function load_libs(js_urls, callback) {\n    root._bokeh_onload_callbacks.push(callback);\n    if (root._bokeh_is_loading > 0) {\n      console.log(\"Bokeh: BokehJS is being loaded, scheduling callback at\", now());\n      return null;\n    }\n    if (js_urls == null || js_urls.length === 0) {\n      run_callbacks();\n      return null;\n    }\n    console.log(\"Bokeh: BokehJS not loaded, scheduling load and callback at\", now());\n    root._bokeh_is_loading = js_urls.length;\n    for (var i = 0; i < js_urls.length; i++) {\n      var url = js_urls[i];\n      var s = document.createElement('script');\n      s.src = url;\n      s.async = false;\n      s.onreadystatechange = s.onload = function() {\n        root._bokeh_is_loading--;\n        if (root._bokeh_is_loading === 0) {\n          console.log(\"Bokeh: all BokehJS libraries loaded\");\n          run_callbacks()\n        }\n      };\n      s.onerror = function() {\n        console.warn(\"failed to load library \" + url);\n      };\n      console.log(\"Bokeh: injecting script tag for BokehJS library: \", url);\n      document.getElementsByTagName(\"head\")[0].appendChild(s);\n    }\n  };var element = document.getElementById(\"d416a54d-5f1c-4cca-b464-a378b3469060\");\n  if (element == null) {\n    console.log(\"Bokeh: ERROR: autoload.js configured with elementid 'd416a54d-5f1c-4cca-b464-a378b3469060' but no matching script tag was found. \")\n    return false;\n  }\n\n  var js_urls = [\"https://cdn.pydata.org/bokeh/release/bokeh-0.12.16.min.js\", \"https://cdn.pydata.org/bokeh/release/bokeh-widgets-0.12.16.min.js\", \"https://cdn.pydata.org/bokeh/release/bokeh-tables-0.12.16.min.js\", \"https://cdn.pydata.org/bokeh/release/bokeh-gl-0.12.16.min.js\"];\n\n  var inline_js = [\n    function(Bokeh) {\n      Bokeh.set_log_level(\"info\");\n    },\n    \n    function(Bokeh) {\n      \n    },\n    function(Bokeh) {\n      console.log(\"Bokeh: injecting CSS: https://cdn.pydata.org/bokeh/release/bokeh-0.12.16.min.css\");\n      Bokeh.embed.inject_css(\"https://cdn.pydata.org/bokeh/release/bokeh-0.12.16.min.css\");\n      console.log(\"Bokeh: injecting CSS: https://cdn.pydata.org/bokeh/release/bokeh-widgets-0.12.16.min.css\");\n      Bokeh.embed.inject_css(\"https://cdn.pydata.org/bokeh/release/bokeh-widgets-0.12.16.min.css\");\n      console.log(\"Bokeh: injecting CSS: https://cdn.pydata.org/bokeh/release/bokeh-tables-0.12.16.min.css\");\n      Bokeh.embed.inject_css(\"https://cdn.pydata.org/bokeh/release/bokeh-tables-0.12.16.min.css\");\n    }\n  ];\n\n  function run_inline_js() {\n    \n    if ((root.Bokeh !== undefined) || (force === true)) {\n      for (var i = 0; i < inline_js.length; i++) {\n        inline_js[i].call(root, root.Bokeh);\n      }if (force === true) {\n        display_loaded();\n      }} else if (Date.now() < root._bokeh_timeout) {\n      setTimeout(run_inline_js, 100);\n    } else if (!root._bokeh_failed_load) {\n      console.log(\"Bokeh: BokehJS failed to load within specified timeout.\");\n      root._bokeh_failed_load = true;\n    } else if (force !== true) {\n      var cell = $(document.getElementById(\"d416a54d-5f1c-4cca-b464-a378b3469060\")).parents('.cell').data().cell;\n      cell.output_area.append_execute_result(NB_LOAD_WARNING)\n    }\n\n  }\n\n  if (root._bokeh_is_loading === 0) {\n    console.log(\"Bokeh: BokehJS loaded, going straight to plotting\");\n    run_inline_js();\n  } else {\n    load_libs(js_urls, function() {\n      console.log(\"Bokeh: BokehJS plotting callback run at\", now());\n      run_inline_js();\n    });\n  }\n}(window));"
          },
          "metadata": {
            "tags": []
          }
        },
        {
          "output_type": "stream",
          "text": [
            "/usr/local/lib/python2.7/dist-packages/ipykernel_launcher.py:9: DeprecationWarning: Call to deprecated `__getitem__` (Method will be removed in 4.0.0, use self.wv.__getitem__() instead).\n",
            "  if __name__ == '__main__':\n"
          ],
          "name": "stderr"
        },
        {
          "output_type": "stream",
          "text": [
            "[t-SNE] Computing 89 nearest neighbors...\n",
            "[t-SNE] Indexed 90 samples in 0.000s...\n",
            "[t-SNE] Computed neighbors for 90 samples in 0.006s...\n",
            "[t-SNE] Computed conditional probabilities for sample 90 / 90\n",
            "[t-SNE] Mean sigma: 0.006239\n",
            "[t-SNE] KL divergence after 250 iterations with early exaggeration: 63.788898\n",
            "[t-SNE] Error after 1000 iterations: 0.811682\n"
          ],
          "name": "stdout"
        },
        {
          "output_type": "display_data",
          "data": {
            "text/html": [
              "\n",
              "<div class=\"bk-root\">\n",
              "    <div class=\"bk-plotdiv\" id=\"634ad989-45a7-44a8-8420-6422152d22fd\"></div>\n",
              "</div>"
            ]
          },
          "metadata": {
            "tags": []
          }
        },
        {
          "output_type": "display_data",
          "data": {
            "application/javascript": [
              "(function(root) {\n",
              "  function embed_document(root) {\n",
              "    \n",
              "  var docs_json = {\"2d3b55c0-88fc-4bd1-b891-cc9d91f0b5fc\":{\"roots\":{\"references\":[{\"attributes\":{\"min_border\":1,\"plot_width\":700,\"renderers\":[{\"id\":\"687f696f-c9c7-4416-beef-2ea1fccc1348\",\"type\":\"BoxAnnotation\"},{\"id\":\"93bb6ca8-01dd-49b6-9f1d-0e6732fbdb4c\",\"type\":\"GlyphRenderer\"}],\"title\":{\"id\":\"617b3b2d-509f-4cd7-9fe1-793e240104f2\",\"type\":\"Title\"},\"toolbar\":{\"id\":\"41b7077e-fc6b-43a8-97d4-e18a5317fa9d\",\"type\":\"Toolbar\"},\"x_range\":{\"id\":\"03de596c-22d9-468b-b45b-30739cb6f29b\",\"type\":\"DataRange1d\"},\"x_scale\":{\"id\":\"2ca536bc-771d-420c-bc11-0fd913572e1c\",\"type\":\"LinearScale\"},\"y_range\":{\"id\":\"42f11002-f59c-4043-8719-13b80be5aec8\",\"type\":\"DataRange1d\"},\"y_scale\":{\"id\":\"d107d00e-f63e-45b5-b3f6-01527a0f8097\",\"type\":\"LinearScale\"}},\"id\":\"80dd0f0a-c50a-4a80-bd98-e5a03fbf0c78\",\"subtype\":\"Figure\",\"type\":\"Plot\"},{\"attributes\":{\"fill_alpha\":{\"value\":0.1},\"fill_color\":{\"value\":\"#1f77b4\"},\"line_alpha\":{\"value\":0.1},\"line_color\":{\"value\":\"#1f77b4\"},\"x\":{\"field\":\"x\"},\"y\":{\"field\":\"y\"}},\"id\":\"7c29c22b-4106-4910-8243-8210d01464ed\",\"type\":\"Circle\"},{\"attributes\":{},\"id\":\"d107d00e-f63e-45b5-b3f6-01527a0f8097\",\"type\":\"LinearScale\"},{\"attributes\":{\"overlay\":{\"id\":\"687f696f-c9c7-4416-beef-2ea1fccc1348\",\"type\":\"BoxAnnotation\"}},\"id\":\"20674b6f-b1cb-479a-956e-717ea186fe00\",\"type\":\"BoxZoomTool\"},{\"attributes\":{\"bottom_units\":\"screen\",\"fill_alpha\":{\"value\":0.5},\"fill_color\":{\"value\":\"lightgrey\"},\"left_units\":\"screen\",\"level\":\"overlay\",\"line_alpha\":{\"value\":1.0},\"line_color\":{\"value\":\"black\"},\"line_dash\":[4,4],\"line_width\":{\"value\":2},\"plot\":null,\"render_mode\":\"css\",\"right_units\":\"screen\",\"top_units\":\"screen\"},\"id\":\"687f696f-c9c7-4416-beef-2ea1fccc1348\",\"type\":\"BoxAnnotation\"},{\"attributes\":{\"callback\":null},\"id\":\"42f11002-f59c-4043-8719-13b80be5aec8\",\"type\":\"DataRange1d\"},{\"attributes\":{},\"id\":\"89dd6ef5-1370-44c1-aa0e-a342a337755e\",\"type\":\"SaveTool\"},{\"attributes\":{},\"id\":\"f24f4562-1630-4066-bd02-2720671c225d\",\"type\":\"UnionRenderers\"},{\"attributes\":{},\"id\":\"2ca536bc-771d-420c-bc11-0fd913572e1c\",\"type\":\"LinearScale\"},{\"attributes\":{},\"id\":\"b2d4362f-628e-4606-a0d9-f0382b040272\",\"type\":\"ResetTool\"},{\"attributes\":{\"callback\":null},\"id\":\"03de596c-22d9-468b-b45b-30739cb6f29b\",\"type\":\"DataRange1d\"},{\"attributes\":{\"active_drag\":\"auto\",\"active_inspect\":\"auto\",\"active_scroll\":\"auto\",\"active_tap\":\"auto\",\"tools\":[{\"id\":\"29ad3d8b-239d-4ef0-977d-9f194b5c1367\",\"type\":\"PanTool\"},{\"id\":\"8a2d8086-83bd-4503-ad16-7332f98bec01\",\"type\":\"WheelZoomTool\"},{\"id\":\"20674b6f-b1cb-479a-956e-717ea186fe00\",\"type\":\"BoxZoomTool\"},{\"id\":\"b2d4362f-628e-4606-a0d9-f0382b040272\",\"type\":\"ResetTool\"},{\"id\":\"8515e786-c957-4c74-a916-eea8552df183\",\"type\":\"HoverTool\"},{\"id\":\"89dd6ef5-1370-44c1-aa0e-a342a337755e\",\"type\":\"SaveTool\"}]},\"id\":\"41b7077e-fc6b-43a8-97d4-e18a5317fa9d\",\"type\":\"Toolbar\"},{\"attributes\":{\"callback\":null,\"renderers\":\"auto\",\"tooltips\":[[\"word\",\"@words\"]]},\"id\":\"8515e786-c957-4c74-a916-eea8552df183\",\"type\":\"HoverTool\"},{\"attributes\":{\"callback\":null,\"data\":{\"index\":[0,1,2,3,4,5,6,7,8,9,10,11,12,13,14,15,16,17,18,19,20,21,22,23,24,25,26,27,28,29,30,31,32,33,34,35,36,37,38,39,40,41,42,43,44,45,46,47,48,49,50,51,52,53,54,55,56,57,58,59,60,61,62,63,64,65,66,67,68,69,70,71,72,73,74,75,76,77,78,79,80,81,82,83,84,85,86,87,88,89],\"words\":[\"profesores\",\"sentimiento\",\"menos\",\"momento\",\"hace\",\"hacerlo\",\"forma\",\"alcanza\",\"ver\",\"pronto\",\"gente\",\"pena\",\"personas\",\"tristeza\",\"establecer\",\"lado\",\"dando\",\"examen\",\"odio\",\"as\\u00ed\",\"ma\\u00f1ana\",\"compras\",\"cosas\",\"amor\",\"creen\",\"bueno\",\"pasa\",\"clases\",\"estudiar\",\"ejercicio\",\"bien\",\"alguien\",\"solo\",\"puedo\",\"puede\",\"nuevo\",\"quiero\",\"d\\u00eda\",\"gusta\",\"social\",\"mismo\",\"esperar\",\"vida\",\"comer\",\"mucha\",\"simplemente\",\"escuchar\",\"cada\",\"semana\",\"pesar\",\"ser\",\"siempre\",\"sab\\u00e9rselas\",\"deberes\",\"todas\",\"trabajo\",\"aquellos\",\"ayer\",\"pa\\u00eds\",\"conozco\",\"chocolate\",\"veces\",\"dios\",\"gracias\",\"diario\",\"malo\",\"buen\",\"va\",\"ir\",\"mundo\",\"sentimientos\",\"mejor\",\"tan\",\"voy\",\"materia\",\"pasan\",\"parece\",\"pasar\",\"hoy\",\"persona\",\"normal\",\"cualquier\",\"siento\",\"mal\",\"hacer\",\"marico\",\"malos\",\"si\",\"dolor\",\"dos\"],\"x\":{\"__ndarray__\":\"NH1Qv6bVLkBsZgNA2xDkvp075z6cnHVAzJmKP1HJAb/cn80/WV7GvkX/zT/tlDk/hj8IwEvVl76wzX9Az7/zPz8lCr8YMh5A3brAPvTRCUApMGxAq+8eQKtRlUDou6U+0yzLP9pMYUAomypAViZQviXBBz92abA/wtkHP1hzFEB/bKs/1XVQQHVWgL5xjri/TXGePrTXG787fA/AsE7mP6nkQEApaVBALCEFQMqvEL7vvNK/Wo0KQNBb5z/tFZQ/E+egP7dqC0BWhIxAeCsgQLnrg0Bw5h9AUlEdQLOnvj9GtIBA+HpeQAzGU0AfNIO/skCKPqITj0D5V41ARq7BPxw18j69rO4/mc9YQDFpwT86lYE/bcaEQA/Zqj/UKQQ9oNsCQJQmUj9BREBAYLyEQLyo5D202Qw/RIxYQITTPb8qFkZABT22P/QHMEDK5CNAD2ITvy/gAUAZOBlAJaCXP+BYsbwZuwRA\",\"dtype\":\"float32\",\"shape\":[90]},\"y\":{\"__ndarray__\":\"RJXKP592qD+NL0vA7qiovX00Ij/41C9ABIAnv+1RHz8Uk7m+2VCHv35WbD8Gmak/ccoev3IWBcB0HSo/iNmPP2E3J0CH9hjATtszwE4MBD8Igac9Fv//PrY3kz5DRkXAnnP0P4EDIr+PxBW/9gyiP5VK1T4lqde/xNPUPsPjTr+12NM/wwD3v5Rty7863rk9nF0bQICExj+G64C/9gVOQFg0qL9eAHe/DUHUP1xsd79hlYc/MJ1MwCCR4j70iqI9SG1WQBHv5j/MLLu/RfYkQOzlA0DwWmk8zwRNQNsIwb9UDS+/p2r8v6q3ST86Yce/MHslwInPmj8jVSpA9ukbwKoEc79pPSdAaz89QCMgCUD4a0K/ZrIaQG/VHD9T7l9A8cNfv6dv1T/+P34/DCXGv01qXr8uors/eIUBP9PR0L6G0Zs/B9jivx0EIMAAcci/aEH9PySJT79Bng1A7nE5QOR4uT5AEwE/\",\"dtype\":\"float32\",\"shape\":[90]}},\"selected\":{\"id\":\"9dcb8720-60ac-4a89-9146-f24adac1853b\",\"type\":\"Selection\"},\"selection_policy\":{\"id\":\"f24f4562-1630-4066-bd02-2720671c225d\",\"type\":\"UnionRenderers\"}},\"id\":\"5fbc6744-6476-4af2-bdc3-b95701b0888f\",\"type\":\"ColumnDataSource\"},{\"attributes\":{\"fill_color\":{\"value\":\"#1f77b4\"},\"line_color\":{\"value\":\"#1f77b4\"},\"x\":{\"field\":\"x\"},\"y\":{\"field\":\"y\"}},\"id\":\"d4ee41e9-8533-48be-b511-744a19aed077\",\"type\":\"Circle\"},{\"attributes\":{\"source\":{\"id\":\"5fbc6744-6476-4af2-bdc3-b95701b0888f\",\"type\":\"ColumnDataSource\"}},\"id\":\"cd4035ed-e95d-4719-94ab-16401ba50e0e\",\"type\":\"CDSView\"},{\"attributes\":{\"plot\":null,\"text\":\"Map of word vectors\"},\"id\":\"617b3b2d-509f-4cd7-9fe1-793e240104f2\",\"type\":\"Title\"},{\"attributes\":{},\"id\":\"8a2d8086-83bd-4503-ad16-7332f98bec01\",\"type\":\"WheelZoomTool\"},{\"attributes\":{\"data_source\":{\"id\":\"5fbc6744-6476-4af2-bdc3-b95701b0888f\",\"type\":\"ColumnDataSource\"},\"glyph\":{\"id\":\"d4ee41e9-8533-48be-b511-744a19aed077\",\"type\":\"Circle\"},\"hover_glyph\":null,\"muted_glyph\":null,\"nonselection_glyph\":{\"id\":\"7c29c22b-4106-4910-8243-8210d01464ed\",\"type\":\"Circle\"},\"selection_glyph\":null,\"view\":{\"id\":\"cd4035ed-e95d-4719-94ab-16401ba50e0e\",\"type\":\"CDSView\"}},\"id\":\"93bb6ca8-01dd-49b6-9f1d-0e6732fbdb4c\",\"type\":\"GlyphRenderer\"},{\"attributes\":{},\"id\":\"9dcb8720-60ac-4a89-9146-f24adac1853b\",\"type\":\"Selection\"},{\"attributes\":{},\"id\":\"29ad3d8b-239d-4ef0-977d-9f194b5c1367\",\"type\":\"PanTool\"}],\"root_ids\":[\"80dd0f0a-c50a-4a80-bd98-e5a03fbf0c78\"]},\"title\":\"Bokeh Application\",\"version\":\"0.12.16\"}};\n",
              "  var render_items = [{\"docid\":\"2d3b55c0-88fc-4bd1-b891-cc9d91f0b5fc\",\"elementid\":\"634ad989-45a7-44a8-8420-6422152d22fd\",\"modelid\":\"80dd0f0a-c50a-4a80-bd98-e5a03fbf0c78\"}];\n",
              "  root.Bokeh.embed.embed_items_notebook(docs_json, render_items);\n",
              "\n",
              "  }\n",
              "  if (root.Bokeh !== undefined) {\n",
              "    embed_document(root);\n",
              "  } else {\n",
              "    var attempts = 0;\n",
              "    var timer = setInterval(function(root) {\n",
              "      if (root.Bokeh !== undefined) {\n",
              "        embed_document(root);\n",
              "        clearInterval(timer);\n",
              "      }\n",
              "      attempts++;\n",
              "      if (attempts > 100) {\n",
              "        console.log(\"Bokeh: ERROR: Unable to run BokehJS code because BokehJS library is missing\")\n",
              "        clearInterval(timer);\n",
              "      }\n",
              "    }, 10, root)\n",
              "  }\n",
              "})(window);"
            ],
            "application/vnd.bokehjs_exec.v0+json": ""
          },
          "metadata": {
            "tags": [],
            "application/vnd.bokehjs_exec.v0+json": {
              "id": "80dd0f0a-c50a-4a80-bd98-e5a03fbf0c78"
            }
          }
        }
      ]
    },
    {
      "metadata": {
        "id": "4OhDOm2UJgrK",
        "colab_type": "text"
      },
      "cell_type": "markdown",
      "source": [
        "Se observa, de esta manera, las aglomeración de palabras similares en la nube obtenida. Sin embargo, como ya se dijo, se necesita un vocabulario más grande y oraciones más largas.\n",
        "\n",
        "## Representación vectorial de oraciones\n",
        "---\n",
        "\n",
        "Es hora entonces de obtener la representación vectorial de las oraciones, lo cual termina de preparar la data para ser alimentada al clasificador a utilizar. Como se dijo anteriormente, se utilizará un promedio ponderado de los vectores de cada palabra en la oración. El peso en cuestión será obtenido utilizando la métrica [Tf-idf](https://es.wikipedia.org/wiki/Tf-idf), lo cual, a grandes rasgos, representa la importancia de una palabra en la oración.\n",
        "\n",
        "### Creación de la matriz de pesos Tf-idf\n",
        "\n",
        "Esto será llevado a cabo con el módulo `TfidfVectorizer` de **sklearn**:"
      ]
    },
    {
      "metadata": {
        "id": "v7fl8uLRzZXQ",
        "colab_type": "code",
        "colab": {
          "autoexec": {
            "startup": false,
            "wait_interval": 0
          },
          "base_uri": "https://localhost:8080/",
          "height": 68
        },
        "outputId": "af0d2710-a289-49d3-ed47-1063f1c7efe0",
        "executionInfo": {
          "status": "ok",
          "timestamp": 1526479433722,
          "user_tz": 240,
          "elapsed": 738,
          "user": {
            "displayName": "Jhonathan Abreu",
            "photoUrl": "//lh4.googleusercontent.com/-4bMUXodd-B0/AAAAAAAAAAI/AAAAAAAAAlY/Lc07exuN7Aw/s50-c-k-no/photo.jpg",
            "userId": "117165292541590122752"
          }
        }
      },
      "cell_type": "code",
      "source": [
        "print 'building tf-idf matrix ...'\n",
        "vectorizer = TfidfVectorizer(analyzer = lambda x: x)\n",
        "matrix = vectorizer.fit_transform([sentence\n",
        "                                   for sentence in tqdm(trainSentences)])\n",
        "tfidf = dict(zip(vectorizer.get_feature_names(), vectorizer.idf_))\n",
        "print 'vocab size :', len(tfidf)"
      ],
      "execution_count": 43,
      "outputs": [
        {
          "output_type": "stream",
          "text": [
            "100%|██████████| 130/130 [00:00<00:00, 75541.63it/s]"
          ],
          "name": "stderr"
        },
        {
          "output_type": "stream",
          "text": [
            "building tf-idf matrix ...\n",
            "vocab size : 524\n"
          ],
          "name": "stdout"
        },
        {
          "output_type": "stream",
          "text": [
            "\n"
          ],
          "name": "stderr"
        }
      ]
    },
    {
      "metadata": {
        "id": "kCRqXBiELXm7",
        "colab_type": "text"
      },
      "cell_type": "markdown",
      "source": [
        "### Conversión oración a vector\n",
        "\n",
        "La siguiente función, `buildWordVector`, calcula el promedio ponderado de los vectores de las palabras de la oración y construye el vector representativo de la oración.\n",
        "\n",
        "> **Nota:** es importante notar que no se está manejando el caso de que una palabra de la oración no esté en el vocabulario del modelo Word2Vec, lo cual debe ser estudiado para su manejo.\n",
        "\n"
      ]
    },
    {
      "metadata": {
        "id": "3V-rQCWEzvTN",
        "colab_type": "code",
        "colab": {
          "autoexec": {
            "startup": false,
            "wait_interval": 0
          }
        }
      },
      "cell_type": "code",
      "source": [
        "def buildWordVector(tokens, size):\n",
        "    vec = np.zeros(size).reshape((1, size))\n",
        "    count = 0.\n",
        "    for word in tokens:\n",
        "        try:\n",
        "            vec += wordsModel[word].reshape((1, size)) * tfidf[word]\n",
        "            count += 1.\n",
        "        except KeyError: # handling the case where the token is not\n",
        "                         # in the corpus. useful for testing.\n",
        "            continue\n",
        "    if count != 0:\n",
        "        vec /= count\n",
        "    return vec"
      ],
      "execution_count": 0,
      "outputs": []
    },
    {
      "metadata": {
        "id": "vRwrX5PpL5sM",
        "colab_type": "text"
      },
      "cell_type": "markdown",
      "source": [
        "Se finaliza, entonces, con la conversión de oración a vectores de todas las oraciones de los corpus de entrenamiento y prueba:"
      ]
    },
    {
      "metadata": {
        "id": "rUiTkY1x0WPC",
        "colab_type": "code",
        "colab": {
          "autoexec": {
            "startup": false,
            "wait_interval": 0
          },
          "base_uri": "https://localhost:8080/",
          "height": 105
        },
        "outputId": "e35c343f-3f37-43f5-81a5-a9ce4c1482bb",
        "executionInfo": {
          "status": "ok",
          "timestamp": 1526479497278,
          "user_tz": 240,
          "elapsed": 430,
          "user": {
            "displayName": "Jhonathan Abreu",
            "photoUrl": "//lh4.googleusercontent.com/-4bMUXodd-B0/AAAAAAAAAAI/AAAAAAAAAlY/Lc07exuN7Aw/s50-c-k-no/photo.jpg",
            "userId": "117165292541590122752"
          }
        }
      },
      "cell_type": "code",
      "source": [
        "trainSentencesVectors = np.concatenate([buildWordVector(w, vectorDimension)\n",
        "                                        for w in tqdm(trainSentences)])\n",
        "trainSentencesVectors = scale(trainSentencesVectors)\n",
        "\n",
        "testSentencesVectors = np.concatenate([buildWordVector(w, vectorDimension)\n",
        "                                       for w in tqdm(testSentences)])\n",
        "testSentencesVectors = scale(testSentencesVectors)"
      ],
      "execution_count": 48,
      "outputs": [
        {
          "output_type": "stream",
          "text": [
            "  0%|          | 0/130 [00:00<?, ?it/s]/usr/local/lib/python2.7/dist-packages/ipykernel_launcher.py:6: DeprecationWarning: Call to deprecated `__getitem__` (Method will be removed in 4.0.0, use self.wv.__getitem__() instead).\n",
            "  \n",
            "100%|██████████| 130/130 [00:00<00:00, 3187.61it/s]\n",
            "100%|██████████| 56/56 [00:00<00:00, 5607.36it/s]\n"
          ],
          "name": "stderr"
        }
      ]
    },
    {
      "metadata": {
        "id": "aKdEy-QLMOFE",
        "colab_type": "text"
      },
      "cell_type": "markdown",
      "source": [
        "Una pequeña y muy simple validación: el tamaño de la lista de oraciones de cada corpus debe ser igual al tamaño de su correspondiente lista de vectores:"
      ]
    },
    {
      "metadata": {
        "id": "NGjuknTk1-nq",
        "colab_type": "code",
        "colab": {
          "autoexec": {
            "startup": false,
            "wait_interval": 0
          },
          "base_uri": "https://localhost:8080/",
          "height": 765
        },
        "outputId": "012f9b53-fdf2-4f7d-a2f7-85c22bba7a88",
        "executionInfo": {
          "status": "ok",
          "timestamp": 1526479487344,
          "user_tz": 240,
          "elapsed": 465,
          "user": {
            "displayName": "Jhonathan Abreu",
            "photoUrl": "//lh4.googleusercontent.com/-4bMUXodd-B0/AAAAAAAAAAI/AAAAAAAAAlY/Lc07exuN7Aw/s50-c-k-no/photo.jpg",
            "userId": "117165292541590122752"
          }
        }
      },
      "cell_type": "code",
      "source": [
        "print 'Longitud de la lista de oraciones de entrenamiento:', \\\n",
        "      len(trainSentences)\n",
        "print 'Longitud de la lista de vectores de entrenamiento:', \\\n",
        "      len(trainSentencesVectors)\n",
        "print 'Longitud de la lista de oraciones de prueba:', \\\n",
        "      len(testSentences)\n",
        "print 'Longitud de la lista de vectores de prueba:', \\\n",
        "      len(testSentencesVectors)\n",
        "    \n",
        "trainSentencesVectors[0]"
      ],
      "execution_count": 47,
      "outputs": [
        {
          "output_type": "stream",
          "text": [
            "Longitud de la lista de oraciones de entrenamiento: 130\n",
            "Longitud de la lista de vectores de entrenamiento: 130\n",
            "Longitud de la lista de oraciones de prueba: 56\n",
            "Longitud de la lista de vectores de prueba: 56\n"
          ],
          "name": "stdout"
        },
        {
          "output_type": "execute_result",
          "data": {
            "text/plain": [
              "array([-1.65520097,  0.79132586, -1.33230847,  1.38317886,  0.84141921,\n",
              "        0.96656358,  1.17393864, -0.21622531,  2.66983167,  1.22714443,\n",
              "       -1.96574413, -1.96512581, -1.95821358,  1.36769148, -0.59899523,\n",
              "       -0.0031911 , -0.48036482,  0.17773873, -1.90426324, -0.86367943,\n",
              "        2.01926898,  1.96798257,  2.06952563,  1.86806703, -0.49970151,\n",
              "       -2.00259324, -1.43563706, -2.58463137,  0.32268911,  0.57283145,\n",
              "       -0.04632699,  1.83465151,  0.18081076, -2.18363916, -1.41367904,\n",
              "       -1.58799429,  1.67979231,  0.55173245,  2.49723177, -2.30250143,\n",
              "        2.07075508,  2.72699485,  0.61354736, -2.0450455 , -2.79627991,\n",
              "       -1.44606226,  1.71068665,  1.26232007,  2.1841695 , -0.0377038 ,\n",
              "       -1.43257717, -0.7883588 ,  0.74355305, -0.12999519,  0.79657741,\n",
              "       -2.63503118, -0.41426828, -0.81098841,  2.28193016, -2.36639639,\n",
              "       -0.09099696,  0.94550517,  1.94943066,  1.21719032, -2.72051448,\n",
              "       -0.83165874, -1.3953293 , -1.24257782, -1.11001372,  2.2808349 ,\n",
              "       -1.40211502, -0.04731215,  0.10006448, -2.1274567 ,  0.35976321,\n",
              "       -1.50008043, -0.87731809,  2.50964353,  1.29610629,  1.67991121,\n",
              "        1.25847371, -2.06559035, -0.80460877,  1.77055621,  2.0146618 ,\n",
              "        0.44559216,  0.13469215, -2.65986851, -2.32397703, -1.79970983,\n",
              "        1.84524944,  0.72297271,  2.16256734, -0.10386187,  1.33712148,\n",
              "        1.95649073, -0.11428455, -0.9476625 ,  0.81320266, -1.50813687,\n",
              "       -2.75065461, -0.65578065,  0.97651216,  0.18568273,  0.55970604,\n",
              "        1.1540695 , -1.70349763,  1.33916085,  1.98589484, -1.53471816,\n",
              "       -2.65826108, -1.15676777, -0.8602286 ,  0.49929324, -2.21421304,\n",
              "        2.45469174,  2.72268118,  2.20749912,  2.13151978,  2.30447358,\n",
              "        1.98386883, -2.14908591, -0.84358152, -0.07441156, -0.22018552,\n",
              "        0.56080089,  2.24500375, -1.23445141,  1.96430402, -0.19206102,\n",
              "        0.84192708, -0.50906517, -1.97825647, -0.0177727 , -0.41468756,\n",
              "        0.80093099, -0.98671622,  1.00720027,  2.00968114,  1.14024022,\n",
              "       -0.84528687, -0.93840781,  2.74924047, -1.26125189,  1.75231949,\n",
              "       -2.67576442, -0.77661083, -2.89866663, -1.32233059, -2.32304933,\n",
              "       -1.60496576,  1.14061313, -2.43487937, -2.10036193, -1.19075253,\n",
              "        2.44826123,  2.34390914,  1.53113237, -1.51717174,  2.2262213 ,\n",
              "       -1.14715967, -0.43520928, -1.30761213, -0.87272748,  0.25620227,\n",
              "       -1.77129379, -1.72232183,  2.67854002,  0.83009298,  2.26962277,\n",
              "       -1.18783111, -0.61821816, -1.74286715,  0.65843105,  0.48548582,\n",
              "        1.98988524,  0.4036158 ,  1.63039511,  1.39036486, -1.18257216,\n",
              "        2.61815039, -1.02181789, -0.26021324,  0.40649019,  1.56803521,\n",
              "       -1.89295851, -0.31293226, -1.25351396, -0.4353222 , -0.92406788,\n",
              "        0.14969436, -1.97842985, -2.69741957,  1.27447163,  0.62316696,\n",
              "        0.95699732, -2.51320256,  2.11255321, -2.99830985,  1.35201379])"
            ]
          },
          "metadata": {
            "tags": []
          },
          "execution_count": 47
        }
      ]
    },
    {
      "metadata": {
        "id": "zBl1-JOyRUYs",
        "colab_type": "text"
      },
      "cell_type": "markdown",
      "source": [
        "## Trabajo por realizar\n",
        "---\n",
        "\n",
        "*   Es necesario estudiar las formas de **validación** de este tipo de modelos pues, al final del día, es un método de aprendizaje automático no supervisado y debe ser validado y potencialmente **optimizado**.\n",
        "*   Se deben estudiar y resolver aspectos importantes, como el manejo de oraciones con palabras que no existan en el vocabulario de entrenamiento.\n",
        "\n",
        "\n",
        "\n"
      ]
    }
  ]
}