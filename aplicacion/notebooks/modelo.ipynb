{
 "cells": [
  {
   "cell_type": "markdown",
   "metadata": {
    "colab_type": "text",
    "id": "tDaNapTl82lg"
   },
   "source": [
    "# Análisis de Sentimientos a Nivel de Texto: Entrenamiento del modelo\n",
    "---\n",
    "\n",
    "> **Proyecto final de Asignatura Sistemas Computacionales <br>\n",
    "Escuela de Ingeniería de Sistemas <br>\n",
    "Universidad de Los Andes <br>\n",
    "Autor: Jhonathan Abreu <br>**\n",
    "\n",
    "---\n",
    "<br>\n",
    "\n",
    "La función del presente notebook es el entrenamiento del modelo a utilizar en la aplicación de análisis de sentimientos siendo desarrollada. El producto final de este notebook es un archivo en formato **hdf5**, el cual corresponde a la persistencia del modelo generado y puede ser cargado en un futuro sin realizar el proceso de entrenamiento. Adicionalmente, como producto de este notebook, se va a generar un archivo en formato **PKL** que contiene el modelo que va a ser utilizado como vectorizador, es decir, para realizar el proceso de conversión de frases a vectores.\n",
    "\n",
    "<br>\n",
    "\n",
    "## Configuración del sistema de archivos de Drive\n",
    "---\n",
    "\n",
    "En primer lugar, se debe configurar el sistema de archivos de Google Drive, si va a utilizar Colaboratory:"
   ]
  },
  {
   "cell_type": "code",
   "execution_count": 1,
   "metadata": {
    "colab": {
     "autoexec": {
      "startup": false,
      "wait_interval": 0
     },
     "base_uri": "https://localhost:8080/",
     "height": 186
    },
    "colab_type": "code",
    "executionInfo": {
     "elapsed": 88857,
     "status": "ok",
     "timestamp": 1529276259168,
     "user": {
      "displayName": "Jhonathan Abreu",
      "photoUrl": "//lh4.googleusercontent.com/-4bMUXodd-B0/AAAAAAAAAAI/AAAAAAAAAlY/Lc07exuN7Aw/s50-c-k-no/photo.jpg",
      "userId": "117165292541590122752"
     },
     "user_tz": 240
    },
    "id": "3gnaBf9QcXeZ",
    "outputId": "cc4ce529-ea2c-4628-b6c9-7f3eae6f2179"
   },
   "outputs": [
    {
     "name": "stdout",
     "output_type": "stream",
     "text": [
      "Please, open the following URL in a web browser: https://accounts.google.com/o/oauth2/auth?client_id=32555940559.apps.googleusercontent.com&redirect_uri=urn%3Aietf%3Awg%3Aoauth%3A2.0%3Aoob&scope=https%3A%2F%2Fwww.googleapis.com%2Fauth%2Fdrive&response_type=code&access_type=offline&approval_prompt=force\n",
      "··········\n",
      "Please, open the following URL in a web browser: https://accounts.google.com/o/oauth2/auth?client_id=32555940559.apps.googleusercontent.com&redirect_uri=urn%3Aietf%3Awg%3Aoauth%3A2.0%3Aoob&scope=https%3A%2F%2Fwww.googleapis.com%2Fauth%2Fdrive&response_type=code&access_type=offline&approval_prompt=force\n",
      "Please enter the verification code: Access token retrieved correctly.\n",
      "fusermount: failed to unmount /content/drive: No such file or directory\n",
      "/bin/sh: 1: sshfs: not found\n",
      "Archivos en Drive:\n",
      "aplicacion.ipynb  mejormodelo.ipynb  modelos\n",
      "datasets\t  modelo.ipynb\t     preprocesamiento.ipynb\n"
     ]
    }
   ],
   "source": [
    "# Instalar la biblioteca FUSE (Filesystem in Userspase) para manejar el sistema\n",
    "# de archivos de Google Drive\n",
    "# https://github.com/astrada/google-drive-ocamlfuse\n",
    "!apt-get install -y -qq software-properties-common python-software-properties \\\n",
    "    module-init-tools\n",
    "!add-apt-repository -y ppa:alessandro-strada/ppa 2>&1 > /dev/null\n",
    "!apt-get update -qq 2>&1 > /dev/null\n",
    "!apt-get -y install -qq google-drive-ocamlfuse fuse\n",
    "\n",
    "# Importar bibliotecas necesarias para autenticación\n",
    "from google.colab import auth\n",
    "from oauth2client.client import GoogleCredentials\n",
    "import getpass\n",
    "\n",
    "# Generar los tokens de autorización para Colaboratory\n",
    "auth.authenticate_user()\n",
    "\n",
    "# Generar credenciales para la biblioteca FUSE\n",
    "credentials = GoogleCredentials.get_application_default()\n",
    "\n",
    "!google-drive-ocamlfuse -headless -id={credentials.client_id} \\\n",
    "    -secret={credentials.client_secret} < /dev/null 2>&1 | grep URL\n",
    "vcode = getpass.getpass()\n",
    "!echo {vcode} | google-drive-ocamlfuse -headless -id={credentials.client_id} \\\n",
    "    -secret={credentials.client_secret}\n",
    "\n",
    "# Montar sistema de archivos\n",
    "!fusermount -u drive\n",
    "!sshfs -u drive\n",
    "\n",
    "# Crear un directorio y montar Google Drive usando ese directorio\n",
    "!mkdir -p drive\n",
    "!google-drive-ocamlfuse drive\n",
    "\n",
    "# Prueba: mostrar contenido de un directorio en drive\n",
    "print ('Archivos en Drive:')\n",
    "!ls drive"
   ]
  },
  {
   "cell_type": "markdown",
   "metadata": {},
   "source": [
    "<br>\n",
    "## Declaración de constantes\n",
    "---\n",
    "\n",
    "Las siguientes constantes son necesarias para ubicar los datasets y los modelos. Modifique según sea necesario, si va a utilizar Colaboratory o un entorno local."
   ]
  },
  {
   "cell_type": "code",
   "execution_count": 1,
   "metadata": {
    "colab": {
     "autoexec": {
      "startup": false,
      "wait_interval": 0
     }
    },
    "colab_type": "code",
    "id": "1Szwed-98ryw"
   },
   "outputs": [],
   "source": [
    "import os\n",
    "\n",
    "# Directorios de los datasets\n",
    "\n",
    "#   NOTA: cambiar PROJECT_DIR al directorio raíz del proyecto\n",
    "#     Para drive, cambie la siguiente variable a la ruta del\n",
    "#     proyecto en su Drive:\n",
    "#PROJECT_DIR = 'drive/ULA/sistemascomputacionales/aplicacion'\n",
    "#     Para entorno local, cambie la siguiente variable para apunta\n",
    "#     a la ruta abosluta del proyecto en su disco:\n",
    "PROJECT_DIR = ('/home/jhonathanabreu/Documentos/ula/sistemas_computacionales/'\n",
    "               'Proyecto_SistemasComputacionales_AbreuJ/aplicacion')\n",
    "DATASETS_DIR = os.path.join(PROJECT_DIR, 'datasets')\n",
    "ORIGINAL_DATASETS_DIR = os.path.join(DATASETS_DIR, 'originales')\n",
    "PROCESSED_DATASETS_DIR = os.path.join(DATASETS_DIR, 'procesados')\n",
    "MODELS_DIR = os.path.join(PROJECT_DIR, 'modelos')"
   ]
  },
  {
   "cell_type": "markdown",
   "metadata": {
    "colab_type": "text",
    "id": "c_EjwWXYcatx"
   },
   "source": [
    "<br>\n",
    "## Ingesta de los datos\n",
    "---\n",
    "\n",
    "Ya se puede, entonces, proceder a cargar la data a utilizar, la cual ya fue preprocesada en el notebook `preprocesamiento.ipynb`:"
   ]
  },
  {
   "cell_type": "code",
   "execution_count": 2,
   "metadata": {
    "colab": {
     "autoexec": {
      "startup": false,
      "wait_interval": 0
     },
     "base_uri": "https://localhost:8080/",
     "height": 214
    },
    "colab_type": "code",
    "executionInfo": {
     "elapsed": 2074,
     "status": "ok",
     "timestamp": 1529276272739,
     "user": {
      "displayName": "Jhonathan Abreu",
      "photoUrl": "//lh4.googleusercontent.com/-4bMUXodd-B0/AAAAAAAAAAI/AAAAAAAAAlY/Lc07exuN7Aw/s50-c-k-no/photo.jpg",
      "userId": "117165292541590122752"
     },
     "user_tz": 240
    },
    "id": "wSfjVpy8clSh",
    "outputId": "b9d7ab98-693f-4a58-d5a5-354d1ce78964"
   },
   "outputs": [
    {
     "name": "stdout",
     "output_type": "stream",
     "text": [
      "dataset loaded with shape (600, 2)\n"
     ]
    },
    {
     "data": {
      "text/html": [
       "<div>\n",
       "<style scoped>\n",
       "    .dataframe tbody tr th:only-of-type {\n",
       "        vertical-align: middle;\n",
       "    }\n",
       "\n",
       "    .dataframe tbody tr th {\n",
       "        vertical-align: top;\n",
       "    }\n",
       "\n",
       "    .dataframe thead th {\n",
       "        text-align: right;\n",
       "    }\n",
       "</style>\n",
       "<table border=\"1\" class=\"dataframe\">\n",
       "  <thead>\n",
       "    <tr style=\"text-align: right;\">\n",
       "      <th></th>\n",
       "      <th>sentences</th>\n",
       "      <th>sentiment</th>\n",
       "    </tr>\n",
       "  </thead>\n",
       "  <tbody>\n",
       "    <tr>\n",
       "      <th>0</th>\n",
       "      <td>La canción que acaba de sacar Sia es muy buena, suena muy bien</td>\n",
       "      <td>2</td>\n",
       "    </tr>\n",
       "    <tr>\n",
       "      <th>1</th>\n",
       "      <td>La música de Maluma es realmente mala y sin sentido, no se como es que a las persona les gusta</td>\n",
       "      <td>0</td>\n",
       "    </tr>\n",
       "    <tr>\n",
       "      <th>2</th>\n",
       "      <td>Hoy es un día normal y tranquilo</td>\n",
       "      <td>1</td>\n",
       "    </tr>\n",
       "    <tr>\n",
       "      <th>3</th>\n",
       "      <td>Que bello día</td>\n",
       "      <td>2</td>\n",
       "    </tr>\n",
       "    <tr>\n",
       "      <th>4</th>\n",
       "      <td>Estoy enojado contigo</td>\n",
       "      <td>0</td>\n",
       "    </tr>\n",
       "    <tr>\n",
       "      <th>5</th>\n",
       "      <td>La biblioteca queda cerca del centro de la ciudad</td>\n",
       "      <td>1</td>\n",
       "    </tr>\n",
       "    <tr>\n",
       "      <th>6</th>\n",
       "      <td>La comida estuvo deliciosa</td>\n",
       "      <td>2</td>\n",
       "    </tr>\n",
       "    <tr>\n",
       "      <th>7</th>\n",
       "      <td>Que día tan horrible para salir</td>\n",
       "      <td>0</td>\n",
       "    </tr>\n",
       "    <tr>\n",
       "      <th>8</th>\n",
       "      <td>Mi amiga y su madre salieron de compras</td>\n",
       "      <td>1</td>\n",
       "    </tr>\n",
       "    <tr>\n",
       "      <th>9</th>\n",
       "      <td>Hoy sera un gran día, todo saldrá muy bien</td>\n",
       "      <td>2</td>\n",
       "    </tr>\n",
       "  </tbody>\n",
       "</table>\n",
       "</div>"
      ],
      "text/plain": [
       "                                                                                        sentences  \\\n",
       "0  La canción que acaba de sacar Sia es muy buena, suena muy bien                                   \n",
       "1  La música de Maluma es realmente mala y sin sentido, no se como es que a las persona les gusta   \n",
       "2  Hoy es un día normal y tranquilo                                                                 \n",
       "3  Que bello día                                                                                    \n",
       "4  Estoy enojado contigo                                                                            \n",
       "5  La biblioteca queda cerca del centro de la ciudad                                                \n",
       "6  La comida estuvo deliciosa                                                                       \n",
       "7  Que día tan horrible para salir                                                                  \n",
       "8  Mi amiga y su madre salieron de compras                                                          \n",
       "9  Hoy sera un gran día, todo saldrá muy bien                                                       \n",
       "\n",
       "   sentiment  \n",
       "0  2          \n",
       "1  0          \n",
       "2  1          \n",
       "3  2          \n",
       "4  0          \n",
       "5  1          \n",
       "6  2          \n",
       "7  0          \n",
       "8  1          \n",
       "9  2          "
      ]
     },
     "metadata": {},
     "output_type": "display_data"
    }
   ],
   "source": [
    "import os\n",
    "import pandas as pd\n",
    "\n",
    "pd.set_option('display.max_colwidth', -1)\n",
    "\n",
    "def ingest(datasetFileName):\n",
    "    data = pd.read_csv(datasetFileName, header = None)\n",
    "    data.columns = ['sentences', 'sentiment']\n",
    "    data['sentiment'] = data['sentiment'].map({\n",
    "                                                'positivo': 2,\n",
    "                                                'neutral': 1,\n",
    "                                                'negativo': 0\n",
    "                                              })\n",
    "    data.reset_index(inplace = True)\n",
    "    data.drop('index', axis = 1, inplace = True)\n",
    "    print('dataset loaded with shape', data.shape)\n",
    "    return data\n",
    "\n",
    "datasetFileName = os.path.join(PROJECT_DIR,\n",
    "                               'datasets/procesados/labeled_data.csv')\n",
    "data = ingest(datasetFileName)\n",
    "display(data.head(10))"
   ]
  },
  {
   "cell_type": "markdown",
   "metadata": {
    "colab_type": "text",
    "id": "NFyhQQh5wUpJ"
   },
   "source": [
    "<br>\n",
    "## El Modelo\n",
    "---\n",
    "\n",
    "Para el análisis de sentimientos se va a utilizar un clasificador de tipo Red Neuronal Convolucional y un vectorizador tipo Bag-of-Words.\n",
    "\n",
    "<br>\n",
    "### Representación vectorial de las frases\n",
    "\n",
    "En este caso, se va a utilizar el modelo típico conocido como Bag-Of-Words, el cual permite que un texto (como una oración) sea representado como una colección (bolsa) de sus palabras, sin importar la gramática o el orden de las palabras, pero manteniendo la multiplicidad. La biblioteca de aprendizaje automático [scikit-learn](http://scikit-learn.org/stable/index.html) de Python provee un modelo llamado `CounterVectorizer`, el cual abstrae el proceso de tokenización, conteo y vectorización de las frases o documentos (además de otros procedimientos de limpieza) mediante el modelo Bag-Of-Words. Más información sobre el `CounterVectorizer` y el proceso de vectorización [aquí](http://scikit-learn.org/stable/modules/generated/sklearn.feature_extraction.text.CountVectorizer.html) y [aquí](http://scikit-learn.org/stable/modules/feature_extraction.html#text-feature-extraction).\n",
    "\n",
    "> **Nota**: el proceso de limpieza y vectorización de las oraciones se delegó al presente notebook debido a que es recomendado que el vectorizador sea entrenado utilizando los mismos datos con los que se va a entrenar el clasificador. Por lo tanto, debe realizarse previamente la división del dataset en datos de entrenamiento y de prueba.\n",
    "\n",
    "Se va a utilizar un `CounterVectorizer` para este fin, para lo cual es necesario que este realize los siguientes pasos:\n",
    "\n",
    "1.   Eliminar símbolos (puntuación, números, entre otros) de las frases.\n",
    "2.   Tokenizar la frase.\n",
    "3.   Eliminar las palabras vacías.\n",
    "4.   Aplicar el stemming: este es el proceso en el que se convierten las palabras a su raíz. Por ejemplo, si en el vocabulario se encuentra la palabra \"bibliotec**as**\", la palabra que entra a la bolsa de palabras es su raíz \"bibliotec\", de modo que si se intenta clasificar una frase que contenga la palabra \"bibliotec**ario**\" (que no está en el vocabulario), esta se tome en cuenta en el análisis.\n",
    "5.   Eliminar acentos.\n",
    "6.   Construir el modelo y vectorizar la frase.\n",
    "\n",
    "Antes de codificar lo anterior, es necesario descargar la lista de palabras vacías que provee [NLTK](https://www.nltk.org/) y extender la lista de signos de puntuación que provee el módulo `string` de Python, agregándole los signos de puntuación propios del lenguaje Español y los números:"
   ]
  },
  {
   "cell_type": "code",
   "execution_count": 3,
   "metadata": {
    "colab": {
     "autoexec": {
      "startup": false,
      "wait_interval": 0
     },
     "base_uri": "https://localhost:8080/",
     "height": 83
    },
    "colab_type": "code",
    "executionInfo": {
     "elapsed": 3439,
     "status": "ok",
     "timestamp": 1529276295996,
     "user": {
      "displayName": "Jhonathan Abreu",
      "photoUrl": "//lh4.googleusercontent.com/-4bMUXodd-B0/AAAAAAAAAAI/AAAAAAAAAlY/Lc07exuN7Aw/s50-c-k-no/photo.jpg",
      "userId": "117165292541590122752"
     },
     "user_tz": 240
    },
    "id": "hvy2tjRQwf1d",
    "outputId": "b9c69ea6-9a43-4c87-b2e6-a051cabc639b"
   },
   "outputs": [
    {
     "name": "stdout",
     "output_type": "stream",
     "text": [
      "[nltk_data] Downloading package punkt to\n",
      "[nltk_data]     /home/jhonathanabreu/nltk_data...\n",
      "[nltk_data]   Unzipping tokenizers/punkt.zip.\n",
      "[nltk_data] Downloading package stopwords to\n",
      "[nltk_data]     /home/jhonathanabreu/nltk_data...\n",
      "[nltk_data]   Package stopwords is already up-to-date!\n"
     ]
    }
   ],
   "source": [
    "# Descarga y carga de la lista de palabras vacías de NLTK\n",
    "import nltk\n",
    "from nltk.corpus import stopwords\n",
    "\n",
    "nltk.download('punkt')\n",
    "\n",
    "nltk.download('stopwords')\n",
    "spanishStopWords = stopwords.words('spanish')\n",
    "\n",
    "# Carga y extensión de la lista de signos de puntuación y otros símbolos.\n",
    "from string import punctuation\n",
    "\n",
    "nonWords = list(punctuation)\n",
    "nonWords.extend(['¿', '¡'])  # Se agregan estos símbolos (español)\n",
    "nonWords.extend(map(str,range(10)))  # Se agregan los dígitos numéricos"
   ]
  },
  {
   "cell_type": "markdown",
   "metadata": {
    "colab_type": "text",
    "id": "ZnyCrMP6whw2"
   },
   "source": [
    "<br>\n",
    "#### Limpieza de las oraciones\n",
    "\n",
    "Para los **pasos 2-5** se utlizara la biblioteca de procesamiento de lenguaje natural NLTK. Específicamente para el paso 4, se utilizará la clase SnowballStemmer.\n",
    "\n",
    "Las siguientes funciones resumen los pasos 1-5:"
   ]
  },
  {
   "cell_type": "code",
   "execution_count": 4,
   "metadata": {
    "colab": {
     "autoexec": {
      "startup": false,
      "wait_interval": 0
     }
    },
    "colab_type": "code",
    "id": "Hd_xru1uwmNW"
   },
   "outputs": [],
   "source": [
    "from nltk import word_tokenize\n",
    "from nltk.data import load\n",
    "from nltk.stem import SnowballStemmer\n",
    "\n",
    "from sklearn.feature_extraction.text import CountVectorizer\n",
    "\n",
    "import numpy as np\n",
    "\n",
    "# Stemmer, objeto que llevará las palabras a sus raíces \n",
    "stemmer = SnowballStemmer('spanish')\n",
    "\n",
    "# Función que aplica el stemming\n",
    "def stem_tokens(tokens, stemmer):\n",
    "    stemmedTokens = []\n",
    "    for token in tokens:\n",
    "        stemmedTokens.append(stemmer.stem(token))\n",
    "        \n",
    "    return stemmedTokens\n",
    "\n",
    "# Función que limpia y tokeniza las frases\n",
    "def tokenize(text):\n",
    "    # Eliminación de símbolos y números\n",
    "    text = ''.join([c for c in text if c not in nonWords])\n",
    "    # Tokeninazión\n",
    "    tokens =  word_tokenize(text)\n",
    "\n",
    "    # Stemming\n",
    "    try:\n",
    "        stemmedTokens = stem_tokens(tokens, stemmer)\n",
    "    except Exception as e:\n",
    "        print(e)\n",
    "        print(text)\n",
    "        stemmedTokens = ['']\n",
    "        \n",
    "    return stemmedTokens"
   ]
  },
  {
   "cell_type": "markdown",
   "metadata": {
    "colab_type": "text",
    "id": "XuPdLYrjwtQC"
   },
   "source": [
    "<br>\n",
    "#### Construcción del vectorizador\n",
    "\n",
    "Por último, el vectorizador se construye de la siguiente manera:"
   ]
  },
  {
   "cell_type": "code",
   "execution_count": 5,
   "metadata": {
    "colab": {
     "autoexec": {
      "startup": false,
      "wait_interval": 0
     }
    },
    "colab_type": "code",
    "id": "fAIUeqOTwu2a"
   },
   "outputs": [],
   "source": [
    "# Vectorizador:\n",
    "#   Se utiliza la funcion tokenize (ver arriba) como tokenizador.\n",
    "#   Se convierten todas las letras a minúsculas.\n",
    "#   Se eliminan los acentos en los caracteres unicode.\n",
    "#   Se se provee la lista de palabras vacías de arriba para ser eliminadas.\n",
    "#   Se utilizan 4-gramas para consideración del contexto\n",
    "vectorizer = CountVectorizer(analyzer = 'word', tokenizer = tokenize,\n",
    "                             lowercase = True, strip_accents = 'unicode',\n",
    "                             stop_words = spanishStopWords, ngram_range = (1,4))"
   ]
  },
  {
   "cell_type": "markdown",
   "metadata": {
    "colab_type": "text",
    "id": "oU6gMwT6j_yC"
   },
   "source": [
    "<br>\n",
    "\n",
    "### El Clasificador \n",
    "\n",
    "El modelo a ser utilizado es una Red Neuronal Convolucional. La implementación a ser utilizada es la proporcionada por [Keras](https://keras.io/models/sequential/).\n",
    "\n",
    "La red consta de dos capas convolucionales continuas de 128 y 32 filtros, respectivamente. Se continúa con una capa de aplanamiento para preparar la salida de las capas convolucionales para el procesamiento en las capas escondidas. Posteriormente, sigue una capa de Dropout, la cual permite \"apagar\" cierta proporción de las entradas en cada actualización durante el entrenamiento, para así evitar el sobre-entrenamiento (overfitting). Siguen 3 capas escondidas directamente conectadas de 64, 32 y 16 neuronas cada una, para mejorar el aprendizaje de la red. Hasta el momento, todas las capas (convolucionales y escondidas) utilizan la función de activación ReLU (rectified linear unit) como rectificador. Por último, una capa de 3 neuronas es necesaria para la clasificación final en las tres categorías; para esta capa, se utilizó la función de activación Sigmoid o logística, la cual existe ente 0 y 1 y es útil cuando se desea predecir la probabilidad de cada clase, como es en este caso. Durante la clasificación, la salida de la red es un arreglo con la probabilidad asignada a cada clase y se toma como predicción final aquella clase cuya probabilidad sea mayor.\n",
    "\n",
    "> **Nota**: la arquitectura de la red propuesta fue construída después de un largo proceso de entonación y pruebas hasta encontrar la red más adecuada."
   ]
  },
  {
   "cell_type": "code",
   "execution_count": 6,
   "metadata": {
    "colab": {
     "autoexec": {
      "startup": false,
      "wait_interval": 0
     }
    },
    "colab_type": "code",
    "id": "UuAbMuhemkYu"
   },
   "outputs": [
    {
     "name": "stderr",
     "output_type": "stream",
     "text": [
      "Using TensorFlow backend.\n"
     ]
    }
   ],
   "source": [
    "import numpy as np \n",
    "import pandas as pd\n",
    "import os.path\n",
    "import keras\n",
    "from keras.models import Sequential\n",
    "from keras.layers import Dense, Dropout, Flatten\n",
    "from keras.layers.convolutional import Conv1D\n",
    "\n",
    "def buildModel(inputDimension):\n",
    "    model = Sequential()\n",
    "    \n",
    "    # Capas convolucionales, para búsqueda de patrones\n",
    "    model.add(Conv1D(128, 1, input_shape = (1, inputDimension),\n",
    "                     activation = 'relu'))\n",
    "    model.add(Conv1D(32, 1, activation = 'relu'))\n",
    "    \n",
    "    # Capa de aplanamiento, para preparar la salida de las capas\n",
    "    # convolucionales para entrar a las capas escondidas\n",
    "    model.add(Flatten())\n",
    "    \n",
    "    # Capa de Dropout, para evitar el sobre-entrenamiento\n",
    "    model.add(Dropout(0.5))\n",
    "    \n",
    "    # Capas escondidas, para mejorar el aprendizaje\n",
    "    model.add(Dense(64, activation = 'relu'))\n",
    "    model.add(Dense(32, activation = 'relu'))    \n",
    "    model.add(Dense(16, activation = 'relu'))\n",
    "    \n",
    "    # Capa final, para asignar lsa probabilidades de cada clase\n",
    "    model.add(Dense(3, activation = 'sigmoid'))\n",
    "    \n",
    "    # Compilación del modelo con el optimizador RMSprop\n",
    "    model.compile(optimizer = 'rmsprop', loss = 'binary_crossentropy',\n",
    "                  metrics = ['accuracy'])\n",
    "\n",
    "    return model"
   ]
  },
  {
   "cell_type": "markdown",
   "metadata": {
    "colab_type": "text",
    "id": "kQ_b-JO4zCR0"
   },
   "source": [
    "<br>\n",
    "### División de la data de entrenamiento y pruebas\n",
    "\n",
    "Debido a la poca cantidad de datos disponibles, se tomará una proporción 85:15 para data de entrenamiento y pruebas.\n"
   ]
  },
  {
   "cell_type": "code",
   "execution_count": 7,
   "metadata": {
    "colab": {
     "autoexec": {
      "startup": false,
      "wait_interval": 0
     },
     "base_uri": "https://localhost:8080/",
     "height": 50
    },
    "colab_type": "code",
    "executionInfo": {
     "elapsed": 974,
     "status": "ok",
     "timestamp": 1529277007485,
     "user": {
      "displayName": "Jhonathan Abreu",
      "photoUrl": "//lh4.googleusercontent.com/-4bMUXodd-B0/AAAAAAAAAAI/AAAAAAAAAlY/Lc07exuN7Aw/s50-c-k-no/photo.jpg",
      "userId": "117165292541590122752"
     },
     "user_tz": 240
    },
    "id": "3Y39isPxzhip",
    "outputId": "84ac2593-d377-4273-8e71-78d5e4d3e1c1"
   },
   "outputs": [
    {
     "name": "stdout",
     "output_type": "stream",
     "text": [
      "Cantidad de oraciones de entrenamiento: 510\n",
      "Cantidad de oraciones de prueba: 90\n"
     ]
    }
   ],
   "source": [
    "from sklearn.model_selection import train_test_split\n",
    "\n",
    "trainSentences, testSentences, trainLabels, testLabels = \\\n",
    "    train_test_split(np.array(data.sentences), np.array(data.sentiment),\n",
    "                     test_size = 0.15, stratify = np.array(data.sentiment),\n",
    "                     random_state = 27)\n",
    "\n",
    "print('Cantidad de oraciones de entrenamiento: {}'.format(len(trainSentences)))\n",
    "print('Cantidad de oraciones de prueba: {}'.format(len(testSentences)))"
   ]
  },
  {
   "cell_type": "markdown",
   "metadata": {
    "colab_type": "text",
    "id": "64z05v96gahQ"
   },
   "source": [
    "<br>\n",
    "### Entrenamiento del vectorizador\n",
    "\n",
    "El vectorizador debe ser entrenado con los mismos datos de entranamiento del clasificador. Se aprovecha también para salvar este modelo para ser usado luego en la aplicación de predicción:"
   ]
  },
  {
   "cell_type": "code",
   "execution_count": 8,
   "metadata": {
    "colab": {
     "autoexec": {
      "startup": false,
      "wait_interval": 0
     },
     "base_uri": "https://localhost:8080/",
     "height": 33
    },
    "colab_type": "code",
    "executionInfo": {
     "elapsed": 8009,
     "status": "ok",
     "timestamp": 1529277016111,
     "user": {
      "displayName": "Jhonathan Abreu",
      "photoUrl": "//lh4.googleusercontent.com/-4bMUXodd-B0/AAAAAAAAAAI/AAAAAAAAAlY/Lc07exuN7Aw/s50-c-k-no/photo.jpg",
      "userId": "117165292541590122752"
     },
     "user_tz": 240
    },
    "id": "knztL-EO0H2P",
    "outputId": "27ce04c2-bb84-40d0-d97c-7113633a2b90"
   },
   "outputs": [
    {
     "data": {
      "text/plain": [
       "['/home/jhonathanabreu/Documentos/ula/sistemas_computacionales/Proyecto_SistemasComputacionales_AbreuJ/aplicacion/modelos/vectorizador.pkl']"
      ]
     },
     "execution_count": 8,
     "metadata": {},
     "output_type": "execute_result"
    }
   ],
   "source": [
    "from sklearn.externals import joblib\n",
    "\n",
    "# Entrenamiento\n",
    "vectorizer.fit(trainSentences)\n",
    "\n",
    "# Persistencia del modelo\n",
    "vectorizerFileName = os.path.join(MODELS_DIR, 'vectorizador.pkl')\n",
    "joblib.dump(vectorizer, vectorizerFileName)"
   ]
  },
  {
   "cell_type": "markdown",
   "metadata": {
    "colab_type": "text",
    "id": "Cx8mXbxp1HFW"
   },
   "source": [
    "<br>\n",
    "Ahora si se pueden tansformar las oraciones a vectores.\n",
    "\n",
    "Se debe mencionar que las redes neuronales convolucionales de Keras requieren que los datos tengan la siguiene forma o shape:\n",
    "\n",
    "> (nVectores, pasos, dimensiónVectores)\n",
    "\n",
    "Los `pasos` indican la cantidad de elementos a ver en cada paso del entrenamiento, siendo, en este caso, un vector a la vez, sin combinarlos. De igual manera, las etiquetas deben convertirse en matrices binarias (lo cual se conoce como codificación One-Hot), que le asinen la máxima probabilidad a la clase correspondiente, de la siguiente manera:\n",
    "\n",
    "```python\n",
    "negativo = 0 = [1, 0, 0]\n",
    "neutral = 1 = [0, 1, 0]\n",
    "positivo = 2 = [0, 1, 2]\n",
    "\n",
    "# Si una predicción da el siguiente resultado:\n",
    "\n",
    "predicion = [0.1, 0.4, 0.8]\n",
    "\n",
    "# Se observa que la mayor probabilidad se encuentra en la posición\n",
    "# 2 de la lista, pro lo cual, la predicción final es 'positivo' y\n",
    "# puede obtenerse de la siguiente manera:\n",
    "\n",
    "prediccionFinal = numpy.argmax(prediccion)\n",
    "```\n"
   ]
  },
  {
   "cell_type": "code",
   "execution_count": 9,
   "metadata": {
    "colab": {
     "autoexec": {
      "startup": false,
      "wait_interval": 0
     },
     "base_uri": "https://localhost:8080/",
     "height": 33
    },
    "colab_type": "code",
    "executionInfo": {
     "elapsed": 1371,
     "status": "ok",
     "timestamp": 1529277017829,
     "user": {
      "displayName": "Jhonathan Abreu",
      "photoUrl": "//lh4.googleusercontent.com/-4bMUXodd-B0/AAAAAAAAAAI/AAAAAAAAAlY/Lc07exuN7Aw/s50-c-k-no/photo.jpg",
      "userId": "117165292541590122752"
     },
     "user_tz": 240
    },
    "id": "zBeVNSjo1N_y",
    "outputId": "65108bcb-d2a2-473b-d050-33a8f4ac464a"
   },
   "outputs": [
    {
     "name": "stdout",
     "output_type": "stream",
     "text": [
      "Dimensión de los vectores:  8340\n"
     ]
    }
   ],
   "source": [
    "# Oraciones a vectores\n",
    "trainVectors = vectorizer.transform(trainSentences).toarray()\n",
    "testVectors = vectorizer.transform(testSentences).toarray()\n",
    "\n",
    "# Redimensionando los vectores para ser alimentados a la RNC\n",
    "trainVectors = trainVectors.reshape((trainVectors.shape[0], 1,\n",
    "                                     trainVectors.shape[1]))\n",
    "testVectors = testVectors.reshape((testVectors.shape[0], 1,\n",
    "                                   testVectors.shape[1]))\n",
    "\n",
    "# Conversión de las etiquetas (One-Hot)\n",
    "trainLabels = keras.utils.np_utils.to_categorical(trainLabels, 3)\n",
    "testLabels = keras.utils.np_utils.to_categorical(testLabels, 3)"
   ]
  },
  {
   "cell_type": "markdown",
   "metadata": {
    "colab_type": "text",
    "id": "mDSfDFrZ6NS6"
   },
   "source": [
    "<br>\n",
    "### Entrenamiento del clasificador\n",
    "\n",
    "Para esta tarea, el método de entranamiento obtiene el modelo con la mejor precisión y lo escribe persistentemente en un archivo. Para esta optimización, primero se deben definir algunos métodos  (llamados callbacks) para generar este comportamiento:\n",
    "\n",
    "1.   Un método que se encargue de escribir en un archivo el mejor modelo\n",
    "2.   Uno para reducir la taza de aprendizaje cuando este se estanque\n",
    "3.   Otro para detener el entrenamiento cuando el modelo ya haya alcanzado un posible óptimo y se espere que no aumente su precisión, sin realizar todas las iteraciones.\n",
    "\n"
   ]
  },
  {
   "cell_type": "code",
   "execution_count": 10,
   "metadata": {
    "colab": {
     "autoexec": {
      "startup": false,
      "wait_interval": 0
     }
    },
    "colab_type": "code",
    "id": "af6LCMk2f-HW"
   },
   "outputs": [],
   "source": [
    "from keras.callbacks import ModelCheckpoint, ReduceLROnPlateau, EarlyStopping\n",
    "\n",
    "modelFileName = os.path.join(MODELS_DIR, 'modelo.hdf5')\n",
    "\n",
    "# Checkpoint (número 1 en la lista anterior)\n",
    "checkpointer = ModelCheckpoint(filepath = modelFileName, \n",
    "                               monitor = 'val_acc', verbose = 1,\n",
    "                               save_best_only = True, mode = 'auto')\n",
    "\n",
    "# Reducción de taza de aprendizaje (número 2 de la lista anterior)\n",
    "learningRateReducer = ReduceLROnPlateau(monitor = 'val_acc', factor = 0.2,\n",
    "                                        patience = 5, min_lr = 0.001)\n",
    "\n",
    "# Detener el entrenamiento al alcanzar el \"óptimo\"\n",
    "# (número 3 de la lista anterior)\n",
    "earlyStop = EarlyStopping(monitor = 'val_acc', patience = 100, verbose = 1,\n",
    "                          mode = 'auto')"
   ]
  },
  {
   "cell_type": "markdown",
   "metadata": {
    "colab_type": "text",
    "id": "taJEMw0U8JdF"
   },
   "source": [
    "<br>\n",
    "Ya está todo preparado para entrenar el clasificador:"
   ]
  },
  {
   "cell_type": "code",
   "execution_count": 11,
   "metadata": {
    "colab": {
     "autoexec": {
      "startup": false,
      "wait_interval": 0
     },
     "base_uri": "https://localhost:8080/",
     "height": 10733
    },
    "colab_type": "code",
    "executionInfo": {
     "elapsed": 45131,
     "status": "ok",
     "timestamp": 1529277064535,
     "user": {
      "displayName": "Jhonathan Abreu",
      "photoUrl": "//lh4.googleusercontent.com/-4bMUXodd-B0/AAAAAAAAAAI/AAAAAAAAAlY/Lc07exuN7Aw/s50-c-k-no/photo.jpg",
      "userId": "117165292541590122752"
     },
     "user_tz": 240
    },
    "id": "eypwmQXj8O2J",
    "outputId": "4a6cd983-05db-4fee-a62e-df53528b6303"
   },
   "outputs": [
    {
     "name": "stdout",
     "output_type": "stream",
     "text": [
      "Train on 510 samples, validate on 90 samples\n",
      "Epoch 1/1000\n",
      " - 0s - loss: 0.6790 - acc: 0.6438 - val_loss: 0.6621 - val_acc: 0.6667\n",
      "\n",
      "Epoch 00001: val_acc improved from -inf to 0.66667, saving model to /home/jhonathanabreu/Documentos/ula/sistemas_computacionales/Proyecto_SistemasComputacionales_AbreuJ/aplicacion/modelos/modelo.hdf5\n",
      "Epoch 2/1000\n",
      " - 0s - loss: 0.6394 - acc: 0.6673 - val_loss: 0.6379 - val_acc: 0.6667\n",
      "\n",
      "Epoch 00002: val_acc did not improve from 0.66667\n",
      "Epoch 3/1000\n",
      " - 0s - loss: 0.6060 - acc: 0.6667 - val_loss: 0.6200 - val_acc: 0.6667\n",
      "\n",
      "Epoch 00003: val_acc did not improve from 0.66667\n",
      "Epoch 4/1000\n",
      " - 0s - loss: 0.5322 - acc: 0.7248 - val_loss: 0.5754 - val_acc: 0.7185\n",
      "\n",
      "Epoch 00004: val_acc improved from 0.66667 to 0.71852, saving model to /home/jhonathanabreu/Documentos/ula/sistemas_computacionales/Proyecto_SistemasComputacionales_AbreuJ/aplicacion/modelos/modelo.hdf5\n",
      "Epoch 5/1000\n",
      " - 0s - loss: 0.3978 - acc: 0.8261 - val_loss: 0.5435 - val_acc: 0.7222\n",
      "\n",
      "Epoch 00005: val_acc improved from 0.71852 to 0.72222, saving model to /home/jhonathanabreu/Documentos/ula/sistemas_computacionales/Proyecto_SistemasComputacionales_AbreuJ/aplicacion/modelos/modelo.hdf5\n",
      "Epoch 6/1000\n",
      " - 0s - loss: 0.2702 - acc: 0.8948 - val_loss: 0.4979 - val_acc: 0.7741\n",
      "\n",
      "Epoch 00006: val_acc improved from 0.72222 to 0.77407, saving model to /home/jhonathanabreu/Documentos/ula/sistemas_computacionales/Proyecto_SistemasComputacionales_AbreuJ/aplicacion/modelos/modelo.hdf5\n",
      "Epoch 7/1000\n",
      " - 0s - loss: 0.1868 - acc: 0.9516 - val_loss: 0.4976 - val_acc: 0.7667\n",
      "\n",
      "Epoch 00007: val_acc did not improve from 0.77407\n",
      "Epoch 8/1000\n",
      " - 0s - loss: 0.1072 - acc: 0.9765 - val_loss: 0.5183 - val_acc: 0.7852\n",
      "\n",
      "Epoch 00008: val_acc improved from 0.77407 to 0.78519, saving model to /home/jhonathanabreu/Documentos/ula/sistemas_computacionales/Proyecto_SistemasComputacionales_AbreuJ/aplicacion/modelos/modelo.hdf5\n",
      "Epoch 9/1000\n",
      " - 0s - loss: 0.0534 - acc: 0.9882 - val_loss: 0.5232 - val_acc: 0.7815\n",
      "\n",
      "Epoch 00009: val_acc did not improve from 0.78519\n",
      "Epoch 10/1000\n",
      " - 0s - loss: 0.0413 - acc: 0.9895 - val_loss: 0.5273 - val_acc: 0.8037\n",
      "\n",
      "Epoch 00010: val_acc improved from 0.78519 to 0.80370, saving model to /home/jhonathanabreu/Documentos/ula/sistemas_computacionales/Proyecto_SistemasComputacionales_AbreuJ/aplicacion/modelos/modelo.hdf5\n",
      "Epoch 11/1000\n",
      " - 0s - loss: 0.0261 - acc: 0.9908 - val_loss: 0.5639 - val_acc: 0.7889\n",
      "\n",
      "Epoch 00011: val_acc did not improve from 0.80370\n",
      "Epoch 12/1000\n",
      " - 0s - loss: 0.0247 - acc: 0.9908 - val_loss: 0.5960 - val_acc: 0.7926\n",
      "\n",
      "Epoch 00012: val_acc did not improve from 0.80370\n",
      "Epoch 13/1000\n",
      " - 0s - loss: 0.0142 - acc: 0.9967 - val_loss: 0.6055 - val_acc: 0.7852\n",
      "\n",
      "Epoch 00013: val_acc did not improve from 0.80370\n",
      "Epoch 14/1000\n",
      " - 0s - loss: 0.0118 - acc: 0.9967 - val_loss: 0.6484 - val_acc: 0.8037\n",
      "\n",
      "Epoch 00014: val_acc did not improve from 0.80370\n",
      "Epoch 15/1000\n",
      " - 0s - loss: 0.0114 - acc: 0.9961 - val_loss: 0.6791 - val_acc: 0.8074\n",
      "\n",
      "Epoch 00015: val_acc improved from 0.80370 to 0.80741, saving model to /home/jhonathanabreu/Documentos/ula/sistemas_computacionales/Proyecto_SistemasComputacionales_AbreuJ/aplicacion/modelos/modelo.hdf5\n",
      "Epoch 16/1000\n",
      " - 0s - loss: 0.0081 - acc: 0.9974 - val_loss: 0.7634 - val_acc: 0.7852\n",
      "\n",
      "Epoch 00016: val_acc did not improve from 0.80741\n",
      "Epoch 17/1000\n",
      " - 0s - loss: 0.0084 - acc: 0.9974 - val_loss: 0.7278 - val_acc: 0.8111\n",
      "\n",
      "Epoch 00017: val_acc improved from 0.80741 to 0.81111, saving model to /home/jhonathanabreu/Documentos/ula/sistemas_computacionales/Proyecto_SistemasComputacionales_AbreuJ/aplicacion/modelos/modelo.hdf5\n",
      "Epoch 18/1000\n",
      " - 0s - loss: 0.0110 - acc: 0.9941 - val_loss: 0.7513 - val_acc: 0.8111\n",
      "\n",
      "Epoch 00018: val_acc improved from 0.81111 to 0.81111, saving model to /home/jhonathanabreu/Documentos/ula/sistemas_computacionales/Proyecto_SistemasComputacionales_AbreuJ/aplicacion/modelos/modelo.hdf5\n",
      "Epoch 19/1000\n",
      " - 0s - loss: 0.0055 - acc: 0.9987 - val_loss: 0.7699 - val_acc: 0.8185\n",
      "\n",
      "Epoch 00019: val_acc improved from 0.81111 to 0.81852, saving model to /home/jhonathanabreu/Documentos/ula/sistemas_computacionales/Proyecto_SistemasComputacionales_AbreuJ/aplicacion/modelos/modelo.hdf5\n",
      "Epoch 20/1000\n",
      " - 0s - loss: 0.0034 - acc: 0.9987 - val_loss: 0.7922 - val_acc: 0.8185\n",
      "\n",
      "Epoch 00020: val_acc did not improve from 0.81852\n",
      "Epoch 21/1000\n",
      " - 0s - loss: 0.0082 - acc: 0.9980 - val_loss: 0.8551 - val_acc: 0.8111\n",
      "\n",
      "Epoch 00021: val_acc did not improve from 0.81852\n",
      "Epoch 22/1000\n",
      " - 0s - loss: 0.0051 - acc: 0.9987 - val_loss: 0.8606 - val_acc: 0.8185\n",
      "\n",
      "Epoch 00022: val_acc improved from 0.81852 to 0.81852, saving model to /home/jhonathanabreu/Documentos/ula/sistemas_computacionales/Proyecto_SistemasComputacionales_AbreuJ/aplicacion/modelos/modelo.hdf5\n",
      "Epoch 23/1000\n",
      " - 0s - loss: 0.0088 - acc: 0.9961 - val_loss: 0.9566 - val_acc: 0.8000\n",
      "\n",
      "Epoch 00023: val_acc did not improve from 0.81852\n",
      "Epoch 24/1000\n",
      " - 0s - loss: 0.0080 - acc: 0.9961 - val_loss: 0.9863 - val_acc: 0.7852\n",
      "\n",
      "Epoch 00024: val_acc did not improve from 0.81852\n",
      "Epoch 25/1000\n",
      " - 0s - loss: 0.0017 - acc: 0.9993 - val_loss: 1.0212 - val_acc: 0.7963\n",
      "\n",
      "Epoch 00025: val_acc did not improve from 0.81852\n",
      "Epoch 26/1000\n",
      " - 0s - loss: 0.0048 - acc: 0.9980 - val_loss: 0.9909 - val_acc: 0.8000\n",
      "\n",
      "Epoch 00026: val_acc did not improve from 0.81852\n",
      "Epoch 27/1000\n",
      " - 0s - loss: 0.0034 - acc: 0.9993 - val_loss: 1.0782 - val_acc: 0.7926\n",
      "\n",
      "Epoch 00027: val_acc did not improve from 0.81852\n",
      "Epoch 28/1000\n",
      " - 0s - loss: 0.0083 - acc: 0.9961 - val_loss: 1.0869 - val_acc: 0.7963\n",
      "\n",
      "Epoch 00028: val_acc did not improve from 0.81852\n",
      "Epoch 29/1000\n",
      " - 0s - loss: 0.0102 - acc: 0.9974 - val_loss: 1.1785 - val_acc: 0.7926\n",
      "\n",
      "Epoch 00029: val_acc did not improve from 0.81852\n",
      "Epoch 30/1000\n",
      " - 0s - loss: 0.0050 - acc: 0.9961 - val_loss: 1.1926 - val_acc: 0.7963\n",
      "\n",
      "Epoch 00030: val_acc did not improve from 0.81852\n",
      "Epoch 31/1000\n",
      " - 0s - loss: 0.0040 - acc: 0.9987 - val_loss: 1.1821 - val_acc: 0.8000\n",
      "\n",
      "Epoch 00031: val_acc did not improve from 0.81852\n",
      "Epoch 32/1000\n",
      " - 0s - loss: 0.0052 - acc: 0.9974 - val_loss: 1.2045 - val_acc: 0.8037\n",
      "\n",
      "Epoch 00032: val_acc did not improve from 0.81852\n",
      "Epoch 33/1000\n",
      " - 0s - loss: 0.0027 - acc: 0.9987 - val_loss: 1.1700 - val_acc: 0.7889\n",
      "\n",
      "Epoch 00033: val_acc did not improve from 0.81852\n",
      "Epoch 34/1000\n",
      " - 0s - loss: 0.0074 - acc: 0.9967 - val_loss: 1.1481 - val_acc: 0.7963\n",
      "\n",
      "Epoch 00034: val_acc did not improve from 0.81852\n",
      "Epoch 35/1000\n",
      " - 0s - loss: 0.0080 - acc: 0.9974 - val_loss: 1.1982 - val_acc: 0.8000\n",
      "\n",
      "Epoch 00035: val_acc did not improve from 0.81852\n",
      "Epoch 36/1000\n",
      " - 0s - loss: 0.0024 - acc: 0.9987 - val_loss: 1.1924 - val_acc: 0.7963\n",
      "\n",
      "Epoch 00036: val_acc did not improve from 0.81852\n",
      "Epoch 37/1000\n",
      " - 0s - loss: 0.0050 - acc: 0.9987 - val_loss: 1.1641 - val_acc: 0.8037\n",
      "\n",
      "Epoch 00037: val_acc did not improve from 0.81852\n",
      "Epoch 38/1000\n",
      " - 0s - loss: 0.0070 - acc: 0.9974 - val_loss: 1.1883 - val_acc: 0.8000\n",
      "\n",
      "Epoch 00038: val_acc did not improve from 0.81852\n",
      "Epoch 39/1000\n",
      " - 0s - loss: 0.0066 - acc: 0.9974 - val_loss: 1.2335 - val_acc: 0.8074\n",
      "\n",
      "Epoch 00039: val_acc did not improve from 0.81852\n",
      "Epoch 40/1000\n",
      " - 0s - loss: 0.0043 - acc: 0.9987 - val_loss: 1.2472 - val_acc: 0.7963\n",
      "\n",
      "Epoch 00040: val_acc did not improve from 0.81852\n",
      "Epoch 41/1000\n",
      " - 0s - loss: 0.0093 - acc: 0.9974 - val_loss: 1.2328 - val_acc: 0.8000\n",
      "\n",
      "Epoch 00041: val_acc did not improve from 0.81852\n",
      "Epoch 42/1000\n",
      " - 0s - loss: 0.0055 - acc: 0.9974 - val_loss: 1.2390 - val_acc: 0.7926\n",
      "\n",
      "Epoch 00042: val_acc did not improve from 0.81852\n",
      "Epoch 43/1000\n",
      " - 0s - loss: 0.0035 - acc: 0.9980 - val_loss: 1.2132 - val_acc: 0.8037\n",
      "\n",
      "Epoch 00043: val_acc did not improve from 0.81852\n",
      "Epoch 44/1000\n",
      " - 0s - loss: 0.0107 - acc: 0.9967 - val_loss: 1.2851 - val_acc: 0.8037\n",
      "\n",
      "Epoch 00044: val_acc did not improve from 0.81852\n",
      "Epoch 45/1000\n",
      " - 0s - loss: 0.0029 - acc: 0.9987 - val_loss: 1.3297 - val_acc: 0.8037\n",
      "\n",
      "Epoch 00045: val_acc did not improve from 0.81852\n",
      "Epoch 46/1000\n",
      " - 0s - loss: 0.0059 - acc: 0.9974 - val_loss: 1.4627 - val_acc: 0.8037\n",
      "\n",
      "Epoch 00046: val_acc did not improve from 0.81852\n",
      "Epoch 47/1000\n",
      " - 0s - loss: 0.0064 - acc: 0.9961 - val_loss: 1.3686 - val_acc: 0.7963\n",
      "\n",
      "Epoch 00047: val_acc did not improve from 0.81852\n",
      "Epoch 48/1000\n",
      " - 0s - loss: 7.0775e-04 - acc: 1.0000 - val_loss: 1.3418 - val_acc: 0.8037\n",
      "\n",
      "Epoch 00048: val_acc did not improve from 0.81852\n",
      "Epoch 49/1000\n",
      " - 0s - loss: 0.0015 - acc: 0.9993 - val_loss: 1.3102 - val_acc: 0.8037\n",
      "\n",
      "Epoch 00049: val_acc did not improve from 0.81852\n",
      "Epoch 50/1000\n",
      " - 0s - loss: 0.0057 - acc: 0.9967 - val_loss: 1.2746 - val_acc: 0.8074\n",
      "\n",
      "Epoch 00050: val_acc did not improve from 0.81852\n",
      "Epoch 51/1000\n",
      " - 0s - loss: 0.0066 - acc: 0.9980 - val_loss: 1.4336 - val_acc: 0.8037\n",
      "\n",
      "Epoch 00051: val_acc did not improve from 0.81852\n",
      "Epoch 52/1000\n",
      " - 0s - loss: 0.0014 - acc: 1.0000 - val_loss: 1.3985 - val_acc: 0.8111\n",
      "\n",
      "Epoch 00052: val_acc did not improve from 0.81852\n",
      "Epoch 53/1000\n",
      " - 0s - loss: 0.0059 - acc: 0.9961 - val_loss: 1.3412 - val_acc: 0.8148\n",
      "\n",
      "Epoch 00053: val_acc did not improve from 0.81852\n",
      "Epoch 54/1000\n",
      " - 0s - loss: 0.0054 - acc: 0.9980 - val_loss: 1.5152 - val_acc: 0.8000\n",
      "\n",
      "Epoch 00054: val_acc did not improve from 0.81852\n",
      "Epoch 55/1000\n",
      " - 0s - loss: 0.0031 - acc: 0.9980 - val_loss: 1.3895 - val_acc: 0.8000\n",
      "\n",
      "Epoch 00055: val_acc did not improve from 0.81852\n",
      "Epoch 56/1000\n",
      " - 0s - loss: 0.0057 - acc: 0.9974 - val_loss: 1.3482 - val_acc: 0.8037\n",
      "\n",
      "Epoch 00056: val_acc did not improve from 0.81852\n",
      "Epoch 57/1000\n",
      " - 0s - loss: 0.0051 - acc: 0.9974 - val_loss: 1.3141 - val_acc: 0.8000\n",
      "\n",
      "Epoch 00057: val_acc did not improve from 0.81852\n",
      "Epoch 58/1000\n",
      " - 0s - loss: 0.0035 - acc: 0.9987 - val_loss: 1.3169 - val_acc: 0.8074\n",
      "\n",
      "Epoch 00058: val_acc did not improve from 0.81852\n",
      "Epoch 59/1000\n",
      " - 0s - loss: 0.0071 - acc: 0.9974 - val_loss: 1.4894 - val_acc: 0.8111\n",
      "\n",
      "Epoch 00059: val_acc did not improve from 0.81852\n",
      "Epoch 60/1000\n",
      " - 0s - loss: 0.0040 - acc: 0.9974 - val_loss: 1.4063 - val_acc: 0.8074\n",
      "\n",
      "Epoch 00060: val_acc did not improve from 0.81852\n",
      "Epoch 61/1000\n",
      " - 0s - loss: 0.0020 - acc: 1.0000 - val_loss: 1.4525 - val_acc: 0.8074\n",
      "\n",
      "Epoch 00061: val_acc did not improve from 0.81852\n",
      "Epoch 62/1000\n",
      " - 0s - loss: 0.0014 - acc: 0.9987 - val_loss: 1.4107 - val_acc: 0.8074\n",
      "\n",
      "Epoch 00062: val_acc did not improve from 0.81852\n",
      "Epoch 63/1000\n",
      " - 0s - loss: 0.0041 - acc: 0.9987 - val_loss: 1.4669 - val_acc: 0.8037\n",
      "\n",
      "Epoch 00063: val_acc did not improve from 0.81852\n",
      "Epoch 64/1000\n",
      " - 0s - loss: 0.0015 - acc: 0.9987 - val_loss: 1.4918 - val_acc: 0.7926\n",
      "\n",
      "Epoch 00064: val_acc did not improve from 0.81852\n",
      "Epoch 65/1000\n",
      " - 0s - loss: 0.0012 - acc: 0.9993 - val_loss: 1.4810 - val_acc: 0.8037\n",
      "\n",
      "Epoch 00065: val_acc did not improve from 0.81852\n",
      "Epoch 66/1000\n",
      " - 0s - loss: 0.0161 - acc: 0.9961 - val_loss: 1.5396 - val_acc: 0.8074\n",
      "\n",
      "Epoch 00066: val_acc did not improve from 0.81852\n",
      "Epoch 67/1000\n",
      " - 0s - loss: 0.0047 - acc: 0.9974 - val_loss: 1.5138 - val_acc: 0.8037\n",
      "\n",
      "Epoch 00067: val_acc did not improve from 0.81852\n",
      "Epoch 68/1000\n",
      " - 0s - loss: 0.0046 - acc: 0.9987 - val_loss: 1.4910 - val_acc: 0.8000\n",
      "\n",
      "Epoch 00068: val_acc did not improve from 0.81852\n",
      "Epoch 69/1000\n",
      " - 0s - loss: 0.0031 - acc: 0.9987 - val_loss: 1.5314 - val_acc: 0.7926\n",
      "\n",
      "Epoch 00069: val_acc did not improve from 0.81852\n",
      "Epoch 70/1000\n",
      " - 0s - loss: 0.0020 - acc: 0.9987 - val_loss: 1.6691 - val_acc: 0.7926\n",
      "\n",
      "Epoch 00070: val_acc did not improve from 0.81852\n",
      "Epoch 71/1000\n",
      " - 0s - loss: 0.0052 - acc: 0.9974 - val_loss: 1.6815 - val_acc: 0.7963\n",
      "\n",
      "Epoch 00071: val_acc did not improve from 0.81852\n",
      "Epoch 72/1000\n",
      " - 0s - loss: 0.0044 - acc: 0.9974 - val_loss: 1.6618 - val_acc: 0.8000\n",
      "\n",
      "Epoch 00072: val_acc did not improve from 0.81852\n",
      "Epoch 73/1000\n",
      " - 0s - loss: 0.0042 - acc: 0.9980 - val_loss: 1.6592 - val_acc: 0.7963\n",
      "\n",
      "Epoch 00073: val_acc did not improve from 0.81852\n",
      "Epoch 74/1000\n",
      " - 0s - loss: 0.0023 - acc: 0.9987 - val_loss: 1.7070 - val_acc: 0.7889\n",
      "\n",
      "Epoch 00074: val_acc did not improve from 0.81852\n",
      "Epoch 75/1000\n",
      " - 0s - loss: 0.0065 - acc: 0.9974 - val_loss: 1.7268 - val_acc: 0.8000\n",
      "\n",
      "Epoch 00075: val_acc did not improve from 0.81852\n",
      "Epoch 76/1000\n",
      " - 0s - loss: 0.0045 - acc: 0.9980 - val_loss: 1.5817 - val_acc: 0.7852\n",
      "\n",
      "Epoch 00076: val_acc did not improve from 0.81852\n",
      "Epoch 77/1000\n",
      " - 0s - loss: 0.0052 - acc: 0.9987 - val_loss: 1.6482 - val_acc: 0.7926\n",
      "\n",
      "Epoch 00077: val_acc did not improve from 0.81852\n",
      "Epoch 78/1000\n",
      " - 0s - loss: 0.0050 - acc: 0.9980 - val_loss: 1.7991 - val_acc: 0.7852\n",
      "\n",
      "Epoch 00078: val_acc did not improve from 0.81852\n",
      "Epoch 79/1000\n",
      " - 0s - loss: 8.8220e-04 - acc: 1.0000 - val_loss: 1.8669 - val_acc: 0.8037\n",
      "\n",
      "Epoch 00079: val_acc did not improve from 0.81852\n",
      "Epoch 80/1000\n",
      " - 0s - loss: 0.0086 - acc: 0.9961 - val_loss: 1.7872 - val_acc: 0.7889\n",
      "\n",
      "Epoch 00080: val_acc did not improve from 0.81852\n",
      "Epoch 81/1000\n",
      " - 0s - loss: 0.0052 - acc: 0.9967 - val_loss: 1.7296 - val_acc: 0.7926\n",
      "\n",
      "Epoch 00081: val_acc did not improve from 0.81852\n",
      "Epoch 82/1000\n",
      " - 0s - loss: 0.0034 - acc: 0.9980 - val_loss: 1.6242 - val_acc: 0.7889\n",
      "\n",
      "Epoch 00082: val_acc did not improve from 0.81852\n",
      "Epoch 83/1000\n",
      " - 0s - loss: 0.0038 - acc: 0.9987 - val_loss: 1.7250 - val_acc: 0.7889\n",
      "\n",
      "Epoch 00083: val_acc did not improve from 0.81852\n",
      "Epoch 84/1000\n",
      " - 0s - loss: 0.0052 - acc: 0.9974 - val_loss: 1.6312 - val_acc: 0.7889\n",
      "\n",
      "Epoch 00084: val_acc did not improve from 0.81852\n",
      "Epoch 85/1000\n",
      " - 0s - loss: 5.8683e-04 - acc: 1.0000 - val_loss: 1.6293 - val_acc: 0.7926\n",
      "\n",
      "Epoch 00085: val_acc did not improve from 0.81852\n",
      "Epoch 86/1000\n",
      " - 0s - loss: 0.0077 - acc: 0.9961 - val_loss: 1.5360 - val_acc: 0.7926\n",
      "\n",
      "Epoch 00086: val_acc did not improve from 0.81852\n",
      "Epoch 87/1000\n",
      " - 0s - loss: 0.0023 - acc: 0.9987 - val_loss: 1.6040 - val_acc: 0.7889\n",
      "\n",
      "Epoch 00087: val_acc did not improve from 0.81852\n",
      "Epoch 88/1000\n",
      " - 0s - loss: 0.0073 - acc: 0.9961 - val_loss: 1.5182 - val_acc: 0.7963\n",
      "\n",
      "Epoch 00088: val_acc did not improve from 0.81852\n",
      "Epoch 89/1000\n",
      " - 0s - loss: 0.0036 - acc: 0.9974 - val_loss: 1.6198 - val_acc: 0.7852\n",
      "\n",
      "Epoch 00089: val_acc did not improve from 0.81852\n",
      "Epoch 90/1000\n",
      " - 0s - loss: 0.0059 - acc: 0.9974 - val_loss: 1.6044 - val_acc: 0.7926\n",
      "\n",
      "Epoch 00090: val_acc did not improve from 0.81852\n",
      "Epoch 91/1000\n",
      " - 0s - loss: 0.0020 - acc: 0.9987 - val_loss: 1.5798 - val_acc: 0.7926\n",
      "\n",
      "Epoch 00091: val_acc did not improve from 0.81852\n",
      "Epoch 92/1000\n",
      " - 0s - loss: 0.0013 - acc: 0.9987 - val_loss: 1.8038 - val_acc: 0.7889\n",
      "\n",
      "Epoch 00092: val_acc did not improve from 0.81852\n",
      "Epoch 93/1000\n",
      " - 0s - loss: 0.0053 - acc: 0.9980 - val_loss: 1.7924 - val_acc: 0.7926\n",
      "\n",
      "Epoch 00093: val_acc did not improve from 0.81852\n",
      "Epoch 94/1000\n",
      " - 0s - loss: 0.0043 - acc: 0.9987 - val_loss: 1.6581 - val_acc: 0.7963\n",
      "\n",
      "Epoch 00094: val_acc did not improve from 0.81852\n",
      "Epoch 95/1000\n",
      " - 0s - loss: 0.0063 - acc: 0.9980 - val_loss: 1.5922 - val_acc: 0.7889\n",
      "\n",
      "Epoch 00095: val_acc did not improve from 0.81852\n",
      "Epoch 96/1000\n",
      " - 0s - loss: 0.0025 - acc: 0.9987 - val_loss: 1.5476 - val_acc: 0.7889\n",
      "\n",
      "Epoch 00096: val_acc did not improve from 0.81852\n",
      "Epoch 97/1000\n",
      " - 0s - loss: 0.0027 - acc: 0.9974 - val_loss: 1.6047 - val_acc: 0.7852\n",
      "\n",
      "Epoch 00097: val_acc did not improve from 0.81852\n",
      "Epoch 98/1000\n",
      " - 0s - loss: 0.0060 - acc: 0.9961 - val_loss: 1.5727 - val_acc: 0.7926\n",
      "\n",
      "Epoch 00098: val_acc did not improve from 0.81852\n",
      "Epoch 99/1000\n",
      " - 0s - loss: 0.0034 - acc: 0.9974 - val_loss: 1.7876 - val_acc: 0.7926\n",
      "\n",
      "Epoch 00099: val_acc did not improve from 0.81852\n",
      "Epoch 100/1000\n",
      " - 0s - loss: 0.0039 - acc: 0.9974 - val_loss: 1.8243 - val_acc: 0.7889\n",
      "\n",
      "Epoch 00100: val_acc did not improve from 0.81852\n",
      "Epoch 101/1000\n",
      " - 0s - loss: 0.0048 - acc: 0.9967 - val_loss: 1.7966 - val_acc: 0.7889\n",
      "\n",
      "Epoch 00101: val_acc did not improve from 0.81852\n",
      "Epoch 102/1000\n",
      " - 0s - loss: 0.0026 - acc: 0.9980 - val_loss: 1.7504 - val_acc: 0.7889\n",
      "\n",
      "Epoch 00102: val_acc did not improve from 0.81852\n",
      "Epoch 103/1000\n",
      " - 0s - loss: 0.0036 - acc: 0.9974 - val_loss: 1.9016 - val_acc: 0.7926\n",
      "\n",
      "Epoch 00103: val_acc did not improve from 0.81852\n",
      "Epoch 104/1000\n",
      " - 0s - loss: 0.0031 - acc: 0.9974 - val_loss: 1.8331 - val_acc: 0.7815\n",
      "\n",
      "Epoch 00104: val_acc did not improve from 0.81852\n",
      "Epoch 105/1000\n",
      " - 0s - loss: 0.0027 - acc: 0.9987 - val_loss: 1.7582 - val_acc: 0.7778\n",
      "\n",
      "Epoch 00105: val_acc did not improve from 0.81852\n",
      "Epoch 106/1000\n",
      " - 0s - loss: 0.0031 - acc: 0.9974 - val_loss: 1.7817 - val_acc: 0.7815\n",
      "\n",
      "Epoch 00106: val_acc did not improve from 0.81852\n",
      "Epoch 107/1000\n",
      " - 0s - loss: 0.0221 - acc: 0.9961 - val_loss: 1.7494 - val_acc: 0.7926\n",
      "\n",
      "Epoch 00107: val_acc did not improve from 0.81852\n",
      "Epoch 108/1000\n",
      " - 0s - loss: 0.0039 - acc: 0.9987 - val_loss: 1.6032 - val_acc: 0.7741\n",
      "\n",
      "Epoch 00108: val_acc did not improve from 0.81852\n",
      "Epoch 109/1000\n",
      " - 0s - loss: 0.0038 - acc: 0.9980 - val_loss: 1.6047 - val_acc: 0.7741\n",
      "\n",
      "Epoch 00109: val_acc did not improve from 0.81852\n",
      "Epoch 110/1000\n",
      " - 0s - loss: 0.0093 - acc: 0.9974 - val_loss: 1.6840 - val_acc: 0.7778\n",
      "\n",
      "Epoch 00110: val_acc did not improve from 0.81852\n",
      "Epoch 111/1000\n",
      " - 0s - loss: 0.0077 - acc: 0.9974 - val_loss: 1.8596 - val_acc: 0.7815\n",
      "\n",
      "Epoch 00111: val_acc did not improve from 0.81852\n",
      "Epoch 112/1000\n",
      " - 0s - loss: 0.0023 - acc: 0.9987 - val_loss: 1.7854 - val_acc: 0.7852\n",
      "\n",
      "Epoch 00112: val_acc did not improve from 0.81852\n",
      "Epoch 113/1000\n",
      " - 0s - loss: 0.0032 - acc: 0.9987 - val_loss: 1.6831 - val_acc: 0.7815\n",
      "\n",
      "Epoch 00113: val_acc did not improve from 0.81852\n",
      "Epoch 114/1000\n",
      " - 0s - loss: 0.0020 - acc: 0.9987 - val_loss: 1.6836 - val_acc: 0.7815\n",
      "\n",
      "Epoch 00114: val_acc did not improve from 0.81852\n",
      "Epoch 115/1000\n",
      " - 0s - loss: 0.0115 - acc: 0.9967 - val_loss: 1.6901 - val_acc: 0.7815\n",
      "\n",
      "Epoch 00115: val_acc did not improve from 0.81852\n",
      "Epoch 116/1000\n",
      " - 0s - loss: 0.0032 - acc: 0.9980 - val_loss: 1.9555 - val_acc: 0.7926\n",
      "\n",
      "Epoch 00116: val_acc did not improve from 0.81852\n",
      "Epoch 117/1000\n",
      " - 0s - loss: 0.0017 - acc: 0.9987 - val_loss: 1.9519 - val_acc: 0.7889\n",
      "\n",
      "Epoch 00117: val_acc did not improve from 0.81852\n",
      "Epoch 118/1000\n",
      " - 0s - loss: 0.0012 - acc: 1.0000 - val_loss: 1.9088 - val_acc: 0.7926\n",
      "\n",
      "Epoch 00118: val_acc did not improve from 0.81852\n",
      "Epoch 119/1000\n",
      " - 0s - loss: 0.0047 - acc: 0.9987 - val_loss: 1.8681 - val_acc: 0.7926\n",
      "\n",
      "Epoch 00119: val_acc did not improve from 0.81852\n",
      "Epoch 120/1000\n",
      " - 0s - loss: 0.0023 - acc: 0.9987 - val_loss: 1.8931 - val_acc: 0.7963\n",
      "\n",
      "Epoch 00120: val_acc did not improve from 0.81852\n",
      "Epoch 121/1000\n",
      " - 0s - loss: 0.0063 - acc: 0.9967 - val_loss: 1.7426 - val_acc: 0.7778\n",
      "\n",
      "Epoch 00121: val_acc did not improve from 0.81852\n",
      "Epoch 122/1000\n",
      " - 0s - loss: 0.0011 - acc: 0.9993 - val_loss: 1.8210 - val_acc: 0.7778\n",
      "\n",
      "Epoch 00122: val_acc did not improve from 0.81852\n",
      "Epoch 00122: early stopping\n"
     ]
    },
    {
     "data": {
      "text/plain": [
       "<keras.callbacks.History at 0x7f019dc94b38>"
      ]
     },
     "execution_count": 11,
     "metadata": {},
     "output_type": "execute_result"
    }
   ],
   "source": [
    "model = buildModel(trainVectors.shape[2])\n",
    "model.fit(trainVectors, trainLabels, batch_size = 32,\n",
    "           validation_data = (testVectors, testLabels), epochs = 1000,\n",
    "           callbacks = [checkpointer, learningRateReducer, earlyStop],\n",
    "           verbose = 2, shuffle = False)"
   ]
  },
  {
   "cell_type": "markdown",
   "metadata": {
    "colab_type": "text",
    "id": "UKdO5FgX9HZ7"
   },
   "source": [
    "<br>\n",
    "## Evaluación del modelo\n",
    "---\n",
    "\n",
    "La primera evaluación será observar la exactitud de las pruebas para este modelo, así que se procede a la carga del archivo de peses del modelo y se evalúan los datos de prueba:"
   ]
  },
  {
   "cell_type": "code",
   "execution_count": 18,
   "metadata": {
    "colab": {
     "autoexec": {
      "startup": false,
      "wait_interval": 0
     },
     "base_uri": "https://localhost:8080/",
     "height": 66
    },
    "colab_type": "code",
    "executionInfo": {
     "elapsed": 3110,
     "status": "ok",
     "timestamp": 1529277092348,
     "user": {
      "displayName": "Jhonathan Abreu",
      "photoUrl": "//lh4.googleusercontent.com/-4bMUXodd-B0/AAAAAAAAAAI/AAAAAAAAAlY/Lc07exuN7Aw/s50-c-k-no/photo.jpg",
      "userId": "117165292541590122752"
     },
     "user_tz": 240
    },
    "id": "G9TuN-Ow9YJw",
    "outputId": "f7feb539-b66c-4d29-cfe7-bf47f3a2e7dc"
   },
   "outputs": [
    {
     "name": "stdout",
     "output_type": "stream",
     "text": [
      "90/90 [==============================] - 0s 337us/step\n",
      "Exactitud de las pruebas :  0.818518536621\n"
     ]
    }
   ],
   "source": [
    "# Contrucción del modelo\n",
    "model = buildModel(trainVectors.shape[2])\n",
    "\n",
    "# Carga delos pesos\n",
    "model.load_weights(modelFileName)\n",
    "scores = model.evaluate(testVectors, testLabels, verbose = 1)\n",
    "\n",
    "print('Exactitud de las pruebas : ', scores[1])"
   ]
  },
  {
   "cell_type": "markdown",
   "metadata": {
    "colab_type": "text",
    "id": "uWh2OKdD-JJx"
   },
   "source": [
    "### Matriz de confusión\n",
    "\n",
    "Esta herramienta permite, de forma gráfica, observar el desempeño del clasificador, al mostrar la cantidad de  veces que este acertó o se equivocó, mediante un mapa de calor:"
   ]
  },
  {
   "cell_type": "code",
   "execution_count": 17,
   "metadata": {
    "colab": {
     "autoexec": {
      "startup": false,
      "wait_interval": 0
     },
     "base_uri": "https://localhost:8080/",
     "height": 437
    },
    "colab_type": "code",
    "executionInfo": {
     "elapsed": 2503,
     "status": "ok",
     "timestamp": 1529277098389,
     "user": {
      "displayName": "Jhonathan Abreu",
      "photoUrl": "//lh4.googleusercontent.com/-4bMUXodd-B0/AAAAAAAAAAI/AAAAAAAAAlY/Lc07exuN7Aw/s50-c-k-no/photo.jpg",
      "userId": "117165292541590122752"
     },
     "user_tz": 240
    },
    "id": "cJrpRZ5t-IqJ",
    "outputId": "84af1774-b7dd-4be9-b234-a895da35b7c1"
   },
   "outputs": [
    {
     "data": {
      "image/png": "[encoded data removed]",
      "text/plain": [
       "<matplotlib.figure.Figure at 0x7f018408f160>"
      ]
     },
     "metadata": {},
     "output_type": "display_data"
    }
   ],
   "source": [
    "from sklearn.metrics import confusion_matrix\n",
    "import matplotlib.pyplot as plot\n",
    "\n",
    "plot.rcParams['backend'] = \"Qt4Agg\"\n",
    "\n",
    "import seaborn as sn\n",
    "\n",
    "predictions = model.predict(testVectors, verbose=2)\n",
    "predictions = np.argmax(predictions, axis = 1)\n",
    "confusionMatrix = confusion_matrix(np.argmax(testLabels, axis = 1), predictions)\n",
    "\n",
    "confusionMatrixDataFrame = pd.DataFrame(confusionMatrix,\n",
    "                                        ['Negativo', 'Neutral', 'Positivo'],\n",
    "                                        ['Negativo', 'Neutral', 'Positivo'])\n",
    "plot.figure(figsize = (10, 7))\n",
    "sn.set(font_scale = 1.4)\n",
    "sn.heatmap(confusionMatrixDataFrame, annot = True, annot_kws = {'size': 12},\n",
    "           fmt = 'g', cmap = 'Blues')\n",
    "plot.show()"
   ]
  },
  {
   "cell_type": "code",
   "execution_count": null,
   "metadata": {
    "colab": {
     "autoexec": {
      "startup": false,
      "wait_interval": 0
     }
    },
    "colab_type": "code",
    "id": "Pn9ErAAyF4dA"
   },
   "outputs": [],
   "source": []
  }
 ],
 "metadata": {
  "accelerator": "GPU",
  "colab": {
   "collapsed_sections": [],
   "default_view": {},
   "name": "modelo.ipynb",
   "provenance": [],
   "version": "0.3.2",
   "views": {}
  },
  "kernelspec": {
   "display_name": "Python 3",
   "language": "python",
   "name": "python3"
  },
  "language_info": {
   "codemirror_mode": {
    "name": "ipython",
    "version": 3
   },
   "file_extension": ".py",
   "mimetype": "text/x-python",
   "name": "python",
   "nbconvert_exporter": "python",
   "pygments_lexer": "ipython3",
   "version": "3.6.4"
  }
 },
 "nbformat": 4,
 "nbformat_minor": 2
}
